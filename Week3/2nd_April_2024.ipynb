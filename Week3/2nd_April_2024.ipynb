{
 "cells": [
  {
   "cell_type": "markdown",
   "id": "723e13af",
   "metadata": {},
   "source": [
    "## Q.1"
   ]
  },
  {
   "cell_type": "markdown",
   "id": "12d75d5c",
   "metadata": {},
   "source": [
    "### Longest Palindromic Subsequence\n",
    "\n",
    "Given a string s, find the longest palindromic subsequence's length in s.\n",
    "\n",
    "A subsequence is a sequence that can be derived from another sequence by deleting some or no elements without changing the order of the remaining elements."
   ]
  },
  {
   "cell_type": "markdown",
   "id": "1d536136",
   "metadata": {},
   "source": [
    "- [LeetCode](https://leetcode.com/problems/longest-palindromic-subsequence/description/)\n",
    "- [Interviewbit](https://www.interviewbit.com/problems/longest-palindromic-subsequence/)"
   ]
  },
  {
   "cell_type": "markdown",
   "id": "87831364",
   "metadata": {},
   "source": [
    "## Intuition"
   ]
  },
  {
   "cell_type": "markdown",
   "id": "5260b1b0",
   "metadata": {},
   "source": [
    "- Apply LCS on string and reverse of the string."
   ]
  },
  {
   "cell_type": "markdown",
   "id": "1044a54a",
   "metadata": {},
   "source": [
    "## Solution"
   ]
  },
  {
   "cell_type": "code",
   "execution_count": 1,
   "id": "c3e0ee02",
   "metadata": {},
   "outputs": [],
   "source": [
    "class Solution:\n",
    "    def longestPalindromeSubseq(self, s: str) -> int:\n",
    "        def LCs(a,b):\n",
    "            n,m=len(a),len(b)\n",
    "            T=[[0]*(m+1) for i in range(n+1)]\n",
    "            for i in range(1,n+1):\n",
    "                for j in range(1,m+1):\n",
    "                    if a[i-1]==b[j-1]:T[i][j]=1+T[i-1][j-1]\n",
    "                    else:T[i][j]=max(T[i-1][j],T[i][j-1])\n",
    "            return T[n][m]\n",
    "        return LCs(s,s[::-1])"
   ]
  },
  {
   "cell_type": "markdown",
   "id": "d2ffff82",
   "metadata": {},
   "source": [
    "## Q.2"
   ]
  },
  {
   "cell_type": "markdown",
   "id": "2be451c7",
   "metadata": {},
   "source": [
    "### Remove Duplicates from Sorted List\n",
    "\n",
    "Given the head of a sorted linked list, delete all duplicates such that each element appears only once. Return the linked list sorted as well."
   ]
  },
  {
   "cell_type": "markdown",
   "id": "b463c5ca",
   "metadata": {},
   "source": [
    "- [LeetCode](https://leetcode.com/problems/remove-duplicates-from-sorted-list/description/)\n",
    "- [Interviewbit](https://www.interviewbit.com/problems/remove-duplicates-from-sorted-list/)"
   ]
  },
  {
   "cell_type": "markdown",
   "id": "c04699b3",
   "metadata": {},
   "source": [
    "## Intuition"
   ]
  },
  {
   "cell_type": "markdown",
   "id": "ff548fba",
   "metadata": {},
   "source": [
    "- Use 2 loops.On the outer loop increment head.\n",
    "- In the inside loop check if next element val is equal to current val then link next with next.next."
   ]
  },
  {
   "cell_type": "markdown",
   "id": "b35c0d8a",
   "metadata": {},
   "source": [
    "## Solution"
   ]
  },
  {
   "cell_type": "code",
   "execution_count": 5,
   "id": "54651483",
   "metadata": {},
   "outputs": [],
   "source": [
    "# Definition for singly-linked list.\n",
    "# class ListNode:\n",
    "#     def __init__(self, val=0, next=None):\n",
    "#         self.val = val\n",
    "#         self.next = next\n",
    "\n",
    "class Solution:\n",
    "    def deleteDuplicates(self, A):\n",
    "        head = A\n",
    "        while head:\n",
    "            while head.next and head.val == head.next.val:\n",
    "                head.next = head.next.next\n",
    "            head = head.next\n",
    "        return A"
   ]
  },
  {
   "cell_type": "markdown",
   "id": "24bed46d",
   "metadata": {},
   "source": [
    "## Q.3"
   ]
  },
  {
   "cell_type": "markdown",
   "id": "a4763107",
   "metadata": {},
   "source": [
    "### Remove Duplicates from Sorted List II\n",
    "\n",
    "Given the head of a sorted linked list, delete all nodes that have duplicate numbers, leaving only distinct numbers from the original list. Return the linked list sorted as well."
   ]
  },
  {
   "cell_type": "markdown",
   "id": "7370b42f",
   "metadata": {},
   "source": [
    "- [LeetCode](https://leetcode.com/problems/remove-duplicates-from-sorted-list-ii/description/)"
   ]
  },
  {
   "cell_type": "markdown",
   "id": "a79fe8ec",
   "metadata": {},
   "source": [
    "## Intuition"
   ]
  },
  {
   "cell_type": "markdown",
   "id": "40e5fd09",
   "metadata": {},
   "source": [
    "- Add a dummy node.\n",
    "- Same as last one but maintain a prev pointer to jump from prev to after the duplicates."
   ]
  },
  {
   "cell_type": "markdown",
   "id": "31104404",
   "metadata": {},
   "source": [
    "## Solution"
   ]
  },
  {
   "cell_type": "code",
   "execution_count": 7,
   "id": "2916da86",
   "metadata": {},
   "outputs": [],
   "source": [
    "class Solution:\n",
    "    def deleteDuplicates(self, head):\n",
    "        dummy = ListNode(0)\n",
    "        dummy.next = head\n",
    "        prev = dummy\n",
    "        \n",
    "        while head and head.next:\n",
    "            if head.val == head.next.val:\n",
    "                while head and head.next and head.val == head.next.val:\n",
    "                    head = head.next\n",
    "                prev.next = head.next\n",
    "            else:\n",
    "                prev = prev.next\n",
    "            head = head.next\n",
    "            \n",
    "        return dummy.next"
   ]
  },
  {
   "cell_type": "markdown",
   "id": "5d40b8ee",
   "metadata": {},
   "source": [
    "## Q.4"
   ]
  },
  {
   "cell_type": "markdown",
   "id": "c0aba14f",
   "metadata": {},
   "source": [
    "### Remove Nth Node From End of List\n",
    "\n",
    "Given the head of a linked list, remove the nth node from the end of the list and return its head."
   ]
  },
  {
   "cell_type": "markdown",
   "id": "a066a6ab",
   "metadata": {},
   "source": [
    "- [LeetCode](https://leetcode.com/problems/remove-duplicates-from-sorted-list-ii/description/)\n",
    "- [Interviewbit](https://www.interviewbit.com/problems/remove-nth-node-from-list-end/)"
   ]
  },
  {
   "cell_type": "markdown",
   "id": "abd825cd",
   "metadata": {},
   "source": [
    "## Intuition"
   ]
  },
  {
   "cell_type": "markdown",
   "id": "fcb85256",
   "metadata": {},
   "source": [
    "- Add a dummy node infront to handle edge case.\n",
    "- Take slow and fast pointer and move fast B places ahead.\n",
    "- Now move slow and fast then finally perform the deletion.\n",
    "- Handle the edge case if B greater than length of LL."
   ]
  },
  {
   "cell_type": "markdown",
   "id": "6ea855ec",
   "metadata": {},
   "source": [
    "## Solution"
   ]
  },
  {
   "cell_type": "code",
   "execution_count": 2,
   "id": "7648e84f",
   "metadata": {},
   "outputs": [],
   "source": [
    "# Definition for singly-linked list.\n",
    "# class ListNode:\n",
    "#     def __init__(self, val=0, next=None):\n",
    "#         self.val = val\n",
    "#         self.next = next\n",
    "class Solution:\n",
    "    def removeNthFromEnd(self, A, B):\n",
    "        dummy = ListNode(0)\n",
    "        dummy.next = A\n",
    "        slow = fast = dummy\n",
    "        \n",
    "        for _ in range(B):\n",
    "            fast = fast.next\n",
    "        \n",
    "        while fast.next:\n",
    "            slow = slow.next\n",
    "            fast = fast.next\n",
    "        \n",
    "        slow.next = slow.next.next\n",
    "        \n",
    "        return dummy.next      "
   ]
  },
  {
   "cell_type": "markdown",
   "id": "ae0ca329",
   "metadata": {},
   "source": [
    "## Reverse Linked List [LeetCode](https://leetcode.com/problems/reverse-linked-list/description/)"
   ]
  },
  {
   "cell_type": "markdown",
   "id": "9551402c",
   "metadata": {},
   "source": [
    "### Core concept"
   ]
  },
  {
   "cell_type": "code",
   "execution_count": 3,
   "id": "c52df39e",
   "metadata": {},
   "outputs": [],
   "source": [
    "class Solution:\n",
    "    def reverseList(self, A):\n",
    "        Prev, Curr, Next = None, A, None\n",
    "        while Curr:\n",
    "            Next = Curr.next\n",
    "            Curr.next = Prev\n",
    "            Prev = Curr\n",
    "            Curr = Next\n",
    "        return Prev"
   ]
  },
  {
   "cell_type": "markdown",
   "id": "af105ec1",
   "metadata": {},
   "source": [
    "## Middle Node of Linked List [LeetCode](https://leetcode.com/problems/middle-of-the-linked-list/description/)"
   ]
  },
  {
   "cell_type": "markdown",
   "id": "25b4545e",
   "metadata": {},
   "source": [
    "## Core concept"
   ]
  },
  {
   "cell_type": "code",
   "execution_count": 4,
   "id": "291033a3",
   "metadata": {},
   "outputs": [],
   "source": [
    "class Solution:\n",
    "    # @param A : head node of linked list\n",
    "    # @return an integer\n",
    "    def middleNode(self, A):\n",
    "        slow,fast=A,A \n",
    "        while fast and fast.next:\n",
    "            slow=slow.next\n",
    "            fast=fast.next.next\n",
    "        return slow      "
   ]
  },
  {
   "cell_type": "markdown",
   "id": "eeabe3a3",
   "metadata": {},
   "source": [
    "## Q.5"
   ]
  },
  {
   "cell_type": "markdown",
   "id": "490d381f",
   "metadata": {},
   "source": [
    "### Delete Middle Element of Linked List\n",
    "\n",
    "You are given the head of a linked list. Delete the middle node, and return the head of the modified linked list.\n",
    "\n",
    "The middle node of a linked list of size n is the ⌊n / 2⌋th node from the start using 0-based indexing, where ⌊x⌋ denotes the largest integer less than or equal to x.\n",
    "\n",
    "For n = 1, 2, 3, 4, and 5, the middle nodes are 0, 1, 1, 2, and 2, respectively."
   ]
  },
  {
   "cell_type": "markdown",
   "id": "e50c90aa",
   "metadata": {},
   "source": [
    "- [LeetCode](https://leetcode.com/problems/delete-the-middle-node-of-a-linked-list/)"
   ]
  },
  {
   "cell_type": "markdown",
   "id": "92c2e6af",
   "metadata": {},
   "source": [
    "## Intuition"
   ]
  },
  {
   "cell_type": "markdown",
   "id": "254d4503",
   "metadata": {},
   "source": [
    "- Add a dummy node infront.\n",
    "- Use the concept of middle element but also maintain a prev pointer to the slow pointer."
   ]
  },
  {
   "cell_type": "markdown",
   "id": "7632c828",
   "metadata": {},
   "source": [
    "## Solution"
   ]
  },
  {
   "cell_type": "code",
   "execution_count": 2,
   "id": "ce79b588",
   "metadata": {},
   "outputs": [],
   "source": [
    "class Solution:\n",
    "    # @param A : head node of linked list\n",
    "    # @return the head node in the linked list\n",
    "    def deleteMiddle(self, A):\n",
    "        dummy=ListNode(0)\n",
    "        dummy.next=A\n",
    "        Prev,slow,fast=dummy,A,A\n",
    "        while fast and fast.next:\n",
    "            Prev=slow\n",
    "            slow=slow.next\n",
    "            fast=fast.next.next\n",
    "        Prev.next=slow.next\n",
    "        return dummy.next      "
   ]
  },
  {
   "cell_type": "markdown",
   "id": "5ddae939",
   "metadata": {},
   "source": [
    "## Q.6"
   ]
  },
  {
   "cell_type": "markdown",
   "id": "f5eb9556",
   "metadata": {},
   "source": [
    "### Reverse Nodes in k-Group\n",
    "\n",
    "Given the head of a linked list, reverse the nodes of the list k at a time, and return the modified list.\n",
    "\n",
    "k is a positive integer and is less than or equal to the length of the linked list. If the number of nodes is not a multiple of k then left-out nodes, in the end, should remain as it is.\n",
    "\n",
    "You may not alter the values in the list's nodes, only nodes themselves may be changed."
   ]
  },
  {
   "cell_type": "markdown",
   "id": "f4cc260b",
   "metadata": {},
   "source": [
    "- [LeetCode](https://leetcode.com/problems/reverse-nodes-in-k-group/description/)\n",
    "- [Interviewbit](https://www.interviewbit.com/problems/k-reverse-linked-list/)"
   ]
  },
  {
   "cell_type": "markdown",
   "id": "2b8a8af1",
   "metadata": {},
   "source": [
    "## Intuition"
   ]
  },
  {
   "cell_type": "markdown",
   "id": "b5d75945",
   "metadata": {},
   "source": [
    "- Cut the linked list into group recursively.\n",
    "- Reverse each group.\n",
    "- Join the head of each group with the reversed head returned in recursion."
   ]
  },
  {
   "cell_type": "markdown",
   "id": "7e660279",
   "metadata": {},
   "source": [
    "## Solution"
   ]
  },
  {
   "cell_type": "code",
   "execution_count": 8,
   "id": "fc3edec8",
   "metadata": {},
   "outputs": [],
   "source": [
    "class Solution:\n",
    "    def reverseKGroup(self, A, B):\n",
    "        if A is None:\n",
    "            return None\n",
    "        \n",
    "        head = A\n",
    "        for i in range(B - 1):\n",
    "            if head.next is None:\n",
    "                return A\n",
    "            head = head.next\n",
    "        \n",
    "        T = head.next\n",
    "        head.next = None\n",
    "        \n",
    "        Prev, Curr, Next = None, A, None\n",
    "        while Curr:\n",
    "            Next = Curr.next\n",
    "            Curr.next = Prev\n",
    "            Prev = Curr\n",
    "            Curr = Next\n",
    "        \n",
    "        A.next = self.reverseKGroup(T, B)\n",
    "        \n",
    "        return Prev"
   ]
  },
  {
   "cell_type": "markdown",
   "id": "01c4e485",
   "metadata": {},
   "source": [
    "## Q.7"
   ]
  },
  {
   "cell_type": "markdown",
   "id": "07234d4c",
   "metadata": {},
   "source": [
    "### Reverse Linked List II\n",
    "\n",
    "Given the head of a singly linked list and two integers left and right where left <= right, reverse the nodes of the list from position left to position right, and return the reversed list."
   ]
  },
  {
   "cell_type": "markdown",
   "id": "0501bdd3",
   "metadata": {},
   "source": [
    "- [LeetCode](https://leetcode.com/problems/reverse-linked-list-ii/description/)\n",
    "- [Interviewbit](https://www.interviewbit.com/problems/reverse-link-list-ii/)"
   ]
  },
  {
   "cell_type": "markdown",
   "id": "a1de8e05",
   "metadata": {},
   "source": [
    "## Intuition"
   ]
  },
  {
   "cell_type": "markdown",
   "id": "cb5f1595",
   "metadata": {},
   "source": [
    "- Use slow and fast pointer concept.\n",
    "- Use reverse linked list concept."
   ]
  },
  {
   "cell_type": "markdown",
   "id": "8fbb2c8a",
   "metadata": {},
   "source": [
    "## Solution"
   ]
  },
  {
   "cell_type": "code",
   "execution_count": 2,
   "id": "eeae9a96",
   "metadata": {},
   "outputs": [],
   "source": [
    "class Solution:\n",
    "    def reverseBetween(self, A, B, C):\n",
    "        slow = fast = A\n",
    "        count = C - B\n",
    "        while fast and count > 0:\n",
    "            count -= 1\n",
    "            fast = fast.next\n",
    "\n",
    "        prev = None\n",
    "        while fast and B > 1:\n",
    "            prev = slow\n",
    "            slow = slow.next\n",
    "            fast = fast.next\n",
    "            B -= 1\n",
    "\n",
    "        prev2 = fast.next\n",
    "        curr = slow\n",
    "        while curr != fast:\n",
    "            tmp = curr.next\n",
    "            curr.next = prev2\n",
    "            prev2 = curr\n",
    "            curr = tmp\n",
    "\n",
    "        curr.next = prev2\n",
    "\n",
    "        if prev:\n",
    "            prev.next = fast\n",
    "            return A\n",
    "        else:\n",
    "            return curr    "
   ]
  },
  {
   "cell_type": "markdown",
   "id": "6bd460ff",
   "metadata": {},
   "source": [
    "## Coding Ninjas Problem of the Day"
   ]
  },
  {
   "cell_type": "markdown",
   "id": "66f42200",
   "metadata": {},
   "source": [
    "## [Easy](https://www.naukri.com/code360/problems/find-division-upto-given-decimal-places_1214961)\n"
   ]
  },
  {
   "cell_type": "code",
   "execution_count": 9,
   "id": "e4d55036",
   "metadata": {},
   "outputs": [],
   "source": [
    "def findDivision(x, y, n):\n",
    "    result=[]\n",
    "    if(x<0)^(y<0) and (x!=0 and y!=0):result.append('-')\n",
    "    quotient=abs(x)//abs(y)\n",
    "    result.append(str(quotient))\n",
    "    result.append('.')\n",
    "    remainder=abs(x)%abs(y)\n",
    "    for i in range(1,n+1):\n",
    "        remainder*=10\n",
    "        digit=remainder//abs(y)\n",
    "        remainder%=abs(y)\n",
    "        result.append(str(digit))\n",
    "    return ''.join(result)"
   ]
  },
  {
   "cell_type": "markdown",
   "id": "b8494e61",
   "metadata": {},
   "source": [
    "## [Moderate](https://www.naukri.com/code360/problems/highway-billboards_3125967)"
   ]
  },
  {
   "cell_type": "code",
   "execution_count": 10,
   "id": "f751f333",
   "metadata": {},
   "outputs": [],
   "source": [
    "from typing import List\n",
    "def highwayBillboard(b: List[int], r: List[int], m: int, x: int) -> int:\n",
    "    M,n={},len(b)\n",
    "    for i in range(n):M[b[i]]=r[i]\n",
    "    b.sort()\n",
    "    T=[0]*(n+1)\n",
    "    def f(i):\n",
    "        if i>=n:return 0\n",
    "        if T[i]!=0:return T[i]\n",
    "        maxi=0\n",
    "        for j in range(i,n):\n",
    "            if i==0 or b[j]-b[i-1]>x:\n",
    "                maxi=max(M[b[j]]+f(j+1),maxi)\n",
    "        T[i]=maxi\n",
    "        return maxi\n",
    "    return f(0)"
   ]
  },
  {
   "cell_type": "markdown",
   "id": "e5fc51cc",
   "metadata": {},
   "source": [
    "## [Hard](https://www.naukri.com/code360/problems/buy-and-sell-stock_1071012)"
   ]
  },
  {
   "cell_type": "code",
   "execution_count": 4,
   "id": "3348ef19",
   "metadata": {},
   "outputs": [],
   "source": [
    "from typing import List\n",
    "\n",
    "def maxProfit(prices: List[int]) -> int:\n",
    "    n=len(prices)\n",
    "    P=[[0]*3 for x in range(2)]\n",
    "    for i in range(n-1,-1,-1):\n",
    "        c=[[0]*3 for x in range(2)]   \n",
    "        for j in range(2):\n",
    "            for k in range(1,3):\n",
    "                if j==0:\n",
    "                    c[j][k]=max(P[0][k],-prices[i]+P[1][k])\n",
    "                else:\n",
    "                    c[j][k]=max(P[1][k],prices[i]+P[0][k-1])\n",
    "        P=c\n",
    "    return P[0][2]"
   ]
  },
  {
   "cell_type": "code",
   "execution_count": null,
   "id": "9d8a4aba",
   "metadata": {},
   "outputs": [],
   "source": []
  }
 ],
 "metadata": {
  "kernelspec": {
   "display_name": "Python 3 (ipykernel)",
   "language": "python",
   "name": "python3"
  },
  "language_info": {
   "codemirror_mode": {
    "name": "ipython",
    "version": 3
   },
   "file_extension": ".py",
   "mimetype": "text/x-python",
   "name": "python",
   "nbconvert_exporter": "python",
   "pygments_lexer": "ipython3",
   "version": "3.11.5"
  }
 },
 "nbformat": 4,
 "nbformat_minor": 5
}
