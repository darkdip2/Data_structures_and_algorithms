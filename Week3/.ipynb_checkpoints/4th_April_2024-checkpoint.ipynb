{
 "cells": [
  {
   "cell_type": "markdown",
   "id": "d2ffff82",
   "metadata": {},
   "source": [
    "## Q.1"
   ]
  },
  {
   "cell_type": "markdown",
   "id": "2be451c7",
   "metadata": {},
   "source": [
    "### Redundant Braces\n",
    "\n",
    "Given a string A denoting an expression. It contains the following operators '+', '-', '*', '/'.\n",
    "\n",
    "Chech whether A has redundant braces or not.\n",
    "\n",
    "NOTE: A will be always a valid expression."
   ]
  },
  {
   "cell_type": "markdown",
   "id": "b463c5ca",
   "metadata": {},
   "source": [
    "- [Interviewbit](https://www.interviewbit.com/problems/redundant-braces/)"
   ]
  },
  {
   "cell_type": "markdown",
   "id": "c04699b3",
   "metadata": {},
   "source": [
    "## Intuition"
   ]
  },
  {
   "cell_type": "markdown",
   "id": "ff548fba",
   "metadata": {},
   "source": [
    "- Create a set of operators.\n",
    "- Run a loop if current is ')' check while stack top is not '(' if there is no operator between then there are redundant braces."
   ]
  },
  {
   "cell_type": "markdown",
   "id": "b35c0d8a",
   "metadata": {},
   "source": [
    "## Solution"
   ]
  },
  {
   "cell_type": "code",
   "execution_count": 1,
   "id": "54651483",
   "metadata": {},
   "outputs": [],
   "source": [
    "class Solution:\n",
    "    # @param A : string\n",
    "    # @return an integer\n",
    "    def braces(self, A):\n",
    "        S, M = [], set(['/','*','+','-'])\n",
    "        for i in A:\n",
    "            if i == ')':\n",
    "                op = False\n",
    "                while S and S[-1] != '(':\n",
    "                    if S.pop() in M:\n",
    "                        op = True\n",
    "                if op == False:\n",
    "                    return 1\n",
    "                S[-1] = '#'\n",
    "            else:\n",
    "                S.append(i)\n",
    "        return 0"
   ]
  },
  {
   "cell_type": "markdown",
   "id": "0e1cd1d1",
   "metadata": {},
   "source": [
    "## Q.2"
   ]
  },
  {
   "cell_type": "markdown",
   "id": "1c4310a5",
   "metadata": {},
   "source": [
    "### Nearest Smaller Element\n",
    "\n",
    "Given an array, find the nearest smaller element G[i] for every element A[i] in the array such that the element has an index smaller than i.\n",
    "\n",
    "More formally,\n",
    "\n",
    "    G[i] for an element A[i] = an element A[j] such that \n",
    "    j is maximum possible AND \n",
    "    j < i AND\n",
    "    A[j] < A[i]\n",
    "Elements for which no smaller element exist, consider next smaller element as -1."
   ]
  },
  {
   "cell_type": "markdown",
   "id": "b57e01c2",
   "metadata": {},
   "source": [
    "- [Interviewbit](https://www.interviewbit.com/problems/nearest-smaller-element/)"
   ]
  },
  {
   "cell_type": "markdown",
   "id": "db232b9f",
   "metadata": {},
   "source": [
    "## Intuition"
   ]
  },
  {
   "cell_type": "markdown",
   "id": "57c05eef",
   "metadata": {},
   "source": [
    "- Keep pushing indexes.\n",
    "- Keep popping indexes till the top of stack index element is >= current num.\n",
    "- Top of stack is the answer for that index.\n",
    "- Finally map the indexes to the elements."
   ]
  },
  {
   "cell_type": "markdown",
   "id": "a0c58523",
   "metadata": {},
   "source": [
    "## Solution"
   ]
  },
  {
   "cell_type": "code",
   "execution_count": 5,
   "id": "5d0a6145",
   "metadata": {},
   "outputs": [],
   "source": [
    "class Solution:\n",
    "    # @param A : list of integers\n",
    "    # @return a list of integers\n",
    "    def prevSmaller(self, A):\n",
    "        S, ans = [], [-1] * len(A)\n",
    "        for i in range(len(A)):\n",
    "            while S and A[S[-1]] >= A[i]:\n",
    "                S.pop()\n",
    "            if S:\n",
    "                ans[i] = S[-1]\n",
    "            S.append(i)\n",
    "        return [A[i] if i != -1 else -1 for i in ans]"
   ]
  },
  {
   "cell_type": "markdown",
   "id": "1dbc7af4",
   "metadata": {},
   "source": [
    "## Q.3"
   ]
  },
  {
   "cell_type": "markdown",
   "id": "a66f52f7",
   "metadata": {},
   "source": [
    "### Next Greater Element I\n",
    "\n",
    "The next greater element of some element x in an array is the first greater element that is to the right of x in the same array.\n",
    "\n",
    "You are given two distinct 0-indexed integer arrays nums1 and nums2, where nums1 is a subset of nums2.\n",
    "\n",
    "For each 0 <= i < nums1.length, find the index j such that nums1[i] == nums2[j] and determine the next greater element of nums2[j] in nums2. If there is no next greater element, then the answer for this query is -1.\n",
    "\n",
    "Return an array ans of length nums1.length such that ans[i] is the next greater element as described above."
   ]
  },
  {
   "cell_type": "markdown",
   "id": "01e92058",
   "metadata": {},
   "source": [
    "- [LeetCode](https://leetcode.com/problems/next-greater-element-i/description/)\n",
    "- [Interviewbit](https://www.interviewbit.com/problems/nextgreater/)"
   ]
  },
  {
   "cell_type": "markdown",
   "id": "7431ca78",
   "metadata": {},
   "source": [
    "## Intuition"
   ]
  },
  {
   "cell_type": "markdown",
   "id": "4dd74ba7",
   "metadata": {},
   "source": [
    "- Use map to map the elements.\n",
    "- Now use next greater element algorithm using stack.\n",
    "- If element corresponding to stack top is less then current number keep assigning current index as the answer for the top index of stack and pop it.\n",
    "- Finally get the ans by mapping the elements from the index array."
   ]
  },
  {
   "cell_type": "markdown",
   "id": "bf367cee",
   "metadata": {},
   "source": [
    "## Solution"
   ]
  },
  {
   "cell_type": "code",
   "execution_count": 1,
   "id": "cafc4263",
   "metadata": {},
   "outputs": [],
   "source": [
    "class Solution:\n",
    "    def nextGreaterElement(self, nums1: List[int], nums2: List[int]) -> List[int]:\n",
    "        R,S,T,M=[-1]*len(nums2),[],[-1]*len(nums1),{}\n",
    "        for i in range(len(nums1)):\n",
    "            M[nums1[i]]=i\n",
    "        for i in range(len(nums2)):\n",
    "            while S and nums2[S[-1]]<nums2[i]:\n",
    "                R[S.pop()]=i\n",
    "            S.append(i)\n",
    "        for i in range(len(nums2)):\n",
    "            if nums2[i] in M:\n",
    "                if R[i]!=-1:\n",
    "                    T[M[nums2[i]]]=nums2[R[i]]\n",
    "        return T"
   ]
  },
  {
   "cell_type": "markdown",
   "id": "861eef8d",
   "metadata": {},
   "source": [
    "## Q.4"
   ]
  },
  {
   "cell_type": "markdown",
   "id": "2116a47c",
   "metadata": {},
   "source": [
    "### Next Greater Element II\n",
    "\n",
    "Given a circular integer array nums (i.e., the next element of nums[nums.length - 1] is nums[0]), return the next greater number for every element in nums.\n",
    "\n",
    "The next greater number of a number x is the first greater number to its traversing-order next in the array, which means you could search circularly to find its next greater number. If it doesn't exist, return -1 for this number."
   ]
  },
  {
   "cell_type": "markdown",
   "id": "f70cc2a1",
   "metadata": {},
   "source": [
    "- [LeetCode](https://leetcode.com/problems/remove-all-adjacent-duplicates-in-string-ii/description/)"
   ]
  },
  {
   "cell_type": "markdown",
   "id": "5d877266",
   "metadata": {},
   "source": [
    "## Intuition"
   ]
  },
  {
   "cell_type": "markdown",
   "id": "abcd9503",
   "metadata": {},
   "source": []
  },
  {
   "cell_type": "markdown",
   "id": "83ad0cfa",
   "metadata": {},
   "source": [
    "## Solution"
   ]
  },
  {
   "cell_type": "code",
   "execution_count": 2,
   "id": "3932e1ec",
   "metadata": {},
   "outputs": [],
   "source": []
  },
  {
   "cell_type": "markdown",
   "id": "e260b421",
   "metadata": {},
   "source": [
    "## Q.5"
   ]
  },
  {
   "cell_type": "markdown",
   "id": "6673c20c",
   "metadata": {},
   "source": [
    "### Trapping Rain Water\n",
    "\n",
    "Given n non-negative integers representing an elevation map where the width of each bar is 1, compute how much water it can trap after raining."
   ]
  },
  {
   "cell_type": "markdown",
   "id": "87d54260",
   "metadata": {},
   "source": [
    "- [LeetCode](https://leetcode.com/problems/trapping-rain-water/description/)\n",
    "- [Interviewbit](https://www.interviewbit.com/problems/rain-water-trapped/)"
   ]
  },
  {
   "cell_type": "markdown",
   "id": "809e9a7a",
   "metadata": {},
   "source": [
    "## Intuition"
   ]
  },
  {
   "cell_type": "markdown",
   "id": "6c9f7002",
   "metadata": {},
   "source": [
    "- Calculate running maximum on left and right side.\n",
    "- The minimum of the two for each index - element at index is the contribution for each index."
   ]
  },
  {
   "cell_type": "markdown",
   "id": "29f7120c",
   "metadata": {},
   "source": [
    "## Solution"
   ]
  },
  {
   "cell_type": "code",
   "execution_count": 5,
   "id": "f5904d89",
   "metadata": {},
   "outputs": [],
   "source": [
    "class Solution:\n",
    "    def trap(self, height: List[int]) -> int:\n",
    "        ans,n=0,len(height)\n",
    "        L,r=[0]*n,[0]*n\n",
    "        T=height[0]\n",
    "        for i in range(1,n):\n",
    "            L[i]=T\n",
    "            T=max(T,height[i])\n",
    "        T=height[-1]\n",
    "        for j in range(n-2,-1,-1):\n",
    "            r[j]=T\n",
    "            T=max(T,height[j])\n",
    "        for i in range(n):L[i]=min(L[i],r[i])\n",
    "        for i in range(n):\n",
    "            if L[i]-height[i]>0:ans+=L[i]-height[i]\n",
    "        return ans"
   ]
  },
  {
   "cell_type": "markdown",
   "id": "bff4bd73",
   "metadata": {},
   "source": [
    "## Q.6"
   ]
  },
  {
   "cell_type": "markdown",
   "id": "47b41b40",
   "metadata": {},
   "source": [
    "###  Largest Rectangle in Histogram\n",
    "\n",
    "Given an array of integers heights representing the histogram's bar height where the width of each bar is 1, return the area of the largest rectangle in the histogram."
   ]
  },
  {
   "cell_type": "markdown",
   "id": "9eb37c6c",
   "metadata": {},
   "source": [
    "- [LeetCode](https://leetcode.com/problems/largest-rectangle-in-histogram/description/)\n",
    "- [Interviewbit](https://www.interviewbit.com/problems/largest-rectangle-in-histogram/)"
   ]
  },
  {
   "cell_type": "markdown",
   "id": "3ec3f0e8",
   "metadata": {},
   "source": [
    "## Intuition"
   ]
  },
  {
   "cell_type": "markdown",
   "id": "e32e47ee",
   "metadata": {},
   "source": [
    "- Calculate the Next smaller index and previous smaller index arrays.\n",
    "- Area for each index is given by element at index * (NSE[i]-PSE[i]-1). Get maximum."
   ]
  },
  {
   "cell_type": "markdown",
   "id": "119ab698",
   "metadata": {},
   "source": [
    "## Solution"
   ]
  },
  {
   "cell_type": "code",
   "execution_count": 2,
   "id": "4d3de3f9",
   "metadata": {},
   "outputs": [],
   "source": [
    "class Solution:\n",
    "    # @param A : list of integers\n",
    "    # @return an integer\n",
    "    def largestRectangleArea(self, A):\n",
    "        S, area, n = [], 0, len(A)\n",
    "        PS, NS = [-1] * n, [n] * n \n",
    "        for i in range(n):\n",
    "            while S and A[S[-1]] > A[i]:\n",
    "                NS[S.pop()] = i\n",
    "            S.append(i)\n",
    "        S = []\n",
    "        for i in range(n):\n",
    "            while S and A[S[-1]] >= A[i]:\n",
    "                S.pop()\n",
    "            if S:\n",
    "                PS[i] = S[-1]\n",
    "            S.append(i)\n",
    "        for i in range(n):\n",
    "            area = max(A[i] * (NS[i] - PS[i] - 1), area)\n",
    "        return area"
   ]
  },
  {
   "cell_type": "markdown",
   "id": "b530ec81",
   "metadata": {},
   "source": [
    "## Q.7"
   ]
  },
  {
   "cell_type": "markdown",
   "id": "ded07485",
   "metadata": {},
   "source": [
    "### Maximal Rectangle\n",
    "\n",
    "Given a rows x cols binary matrix filled with 0's and 1's, find the largest rectangle containing only 1's and return its area."
   ]
  },
  {
   "cell_type": "markdown",
   "id": "6aee7e38",
   "metadata": {},
   "source": [
    "- [LeetCode](https://leetcode.com/problems/maximal-rectangle/description/)"
   ]
  },
  {
   "cell_type": "markdown",
   "id": "c6e5bf6d",
   "metadata": {},
   "source": [
    "## Intuition"
   ]
  },
  {
   "cell_type": "markdown",
   "id": "443e5a82",
   "metadata": {},
   "source": []
  },
  {
   "cell_type": "markdown",
   "id": "f4d68a1b",
   "metadata": {},
   "source": [
    "## Solution"
   ]
  },
  {
   "cell_type": "code",
   "execution_count": 5,
   "id": "6c82d70a",
   "metadata": {},
   "outputs": [],
   "source": []
  },
  {
   "cell_type": "markdown",
   "id": "6bd460ff",
   "metadata": {},
   "source": [
    "## Coding Ninjas Problem of the Day"
   ]
  },
  {
   "cell_type": "markdown",
   "id": "66f42200",
   "metadata": {},
   "source": [
    "## [Easy](https://www.naukri.com/code360/problems/sum-of-big-integers_1229068)\n"
   ]
  },
  {
   "cell_type": "code",
   "execution_count": 4,
   "id": "e4d55036",
   "metadata": {},
   "outputs": [],
   "source": [
    "def findSum(num1, num2):\n",
    "    return int(num1)+int(num2)"
   ]
  },
  {
   "cell_type": "markdown",
   "id": "b8494e61",
   "metadata": {},
   "source": [
    "## [Moderate](https://www.naukri.com/code360/problems/triplets-with-given-sum_893028)"
   ]
  },
  {
   "cell_type": "code",
   "execution_count": 2,
   "id": "f751f333",
   "metadata": {},
   "outputs": [],
   "source": [
    "def findTriplets(arr, n, k):\n",
    "    arr.sort()\n",
    "    res_set = []\n",
    "\n",
    "    for i in range(n-2):\n",
    "        # Skip duplicates in outer loop\n",
    "        if i > 0 and arr[i] == arr[i-1]:\n",
    "            continue\n",
    "\n",
    "        left, right = i+1, n-1\n",
    "\n",
    "        # if current element + 2 next smallest elements > k, so no need to iterate further\n",
    "        if arr[i] + 2 * arr[left] > k:\n",
    "            break\n",
    "\n",
    "        while left < right:\n",
    "            current_sum = arr[i] + arr[left] + arr[right]\n",
    "\n",
    "            if k > current_sum:\n",
    "                left += 1\n",
    "            elif k < current_sum:\n",
    "                right -= 1\n",
    "            else:\n",
    "                triplet = [arr[i], arr[left], arr[right]]\n",
    "                res_set.append(triplet)\n",
    "                left += 1\n",
    "                right -= 1\n",
    "\n",
    "                # Skip duplicates in inner loop\n",
    "                while left < right and arr[left] == arr[left-1]:\n",
    "                    left += 1\n",
    "                while left < right and arr[right] == arr[right+1]:\n",
    "                    right -= 1\n",
    "\n",
    "    return res_set"
   ]
  },
  {
   "cell_type": "markdown",
   "id": "e5fc51cc",
   "metadata": {},
   "source": [
    "## [Hard](https://www.naukri.com/code360/problems/minimize-malware-spread-ii_1376659)"
   ]
  },
  {
   "cell_type": "code",
   "execution_count": 4,
   "id": "3348ef19",
   "metadata": {},
   "outputs": [],
   "source": [
    "from collections import deque\n",
    "def bfs(graph,infected,cur):\n",
    "    Q=deque()\n",
    "    for v in infected:\n",
    "        Q.append(v)\n",
    "    while Q:\n",
    "        v=Q.popleft()\n",
    "        for i in range(len(graph[v])):\n",
    "            if i!=cur and graph[v][i]==1 and i not in infected:\n",
    "                Q.append(i)\n",
    "                infected.add(i)\n",
    "    return len(infected)\n",
    "def minMalwareSpread(graph, initial):\n",
    "    infected=set(initial)\n",
    "    ans,minCount=0,float('inf')\n",
    "    for cur in initial:\n",
    "        infected.remove(cur)\n",
    "        cnt=bfs(graph,infected.copy(),cur)\n",
    "        if cnt<minCount or (cnt==minCount and cur<ans):\n",
    "            minCount=cnt\n",
    "            ans=cur\n",
    "        infected.add(cur)\n",
    "    return ans"
   ]
  }
 ],
 "metadata": {
  "kernelspec": {
   "display_name": "Python 3 (ipykernel)",
   "language": "python",
   "name": "python3"
  },
  "language_info": {
   "codemirror_mode": {
    "name": "ipython",
    "version": 3
   },
   "file_extension": ".py",
   "mimetype": "text/x-python",
   "name": "python",
   "nbconvert_exporter": "python",
   "pygments_lexer": "ipython3",
   "version": "3.11.5"
  }
 },
 "nbformat": 4,
 "nbformat_minor": 5
}
