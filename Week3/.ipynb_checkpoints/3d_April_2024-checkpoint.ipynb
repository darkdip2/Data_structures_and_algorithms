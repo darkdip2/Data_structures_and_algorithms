{
 "cells": [
  {
   "cell_type": "markdown",
   "id": "d2ffff82",
   "metadata": {},
   "source": [
    "## Q.1"
   ]
  },
  {
   "cell_type": "markdown",
   "id": "2be451c7",
   "metadata": {},
   "source": [
    "### Min Stack\n",
    "\n",
    "Design a stack that supports push, pop, top, and retrieving the minimum element in constant time.\n",
    "\n",
    "Implement the MinStack class:\n",
    "\n",
    "MinStack() initializes the stack object.\n",
    "void push(int val) pushes the element val onto the stack.\n",
    "void pop() removes the element on the top of the stack.\n",
    "int top() gets the top element of the stack.\n",
    "int getMin() retrieves the minimum element in the stack.\n",
    "You must implement a solution with O(1) time complexity for each function."
   ]
  },
  {
   "cell_type": "markdown",
   "id": "b463c5ca",
   "metadata": {},
   "source": [
    "- [LeetCode](https://leetcode.com/problems/min-stack/description/)\n",
    "- [Interviewbit](https://www.interviewbit.com/problems/min-stack/)"
   ]
  },
  {
   "cell_type": "markdown",
   "id": "c04699b3",
   "metadata": {},
   "source": [
    "## Intuition"
   ]
  },
  {
   "cell_type": "markdown",
   "id": "ff548fba",
   "metadata": {},
   "source": [
    "- Maintain 2 stacks one for the stack and one for storing the minimum element.\n",
    "- if minstack is empty or if val <= minstack top append in minstack also append in stack.\n",
    "- if popped element from stack is top element of minstack pop from minstack also.\n",
    "- get top from stack and getmin  from minstack."
   ]
  },
  {
   "cell_type": "markdown",
   "id": "b35c0d8a",
   "metadata": {},
   "source": [
    "## Solution"
   ]
  },
  {
   "cell_type": "code",
   "execution_count": 5,
   "id": "54651483",
   "metadata": {},
   "outputs": [],
   "source": [
    "class MinStack:\n",
    "\n",
    "    def __init__(self):\n",
    "        self.Min=[]\n",
    "        self.Stack=[]\n",
    "        \n",
    "\n",
    "    def push(self, val: int) -> None:\n",
    "        self.Stack.append(val)\n",
    "        if not self.Min or val<=self.Min[-1]:self.Min.append(val)\n",
    "        \n",
    "\n",
    "    def pop(self) -> None:\n",
    "        if not self.Stack:return -1\n",
    "        Top=self.Stack.pop()\n",
    "        if self.Min and self.Min[-1]==Top:self.Min.pop()\n",
    "        \n",
    "\n",
    "    def top(self) -> int:\n",
    "        if not self.Stack:return -1\n",
    "        return self.Stack[-1]\n",
    "        \n",
    "\n",
    "    def getMin(self) -> int:\n",
    "        if not self.Min:return -1\n",
    "        return self.Min[-1]   "
   ]
  },
  {
   "cell_type": "markdown",
   "id": "0e1cd1d1",
   "metadata": {},
   "source": [
    "## Q.2"
   ]
  },
  {
   "cell_type": "markdown",
   "id": "1c4310a5",
   "metadata": {},
   "source": [
    "### Evaluate Expression\n",
    "\n",
    "An arithmetic expression is given by a string array A of size N. Evaluate the value of an arithmetic expression in Reverse Polish Notation.\n",
    "\n",
    "Valid operators are +, -, *, /. Each string may be an integer or an operator."
   ]
  },
  {
   "cell_type": "markdown",
   "id": "b57e01c2",
   "metadata": {},
   "source": [
    "- [LeetCode](https://leetcode.com/problems/evaluate-reverse-polish-notation/description/)\n",
    "- [Interviewbit](https://www.interviewbit.com/problems/evaluate-expression/)"
   ]
  },
  {
   "cell_type": "markdown",
   "id": "db232b9f",
   "metadata": {},
   "source": [
    "## Intuition"
   ]
  },
  {
   "cell_type": "markdown",
   "id": "57c05eef",
   "metadata": {},
   "source": [
    "- If it is number append it to stack.\n",
    "- If operand then perform function on the last 2 popped elements then append it to stack."
   ]
  },
  {
   "cell_type": "markdown",
   "id": "a0c58523",
   "metadata": {},
   "source": [
    "## Solution"
   ]
  },
  {
   "cell_type": "code",
   "execution_count": 5,
   "id": "5d0a6145",
   "metadata": {},
   "outputs": [],
   "source": [
    "class Solution:\n",
    "    def evalRPN(self, A):\n",
    "        M, stack = {'+': lambda x, y: x + y, '-': lambda x, y: x - y,\n",
    "                    '/': lambda x, y: x / y, '*': lambda x, y: x * y}, []\n",
    "\n",
    "        for token in A:\n",
    "            if token not in M:\n",
    "                stack.append(token)\n",
    "            else:\n",
    "                operand2 = int(stack.pop())\n",
    "                operand1 = int(stack.pop())\n",
    "                stack.append(M[token](operand1, operand2))\n",
    "\n",
    "        return int(stack[-1])"
   ]
  },
  {
   "cell_type": "markdown",
   "id": "1dbc7af4",
   "metadata": {},
   "source": [
    "## Q.3"
   ]
  },
  {
   "cell_type": "markdown",
   "id": "a66f52f7",
   "metadata": {},
   "source": [
    "### Remove All Adjacent Duplicates In String\n",
    "\n",
    "You are given a string s consisting of lowercase English letters. A duplicate removal consists of choosing two adjacent and equal letters and removing them.\n",
    "\n",
    "We repeatedly make duplicate removals on s until we no longer can.\n",
    "\n",
    "Return the final string after all such duplicate removals have been made. It can be proven that the answer is unique."
   ]
  },
  {
   "cell_type": "markdown",
   "id": "01e92058",
   "metadata": {},
   "source": [
    "- [LeetCode](https://leetcode.com/problems/remove-all-adjacent-duplicates-in-string/description/)"
   ]
  },
  {
   "cell_type": "markdown",
   "id": "7431ca78",
   "metadata": {},
   "source": [
    "## Intuition"
   ]
  },
  {
   "cell_type": "markdown",
   "id": "4dd74ba7",
   "metadata": {},
   "source": [
    "- If character equal to last element of stack while they are equal increase pointer and finally pop once.\n",
    "- Else just append the character."
   ]
  },
  {
   "cell_type": "markdown",
   "id": "bf367cee",
   "metadata": {},
   "source": [
    "## Solution"
   ]
  },
  {
   "cell_type": "code",
   "execution_count": 1,
   "id": "cafc4263",
   "metadata": {},
   "outputs": [],
   "source": [
    "class Solution:\n",
    "    # @param A : string\n",
    "    # @return a strings\n",
    "    def removeDuplicates(self, A):\n",
    "        s=[]\n",
    "        for i in range(len(A)):\n",
    "            if s and A[i]==s[-1]:\n",
    "                while i<len(A) and A[i]==s[-1]:\n",
    "                    i+=1\n",
    "                s.pop()\n",
    "            else:s.append(A[i])\n",
    "        return ''.join(s)   "
   ]
  },
  {
   "cell_type": "markdown",
   "id": "861eef8d",
   "metadata": {},
   "source": [
    "## Q.4"
   ]
  },
  {
   "cell_type": "markdown",
   "id": "2116a47c",
   "metadata": {},
   "source": [
    "### Remove All Adjacent Duplicates in String II\n",
    "\n",
    "You are given a string s and an integer k, a k duplicate removal consists of choosing k adjacent and equal letters from s and removing them, causing the left and the right side of the deleted substring to concatenate together.\n",
    "\n",
    "We repeatedly make k duplicate removals on s until we no longer can.\n",
    "\n",
    "Return the final string after all such duplicate removals have been made. It is guaranteed that the answer is unique."
   ]
  },
  {
   "cell_type": "markdown",
   "id": "f70cc2a1",
   "metadata": {},
   "source": [
    "- [LeetCode](https://leetcode.com/problems/remove-all-adjacent-duplicates-in-string-ii/description/)"
   ]
  },
  {
   "cell_type": "markdown",
   "id": "5d877266",
   "metadata": {},
   "source": [
    "## Intuition"
   ]
  },
  {
   "cell_type": "markdown",
   "id": "abcd9503",
   "metadata": {},
   "source": [
    "- Similar to last problem but here store the count of characters also."
   ]
  },
  {
   "cell_type": "markdown",
   "id": "83ad0cfa",
   "metadata": {},
   "source": [
    "## Solution"
   ]
  },
  {
   "cell_type": "code",
   "execution_count": 2,
   "id": "3932e1ec",
   "metadata": {},
   "outputs": [],
   "source": [
    "class Solution:\n",
    "    def removeDuplicates(self, s: str, k: int) -> str:\n",
    "        S=[]\n",
    "        for i in range(len(s)):\n",
    "            if not S or s[i]!=S[-1][0]:\n",
    "                S.append([s[i],1])\n",
    "            elif s[i]==S[-1][0]:\n",
    "                S[-1][1]+=1\n",
    "                if S[-1][1]==k:S.pop()\n",
    "        return ''.join([i[0]*i[1] for i in S])"
   ]
  },
  {
   "cell_type": "markdown",
   "id": "e260b421",
   "metadata": {},
   "source": [
    "## Q.5"
   ]
  },
  {
   "cell_type": "markdown",
   "id": "6673c20c",
   "metadata": {},
   "source": [
    "### Valid Parentheses\n",
    "\n",
    "Given a string s containing just the characters '(', ')', '{', '}', '[' and ']', determine if the input string is valid.\n",
    "\n",
    "An input string is valid if:\n",
    "\n",
    "Open brackets must be closed by the same type of brackets.\n",
    "Open brackets must be closed in the correct order.\n",
    "Every close bracket has a corresponding open bracket of the same type."
   ]
  },
  {
   "cell_type": "markdown",
   "id": "87d54260",
   "metadata": {},
   "source": [
    "- [LeetCode](https://leetcode.com/problems/valid-parentheses/description/)\n",
    "- [Interviewbit](https://www.interviewbit.com/problems/balanced-parantheses/)"
   ]
  },
  {
   "cell_type": "markdown",
   "id": "809e9a7a",
   "metadata": {},
   "source": [
    "## Intuition"
   ]
  },
  {
   "cell_type": "markdown",
   "id": "6c9f7002",
   "metadata": {},
   "source": [
    "- Maintain a stack and append the opening brackets.\n",
    "- If top element of stack is not the respective closing bracket return False."
   ]
  },
  {
   "cell_type": "markdown",
   "id": "29f7120c",
   "metadata": {},
   "source": [
    "## Solution"
   ]
  },
  {
   "cell_type": "code",
   "execution_count": 5,
   "id": "f5904d89",
   "metadata": {},
   "outputs": [],
   "source": [
    "class Solution:\n",
    "    # @param A : string\n",
    "    # @return an integer\n",
    "    def isValid(self, A):\n",
    "        S=[]\n",
    "        for i in A:\n",
    "            if i=='(' or i=='{' or i=='[':S.append(i)\n",
    "            else:\n",
    "                if i==')' and S and S[-1]=='(':S.pop()\n",
    "                elif i=='}' and S and S[-1]=='{':S.pop()\n",
    "                elif i==']' and S and S[-1]=='[':S.pop()\n",
    "                else:return 0\n",
    "        return 1 if not S else 0"
   ]
  },
  {
   "cell_type": "markdown",
   "id": "bff4bd73",
   "metadata": {},
   "source": [
    "## Q.6"
   ]
  },
  {
   "cell_type": "markdown",
   "id": "47b41b40",
   "metadata": {},
   "source": [
    "###  Longest Happy Prefix\n",
    "\n",
    "A string is called a happy prefix if is a non-empty prefix which is also a suffix (excluding itself).\n",
    "Given a string s, return the longest happy prefix of s. Return an empty string \"\" if no such prefix exists."
   ]
  },
  {
   "cell_type": "markdown",
   "id": "9eb37c6c",
   "metadata": {},
   "source": [
    "- [LeetCode](https://leetcode.com/problems/longest-happy-prefix/description/)"
   ]
  },
  {
   "cell_type": "markdown",
   "id": "3ec3f0e8",
   "metadata": {},
   "source": [
    "## Intuition"
   ]
  },
  {
   "cell_type": "markdown",
   "id": "e32e47ee",
   "metadata": {},
   "source": []
  },
  {
   "cell_type": "markdown",
   "id": "119ab698",
   "metadata": {},
   "source": [
    "## Solution"
   ]
  },
  {
   "cell_type": "code",
   "execution_count": 2,
   "id": "4d3de3f9",
   "metadata": {},
   "outputs": [],
   "source": []
  },
  {
   "cell_type": "markdown",
   "id": "b530ec81",
   "metadata": {},
   "source": [
    "## Q.7"
   ]
  },
  {
   "cell_type": "markdown",
   "id": "ded07485",
   "metadata": {},
   "source": [
    "### Minimum Window Substring\n",
    "\n",
    "Given two strings s and t of lengths m and n respectively, return the minimum window \n",
    "substring\n",
    " of s such that every character in t (including duplicates) is included in the window. If there is no such substring, return the empty string \"\".\n",
    "\n",
    "The testcases will be generated such that the answer is unique."
   ]
  },
  {
   "cell_type": "markdown",
   "id": "6aee7e38",
   "metadata": {},
   "source": [
    "- [LeetCode](https://leetcode.com/problems/minimum-window-substring/description/)\n",
    "- [Interviewbit]()"
   ]
  },
  {
   "cell_type": "markdown",
   "id": "c6e5bf6d",
   "metadata": {},
   "source": [
    "## Intuition"
   ]
  },
  {
   "cell_type": "markdown",
   "id": "443e5a82",
   "metadata": {},
   "source": []
  },
  {
   "cell_type": "markdown",
   "id": "f4d68a1b",
   "metadata": {},
   "source": [
    "## Solution"
   ]
  },
  {
   "cell_type": "code",
   "execution_count": 5,
   "id": "6c82d70a",
   "metadata": {},
   "outputs": [],
   "source": []
  },
  {
   "cell_type": "markdown",
   "id": "6bd460ff",
   "metadata": {},
   "source": [
    "## Coding Ninjas Problem of the Day"
   ]
  },
  {
   "cell_type": "markdown",
   "id": "66f42200",
   "metadata": {},
   "source": [
    "## [Easy](https://www.naukri.com/code360/problems/look-say-sequence_668478)\n"
   ]
  },
  {
   "cell_type": "code",
   "execution_count": 4,
   "id": "e4d55036",
   "metadata": {},
   "outputs": [],
   "source": [
    "import sys\n",
    "sys.set_int_max_str_digits(1000000)\n",
    "\n",
    "def lookAndSequence(n):\n",
    "    if n == 1:\n",
    "        return 1\n",
    "    S, s, i = '', str(lookAndSequence(n - 1)), 0\n",
    "    while i < len(s):\n",
    "        cnt = 1\n",
    "        while i < len(s) - 1 and s[i] == s[i + 1]:\n",
    "            i += 1\n",
    "            cnt += 1\n",
    "        S += str(cnt) + s[i]\n",
    "        i += 1\n",
    "    return int(S)"
   ]
  },
  {
   "cell_type": "markdown",
   "id": "b8494e61",
   "metadata": {},
   "source": [
    "## [Moderate](https://www.naukri.com/code360/problems/longest-substring-with-at-most-k-distinct-characters_2221410)"
   ]
  },
  {
   "cell_type": "code",
   "execution_count": 5,
   "id": "f751f333",
   "metadata": {},
   "outputs": [],
   "source": [
    "from collections import defaultdict\n",
    "def kDistinctChars(k, str):\n",
    "    M,L,ans=defaultdict(int),0,0\n",
    "    for r in range(len(str)):\n",
    "        M[str[r]]+=1\n",
    "        while len(M)>k:\n",
    "            M[str[L]]-=1\n",
    "            if M[str[L]]==0:\n",
    "                del M[str[L]]\n",
    "            L+=1\n",
    "        ans=max(r-L+1,ans)\n",
    "    return ans"
   ]
  },
  {
   "cell_type": "markdown",
   "id": "e5fc51cc",
   "metadata": {},
   "source": [
    "## [Hard](https://www.naukri.com/code360/problems/minimum-sorted-groups_3153016)"
   ]
  },
  {
   "cell_type": "code",
   "execution_count": 2,
   "id": "3348ef19",
   "metadata": {},
   "outputs": [],
   "source": [
    "def minimumSortedGroups(n: int, arr: List[int]) -> int:\n",
    "    groups = [[float('-inf')]]\n",
    "    for num in arr:\n",
    "        for g in groups:\n",
    "            if num >= g[-1]:\n",
    "                g[-1] = num\n",
    "                break\n",
    "        else:\n",
    "            groups.append([num])\n",
    "    return len(groups)"
   ]
  },
  {
   "cell_type": "code",
   "execution_count": null,
   "id": "92ea5140",
   "metadata": {},
   "outputs": [],
   "source": []
  }
 ],
 "metadata": {
  "kernelspec": {
   "display_name": "Python 3 (ipykernel)",
   "language": "python",
   "name": "python3"
  },
  "language_info": {
   "codemirror_mode": {
    "name": "ipython",
    "version": 3
   },
   "file_extension": ".py",
   "mimetype": "text/x-python",
   "name": "python",
   "nbconvert_exporter": "python",
   "pygments_lexer": "ipython3",
   "version": "3.11.5"
  }
 },
 "nbformat": 4,
 "nbformat_minor": 5
}
