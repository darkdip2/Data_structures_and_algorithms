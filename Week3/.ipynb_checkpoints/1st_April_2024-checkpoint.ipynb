{
 "cells": [
  {
   "cell_type": "markdown",
   "id": "072da0e6",
   "metadata": {},
   "source": [
    "## Q.1"
   ]
  },
  {
   "cell_type": "markdown",
   "id": "a1296238",
   "metadata": {},
   "source": [
    "###  Max Points on a Line\n",
    "\n",
    "Given an array of points where points[i] = [xi, yi] represents a point on the X-Y plane, return the maximum number of points that lie on the same straight line."
   ]
  },
  {
   "cell_type": "markdown",
   "id": "1ef5d574",
   "metadata": {},
   "source": [
    "- [LeetCode](https://leetcode.com/problems/max-points-on-a-line/description/)\n",
    "- [Interviewbit](https://www.interviewbit.com/problems/points-on-the-straight-line/)"
   ]
  },
  {
   "cell_type": "markdown",
   "id": "1a07f79f",
   "metadata": {},
   "source": [
    "## Intuition"
   ]
  },
  {
   "cell_type": "markdown",
   "id": "82f32a9d",
   "metadata": {},
   "source": [
    "- For every point hash the arc slope/gcd for every pair of points and keep a count of duplicate points.\n",
    "- At the end of inner loop keep updating the answer."
   ]
  },
  {
   "cell_type": "markdown",
   "id": "5abb62f5",
   "metadata": {},
   "source": [
    "## Solution"
   ]
  },
  {
   "cell_type": "code",
   "execution_count": 6,
   "id": "0dcb8fd2",
   "metadata": {},
   "outputs": [],
   "source": [
    "from collections import defaultdict\n",
    "class Solution:\n",
    "    def maxPoints(self,points):\n",
    "        def gcd(a,b):\n",
    "            while b:\n",
    "                a,b=b,a%b \n",
    "            return a\n",
    "        n, result = len(points), 0\n",
    "        if n <= 2:return n\n",
    "        for i in range(n):\n",
    "            slope_count, duplicate_points = defaultdict(int), 1\n",
    "            for j in range(i + 1, n):\n",
    "                dx, dy = points[j][0] - points[i][0], points[j][1] - points[i][1]\n",
    "                if dx == 0 and dy == 0:\n",
    "                    duplicate_points += 1\n",
    "                    continue\n",
    "                gcd_val = gcd(dx, dy)\n",
    "                slope_count[(dx // gcd_val, dy // gcd_val)] += 1\n",
    "            result = max(result, max(slope_count.values(), default=0) + duplicate_points)\n",
    "        return result"
   ]
  },
  {
   "cell_type": "markdown",
   "id": "006e6ca4",
   "metadata": {},
   "source": [
    "## Q.2"
   ]
  },
  {
   "cell_type": "markdown",
   "id": "0bd54c03",
   "metadata": {},
   "source": [
    "###  Valid Sudoku\n",
    "\n",
    "### Description\n",
    "Given a 9 x 9 Sudoku board, determine if it is valid. Only the filled cells need to be validated according to the following rules:\n",
    "\n",
    "- Each row must contain the digits 1-9 without repetition.\n",
    "- Each column must contain the digits 1-9 without repetition.\n",
    "- Each of the nine 3 x 3 sub-boxes of the grid must contain the digits 1-9 without repetition.\n",
    "\n",
    "### Note\n",
    "- A Sudoku board (partially filled) could be valid but is not necessarily solvable.\n",
    "- Only the filled cells need to be validated according to the mentioned rules."
   ]
  },
  {
   "cell_type": "markdown",
   "id": "4542b603",
   "metadata": {},
   "source": [
    "- [LeetCode](https://leetcode.com/problems/valid-sudoku/description/)\n",
    "- [Interviewbit](https://www.interviewbit.com/problems/valid-sudoku/)"
   ]
  },
  {
   "cell_type": "markdown",
   "id": "cd1bad1d",
   "metadata": {},
   "source": [
    "## Intuition"
   ]
  },
  {
   "cell_type": "markdown",
   "id": "df0c2713",
   "metadata": {},
   "source": [
    "- Maintain 3 maps containing sets for rows,columns, and box respectively to check if the number is already present."
   ]
  },
  {
   "cell_type": "markdown",
   "id": "338dd4b0",
   "metadata": {},
   "source": [
    "## Solution"
   ]
  },
  {
   "cell_type": "code",
   "execution_count": 8,
   "id": "3104fa2e",
   "metadata": {},
   "outputs": [],
   "source": [
    "from collections import defaultdict\n",
    "class Solution:\n",
    "    def isValidSudoku(self, board: List[List[str]]) -> bool:\n",
    "        R,C,b,n=defaultdict(set),defaultdict(set),defaultdict(set),len(board)\n",
    "        for i in range(n):\n",
    "            for j in range(n):\n",
    "                if board[i][j]!='.':\n",
    "                    num=board[i][j]\n",
    "                    box=(i//3,j//3)\n",
    "                    if num in R[i] or num in C[j] or num in b[box]:\n",
    "                        return False\n",
    "                    R[i].add(num)\n",
    "                    C[j].add(num)\n",
    "                    b[box].add(num)\n",
    "        return True     "
   ]
  },
  {
   "cell_type": "markdown",
   "id": "60185961",
   "metadata": {},
   "source": [
    "## KMP"
   ]
  },
  {
   "cell_type": "code",
   "execution_count": 11,
   "id": "eaa992e5",
   "metadata": {},
   "outputs": [
    {
     "name": "stdout",
     "output_type": "stream",
     "text": [
      "[0, 0, 1]\n",
      "True\n"
     ]
    }
   ],
   "source": [
    "def LPS(pattern):\n",
    "    L = [0] * len(pattern)\n",
    "    x = 0  # Length of the previous longest prefix suffix\n",
    "    for i in range(1, len(pattern)):\n",
    "        while x > 0 and pattern[x] != pattern[i]:\n",
    "            x = L[x - 1]\n",
    "        if pattern[x] == pattern[i]:\n",
    "            x += 1\n",
    "        L[i] = x\n",
    "    print(L)\n",
    "    return L\n",
    "\n",
    "text,pattern='abhfghabakl','aba'\n",
    "def Match(text,pattern): \n",
    "    L=LPS(pattern)\n",
    "    i,j=0,0\n",
    "    while i<len(text):\n",
    "        if text[i]==pattern[j]:\n",
    "            i+=1\n",
    "            j+=1\n",
    "            if j==len(pattern):\n",
    "                return  True\n",
    "        else:\n",
    "            if j==0:\n",
    "                i+=1\n",
    "            else:\n",
    "                j=L[j-1]\n",
    "    return False\n",
    "print(Match(text,pattern))"
   ]
  },
  {
   "cell_type": "markdown",
   "id": "f747ce46",
   "metadata": {},
   "source": [
    "## Q.3"
   ]
  },
  {
   "cell_type": "markdown",
   "id": "bee576d5",
   "metadata": {},
   "source": [
    "### Shortest Palindrome\n",
    "\n",
    "You are given a string s. You can convert s to a palindrome by adding characters in front of it.\n",
    "Return the shortest palindrome you can find by performing this transformation."
   ]
  },
  {
   "cell_type": "markdown",
   "id": "0c8cb76e",
   "metadata": {},
   "source": [
    "- [LeetCode](https://leetcode.com/problems/shortest-palindrome/description/)\n",
    "- [Interviewbit](https://www.interviewbit.com/problems/minimum-characters-required-to-make-a-string-palindromic/)"
   ]
  },
  {
   "cell_type": "markdown",
   "id": "337aa475",
   "metadata": {},
   "source": [
    "## Intuition"
   ]
  },
  {
   "cell_type": "markdown",
   "id": "5a5b79e0",
   "metadata": {},
   "source": [
    "- Create LPS array of the string concatenated with its reverse.\n",
    "- Length of original string minus LPS array's last element is the length needed to add.\n",
    "- Extract the string  to be added by using the length in the reversed string."
   ]
  },
  {
   "cell_type": "markdown",
   "id": "7b404a12",
   "metadata": {},
   "source": [
    "## Solution"
   ]
  },
  {
   "cell_type": "code",
   "execution_count": 12,
   "id": "530ded1e",
   "metadata": {},
   "outputs": [],
   "source": [
    "class Solution:\n",
    "    def shortestPalindrome(self, A: str) -> str:\n",
    "        S = A + '$' + A[::-1] \n",
    "        n = len(S)\n",
    "        L, x = [0] * n, 0\n",
    "        for i in range(1, n):\n",
    "            while x > 0 and S[x] != S[i]:\n",
    "                x = L[x - 1]\n",
    "            if S[x] == S[i]:\n",
    "                x += 1\n",
    "            L[i] = x  \n",
    "        return A[::-1][:(n//2-L[-1])]+A"
   ]
  },
  {
   "cell_type": "markdown",
   "id": "13bfc498",
   "metadata": {},
   "source": [
    "## Q.4"
   ]
  },
  {
   "cell_type": "markdown",
   "id": "c7d19dd7",
   "metadata": {},
   "source": [
    "### Longest Substring Without Repeating Characters\n",
    "\n",
    "Given a string s, find the length of the longest substring without repeating characters."
   ]
  },
  {
   "cell_type": "markdown",
   "id": "1b0d957a",
   "metadata": {},
   "source": [
    "- [LeetCode](https://leetcode.com/problems/longest-substring-without-repeating-characters/description/)\n",
    "- [Interviewbit](https://www.interviewbit.com/problems/longest-substring-without-repeat/)"
   ]
  },
  {
   "cell_type": "markdown",
   "id": "cd6748ec",
   "metadata": {},
   "source": [
    "## Intuition"
   ]
  },
  {
   "cell_type": "markdown",
   "id": "c94d1404",
   "metadata": {},
   "source": [
    "- Use sliding window to maintain the non repeating window.\n",
    "- Use set or map to store it."
   ]
  },
  {
   "cell_type": "markdown",
   "id": "72cec7bd",
   "metadata": {},
   "source": [
    "## Solution"
   ]
  },
  {
   "cell_type": "code",
   "execution_count": 13,
   "id": "57d378b1",
   "metadata": {},
   "outputs": [],
   "source": [
    "class Solution:\n",
    "    def lengthOfLongestSubstring(self, s: str) -> int:\n",
    "        S, L, ans = set(), 0, 0\n",
    "        for r in range(len(s)):\n",
    "            while s[r] in S:\n",
    "                S.remove(s[L])\n",
    "                L += 1\n",
    "            ans = max(ans, r - L + 1)\n",
    "            S.add(s[r])\n",
    "        return ans"
   ]
  },
  {
   "cell_type": "markdown",
   "id": "6bd460ff",
   "metadata": {},
   "source": [
    "## Coding Ninjas Problem of the Day"
   ]
  },
  {
   "cell_type": "markdown",
   "id": "66f42200",
   "metadata": {},
   "source": [
    "## [Easy](https://www.naukri.com/code360/problems/missing-number-in-ap_975498)\n"
   ]
  },
  {
   "cell_type": "code",
   "execution_count": 9,
   "id": "e4d55036",
   "metadata": {},
   "outputs": [],
   "source": [
    "def missingNumber(arr, n):\n",
    "    diff = min(arr[1] - arr[0], arr[-1] - arr[-2])\n",
    "    first = arr[0]\n",
    "    low, high = 1, n - 2\n",
    "\n",
    "    while low <= high:\n",
    "        mid = low + (high - low) // 2\n",
    "        left_diff = arr[mid] - arr[mid - 1]\n",
    "        right_diff = arr[mid + 1] - arr[mid]\n",
    "\n",
    "        if left_diff > right_diff:\n",
    "            return arr[mid] - diff\n",
    "        elif right_diff > left_diff:\n",
    "            return arr[mid] + diff\n",
    "\n",
    "        if arr[mid] == first + diff * mid:\n",
    "            low = mid + 1\n",
    "        else:\n",
    "            high = mid - 1\n",
    "\n",
    "    return -1"
   ]
  },
  {
   "cell_type": "markdown",
   "id": "b8494e61",
   "metadata": {},
   "source": [
    "## [Moderate](https://www.naukri.com/code360/problems/kurapika-and-friends_2279827)"
   ]
  },
  {
   "cell_type": "code",
   "execution_count": 14,
   "id": "f751f333",
   "metadata": {},
   "outputs": [],
   "source": [
    "from typing import List\n",
    "def maxFriends(n: int, s: List[int], e: List[int]) -> int:\n",
    "    S=[(start,1) for start in s]+[(end,-1) for end in e]\n",
    "    S.sort(key=lambda x:(x[0],-x[1]))\n",
    "    Curr,ans=0,0\n",
    "    for T,event in S:\n",
    "        Curr+=event\n",
    "        ans=max(Curr,ans)\n",
    "    return ans"
   ]
  },
  {
   "cell_type": "markdown",
   "id": "e5fc51cc",
   "metadata": {},
   "source": [
    "## [Hard](https://www.naukri.com/code360/problems/subarrays-with-equal-0-s-1-s-and-2-s_2825370)"
   ]
  },
  {
   "cell_type": "code",
   "execution_count": 4,
   "id": "3348ef19",
   "metadata": {},
   "outputs": [],
   "source": [
    "from os import *\n",
    "from sys import *\n",
    "from collections import *\n",
    "from math import *\n",
    "\n",
    "from typing import List\n",
    "\n",
    "\n",
    "def countSubarrays(n: int, arr: List[int]) -> int:\n",
    "    if n<3:return 0\n",
    "    ans,c0,c1,c2=0,0,0,0\n",
    "    key=str(c2-c1)+'$'+str(c1-c0)\n",
    "    M={key:1}\n",
    "    for i in arr:\n",
    "        if i==0:c0+=1\n",
    "        elif i==1:c1+=1\n",
    "        else: c2+=1\n",
    "        key=str(c2-c1)+'$'+str(c1-c0)\n",
    "        if key in M:\n",
    "            ans+=M[key]\n",
    "            M[key]+=1\n",
    "        else:\n",
    "            M[key]=1\n",
    "    return ans"
   ]
  },
  {
   "cell_type": "code",
   "execution_count": null,
   "id": "3233797f",
   "metadata": {},
   "outputs": [],
   "source": []
  }
 ],
 "metadata": {
  "kernelspec": {
   "display_name": "Python 3 (ipykernel)",
   "language": "python",
   "name": "python3"
  },
  "language_info": {
   "codemirror_mode": {
    "name": "ipython",
    "version": 3
   },
   "file_extension": ".py",
   "mimetype": "text/x-python",
   "name": "python",
   "nbconvert_exporter": "python",
   "pygments_lexer": "ipython3",
   "version": "3.11.5"
  }
 },
 "nbformat": 4,
 "nbformat_minor": 5
}
