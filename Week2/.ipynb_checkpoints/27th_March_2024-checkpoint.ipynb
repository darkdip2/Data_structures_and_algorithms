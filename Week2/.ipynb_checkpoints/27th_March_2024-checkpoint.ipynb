{
 "cells": [
  {
   "cell_type": "markdown",
   "id": "e640218a",
   "metadata": {},
   "source": [
    "## Q.1"
   ]
  },
  {
   "cell_type": "markdown",
   "id": "90e9f2bd",
   "metadata": {},
   "source": [
    "### Check Palindrome II\n",
    "\n",
    "Given a string A consisting of lowercase characters.\n",
    "Check if characters of the given string can be rearranged to form a palindrome.\n",
    "Return 1 if it is possible to rearrange the characters of the string A such that it becomes a palindrome else return 0."
   ]
  },
  {
   "cell_type": "markdown",
   "id": "700db869",
   "metadata": {},
   "source": [
    "- [InterviewBit](https://www.interviewbit.com/problems/check-palindrome/)"
   ]
  },
  {
   "cell_type": "markdown",
   "id": "6d600b98",
   "metadata": {},
   "source": [
    "## Intuition"
   ]
  },
  {
   "cell_type": "markdown",
   "id": "012b718d",
   "metadata": {},
   "source": [
    "- Store all the frequencies of characters in a map\n",
    "- return 1 if count of odd frequencies is <=1 else 0"
   ]
  },
  {
   "cell_type": "markdown",
   "id": "4c40e6b5",
   "metadata": {},
   "source": [
    "## Solution"
   ]
  },
  {
   "cell_type": "code",
   "execution_count": 1,
   "id": "008aaedf",
   "metadata": {},
   "outputs": [],
   "source": [
    "class Solution:\n",
    "    # @param A : string\n",
    "    # @return an integer\n",
    "    def solve(self, A):\n",
    "        M,cnt=[0]*26,0\n",
    "        for i in A:M[ord(i)-ord('a')]+=1\n",
    "        for i in M:\n",
    "            if i%2:cnt+=1\n",
    "        return 1 if cnt<=1 else 0"
   ]
  },
  {
   "cell_type": "markdown",
   "id": "3d6da544",
   "metadata": {},
   "source": [
    "## Q.2"
   ]
  },
  {
   "cell_type": "markdown",
   "id": "213e2481",
   "metadata": {},
   "source": [
    "### Colorful Number\n",
    "\n",
    "For Given Number A, find if it's a COLORFUL number or not.\n",
    "\n",
    "COLORFUL number:\n",
    "A number can be broken into different contiguous sub-subsequence parts. \n",
    "Suppose, a number 3245 can be broken into parts like 3 2 4 5 32 24 45 324 245. \n",
    "And this number is a COLORFUL number, since product of every digit of a contiguous subsequence is different\n",
    "Return 1 if A is a COLORFUL number, else return 0"
   ]
  },
  {
   "cell_type": "markdown",
   "id": "87b15e2a",
   "metadata": {},
   "source": [
    "- [InterviewBit](https://www.interviewbit.com/problems/colorful-number/)"
   ]
  },
  {
   "cell_type": "markdown",
   "id": "2ae4b796",
   "metadata": {},
   "source": [
    "## Intuition"
   ]
  },
  {
   "cell_type": "markdown",
   "id": "71b5ea49",
   "metadata": {},
   "source": [
    "- Check if the product of the digits of every substring is present in the Hashmap or not."
   ]
  },
  {
   "cell_type": "markdown",
   "id": "065b6112",
   "metadata": {},
   "source": [
    "## Solution"
   ]
  },
  {
   "cell_type": "code",
   "execution_count": 3,
   "id": "fb0a6e59",
   "metadata": {},
   "outputs": [],
   "source": [
    "class Solution:\n",
    "    # @param A : integer\n",
    "    # @return an integer\n",
    "    def colorful(self, A):\n",
    "        M, s = {}, str(A)\n",
    "        n = len(s)\n",
    "        for i in range(n):\n",
    "            P = 1\n",
    "            for j in range(i, n):\n",
    "                P *= int(s[j])\n",
    "                if P in M:\n",
    "                    return 0\n",
    "                M[P] = True\n",
    "        return 1"
   ]
  },
  {
   "cell_type": "markdown",
   "id": "f747ce46",
   "metadata": {},
   "source": [
    "## Q.3"
   ]
  },
  {
   "cell_type": "markdown",
   "id": "fd4e556f",
   "metadata": {},
   "source": [
    "###  Relative Sort Array\n",
    "\n",
    "Given two arrays arr1 and arr2, the elements of arr2 are distinct, and all elements in arr2 are also in arr1.\n",
    "\n",
    "Sort the elements of arr1 such that the relative ordering of items in arr1 are the same as in arr2. Elements that do not appear in arr2 should be placed at the end of arr1 in ascending order."
   ]
  },
  {
   "cell_type": "markdown",
   "id": "0c8cb76e",
   "metadata": {},
   "source": [
    "- [LeetCode](https://leetcode.com/problems/relative-sort-array/description/)"
   ]
  },
  {
   "cell_type": "markdown",
   "id": "337aa475",
   "metadata": {},
   "source": [
    "## Intuition"
   ]
  },
  {
   "cell_type": "markdown",
   "id": "5a5b79e0",
   "metadata": {},
   "source": [
    "- Store the second array element and their index in a map.\n",
    "- Sort the first array by getting the original indexes from the map."
   ]
  },
  {
   "cell_type": "markdown",
   "id": "7b404a12",
   "metadata": {},
   "source": [
    "## Solution"
   ]
  },
  {
   "cell_type": "code",
   "execution_count": 5,
   "id": "530ded1e",
   "metadata": {},
   "outputs": [],
   "source": [
    "from typing import List\n",
    "class Solution:\n",
    "    def relativeSortArray(self, arr1: List[int], arr2: List[int]) -> List[int]:\n",
    "        M={v:i for i,v in enumerate(arr2)}\n",
    "        A=[(M.get(arr1[i],float('inf')),v) for i,v in enumerate(arr1)]\n",
    "        A.sort(key=lambda x:(x[0],x[1]))\n",
    "        ans=[]\n",
    "        for i in A:ans.append(i[1])\n",
    "        return ans"
   ]
  },
  {
   "cell_type": "markdown",
   "id": "723e13af",
   "metadata": {},
   "source": [
    "## Q.4"
   ]
  },
  {
   "cell_type": "markdown",
   "id": "12d75d5c",
   "metadata": {},
   "source": [
    "###  Subarray with 0 sum\n",
    "\n",
    "Given an array of integers. Find if there is a subarray (of size at-least one) with 0 sum. You just need to return true/false depending upon whether there is a subarray present with 0-sum or not."
   ]
  },
  {
   "cell_type": "markdown",
   "id": "1d536136",
   "metadata": {},
   "source": [
    "- [GeeksforGeeks](https://leetcode.com/problems/relative-sort-array/description/)"
   ]
  },
  {
   "cell_type": "markdown",
   "id": "87831364",
   "metadata": {},
   "source": [
    "## Intuition"
   ]
  },
  {
   "cell_type": "markdown",
   "id": "5260b1b0",
   "metadata": {},
   "source": [
    "- Sum of sequence is 0 if it is 0 or the sum is encountered before and is already in map."
   ]
  },
  {
   "cell_type": "markdown",
   "id": "1044a54a",
   "metadata": {},
   "source": [
    "## Solution"
   ]
  },
  {
   "cell_type": "code",
   "execution_count": 5,
   "id": "c3e0ee02",
   "metadata": {},
   "outputs": [],
   "source": [
    "class Solution:\n",
    "    # @param A : list of integers\n",
    "    # @return an integer\n",
    "    def subArrayExists(self, A,n):\n",
    "        M,s={},0\n",
    "        for i in A:\n",
    "            s+=i\n",
    "            if s==0:return True\n",
    "            if s in M:return True\n",
    "            M[s]=True\n",
    "        return False"
   ]
  },
  {
   "cell_type": "markdown",
   "id": "bff4bd73",
   "metadata": {},
   "source": [
    "## Q.5"
   ]
  },
  {
   "cell_type": "markdown",
   "id": "47b41b40",
   "metadata": {},
   "source": [
    "###  Count subarrays with 0 sum\n",
    "\n",
    "You are given ‘N’ integers in the form of an array ‘ARR’. Count the number of subarrays having their sum as 0.\n",
    "For example :\n",
    "Let ‘ARR’ be: [1, 4, -5]\n",
    "The subarray [1, 4, -5] has a sum equal to 0. So the count is 1."
   ]
  },
  {
   "cell_type": "markdown",
   "id": "9eb37c6c",
   "metadata": {},
   "source": [
    "- [Coding Ninjas](https://www.naukri.com/code360/problems/subarrays-with-zero-sum_3161876)"
   ]
  },
  {
   "cell_type": "markdown",
   "id": "3ec3f0e8",
   "metadata": {},
   "source": [
    "## Intuition"
   ]
  },
  {
   "cell_type": "markdown",
   "id": "e32e47ee",
   "metadata": {},
   "source": [
    "- Sum of sequence is 0 if it is 0 or the sum is encountered before and is already in map.\n",
    "- This time also store the frequencies in the map."
   ]
  },
  {
   "cell_type": "markdown",
   "id": "119ab698",
   "metadata": {},
   "source": [
    "## Solution"
   ]
  },
  {
   "cell_type": "code",
   "execution_count": 5,
   "id": "4d3de3f9",
   "metadata": {},
   "outputs": [],
   "source": [
    "def countSubarrays(n: int, arr: List[int]) -> int:\n",
    "    M,s,ans=defaultdict(int),0,0\n",
    "    for i in arr:\n",
    "        s+=i\n",
    "        if s==0:ans+=1\n",
    "        if s in M:ans+=M[s]\n",
    "        M[s]+=1\n",
    "    return ans"
   ]
  },
  {
   "cell_type": "markdown",
   "id": "065ad85c",
   "metadata": {},
   "source": [
    "## Q.6"
   ]
  },
  {
   "cell_type": "markdown",
   "id": "1fd48f2d",
   "metadata": {},
   "source": [
    "###  Largest Continuous Sequence Zero Sum\n",
    "\n",
    "Given an array A of N integers.\n",
    "Find the largest continuous sequence in a array which sums to zero."
   ]
  },
  {
   "cell_type": "markdown",
   "id": "49b48993",
   "metadata": {},
   "source": [
    "- [Interviewbit](https://www.interviewbit.com/problems/largest-continuous-sequence-zero-sum/)\n",
    "- [Coding Ninjas](https://www.naukri.com/code360/problems/longest-subarray-with-zero-sum_6783450)"
   ]
  },
  {
   "cell_type": "markdown",
   "id": "5eaae2b3",
   "metadata": {},
   "source": [
    "## Intuition"
   ]
  },
  {
   "cell_type": "markdown",
   "id": "b4c3e6ac",
   "metadata": {},
   "source": [
    "- Sum of sequence is 0 if it is 0 or the sum is encountered before and is already in map.\n",
    "- This time store the indexes in the map and get the subarray accordingly."
   ]
  },
  {
   "cell_type": "markdown",
   "id": "2908e901",
   "metadata": {},
   "source": [
    "## Solution"
   ]
  },
  {
   "cell_type": "code",
   "execution_count": 6,
   "id": "e43a8e58",
   "metadata": {},
   "outputs": [],
   "source": [
    "class Solution:\n",
    "    # @param A : list of integers\n",
    "    # @return a list of integers\n",
    "    def lszero(self, A):\n",
    "        R, M, s, ans = [], {}, 0, 0\n",
    "        for i in range(len(A)):\n",
    "            s += A[i]\n",
    "            if s == 0:\n",
    "                if i + 1 > ans:\n",
    "                    ans = i + 1\n",
    "                    R = A[:i + 1]\n",
    "            if s in M:\n",
    "                if i - M[s] > ans:\n",
    "                    ans = i - M[s]\n",
    "                    R = A[M[s] + 1:i + 1]\n",
    "            else:\n",
    "                M[s] = i\n",
    "        return R"
   ]
  },
  {
   "cell_type": "markdown",
   "id": "4d5be5c5",
   "metadata": {},
   "source": [
    "## Q.7"
   ]
  },
  {
   "cell_type": "markdown",
   "id": "d375a6f6",
   "metadata": {},
   "source": [
    "###  Subarray Sum Equals K\n",
    "\n",
    "Given an array of integers nums and an integer k, return the total number of subarrays whose sum equals to k.\n",
    "A subarray is a contiguous non-empty sequence of elements within an array."
   ]
  },
  {
   "cell_type": "markdown",
   "id": "5e7c0975",
   "metadata": {},
   "source": [
    "- [LeetCode](https://leetcode.com/problems/subarray-sum-equals-k/description/)"
   ]
  },
  {
   "cell_type": "markdown",
   "id": "8b8de2cf",
   "metadata": {},
   "source": [
    "## Intuition"
   ]
  },
  {
   "cell_type": "markdown",
   "id": "24c4b084",
   "metadata": {},
   "source": [
    "- Same as count subarrays with sum 0 but here it is k not 0."
   ]
  },
  {
   "cell_type": "markdown",
   "id": "4061335b",
   "metadata": {},
   "source": [
    "## Solution"
   ]
  },
  {
   "cell_type": "code",
   "execution_count": 7,
   "id": "5e214a21",
   "metadata": {},
   "outputs": [],
   "source": [
    "from collections import defaultdict\n",
    "from typing import List\n",
    "class Solution:\n",
    "    def subarraySum(self, nums: List[int], k: int) -> int:\n",
    "        M,s,ans=defaultdict(int),0,0\n",
    "        for i in nums:\n",
    "            s+=i\n",
    "            if s==k:ans+=1\n",
    "            if s-k in M:ans+=M[s-k]\n",
    "            M[s]+=1\n",
    "        return ans"
   ]
  },
  {
   "cell_type": "markdown",
   "id": "e3beea3a",
   "metadata": {},
   "source": [
    "## Q.8"
   ]
  },
  {
   "cell_type": "markdown",
   "id": "e2541b2c",
   "metadata": {},
   "source": [
    "###  Longest Consecutive Sequence\n",
    "\n",
    "Given an unsorted array of integers nums, return the length of the longest consecutive elements sequence.\n",
    "\n",
    "You must write an algorithm that runs in O(n) time."
   ]
  },
  {
   "cell_type": "markdown",
   "id": "12b9eaaa",
   "metadata": {},
   "source": [
    "- [LeetCode](https://leetcode.com/problems/longest-consecutive-sequence/description/)"
   ]
  },
  {
   "cell_type": "markdown",
   "id": "aeabb19f",
   "metadata": {},
   "source": [
    "## Intuition"
   ]
  },
  {
   "cell_type": "markdown",
   "id": "9afde95e",
   "metadata": {},
   "source": [
    "- Store all elements in a set.\n",
    "- Iterate over array if element-1 is not present in set then its the starting point.\n",
    "- Loop and get the length of the consecutive sequence."
   ]
  },
  {
   "cell_type": "markdown",
   "id": "0c0e7d03",
   "metadata": {},
   "source": [
    "## Solution"
   ]
  },
  {
   "cell_type": "code",
   "execution_count": 6,
   "id": "90a1f81f",
   "metadata": {},
   "outputs": [],
   "source": [
    "class Solution:\n",
    "    def longestConsecutive(self, A):\n",
    "        S, ans = set(A), 0\n",
    "        for i in A:\n",
    "            if i - 1 not in S:\n",
    "                cnt = 0\n",
    "                while i in S:\n",
    "                    i += 1\n",
    "                    cnt += 1\n",
    "                ans = max(cnt, ans)\n",
    "        return ans"
   ]
  },
  {
   "cell_type": "markdown",
   "id": "ef2c8d87",
   "metadata": {},
   "source": [
    "## Q.9"
   ]
  },
  {
   "cell_type": "markdown",
   "id": "2050216e",
   "metadata": {},
   "source": [
    "###  Distinct Numbers in Window\n",
    "\n",
    "You are given an array of N integers, A1, A2 ,..., AN and an integer B. Return the of count of distinct numbers in all windows of size B.\n",
    "\n",
    "Formally, return an array of size N-B+1 where i'th element in this array contains number of distinct elements in sequence Ai, Ai+1 ,..., Ai+B-1.\n",
    "\n",
    "NOTE:  if B > N, return an empty array."
   ]
  },
  {
   "cell_type": "markdown",
   "id": "4867ddb6",
   "metadata": {},
   "source": [
    "- [Interviewbit](https://www.interviewbit.com/problems/distinct-numbers-in-window/)"
   ]
  },
  {
   "cell_type": "markdown",
   "id": "c1a9afe9",
   "metadata": {},
   "source": [
    "## Intuition"
   ]
  },
  {
   "cell_type": "markdown",
   "id": "7f6925ec",
   "metadata": {},
   "source": [
    "- apply sliding window on a map storing the frequencies of occurences."
   ]
  },
  {
   "cell_type": "markdown",
   "id": "21f090ee",
   "metadata": {},
   "source": [
    "## Solution"
   ]
  },
  {
   "cell_type": "code",
   "execution_count": 8,
   "id": "2c416be9",
   "metadata": {},
   "outputs": [],
   "source": [
    "from collections import defaultdict\n",
    "class Solution:\n",
    "    def dNums(self, A, B):\n",
    "        M, ans, k = defaultdict(int), [], 0\n",
    "        for i in range(len(A)):\n",
    "            M[A[i]] += 1\n",
    "            if i >= B - 1:\n",
    "                ans.append(len(M))\n",
    "                M[A[k]] -= 1\n",
    "                if M[A[k]] == 0:\n",
    "                    del M[A[k]]\n",
    "                k += 1\n",
    "        return ans"
   ]
  },
  {
   "cell_type": "markdown",
   "id": "6bd460ff",
   "metadata": {},
   "source": [
    "## Coding Ninjas Problem of the Day"
   ]
  },
  {
   "cell_type": "markdown",
   "id": "66f42200",
   "metadata": {},
   "source": [
    "## [Easy](https://www.naukri.com/code360/problems/most-cost-efficient-car_983602)"
   ]
  },
  {
   "cell_type": "code",
   "execution_count": 9,
   "id": "e4d55036",
   "metadata": {},
   "outputs": [],
   "source": [
    "'''\n",
    "    --------------------------- Car class for reference ---------------------------\n",
    "\n",
    "    class Car:\n",
    "        def __init__(self,priceOfCar,maintenanceCostPerMonth,numberOfkilemeterCarRunInOneLiter,pricePerLiter,numberOfKilometerCarRunInaMonth):\n",
    "            self.priceOfCar=priceOfCar\n",
    "            self.maintenanceCostPerMonth=maintenanceCostPerMonth\n",
    "            self.numberOfkilemeterCarRunInOneLiter=numberOfkilemeterCarRunInOneLiter\n",
    "            self.pricePerLiter=pricePerLiter\n",
    "            self.numberOfKilometerCarRunInaMonth=numberOfKilometerCarRunInaMonth\n",
    "'''\n",
    "\n",
    "def mostCostEfficientCar(petrolCar, dieselCar):\n",
    "    p=petrolCar.priceOfCar+(petrolCar.maintenanceCostPerMonth*6)\n",
    "    q=(petrolCar.pricePerLiter/petrolCar.numberOfkilemeterCarRunInOneLiter)*petrolCar.numberOfKilometerCarRunInaMonth*6\n",
    "    ans=p+q\n",
    "    r=dieselCar.priceOfCar+(dieselCar.maintenanceCostPerMonth*6)\n",
    "    s=(dieselCar.pricePerLiter/dieselCar.numberOfkilemeterCarRunInOneLiter)*dieselCar.numberOfKilometerCarRunInaMonth*6\n",
    "    ans2=r+s\n",
    "    if ans>ans2:return 1\n",
    "    if ans<ans2:return 0\n",
    "    return -1"
   ]
  },
  {
   "cell_type": "markdown",
   "id": "b8494e61",
   "metadata": {},
   "source": [
    "## [Moderate](https://www.naukri.com/code360/problems/count-of-3s_1229406)"
   ]
  },
  {
   "cell_type": "code",
   "execution_count": null,
   "id": "f751f333",
   "metadata": {},
   "outputs": [],
   "source": [
    "def countOf3(x):\n",
    "    ans=0\n",
    "    for i in range(x+1):\n",
    "        t=i\n",
    "        while t:\n",
    "            if t%10==3:ans+=1\n",
    "            t=t//10\n",
    "    return ans"
   ]
  },
  {
   "cell_type": "markdown",
   "id": "e5fc51cc",
   "metadata": {},
   "source": [
    "## [Hard](https://www.naukri.com/code360/problems/help-ninja-to-cross-river_1235196)"
   ]
  },
  {
   "cell_type": "code",
   "execution_count": 10,
   "id": "3348ef19",
   "metadata": {},
   "outputs": [],
   "source": [
    "def crossRiver(safe):\n",
    "    if safe[0] + 1 != safe[1]:\n",
    "        return False\n",
    "    S, n = set(safe), len(safe)\n",
    "    M = {}\n",
    "\n",
    "    def Rec(i, j):\n",
    "        if i == safe[-1]:\n",
    "            return True\n",
    "        if (i, j) in M:\n",
    "            return M[(i, j)]\n",
    "        p, q, r = False, False, False\n",
    "        if i + j in S:\n",
    "            p = Rec(i + j, j)\n",
    "        if i + j + 1 in S:\n",
    "            q = Rec(i + j + 1, j + 1)\n",
    "        if i + j - 1 in S and (i + j - 1 != i):\n",
    "            r = Rec(i + j - 1, j - 1)\n",
    "        M[(i, j)] = p or q or r\n",
    "        return M[(i, j)]\n",
    "\n",
    "    return Rec(safe[1], 1)"
   ]
  },
  {
   "cell_type": "code",
   "execution_count": null,
   "id": "4cf838bb",
   "metadata": {},
   "outputs": [],
   "source": []
  }
 ],
 "metadata": {
  "kernelspec": {
   "display_name": "Python 3 (ipykernel)",
   "language": "python",
   "name": "python3"
  },
  "language_info": {
   "codemirror_mode": {
    "name": "ipython",
    "version": 3
   },
   "file_extension": ".py",
   "mimetype": "text/x-python",
   "name": "python",
   "nbconvert_exporter": "python",
   "pygments_lexer": "ipython3",
   "version": "3.11.5"
  }
 },
 "nbformat": 4,
 "nbformat_minor": 5
}
