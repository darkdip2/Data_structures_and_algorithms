{
 "cells": [
  {
   "cell_type": "markdown",
   "id": "e640218a",
   "metadata": {},
   "source": [
    "## Q.1"
   ]
  },
  {
   "cell_type": "markdown",
   "id": "90e9f2bd",
   "metadata": {},
   "source": [
    "### Median of Two Sorted Arrays\n",
    "\n",
    "Given two sorted arrays nums1 and nums2 of size m and n respectively, return the median of the two sorted arrays.\n",
    "The overall run time complexity should be O(log (m+n))."
   ]
  },
  {
   "cell_type": "markdown",
   "id": "700db869",
   "metadata": {},
   "source": [
    "- [LeetCode](https://leetcode.com/problems/median-of-two-sorted-arrays/)\n",
    "- [Coding Ninjas](https://www.codingninjas.com/studio/problems/median-of-two-sorted-arrays_985294)\n",
    "- [InterviewBit](https://search.brave.com/search?q=median+of+two+sorted+Arrays+interviewbit&source=web)"
   ]
  },
  {
   "cell_type": "markdown",
   "id": "6d600b98",
   "metadata": {},
   "source": [
    "## [Article](https://www.geeksforgeeks.org/median-of-two-sorted-arrays-of-different-sizes/)"
   ]
  },
  {
   "cell_type": "markdown",
   "id": "4c40e6b5",
   "metadata": {},
   "source": [
    "## Solution"
   ]
  },
  {
   "cell_type": "code",
   "execution_count": null,
   "id": "008aaedf",
   "metadata": {},
   "outputs": [],
   "source": [
    "class Solution:\n",
    "    def findMedianSortedArrays(self, nums1: List[int], nums2: List[int]) -> float:\n",
    "        n1,n2=len(nums1),len(nums2)\n",
    "        if n1>n2:return self.findMedianSortedArrays(nums2,nums1)\n",
    "        n,left,low,high=n1+n2,(n1+n2+1)//2,0,n1\n",
    "        while low<=high:\n",
    "            mid1=(low+high)//2\n",
    "            mid2=left-mid1\n",
    "            l1,l2,r1,r2=float('-inf'),float('-inf'),float('inf'),float('inf')\n",
    "            if mid1<n1:r1=nums1[mid1]\n",
    "            if mid2<n2:r2=nums2[mid2]\n",
    "            if mid1-1>=0:l1=nums1[mid1-1]\n",
    "            if mid2-1>=0:l2=nums2[mid2-1]\n",
    "            if l1<=r2 and l2<=r1:\n",
    "                if n%2:return max(l1,l2)\n",
    "                else: return (max(l1,l2)+min(r1,r2))/2\n",
    "            elif l1>r2:high=mid1-1\n",
    "            else: low=mid1+1\n",
    "        return 0"
   ]
  },
  {
   "cell_type": "markdown",
   "id": "3d6da544",
   "metadata": {},
   "source": [
    "## Q.2"
   ]
  },
  {
   "cell_type": "markdown",
   "id": "213e2481",
   "metadata": {},
   "source": [
    "### Find Peak Element\n",
    "\n",
    "A peak element is an element that is strictly greater than its neighbors.\n",
    "\n",
    "Given a 0-indexed integer array nums, find a peak element, and return its index. If the array contains multiple peaks, return the index to any of the peaks.\n",
    "\n",
    "You may imagine that nums[-1] = nums[n] = -∞. In other words, an element is always considered to be strictly greater than a neighbor that is outside the array.\n",
    "\n",
    "You must write an algorithm that runs in O(log n) time."
   ]
  },
  {
   "cell_type": "markdown",
   "id": "87b15e2a",
   "metadata": {},
   "source": [
    "- [LeetCode](https://leetcode.com/problems/find-peak-element/)\n",
    "- [Coding Ninjas](https://www.codingninjas.com/studio/problems/find-peak-element_1081482)\n",
    "- [InterviewBit](https://www.interviewbit.com/problems/find-a-peak-element/)"
   ]
  },
  {
   "cell_type": "markdown",
   "id": "2ae4b796",
   "metadata": {},
   "source": [
    "## Intuition"
   ]
  },
  {
   "cell_type": "markdown",
   "id": "71b5ea49",
   "metadata": {},
   "source": [
    "- Apply binary search by checking if the adjacent elements are smaller.\n",
    "- if the next element is larger search in right side else left side."
   ]
  },
  {
   "cell_type": "markdown",
   "id": "065b6112",
   "metadata": {},
   "source": [
    "## Solution"
   ]
  },
  {
   "cell_type": "code",
   "execution_count": 2,
   "id": "fb0a6e59",
   "metadata": {},
   "outputs": [],
   "source": [
    "class Solution:\n",
    "    def findPeakElement(self, arr):\n",
    "        L,r=0,len(arr)-1\n",
    "        while L<=r:\n",
    "            m=(L+r)//2\n",
    "            if (m==0 or arr[m-1]<=arr[m]) and (m==len(arr)-1 or arr[m]>=arr[m+1]):\n",
    "                return m\n",
    "            elif arr[m]<arr[m+1]:\n",
    "                L=m+1\n",
    "            else:\n",
    "                r=m-1\n",
    "        return -1"
   ]
  },
  {
   "cell_type": "markdown",
   "id": "f747ce46",
   "metadata": {},
   "source": [
    "## Q.3"
   ]
  },
  {
   "cell_type": "markdown",
   "id": "fd4e556f",
   "metadata": {},
   "source": [
    "###  Median in a row-wise sorted Matrix\n",
    "\n",
    "You are given a row-wise sorted matrix 'mat' of size m x n where 'm' and 'n' are the numbers of rows and columns of the matrix, respectively.\n",
    "Your task is to find and return the median of the matrix.\n",
    "\n",
    "Note:\n",
    "'m' and 'n' will always be odd."
   ]
  },
  {
   "cell_type": "markdown",
   "id": "0c8cb76e",
   "metadata": {},
   "source": [
    "- [Coding Ninjas](https://www.codingninjas.com/studio/problems/median-of-a-row-wise-sorted-matrix_1115473)\n",
    "- [Interviewbit](https://www.interviewbit.com/problems/matrix-median/)"
   ]
  },
  {
   "cell_type": "markdown",
   "id": "337aa475",
   "metadata": {},
   "source": [
    "## Intuition"
   ]
  },
  {
   "cell_type": "markdown",
   "id": "5a5b79e0",
   "metadata": {},
   "source": [
    "- Create a count function using binary search to find number of elements lesser or equal to mid in each row.\n",
    "- Apply binary search on answer to find (m+n)//2 elements on each side by summing counts for all rows."
   ]
  },
  {
   "cell_type": "markdown",
   "id": "7b404a12",
   "metadata": {},
   "source": [
    "## Solution"
   ]
  },
  {
   "cell_type": "code",
   "execution_count": 4,
   "id": "530ded1e",
   "metadata": {},
   "outputs": [],
   "source": [
    "def median(matrix: [[int]], m: int, n: int) -> int:\n",
    "    def Count(row, mid):\n",
    "        left, right = 0, len(row) - 1\n",
    "        while left <= right:\n",
    "            mid_idx = left + (right - left) // 2\n",
    "            if row[mid_idx] <= mid:\n",
    "                left = mid_idx + 1\n",
    "            else:\n",
    "                right = mid_idx - 1\n",
    "        return left\n",
    "\n",
    "    L, r = 1, 10**9\n",
    "    while L <= r:\n",
    "        mid = (L + r) // 2\n",
    "        cnt = sum(Count(row, mid) for row in matrix)\n",
    "        if cnt <= (m * n) // 2:\n",
    "            L = mid + 1\n",
    "        else:\n",
    "            r = mid - 1\n",
    "    return L"
   ]
  },
  {
   "cell_type": "markdown",
   "id": "fe5c991f",
   "metadata": {},
   "source": [
    "## Wetzls"
   ]
  },
  {
   "cell_type": "code",
   "execution_count": 1,
   "id": "0a6959f0",
   "metadata": {},
   "outputs": [],
   "source": [
    "from typing import List\n",
    "import math\n",
    "import random\n",
    "from copy import deepcopy\n",
    "\n",
    "\n",
    "def distance(x1: float, y1: float, x2: float, y2: float) -> float:\n",
    "    ans = math.sqrt(((x2 - x1) * (x2 - x1)) + ((y2 - y1) * (y2 - y1)))\n",
    "    return ans\n",
    "\n",
    "\n",
    "def circleFrom3Pts(aX: float, aY: float, bX: float, bY: float, cX: float, cY: float) -> List[float]:\n",
    "    baX = bX - aX\n",
    "    baY = bY - aY\n",
    "    caX = cX - aX\n",
    "    caY = cY - aY\n",
    "    x = (baX * baX) + (baY * baY)\n",
    "    y = (caX * caX) + (caY * caY)\n",
    "    z = (baX * caY) - (baY * caX)\n",
    "    xCoord = ((caY * x) - (baY * y)) / (2 * z) + aX\n",
    "    yCoord = ((baX * y) - (caX * x)) / (2 * z) + aY\n",
    "    radius = distance(xCoord, yCoord, aX, aY)\n",
    "    return [xCoord, yCoord, radius]\n",
    "\n",
    "\n",
    "def findCircle(b: List[List[float]]) -> List[float]:\n",
    "    if len(b) == 0:\n",
    "        return [0.0, 0.0, 0.0]\n",
    "    elif len(b) == 1:\n",
    "        return [b[0][0], b[0][1], 0.0]\n",
    "    elif len(b) == 2:\n",
    "        xCoord = (b[0][0] + b[1][0]) / 2\n",
    "        yCoord = (b[0][1] + b[1][1]) / 2\n",
    "        radius = distance(b[0][0], b[0][1], b[1][0], b[1][1]) / 2\n",
    "        return [xCoord, yCoord, radius]\n",
    "    else:\n",
    "        return circleFrom3Pts(b[0][0], b[0][1], b[1][0], b[1][1], b[2][0], b[2][1])\n",
    "\n",
    "\n",
    "def smallestEnclosingCircle(i: int, bPts: List[List[float]], trees: List[List[int]]) -> List[int]:\n",
    "    boundaryPts = deepcopy(bPts)\n",
    "    if i == -1 or len(boundaryPts) == 3:\n",
    "        return findCircle(boundaryPts)\n",
    "    circle = smallestEnclosingCircle(i - 1, boundaryPts, trees)\n",
    "    curX = (trees[i][0]) * 1.0\n",
    "    curY = (trees[i][1]) * 1.0\n",
    "    distToCenter = distance(curX, curY, circle[0], circle[1])\n",
    "    if distToCenter <= circle[2]:\n",
    "        return circle\n",
    "    boundaryPts.append([curX, curY])\n",
    "    return smallestEnclosingCircle(i - 1, boundaryPts, trees)\n",
    "\n",
    "\n",
    "def gardenFencing(n: int, trees: List[List[float]]) -> List[float]:\n",
    "    boundaryPts = []\n",
    "    return smallestEnclosingCircle(n - 1, boundaryPts, trees)"
   ]
  },
  {
   "cell_type": "markdown",
   "id": "6bd460ff",
   "metadata": {},
   "source": [
    "## Coding Ninjas Problem of the Day"
   ]
  },
  {
   "cell_type": "markdown",
   "id": "66f42200",
   "metadata": {},
   "source": [
    "## [Easy](https://www.codingninjas.com/studio/problems/sort-the-tuples_5558649)\n",
    "### [Python Compiler error]"
   ]
  },
  {
   "cell_type": "code",
   "execution_count": 6,
   "id": "e4d55036",
   "metadata": {},
   "outputs": [],
   "source": [
    "from typing import List\n",
    "def sortTuples(arr : List[List[int]]):\n",
    "    for i, tup in enumerate(arr):\n",
    "        tup.append(i)\n",
    "    \n",
    "    arr.sort(key=lambda x: (x[-2], x[-1]))\n",
    "\n",
    "    for tup in arr:\n",
    "        tup.pop()"
   ]
  },
  {
   "cell_type": "markdown",
   "id": "b8494e61",
   "metadata": {},
   "source": [
    "## [Moderate]()"
   ]
  },
  {
   "cell_type": "code",
   "execution_count": null,
   "id": "f751f333",
   "metadata": {},
   "outputs": [],
   "source": [
    "from queue import Queue\n",
    "\n",
    "class BoundedBlockingQueue:\n",
    "\n",
    "    def __init__(self, capacity):\n",
    "        self.q = Queue()\n",
    "        self.push = Queue()\n",
    "        self.pop = 0\n",
    "        self.cap = capacity\n",
    "        self.curr = 0\n",
    "\n",
    "    def Enqueue(self, val):\n",
    "        if self.curr < self.cap:\n",
    "            self.q.put(val)\n",
    "            self.curr += 1\n",
    "        else:\n",
    "            self.push.put(val)\n",
    "\n",
    "        if self.pop > 0:\n",
    "            self.handle()\n",
    "\n",
    "    def handle(self):\n",
    "        front = self.q.get()\n",
    "        self.curr -= 1\n",
    "        self.pop -= 1\n",
    "        print(front, end=' ')\n",
    "\n",
    "    def Dequeue(self):\n",
    "        if self.curr == 0:\n",
    "            self.pop += 1\n",
    "            return -1\n",
    "\n",
    "        front = self.q.get()\n",
    "        self.curr -= 1\n",
    "\n",
    "        if not self.push.empty():\n",
    "            ele = self.push.get()\n",
    "            self.Enqueue(ele)\n",
    "\n",
    "        return front\n",
    "\n",
    "    def size(self):\n",
    "        return self.curr"
   ]
  },
  {
   "cell_type": "markdown",
   "id": "e5fc51cc",
   "metadata": {},
   "source": [
    "## [Hard](https://www.codingninjas.com/studio/problems/cut-logs_982770)"
   ]
  },
  {
   "cell_type": "code",
   "execution_count": 7,
   "id": "3348ef19",
   "metadata": {},
   "outputs": [],
   "source": [
    "def cutLogs(k, n):\n",
    "    T=[[-1]*(n+1) for i in range(k+1)]\n",
    "    def Memo(e,f):\n",
    "        if f<=1 or e==1:return f  \n",
    "        if T[e][f]!=-1:return T[e][f]\n",
    "        ans=float('inf')\n",
    "        start,end=1,f\n",
    "        while start<=end:\n",
    "            mid=(start+end)//2\n",
    "            Break=Memo(e-1,mid-1)\n",
    "            Survive=Memo(e,f-mid)\n",
    "            ans=min(ans,1+max(Survive,Break))\n",
    "            if Break<Survive:start=mid+1\n",
    "            else:end=mid-1\n",
    "        T[e][f]=ans\n",
    "        return ans\n",
    "    return Memo(k,n)"
   ]
  },
  {
   "cell_type": "code",
   "execution_count": null,
   "id": "ee570e7f",
   "metadata": {},
   "outputs": [],
   "source": []
  }
 ],
 "metadata": {
  "kernelspec": {
   "display_name": "Python 3 (ipykernel)",
   "language": "python",
   "name": "python3"
  },
  "language_info": {
   "codemirror_mode": {
    "name": "ipython",
    "version": 3
   },
   "file_extension": ".py",
   "mimetype": "text/x-python",
   "name": "python",
   "nbconvert_exporter": "python",
   "pygments_lexer": "ipython3",
   "version": "3.11.5"
  }
 },
 "nbformat": 4,
 "nbformat_minor": 5
}
