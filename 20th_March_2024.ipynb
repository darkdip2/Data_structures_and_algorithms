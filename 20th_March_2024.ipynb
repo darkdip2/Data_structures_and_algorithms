{
 "cells": [
  {
   "cell_type": "markdown",
   "id": "5951a0f5",
   "metadata": {},
   "source": [
    "## Q.1"
   ]
  },
  {
   "cell_type": "markdown",
   "id": "0d121116",
   "metadata": {},
   "source": [
    "### Equal Candies\n",
    "\n",
    "On Christmas Eve, all people at Coding Ninjas are given some candies, but due to some error, all people do not get the same number of candies.\n",
    "\n",
    "You are given an array of size ‘N’ that represents the number of candies given to ‘N’ people. You have to divide candies among all people such that each person receives the same number of candies. For this, you can either increase or decrease the number of candies for any person by any amount. \n",
    "\n",
    "Your task is to minimize the total increase/decrease for each person, i.e., if you increase or decrease ‘Xi’ number of candies for the person ‘i’ (1 <= ‘i’ <= ‘N’), then the sum of all ‘Xi’ should be minimum."
   ]
  },
  {
   "cell_type": "markdown",
   "id": "b1fc4bf4",
   "metadata": {},
   "source": [
    "- [Coding Ninjas](https://www.codingninjas.com/studio/problems/equal-candies_1467692)"
   ]
  },
  {
   "cell_type": "markdown",
   "id": "e8353cc2",
   "metadata": {},
   "source": [
    "## Intuition"
   ]
  },
  {
   "cell_type": "markdown",
   "id": "58174d28",
   "metadata": {},
   "source": [
    "- Sort the array in ascending order.\n",
    "- Find the median and then add the absolute differences."
   ]
  },
  {
   "cell_type": "markdown",
   "id": "1d39cbe3",
   "metadata": {},
   "source": [
    "## Solution"
   ]
  },
  {
   "cell_type": "code",
   "execution_count": null,
   "id": "a057de62",
   "metadata": {},
   "outputs": [],
   "source": [
    "def equalCandies(candies, n):\n",
    "    candies.sort()\n",
    "    median=(candies[n//2-1]+candies[n//2])//2\n",
    "    if n % 2:\n",
    "        median = candies[n // 2]\n",
    "    ans = 0\n",
    "    for i in candies:\n",
    "        ans += abs(i - median)\n",
    "    return ans"
   ]
  },
  {
   "cell_type": "markdown",
   "id": "e05844f4",
   "metadata": {},
   "source": [
    "## Q.2"
   ]
  },
  {
   "cell_type": "markdown",
   "id": "b573a2a8",
   "metadata": {},
   "source": [
    "### Count Strongly Connected Components (Kosaraju’s Algorithm)\n",
    "\n",
    "You are given an unweighted directed graph having 'V' vertices and 'E' edges. Your task is to count the number of strongly connected components (SCCs) present in the graph.\n",
    "\n",
    "**Definition of Strongly Connected Component (SCC):**\n",
    "A directed graph is said to be strongly connected if every vertex is reachable from every other vertex. The strongly connected components of a graph are the subgraphs which are themselves strongly connected.\n",
    "\n",
    "**Constraints:**\n",
    "- Use zero-based indexing for the vertices.\n",
    "- The given graph doesn’t contain any self-loops.\n",
    "\n",
    "**Input:**\n",
    "- V: Number of vertices in the graph (0-indexed).\n",
    "- E: Number of edges in the graph.\n",
    "- Edges: List of directed edges represented as pairs of vertices.\n",
    "\n",
    "**Output:**\n",
    "- Count of strongly connected components in the graph."
   ]
  },
  {
   "cell_type": "markdown",
   "id": "067fbf3a",
   "metadata": {},
   "source": [
    "- [Coding Ninjas](https://www.codingninjas.com/studio/problems/count-strongly-connected-components-kosaraju-s-algorithm_1171151)"
   ]
  },
  {
   "cell_type": "markdown",
   "id": "7ccd936b",
   "metadata": {},
   "source": [
    "## Intuition"
   ]
  },
  {
   "cell_type": "markdown",
   "id": "b467e3c0",
   "metadata": {},
   "source": [
    "- In the first Dfs traversal store the vertices visited in a stack. So the last one will be on top.\n",
    "- In the second Dfs traversal use transpose adjacency list and visit the previously stored vertices in order.\n",
    "- If a vertex is not visited it is starting of a new SCC.\n",
    "- First Dfs is required to get the order.\n",
    "- Reversing the adjacency list doesnot affect the property of SCC."
   ]
  },
  {
   "cell_type": "code",
   "execution_count": null,
   "id": "244a15dd",
   "metadata": {},
   "outputs": [],
   "source": [
    "def stronglyConnectedComponents(v, edges):\n",
    "    A,At=[[] for i in range(v)],[[] for i in range(v)]\n",
    "    for i,j in edges:\n",
    "        A[i].append(j)\n",
    "        At[j].append(i)\n",
    "    def Dfs(i,Adj,V,s):\n",
    "        V[i]=True\n",
    "        for j in Adj[i]:\n",
    "            if not V[j]:\n",
    "                Dfs(j,Adj,V,s)\n",
    "        s.append(i)\n",
    "    V,s=[False]*v,[]\n",
    "    for i in range(v):\n",
    "        if not V[i]:\n",
    "            Dfs(i,A,V,s)\n",
    "    V=[False]*v\n",
    "    cnt=0\n",
    "    while s:\n",
    "        T=s.pop()\n",
    "        if not V[T]:\n",
    "            cnt+=1\n",
    "            Dfs(T,At,V,[])#Can get the SCC s by passing an array\n",
    "    return cnt"
   ]
  },
  {
   "cell_type": "markdown",
   "id": "b6a3f0d4",
   "metadata": {},
   "source": [
    "## Problem of the Day Coding Ninjas"
   ]
  },
  {
   "cell_type": "markdown",
   "id": "1e48880a",
   "metadata": {},
   "source": [
    "## [Easy](https://www.codingninjas.com/studio/problems/product-of-the-last-k-numbers_1232651?leftPanelTabValue=PROBLEM)\n",
    "\n",
    "#### [Python comnpiler fault]"
   ]
  },
  {
   "cell_type": "code",
   "execution_count": null,
   "id": "baf0a7fc",
   "metadata": {},
   "outputs": [],
   "source": [
    "def solve(q,  queries):\n",
    "    P=[]\n",
    "    A=[]\n",
    "    for i,j in queries:\n",
    "        if i==0:\n",
    "            P.append(j)\n",
    "        else:\n",
    "            x=1\n",
    "            for k in range(-1,-j-1,-1):\n",
    "                x*=P[k]\n",
    "            A.append(x)\n",
    "    return A"
   ]
  },
  {
   "cell_type": "markdown",
   "id": "605afa6d",
   "metadata": {},
   "source": [
    "## [Moderate](https://www.codingninjas.com/studio/problems/next-greater-element-i_3651446)"
   ]
  },
  {
   "cell_type": "code",
   "execution_count": 4,
   "id": "a50752d5",
   "metadata": {},
   "outputs": [],
   "source": [
    "##\n",
    "def nextGreaterElement(n,A,m,B):\n",
    "    nextGreater = {}\n",
    "    stack = []\n",
    "    for num in B:\n",
    "        while stack and stack[-1] < num:\n",
    "            nextGreater[stack.pop()] = num\n",
    "        stack.append(num)\n",
    "    ans = [nextGreater.get(num, -1) for num in A]\n",
    "    return ans"
   ]
  },
  {
   "cell_type": "markdown",
   "id": "62af4d6a",
   "metadata": {},
   "source": [
    "## [Hard](https://www.codingninjas.com/studio/problems/mixtures_975356)"
   ]
  },
  {
   "cell_type": "code",
   "execution_count": 1,
   "id": "d7682f2b",
   "metadata": {},
   "outputs": [],
   "source": [
    "#\n",
    "def minimiseSmoke(color, n):\n",
    "    dp = [[-1] * 105 for _ in range(105)]\n",
    "\n",
    "    def solve(i, j):\n",
    "        if i > j:\n",
    "            return 10000000\n",
    "        if i == j:\n",
    "            return 0\n",
    "        if i + 1 == j:\n",
    "            return color[i] * color[j]\n",
    "        if dp[i][j] != -1:\n",
    "            return dp[i][j]\n",
    "        ans = float('inf')\n",
    "        sm = sum(color[i:j+1])\n",
    "        curr_sum = 0\n",
    "        for k in range(i, j):\n",
    "            curr_sum += color[k]\n",
    "            temp = (sm - curr_sum) % 100\n",
    "            temp2 = curr_sum % 100\n",
    "            ans = min(ans, temp * temp2 + solve(i, k) + solve(k + 1, j))\n",
    "        dp[i][j] = ans\n",
    "        return ans\n",
    "    \n",
    "    return solve(0, n - 1)"
   ]
  },
  {
   "cell_type": "code",
   "execution_count": null,
   "id": "ba40210d",
   "metadata": {},
   "outputs": [],
   "source": []
  }
 ],
 "metadata": {
  "kernelspec": {
   "display_name": "Python 3 (ipykernel)",
   "language": "python",
   "name": "python3"
  },
  "language_info": {
   "codemirror_mode": {
    "name": "ipython",
    "version": 3
   },
   "file_extension": ".py",
   "mimetype": "text/x-python",
   "name": "python",
   "nbconvert_exporter": "python",
   "pygments_lexer": "ipython3",
   "version": "3.11.5"
  }
 },
 "nbformat": 4,
 "nbformat_minor": 5
}
