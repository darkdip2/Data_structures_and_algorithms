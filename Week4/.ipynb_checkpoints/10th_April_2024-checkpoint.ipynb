{
 "cells": [
  {
   "cell_type": "markdown",
   "id": "d2ffff82",
   "metadata": {},
   "source": [
    "## Q.1"
   ]
  },
  {
   "cell_type": "markdown",
   "id": "2be451c7",
   "metadata": {},
   "source": [
    "### Two Sum IV - Input is a BST\n",
    "\n",
    "Given the root of a binary search tree and an integer k, return true if there exist two elements in the BST such that their sum is equal to k, or false otherwise."
   ]
  },
  {
   "cell_type": "markdown",
   "id": "b463c5ca",
   "metadata": {},
   "source": [
    "- [LeetCode](https://leetcode.com/problems/diameter-of-binary-tree/)\n",
    "- [Interviewbit](https://www.interviewbit.com/problems/2sum-binary-tree/)"
   ]
  },
  {
   "cell_type": "markdown",
   "id": "c04699b3",
   "metadata": {},
   "source": [
    "## Intuition"
   ]
  },
  {
   "cell_type": "markdown",
   "id": "ff548fba",
   "metadata": {},
   "source": [
    "- Use Inorder traversal in BST to get a sorted array.\n",
    "- Use two pointer two sum approach."
   ]
  },
  {
   "cell_type": "markdown",
   "id": "b35c0d8a",
   "metadata": {},
   "source": [
    "## Solution"
   ]
  },
  {
   "cell_type": "code",
   "execution_count": 2,
   "id": "54651483",
   "metadata": {},
   "outputs": [],
   "source": [
    "class Solution:\n",
    "    # @param A : root node of tree\n",
    "    # @param B : integer\n",
    "    # @return an integer\n",
    "    def findTarget(self, A, B):\n",
    "        S = []\n",
    "        def Rec(r):\n",
    "            if not r:\n",
    "                return\n",
    "            Rec(r.left)\n",
    "            S.append(r.val)\n",
    "            Rec(r.right)\n",
    "        Rec(A)\n",
    "        L, r = 0, len(S) - 1\n",
    "        while L < r:\n",
    "            if S[L] + S[r] == B:\n",
    "                return 1\n",
    "            elif S[L] + S[r] < B:\n",
    "                L += 1\n",
    "            else:\n",
    "                r -= 1\n",
    "        return 0"
   ]
  },
  {
   "cell_type": "markdown",
   "id": "5139132e",
   "metadata": {},
   "source": [
    "## Q.2"
   ]
  },
  {
   "cell_type": "markdown",
   "id": "c8e5f076",
   "metadata": {},
   "source": [
    "### Range Sum of BST\n",
    "\n",
    "Given the root node of a binary search tree and two integers low and high, return the sum of values of all nodes with a value in the inclusive range [low, high]."
   ]
  },
  {
   "cell_type": "markdown",
   "id": "36a9d119",
   "metadata": {},
   "source": [
    "- [LeetCode](https://leetcode.com/problems/range-sum-of-bst/description/)"
   ]
  },
  {
   "cell_type": "markdown",
   "id": "a30e8bdd",
   "metadata": {},
   "source": [
    "## Intuition"
   ]
  },
  {
   "cell_type": "markdown",
   "id": "33a0128d",
   "metadata": {},
   "source": [
    "- Perform traversal and add to sum if value of node lies within range."
   ]
  },
  {
   "cell_type": "markdown",
   "id": "6e1722c3",
   "metadata": {},
   "source": [
    "## Solution"
   ]
  },
  {
   "cell_type": "code",
   "execution_count": 3,
   "id": "04722852",
   "metadata": {},
   "outputs": [],
   "source": [
    "class Solution:\n",
    "    # @param A : root node of tree [Root]\n",
    "    # @param B : integer [Low]\n",
    "    # @param C : integer [High]\n",
    "    # @return an integer\n",
    "    def rangeSumBST(self, A, B, C):\n",
    "        sumval=0\n",
    "        def Rec(r):\n",
    "            nonlocal sumval\n",
    "            if not r:return\n",
    "            Rec(r.left)\n",
    "            if B<=r.val<=C:sumval+=r.val\n",
    "            Rec(r.right)\n",
    "        Rec(A)\n",
    "        return sumval"
   ]
  },
  {
   "cell_type": "markdown",
   "id": "56e05ee3",
   "metadata": {},
   "source": [
    "## Q.3"
   ]
  },
  {
   "cell_type": "markdown",
   "id": "ff4e1272",
   "metadata": {},
   "source": [
    "### Validate Binary Search Tree\n",
    "\n",
    "Given the root of a binary tree, determine if it is a valid binary search tree (BST).\n",
    "\n",
    "A valid BST is defined as follows:\n",
    "\n",
    "- The left subtree of a node contains only nodes with keys less than the node's key.\n",
    "- The right subtree of a node contains only nodes with keys greater than the node's key.\n",
    "- Both the left and right subtrees must also be binary search trees.\n",
    " "
   ]
  },
  {
   "cell_type": "markdown",
   "id": "616cb7f5",
   "metadata": {},
   "source": [
    "- [LeetCode](https://leetcode.com/problems/validate-binary-search-tree/description/)"
   ]
  },
  {
   "cell_type": "markdown",
   "id": "31d60ab6",
   "metadata": {},
   "source": [
    "## Intuition"
   ]
  },
  {
   "cell_type": "markdown",
   "id": "b6633a26",
   "metadata": {},
   "source": [
    "- Use recursion to check for left and right subtree and also check if current node values lie within min and max.\n",
    "- Update min and max in each step."
   ]
  },
  {
   "cell_type": "markdown",
   "id": "a95e2024",
   "metadata": {},
   "source": [
    "## Solution"
   ]
  },
  {
   "cell_type": "code",
   "execution_count": 1,
   "id": "1d891749",
   "metadata": {},
   "outputs": [],
   "source": [
    "class Solution:\n",
    "    # @param A : root node of tree\n",
    "    # @return an integer\n",
    "    def isValidBST(self, A):\n",
    "        def Check(R, m, M):\n",
    "            if not R:\n",
    "                return True\n",
    "            return Check(R.left, m, R.val) and Check(R.right, R.val, M) and m < R.val < M\n",
    "        return 1 if Check(A, float('-inf'), float('inf')) else 0"
   ]
  },
  {
   "cell_type": "markdown",
   "id": "ebcbbd79",
   "metadata": {},
   "source": [
    "## Q.4"
   ]
  },
  {
   "cell_type": "markdown",
   "id": "2c468554",
   "metadata": {},
   "source": [
    "### Search in a Binary Search Tree\n",
    "\n",
    "You are given the root of a binary search tree (BST) and an integer val.\n",
    "\n",
    "Find the node in the BST that the node's value equals val and return the subtree rooted with that node. If such a node does not exist, return null."
   ]
  },
  {
   "cell_type": "markdown",
   "id": "fbb0bf51",
   "metadata": {},
   "source": [
    "- [LeetCode](https://leetcode.com/problems/search-in-a-binary-search-tree/)"
   ]
  },
  {
   "cell_type": "markdown",
   "id": "531a303b",
   "metadata": {},
   "source": [
    "## Intuition"
   ]
  },
  {
   "cell_type": "markdown",
   "id": "8ed029de",
   "metadata": {},
   "source": [
    "- Use recursion move to left if target lesser else right.\n",
    "- return root if found and return None if root is None."
   ]
  },
  {
   "cell_type": "markdown",
   "id": "138a234a",
   "metadata": {},
   "source": [
    "## Solution"
   ]
  },
  {
   "cell_type": "code",
   "execution_count": 1,
   "id": "10e1e254",
   "metadata": {},
   "outputs": [],
   "source": [
    "class Solution:\n",
    "    # @param A : root node of tree\n",
    "    # @param B : integer\n",
    "    # @return a Treenode\n",
    "    def searchBST(self, A, B):\n",
    "        def Rec(r):\n",
    "            if not r:return None\n",
    "            if r.val==B:return r\n",
    "            elif r.val>B:return Rec(r.left)\n",
    "            else:return Rec(r.right)\n",
    "        return Rec(A)"
   ]
  },
  {
   "cell_type": "markdown",
   "id": "0f7ff744",
   "metadata": {},
   "source": [
    "## Q.5"
   ]
  },
  {
   "cell_type": "markdown",
   "id": "c502eae3",
   "metadata": {},
   "source": [
    "### Delete Node in a BST\n",
    "\n",
    "Given a root node reference of a BST and a key, delete the node with the given key in the BST. Return the root node reference (possibly updated) of the BST.\n",
    "\n",
    "Basically, the deletion can be divided into two stages:\n",
    "\n",
    "- Search for a node to remove.\n",
    "- If the node is found, delete the node."
   ]
  },
  {
   "cell_type": "markdown",
   "id": "b04f47b2",
   "metadata": {},
   "source": [
    "- [LeetCode](https://leetcode.com/problems/delete-node-in-a-bst/description/)"
   ]
  },
  {
   "cell_type": "markdown",
   "id": "1ee6d3ac",
   "metadata": {},
   "source": [
    "## Intuition"
   ]
  },
  {
   "cell_type": "markdown",
   "id": "474d0f86",
   "metadata": {},
   "source": [
    "- Use recursion similar to searching in BST.\n",
    "- Handle 0 child, 1 child and 2 children cases properly after value is found."
   ]
  },
  {
   "cell_type": "markdown",
   "id": "3d5da4b5",
   "metadata": {},
   "source": [
    "## Solution"
   ]
  },
  {
   "cell_type": "code",
   "execution_count": 1,
   "id": "a4e80a7a",
   "metadata": {},
   "outputs": [],
   "source": [
    "class Solution:\n",
    "    # @param A : root node of tree\n",
    "    # @param B : integer\n",
    "    # @return the root node in the tree\n",
    "    def deleteNode(self, A, B):\n",
    "        def Max(r):\n",
    "            while r.right:r=r.right\n",
    "            return r\n",
    "        def Rec(r,B):\n",
    "            if not r:return None\n",
    "            if r.val>B:r.left=Rec(r.left,B)\n",
    "            elif r.val<B:r.right=Rec(r.right,B)\n",
    "            else:\n",
    "                if not r.left and not r.right:return None\n",
    "                elif not r.left:return r.right\n",
    "                elif not r.right:return r.left\n",
    "                else:\n",
    "                    mr=Max(r.left)\n",
    "                    m=mr.val\n",
    "                    r.val=m\n",
    "                    r.left=Rec(r.left,m)\n",
    "                    return r\n",
    "            return r\n",
    "        return Rec(A,B)"
   ]
  },
  {
   "cell_type": "markdown",
   "id": "9dc01770",
   "metadata": {},
   "source": [
    "## Q.6"
   ]
  },
  {
   "cell_type": "markdown",
   "id": "14d673c0",
   "metadata": {},
   "source": [
    "### Convert Sorted Array to Binary Search Tree\n",
    "\n",
    "Given an integer array nums where the elements are sorted in ascending order, convert it to a height-balanced binary search tree."
   ]
  },
  {
   "cell_type": "markdown",
   "id": "aec96ee0",
   "metadata": {},
   "source": [
    "- [LeetCode](https://leetcode.com/problems/convert-sorted-array-to-binary-search-tree/description/)"
   ]
  },
  {
   "cell_type": "markdown",
   "id": "bb61fc6b",
   "metadata": {},
   "source": [
    "## Intuition"
   ]
  },
  {
   "cell_type": "markdown",
   "id": "bc4ae9c7",
   "metadata": {},
   "source": [
    "- Recursively create a root from midpoint of array.\n",
    "- Left half will result to root.left and right half will result to root.right."
   ]
  },
  {
   "cell_type": "markdown",
   "id": "ec838fcf",
   "metadata": {},
   "source": [
    "## Solution"
   ]
  },
  {
   "cell_type": "code",
   "execution_count": 2,
   "id": "cbb64385",
   "metadata": {},
   "outputs": [],
   "source": [
    "class Solution:\n",
    "    # @param A : tuple of integers\n",
    "    # @return the root node in the tree\n",
    "    def sortedArrayToBST(self, A):\n",
    "        def Build(A):\n",
    "            if not A:return None\n",
    "            root=TreeNode(A[len(A)//2])\n",
    "            root.left=Build(A[:len(A)//2])\n",
    "            root.right=Build(A[len(A)//2+1:])\n",
    "            return root\n",
    "        return Build(A)"
   ]
  },
  {
   "cell_type": "markdown",
   "id": "5dff6edd",
   "metadata": {},
   "source": [
    "## Q.7"
   ]
  },
  {
   "cell_type": "markdown",
   "id": "62a467a7",
   "metadata": {},
   "source": [
    "### Size of Largest BST in Binary Tree\n",
    "\n",
    "You have been given a Binary Tree of 'N' nodes, where the nodes have integer values. Your task is to return the size of the largest subtree of the binary tree which is also a BST.\n",
    "\n",
    "A binary search tree (BST) is a binary tree data structure which has the following properties.\n",
    "\n",
    "- The left subtree of a node contains only nodes with data less than the node’s data.\n",
    "- The right subtree of a node contains only nodes with data greater than the node’s data.\n",
    "- Both the left and right subtrees must also be binary search trees."
   ]
  },
  {
   "cell_type": "markdown",
   "id": "f9a574c3",
   "metadata": {},
   "source": [
    "- [Coding Ninjas](https://www.naukri.com/code360/problems/largest-bst-subtree_893103)"
   ]
  },
  {
   "cell_type": "markdown",
   "id": "76dadb62",
   "metadata": {},
   "source": [
    "## Intuition"
   ]
  },
  {
   "cell_type": "markdown",
   "id": "4402ea9a",
   "metadata": {},
   "source": [
    "- Similar to valid BST problem here maintain the min, max, size and valid informations.\n",
    "- Recursively check for left, right as well as check for current nodes."
   ]
  },
  {
   "cell_type": "markdown",
   "id": "8a250552",
   "metadata": {},
   "source": [
    "## Solution"
   ]
  },
  {
   "cell_type": "code",
   "execution_count": 5,
   "id": "01ec4c9e",
   "metadata": {},
   "outputs": [],
   "source": []
  },
  {
   "cell_type": "markdown",
   "id": "6bd460ff",
   "metadata": {},
   "source": [
    "## Coding Ninjas Problem of the Day"
   ]
  },
  {
   "cell_type": "markdown",
   "id": "66f42200",
   "metadata": {},
   "source": [
    "## [Easy](https://www.naukri.com/code360/problems/bundles_985297)"
   ]
  },
  {
   "cell_type": "code",
   "execution_count": 2,
   "id": "e4d55036",
   "metadata": {},
   "outputs": [],
   "source": [
    "def groupsOfK(strList, k):\n",
    "    M={}\n",
    "    for s in strList:\n",
    "        for j in range(len(s)):\n",
    "            pre=s[:j+1]\n",
    "            M[pre]=M.get(pre,0)+1\n",
    "    res=0\n",
    "    for cnt in M.values():\n",
    "        res+=cnt//k\n",
    "    return res"
   ]
  },
  {
   "cell_type": "markdown",
   "id": "b8494e61",
   "metadata": {},
   "source": [
    "## [Moderate](https://www.naukri.com/code360/problems/max-submatrix_1214973)"
   ]
  },
  {
   "cell_type": "code",
   "execution_count": 2,
   "id": "f751f333",
   "metadata": {},
   "outputs": [],
   "source": [
    "def Kadane(a):\n",
    "    B,s=float('-inf'),0\n",
    "    for i in a:\n",
    "        s+=i\n",
    "        B=max(s,B)\n",
    "        if s<0:s=0\n",
    "    return B\n",
    "        \n",
    "\n",
    "def maxSumSubmatrix(mar,n,m):\n",
    "    ans=float('-inf')\n",
    "    for i in range(n):\n",
    "        s=Kadane(mar[i])\n",
    "        for j in range(i+1,n):\n",
    "            for k in range(m):\n",
    "                mar[i][k]+=mar[j][k]\n",
    "            s=max(Kadane(mar[i]),s)\n",
    "        ans=max(s,ans)\n",
    "    return ans"
   ]
  },
  {
   "cell_type": "markdown",
   "id": "e5fc51cc",
   "metadata": {},
   "source": [
    "## [Hard](https://www.naukri.com/code360/problems/similar-name_3119007)"
   ]
  },
  {
   "cell_type": "code",
   "execution_count": 3,
   "id": "3348ef19",
   "metadata": {},
   "outputs": [],
   "source": [
    "class TrieNode:\n",
    "    def __init__(self):\n",
    "        self.child = [None] * 26\n",
    "        self.isEnd = False\n",
    "\n",
    "class Trie:\n",
    "    def __init__(self):\n",
    "        self.root = TrieNode()\n",
    "\n",
    "    def insert(self, string):\n",
    "        curr = self.root\n",
    "        for char in string:\n",
    "            index = ord(char) - ord('a')\n",
    "            if not curr.child[index]:\n",
    "                curr.child[index] = TrieNode()\n",
    "                if curr.isEnd:\n",
    "                    return True\n",
    "            curr = curr.child[index]\n",
    "\n",
    "        if curr.isEnd:\n",
    "            return True\n",
    "        curr.isEnd = True\n",
    "\n",
    "        count = sum(1 for child in curr.child if child is not None)\n",
    "        return count > 0\n",
    "\n",
    "def findSimilar(A):\n",
    "    t = Trie()\n",
    "    for word in A:\n",
    "        ans = t.insert(word)\n",
    "        if ans:\n",
    "            return word\n",
    "\n",
    "    return \"not found\""
   ]
  },
  {
   "cell_type": "code",
   "execution_count": null,
   "id": "864d385a",
   "metadata": {},
   "outputs": [],
   "source": []
  }
 ],
 "metadata": {
  "kernelspec": {
   "display_name": "Python 3 (ipykernel)",
   "language": "python",
   "name": "python3"
  },
  "language_info": {
   "codemirror_mode": {
    "name": "ipython",
    "version": 3
   },
   "file_extension": ".py",
   "mimetype": "text/x-python",
   "name": "python",
   "nbconvert_exporter": "python",
   "pygments_lexer": "ipython3",
   "version": "3.11.5"
  }
 },
 "nbformat": 4,
 "nbformat_minor": 5
}
