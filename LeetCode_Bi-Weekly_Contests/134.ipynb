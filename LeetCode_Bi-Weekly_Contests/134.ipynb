{
 "cells": [
  {
   "cell_type": "markdown",
   "id": "75d8c25b",
   "metadata": {},
   "source": [
    "### 100336. Alternating Groups I"
   ]
  },
  {
   "cell_type": "markdown",
   "id": "f3840e61",
   "metadata": {},
   "source": [
    "There is a circle of red and blue tiles. You are given an array of integers colors. The color of tile i is represented by colors[i]:\r",
    "\r\n",
    "colors[i] == 0 means that tile i is red.\r\n",
    "colors[i] == 1 means that tile i is blue.\r\n",
    "Every 3 contiguous tiles in the circle with alternating colors (the middle tile has a different color from its left and right tiles) is called an alternating group.\r\n",
    "\r\n",
    "Return the number of alternating groups.\r\n",
    "\r\n",
    "Note that since colors represents a circle, the first and the last tiles are considered to be next to each other.3."
   ]
  },
  {
   "cell_type": "code",
   "execution_count": 1,
   "id": "8aed1a64",
   "metadata": {},
   "outputs": [],
   "source": [
    "from typing import List\n",
    "class Solution:\n",
    "    def numberOfAlternatingGroups(self, colors: List[int]) -> int:\n",
    "        N,cnt=len(colors),0\n",
    "        for i in range(N):\n",
    "            P,C,n=colors[(i-1+N)%N],colors[i],colors[(i+1)%N]\n",
    "            #print((P,C,n))\n",
    "            if P!=C and C!=n and P==n:cnt+=1\n",
    "        return cnt"
   ]
  },
  {
   "cell_type": "markdown",
   "id": "f6f808a3",
   "metadata": {},
   "source": [
    "### 100182. Maximum Points After Enemy Battles"
   ]
  },
  {
   "cell_type": "markdown",
   "id": "0f29dfc3",
   "metadata": {},
   "source": [
    "You are given an integer array enemyEnergies denoting the energy values of various enemies.\r\n",
    "\r\n",
    "You are also given an integer currentEnergy denoting the amount of energy you have initially.\r\n",
    "\r\n",
    "You start with 0 points, and all the enemies are unmarked initially.\r\n",
    "\r\n",
    "You can perform either of the following operations zero or multiple times to gain points:\r\n",
    "\r\n",
    "Choose an unmarked enemy, i, such that currentEnergy >= enemyEnergies[i]. By choosing this option:\r\n",
    "You gain 1 point.\r\n",
    "Your energy is reduced by the enemy's energy, i.e. currentEnergy = currentEnergy - enemyEnergies[i].\r\n",
    "If you have at least 1 point, you can choose an unmarked enemy, i. By choosing this option:\r\n",
    "Your energy increases by the enemy's energy, i.e. currentEnergy = currentEnergy + enemyEnergies[i].\r\n",
    "The enemy i is marked.\r\n",
    "Return an integer denoting the maximum points you can get in the end by optimally performing operations. -1.\n",
    "\n",
    " "
   ]
  },
  {
   "cell_type": "code",
   "execution_count": 2,
   "id": "1acbece4",
   "metadata": {},
   "outputs": [],
   "source": [
    "from typing import List\n",
    "\n",
    "class Solution:\n",
    "    def maximumPoints(self, a: List[int], e: int) -> int:\n",
    "        M = min(a)  \n",
    "        if e < M:return 0  \n",
    "        e = e - M + sum(a)\n",
    "        return e // M  "
   ]
  },
  {
   "cell_type": "markdown",
   "id": "0c961844",
   "metadata": {},
   "source": [
    "### 100351. Alternating Groups II"
   ]
  },
  {
   "cell_type": "markdown",
   "id": "7e79b267",
   "metadata": {},
   "source": [
    "There is a circle of red and blue tiles. You are given an array of integers colors and an integer k. The color of tile i is represented by colors[i]:\r\n",
    "\r\n",
    "colors[i] == 0 means that tile i is red.\r\n",
    "colors[i] == 1 means that tile i is blue.\r\n",
    "An alternating group is every k contiguous tiles in the circle with alternating colors (each tile in the group except the first and last one has a different color from its left and right tiles).\r\n",
    "\r\n",
    "Return the number of alternating groups.\r\n",
    "\r\n",
    "Note that since colors represents a circle, the first and the last tiles are considered to be next to each other.l to 1."
   ]
  },
  {
   "cell_type": "code",
   "execution_count": 3,
   "id": "1bf1a603",
   "metadata": {},
   "outputs": [],
   "source": [
    "class Solution:\n",
    "    def numberOfAlternatingGroups(self, C, k) -> int:\n",
    "        C = C + C[:k-1]\n",
    "        R, N = 0, 1\n",
    "        for i in range(1, len(C)):\n",
    "            if C[i] != C[i-1]:\n",
    "                N += 1\n",
    "            else:\n",
    "                N = 1\n",
    "            if N >= k:\n",
    "                R += 1\n",
    "        return R"
   ]
  },
  {
   "cell_type": "markdown",
   "id": "b889594c",
   "metadata": {},
   "source": [
    "### 100338. Number of Subarrays With AND Value of K"
   ]
  },
  {
   "cell_type": "markdown",
   "id": "3752d476",
   "metadata": {},
   "source": [
    "Given an array of integers nums and an integer k, return the number of subarrays of nums where the bitwise AND of the elements of the subarray equals k. + 7.\r\n",
    "\r\n"
   ]
  },
  {
   "cell_type": "code",
   "execution_count": 4,
   "id": "ae2343ed",
   "metadata": {},
   "outputs": [],
   "source": [
    "from typing import List\n",
    "\n",
    "class Solution:\n",
    "    def countSubarrays(self, nums: List[int], k: int) -> int:\n",
    "        s = len(nums)\n",
    "        t = 0\n",
    "        p = {}\n",
    "        \n",
    "        for i in range(s):\n",
    "            c = {}\n",
    "            x = k\n",
    "            \n",
    "            if nums[i] == x:\n",
    "                t += 1\n",
    "            c[nums[i]] = 1\n",
    "            \n",
    "            for v, f in p.items():\n",
    "                r = v & nums[i]\n",
    "                if r == x:t += f\n",
    "                if r in c:c[r] += f\n",
    "                else:c[r] = f\n",
    "            p = c\n",
    "        \n",
    "        return t"
   ]
  }
 ],
 "metadata": {
  "kernelspec": {
   "display_name": "Python 3 (ipykernel)",
   "language": "python",
   "name": "python3"
  },
  "language_info": {
   "codemirror_mode": {
    "name": "ipython",
    "version": 3
   },
   "file_extension": ".py",
   "mimetype": "text/x-python",
   "name": "python",
   "nbconvert_exporter": "python",
   "pygments_lexer": "ipython3",
   "version": "3.11.7"
  }
 },
 "nbformat": 4,
 "nbformat_minor": 5
}
