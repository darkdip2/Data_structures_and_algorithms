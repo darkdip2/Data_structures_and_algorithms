{
 "cells": [
  {
   "cell_type": "markdown",
   "id": "75d8c25b",
   "metadata": {},
   "source": [
    "### 100324. Clear Digits"
   ]
  },
  {
   "cell_type": "markdown",
   "id": "f3840e61",
   "metadata": {},
   "source": [
    "You are given a string s.\n",
    "\n",
    "Your task is to remove all digits by doing this operation repeatedly:\n",
    "\n",
    "- Delete the first digit and the closest non-digit character to its left.\n",
    "Return the resulting string after removing all digits."
   ]
  },
  {
   "cell_type": "code",
   "execution_count": null,
   "id": "8aed1a64",
   "metadata": {},
   "outputs": [],
   "source": [
    "class Solution:\n",
    "    def clearDigits(self, s: str) -> str:\n",
    "        S=[]\n",
    "        for i in s:\n",
    "            if i.isdigit() and S:\n",
    "                S.pop()\n",
    "            else:S.append(i)\n",
    "        return ''.join(S)"
   ]
  },
  {
   "cell_type": "markdown",
   "id": "f6f808a3",
   "metadata": {},
   "source": [
    "### 100297. Find The First Player to win K Games in a Row"
   ]
  },
  {
   "cell_type": "markdown",
   "id": "0f29dfc3",
   "metadata": {},
   "source": [
    "A competition consists of n players numbered from 0 to n - 1.\n",
    "\n",
    "You are given an integer array skills of size n and a positive integer k, where skills[i] is the skill level of player i. All integers in skills are unique.\n",
    "\n",
    "All players are standing in a queue in order from player 0 to player n - 1.\n",
    "\n",
    "The competition process is as follows:\n",
    "\n",
    "- The first two players in the queue play a game, and the player with the higher skill level wins.\n",
    "- After the game, the winner stays at the beginning of the queue, and the loser goes to the end of it.\n",
    "The winner of the competition is the first player who wins k games in a row.\n",
    "\n",
    "Return the initial index of the winning player.\n",
    "\n",
    " "
   ]
  },
  {
   "cell_type": "code",
   "execution_count": 1,
   "id": "1acbece4",
   "metadata": {},
   "outputs": [],
   "source": [
    "from typing import List\n",
    "\n",
    "class Solution:\n",
    "    def findWinningPlayer(self, skills: List[int], k: int) -> int:\n",
    "        n,wins,curr = len(skills),0,0\n",
    "        for i in range(1, n):\n",
    "            skill=skills[curr]\n",
    "            if skills[i] < skill:wins += 1\n",
    "            else:\n",
    "                curr = i\n",
    "                wins = 1\n",
    "            if wins == k:break\n",
    "        return curr"
   ]
  },
  {
   "cell_type": "markdown",
   "id": "0c961844",
   "metadata": {},
   "source": [
    "### 100331. Find the Maximum Length of a Good Subsequence I"
   ]
  },
  {
   "cell_type": "markdown",
   "id": "7e79b267",
   "metadata": {},
   "source": [
    "You are given an integer array nums and a non-negative integer k. A sequence of integers seq is called good if there are at most k indices i in the range [0, seq.length - 2] such that seq[i] != seq[i + 1].\n",
    "\n",
    "Return the maximum possible length of a good subsequence of nums."
   ]
  },
  {
   "cell_type": "code",
   "execution_count": 1,
   "id": "1bf1a603",
   "metadata": {},
   "outputs": [],
   "source": [
    "from typing import List\n",
    "from functools import lru_cache\n",
    "\n",
    "class Solution:\n",
    "    def maximumLength(self, nums: List[int], k: int) -> int:\n",
    "        \n",
    "        @lru_cache(None)\n",
    "        def dp(i,j):\n",
    "            if i == len(nums):\n",
    "                return 0\n",
    "            if j < 0:\n",
    "                return float('-inf')\n",
    "            \n",
    "            max_len = 1 \n",
    "            for p in range(i + 1, len(nums)):\n",
    "                if nums[p] != nums[i]:\n",
    "                    max_len = max(max_len, 1 + dp(p, j - 1))\n",
    "                else:\n",
    "                    max_len = max(max_len, 1 + dp(p, j))\n",
    "            \n",
    "            return max_len\n",
    "        \n",
    "        max_length = 0\n",
    "        for i in range(len(nums)):\n",
    "            max_length = max(max_length, dp(i, k))\n",
    "        \n",
    "        return max_length"
   ]
  },
  {
   "cell_type": "markdown",
   "id": "b889594c",
   "metadata": {},
   "source": [
    "### 100327. Find the Maximum Length of a Good Subsequence II"
   ]
  },
  {
   "cell_type": "markdown",
   "id": "3752d476",
   "metadata": {},
   "source": [
    "You are given an integer array nums and a non-negative integer k. A sequence of integers seq is called good if there are at most k indices i in the range [0, seq.length - 2] such that seq[i] != seq[i + 1].\n",
    "\n",
    "Return the maximum possible length of a good subsequence of nums."
   ]
  },
  {
   "cell_type": "code",
   "execution_count": 3,
   "id": "ae2343ed",
   "metadata": {},
   "outputs": [],
   "source": [
    "from typing import List\n",
    "\n",
    "class Solution:\n",
    "    def maximumLength(self, nums: List[int], k: int) -> int:\n",
    "        n = len(nums)\n",
    "        T,ans,vk,vkm = [[1] * (k + 1) for _ in range(n)],1,[-1] * (k + 1),[{} for _ in range(k + 1)]\n",
    "\n",
    "        for i in range(n):\n",
    "            for j in range(k + 1):\n",
    "                for l in range(j):\n",
    "                    T[i][j] = max(T[i][j], 1 + vk[l])\n",
    "                if nums[i] in vkm[j]:\n",
    "                    T[i][j] = max(T[i][j], 1 + vkm[j][nums[i]])\n",
    "                ans = max(ans, T[i][j])\n",
    "\n",
    "            for j in range(k + 1):\n",
    "                vk[j] = max(vk[j], T[i][j])\n",
    "                vkm[j][nums[i]] = max(vkm[j].get(nums[i], 0), T[i][j])\n",
    "\n",
    "        return ans"
   ]
  },
  {
   "cell_type": "code",
   "execution_count": null,
   "id": "aa308805",
   "metadata": {},
   "outputs": [],
   "source": []
  }
 ],
 "metadata": {
  "kernelspec": {
   "display_name": "Python 3 (ipykernel)",
   "language": "python",
   "name": "python3"
  },
  "language_info": {
   "codemirror_mode": {
    "name": "ipython",
    "version": 3
   },
   "file_extension": ".py",
   "mimetype": "text/x-python",
   "name": "python",
   "nbconvert_exporter": "python",
   "pygments_lexer": "ipython3",
   "version": "3.11.7"
  }
 },
 "nbformat": 4,
 "nbformat_minor": 5
}
