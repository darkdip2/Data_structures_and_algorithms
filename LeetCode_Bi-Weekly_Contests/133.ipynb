{
 "cells": [
  {
   "cell_type": "markdown",
   "id": "75d8c25b",
   "metadata": {},
   "source": [
    "### 100345. Find Minimum Operations to Make All Elements Divisible by Three"
   ]
  },
  {
   "cell_type": "markdown",
   "id": "f3840e61",
   "metadata": {},
   "source": [
    "You are given an integer array nums. In one operation, you can add or subtract 1 from any element of nums.\r\n",
    "\r\n",
    "Return the minimum number of operations to make all elements of nums divisible by 3."
   ]
  },
  {
   "cell_type": "code",
   "execution_count": 2,
   "id": "8aed1a64",
   "metadata": {},
   "outputs": [],
   "source": [
    "from typing import List\n",
    "class Solution:\n",
    "    def minimumOperations(self, nums: List[int]) -> int:\n",
    "        cnt=0\n",
    "        for i in nums:\n",
    "            if i%3==1 or i%3==2:cnt+=1\n",
    "        return cnt"
   ]
  },
  {
   "cell_type": "markdown",
   "id": "f6f808a3",
   "metadata": {},
   "source": [
    "### 100344. Minimum Operations to Make Binary Array Elements Equal to One I"
   ]
  },
  {
   "cell_type": "markdown",
   "id": "0f29dfc3",
   "metadata": {},
   "source": [
    "You are given a binary array nums.\r\n",
    "\r\n",
    "You can do the following operation on the array any number of times (possibly zero):- \r\n",
    "\r\n",
    "Choose any 3 consecutive elements from the array and flip all of t\n",
    "hem.\r\n",
    "Flipping an element means changing its value from 0 to 1, and from 1 to 0.\r\n",
    "\r\n",
    "Return the minimum number of operations required to make all elements in nums equal to 1. If it is impossible, ret -1.\n",
    "\n",
    " "
   ]
  },
  {
   "cell_type": "code",
   "execution_count": null,
   "id": "1acbece4",
   "metadata": {},
   "outputs": [],
   "source": [
    "from typing import List\n",
    "\n",
    "class Solution:\n",
    "    def minOperations(self, nums: List[int]) -> int:\n",
    "        n = len(nums)\n",
    "        operations = 0\n",
    "        \n",
    "        for i in range(n):\n",
    "            if nums[i] == 0:\n",
    "                if i + 2 >= n:\n",
    "                    return -1 \n",
    "                nums[i] = 1 - nums[i]\n",
    "                nums[i + 1] = 1 - nums[i + 1]\n",
    "                nums[i + 2] = 1 - nums[i + 2]\n",
    "                operations += 1\n",
    "                \n",
    "        return operations"
   ]
  },
  {
   "cell_type": "markdown",
   "id": "0c961844",
   "metadata": {},
   "source": [
    "### 100346. Minimum Operations to Make Binary Array Elements Equal to One II"
   ]
  },
  {
   "cell_type": "markdown",
   "id": "7e79b267",
   "metadata": {},
   "source": [
    "You are given a binary array nums.\r\n",
    "\r\n",
    "You can do the following operation on the array any number of times (possibly zero):- \r\n",
    "\r\n",
    "Choose any index i from the array and flip all the elements from index i to the end of the ar\n",
    "ray.\r\n",
    "Flipping an element means changing its value from 0 to 1, and from 1 to 0.\r\n",
    "\r\n",
    "Return the minimum number of operations required to make all elements in nums equal to 1."
   ]
  },
  {
   "cell_type": "code",
   "execution_count": null,
   "id": "1bf1a603",
   "metadata": {},
   "outputs": [],
   "source": [
    "from typing import List\n",
    "\n",
    "class Solution:\n",
    "    def minOperations(self, nums: List[int]) -> int:\n",
    "        n = len(nums)\n",
    "        operations = 0\n",
    "        flipped = False\n",
    "        \n",
    "        for i in range(n):\n",
    "            if (nums[i] == 0 and not flipped) or (nums[i] == 1 and flipped):\n",
    "                operations += 1\n",
    "                flipped = not flipped  \n",
    "                \n",
    "        return operations"
   ]
  },
  {
   "cell_type": "markdown",
   "id": "b889594c",
   "metadata": {},
   "source": [
    "### 100333. Count the Number of Inversions"
   ]
  },
  {
   "cell_type": "markdown",
   "id": "3752d476",
   "metadata": {},
   "source": [
    "You are given an integer n and a 2D array requirements, where requirements[i] = [endi, cnti] represents the end index and the inversion count of each requirement.\r\n",
    "\r\n",
    "A pair of indices (i, j) from an integer array nums is called an inversion if:\r\n",
    "\r\n",
    "i < j and nums[i] > num\n",
    "s[j]\r\n",
    "Return the number of permutations perm of [0, 1, 2, ..., n - 1] such that for all requirements[i], perm[0..endi] has exactly cnti inversions.\r\n",
    "\r\n",
    "Since the answer may be very large, return it modulo 109 + 7.\r\n",
    "\r\n"
   ]
  },
  {
   "cell_type": "code",
   "execution_count": null,
   "id": "ae2343ed",
   "metadata": {},
   "outputs": [],
   "source": [
    "from typing import List\n",
    "class Solution:\n",
    "    def numberOfPermutations(self, n: int, reqs: List[List[int]]) -> int:\n",
    "        M = 10**9 + 7\n",
    "        MAX_INV = 400\n",
    "\n",
    "        req_map = {}\n",
    "        for r in reqs:req_map[r[0] + 1] = r[1]\n",
    "\n",
    "        pc = [[0] * (MAX_INV + 1) for _ in range(n + 1)]\n",
    "        pc[0][0] = 1\n",
    "\n",
    "        for l in range(1, n + 1):\n",
    "            for i in range(MAX_INV + 1):\n",
    "                for np in range(l):\n",
    "                    pi = i - np\n",
    "                    if pi >= 0:\n",
    "                        pc[l][i] = (pc[l][i] + pc[l - 1][pi]) % M\n",
    "\n",
    "            if l in req_map:\n",
    "                ti = req_map[l]\n",
    "                for i in range(MAX_INV + 1):\n",
    "                    if i != ti:\n",
    "                        pc[l][i] = 0\n",
    "\n",
    "        res = sum(pc[n]) % M\n",
    "        return res"
   ]
  }
 ],
 "metadata": {
  "kernelspec": {
   "display_name": "Python 3 (ipykernel)",
   "language": "python",
   "name": "python3"
  },
  "language_info": {
   "codemirror_mode": {
    "name": "ipython",
    "version": 3
   },
   "file_extension": ".py",
   "mimetype": "text/x-python",
   "name": "python",
   "nbconvert_exporter": "python",
   "pygments_lexer": "ipython3",
   "version": "3.11.7"
  }
 },
 "nbformat": 4,
 "nbformat_minor": 5
}
