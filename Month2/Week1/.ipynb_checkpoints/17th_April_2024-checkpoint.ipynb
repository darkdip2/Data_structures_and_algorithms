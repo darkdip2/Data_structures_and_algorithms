{
 "cells": [
  {
   "cell_type": "markdown",
   "id": "d2ffff82",
   "metadata": {},
   "source": [
    "## Q.1"
   ]
  },
  {
   "cell_type": "markdown",
   "id": "2be451c7",
   "metadata": {},
   "source": [
    "### Maximize Sum Of Array After K Negations\n",
    "\n",
    "Given an integer array nums and an integer k, modify the array in the following way:\n",
    "\n",
    "choose an index i and replace nums[i] with -nums[i].\n",
    "You should apply this process exactly k times. You may choose the same index i multiple times.\n",
    "\n",
    "Return the largest possible sum of the array after modifying it in this way."
   ]
  },
  {
   "cell_type": "markdown",
   "id": "b463c5ca",
   "metadata": {},
   "source": [
    "- [LeetCode](https://leetcode.com/problems/maximize-sum-of-array-after-k-negations/description/)"
   ]
  },
  {
   "cell_type": "markdown",
   "id": "c04699b3",
   "metadata": {},
   "source": [
    "## Intuition"
   ]
  },
  {
   "cell_type": "markdown",
   "id": "ff548fba",
   "metadata": {},
   "source": [
    "- Use Minheap to add the elements and then perform the operation B times."
   ]
  },
  {
   "cell_type": "markdown",
   "id": "b35c0d8a",
   "metadata": {},
   "source": [
    "## Solution"
   ]
  },
  {
   "cell_type": "code",
   "execution_count": 1,
   "id": "54651483",
   "metadata": {},
   "outputs": [],
   "source": [
    "import heapq\n",
    "class Solution:\n",
    "    # @param A : list of integers\n",
    "    # @param B : integer\n",
    "    # @return an integer\n",
    "    def largestSumAfterKNegations(self, A, B):\n",
    "        H,ans=[],0\n",
    "        for i in A:heapq.heappush(H,i)\n",
    "        while B:\n",
    "            heapq.heappush(H,heapq.heappop(H)*-1)\n",
    "            B-=1\n",
    "        return sum(H)"
   ]
  },
  {
   "cell_type": "markdown",
   "id": "5139132e",
   "metadata": {},
   "source": [
    "## Q.2"
   ]
  },
  {
   "cell_type": "markdown",
   "id": "c8e5f076",
   "metadata": {},
   "source": [
    "### K Closest Points to Origin\n",
    "\n",
    "Given an array of points where points[i] = [xi, yi] represents a point on the X-Y plane and an integer k, return the k closest points to the origin (0, 0).\n",
    "\n",
    "The distance between two points on the X-Y plane is the Euclidean distance (i.e., √(x1 - x2)2 + (y1 - y2)2).\n",
    "\n",
    "You may return the answer in any order. The answer is guaranteed to be unique (except for the order that it is in).Given an integer array nums, return the maximum result of nums[i] XOR nums[j], where 0 <= i <= j < n."
   ]
  },
  {
   "cell_type": "markdown",
   "id": "36a9d119",
   "metadata": {},
   "source": [
    "- [LeetCode](https://leetcode.com/problems/k-closest-points-to-origin/description/)"
   ]
  },
  {
   "cell_type": "markdown",
   "id": "a30e8bdd",
   "metadata": {},
   "source": [
    "## Intuition"
   ]
  },
  {
   "cell_type": "markdown",
   "id": "33a0128d",
   "metadata": {},
   "source": [
    "- Use Heaps."
   ]
  },
  {
   "cell_type": "markdown",
   "id": "6e1722c3",
   "metadata": {},
   "source": [
    "## Solution"
   ]
  },
  {
   "cell_type": "code",
   "execution_count": 1,
   "id": "04722852",
   "metadata": {},
   "outputs": [],
   "source": [
    "import heapq\n",
    "class Solution:\n",
    "    # @param A : list of list of integers\n",
    "    # @param B : integer\n",
    "    # @return a list of list of integers\n",
    "    def kClosest(self, A, B):\n",
    "        H,ans=[],[]\n",
    "        for i,j in A:\n",
    "            heapq.heappush(H,((i**2+j**2),i,j))\n",
    "        while B and H:\n",
    "            T=heapq.heappop(H)\n",
    "            ans.append([T[1],T[2]])\n",
    "            B-=1\n",
    "        return ans"
   ]
  },
  {
   "cell_type": "markdown",
   "id": "d7b9c318",
   "metadata": {},
   "source": [
    "## Q.3"
   ]
  },
  {
   "cell_type": "markdown",
   "id": "cfd7c30c",
   "metadata": {},
   "source": [
    "### Kth Smallest Element in a Sorted Matrix\n",
    "\n",
    "Given an n x n matrix where each of the rows and columns is sorted in ascending order, return the kth smallest element in the matrix.\n",
    "\n",
    "Note that it is the kth smallest element in the sorted order, not the kth distinct element.\n",
    "\n",
    "You must find a solution with a memory complexity better than O(n2)."
   ]
  },
  {
   "cell_type": "markdown",
   "id": "4413652d",
   "metadata": {},
   "source": [
    "- [LeetCode](https://leetcode.com/problems/kth-smallest-element-in-a-sorted-matrix/description/)"
   ]
  },
  {
   "cell_type": "markdown",
   "id": "a677c90c",
   "metadata": {},
   "source": [
    "## Intuition"
   ]
  },
  {
   "cell_type": "markdown",
   "id": "b4f54eba",
   "metadata": {},
   "source": [
    "- Use MaxHeap to keep track of the smallest B elements."
   ]
  },
  {
   "cell_type": "markdown",
   "id": "02677d27",
   "metadata": {},
   "source": [
    "## Solution"
   ]
  },
  {
   "cell_type": "code",
   "execution_count": 2,
   "id": "b05ad0a1",
   "metadata": {},
   "outputs": [],
   "source": [
    "from typing import List\n",
    "import heapq\n",
    "class Solution:\n",
    "    def kthSmallest(self, matrix: List[List[int]], k: int) -> int:\n",
    "        H=[]\n",
    "        for i in matrix:\n",
    "            for j in i:\n",
    "                if len(H)<k:\n",
    "                    heapq.heappush(H,-j)\n",
    "                elif -j>H[0]:\n",
    "                    heapq.heappush(H,-j)\n",
    "                    heapq.heappop(H)\n",
    "        return -H[0]"
   ]
  },
  {
   "cell_type": "markdown",
   "id": "5ac1b1e7",
   "metadata": {},
   "source": [
    "## Q.4"
   ]
  },
  {
   "cell_type": "markdown",
   "id": "b7ccb8c4",
   "metadata": {},
   "source": [
    "### K-th Smallest Prime Fraction\n",
    "\n",
    "You are given a sorted integer array arr containing 1 and prime numbers, where all the integers of arr are unique. You are also given an integer k.\n",
    "\n",
    "For every i and j where 0 <= i < j < arr.length, we consider the fraction arr[i] / arr[j].\n",
    "\n",
    "Return the kth smallest fraction considered. Return your answer as an array of integers of size 2, where answer[0] == arr[i] and answer[1] == arr[j]."
   ]
  },
  {
   "cell_type": "markdown",
   "id": "0729b4cc",
   "metadata": {},
   "source": [
    "- [LeetCode](https://leetcode.com/problems/k-th-smallest-prime-fraction/description/)"
   ]
  },
  {
   "cell_type": "markdown",
   "id": "6b56e393",
   "metadata": {},
   "source": [
    "## Intuition"
   ]
  },
  {
   "cell_type": "markdown",
   "id": "ead71892",
   "metadata": {},
   "source": [
    "- Use MaxHeap to keep track of the smallest B elements."
   ]
  },
  {
   "cell_type": "markdown",
   "id": "70afacd1",
   "metadata": {},
   "source": [
    "## Solution"
   ]
  },
  {
   "cell_type": "code",
   "execution_count": 2,
   "id": "9ff19f0a",
   "metadata": {},
   "outputs": [],
   "source": [
    "import heapq\n",
    "class Solution:\n",
    "    # @param A : list of integers\n",
    "    # @param B : integer\n",
    "    # @return a list of integers\n",
    "    def kthSmallestPrimeFraction(self, A, B):\n",
    "        H=[]\n",
    "        for i in range(len(A)):\n",
    "            for j in range(i+1,len(A)):\n",
    "                F=A[i]/A[j]\n",
    "                if len(H)<B:\n",
    "                    heapq.heappush(H,(-F,A[i],A[j]))\n",
    "                elif -H[0][0]>F:\n",
    "                    heapq.heappush(H,(-F,A[i],A[j]))\n",
    "                    heapq.heappop(H)\n",
    "        return [H[0][1],H[0][2]]"
   ]
  },
  {
   "cell_type": "markdown",
   "id": "755546b2",
   "metadata": {},
   "source": [
    "## Q.5"
   ]
  },
  {
   "cell_type": "markdown",
   "id": "a69b6a2c",
   "metadata": {},
   "source": [
    "### Merge k Sorted Lists\n",
    "\n",
    "You are given an array of k linked-lists lists, each linked-list is sorted in ascending order.\n",
    "\n",
    "Merge all the linked-lists into one sorted linked-list and return it."
   ]
  },
  {
   "cell_type": "markdown",
   "id": "359873d1",
   "metadata": {},
   "source": [
    "- [LeetCode](https://leetcode.com/problems/merge-k-sorted-lists/description/)\n",
    "- [Interviewbit](https://www.interviewbit.com/problems/merge-k-sorted-lists/)"
   ]
  },
  {
   "cell_type": "markdown",
   "id": "1d31f1e5",
   "metadata": {},
   "source": [
    "## Intuition"
   ]
  },
  {
   "cell_type": "markdown",
   "id": "8ec02da1",
   "metadata": {},
   "source": [
    "- Use MinHeap and keep track of each list seperately."
   ]
  },
  {
   "cell_type": "markdown",
   "id": "73acc512",
   "metadata": {},
   "source": [
    "## Solution"
   ]
  },
  {
   "cell_type": "code",
   "execution_count": 2,
   "id": "652c28fb",
   "metadata": {},
   "outputs": [],
   "source": [
    "import heapq\n",
    "\n",
    "class Solution:\n",
    "    # @param A : list of linked list\n",
    "    # @return the head node in the linked list\n",
    "    def mergeKLists(self, A):\n",
    "        D,H=ListNode(0),[]\n",
    "        Fh=D\n",
    "        for i,v in enumerate(A):\n",
    "            if v:heapq.heappush(H,(v.val,i,v))\n",
    "        while H:\n",
    "            v,i,n=heapq.heappop(H)\n",
    "            Fh.next=n\n",
    "            Fh=Fh.next\n",
    "            if n.next:\n",
    "                heapq.heappush(H,(n.next.val,i,n.next))\n",
    "        return D.next"
   ]
  },
  {
   "cell_type": "markdown",
   "id": "875454d9",
   "metadata": {},
   "source": [
    "## Q.6"
   ]
  },
  {
   "cell_type": "markdown",
   "id": "ad504a1c",
   "metadata": {},
   "source": [
    "### Connect Ropes\n",
    "\n",
    "Given an array of integers A representing the length of ropes.\n",
    "\n",
    "You need to connect these ropes into one rope. The cost of connecting two ropes is equal to the sum of their lengths.\n",
    "\n",
    "Find and return the minimum cost to connect these ropes into one rope."
   ]
  },
  {
   "cell_type": "markdown",
   "id": "5a6251cc",
   "metadata": {},
   "source": [
    "- [Interviewbit](https://www.interviewbit.com/problems/connect-ropes/)"
   ]
  },
  {
   "cell_type": "markdown",
   "id": "f1f59249",
   "metadata": {},
   "source": [
    "## Intuition"
   ]
  },
  {
   "cell_type": "markdown",
   "id": "5f2a37ef",
   "metadata": {},
   "source": [
    "- Use Minheap."
   ]
  },
  {
   "cell_type": "markdown",
   "id": "70e1ffb8",
   "metadata": {},
   "source": [
    "## Solution"
   ]
  },
  {
   "cell_type": "code",
   "execution_count": 2,
   "id": "01dc3963",
   "metadata": {},
   "outputs": [],
   "source": [
    "import heapq\n",
    "class Solution:\n",
    "    # @param A : list of integers\n",
    "    # @return an integer\n",
    "    def solve(self, A):\n",
    "        H,ans=[],0\n",
    "        for i in A:\n",
    "            heapq.heappush(H,i)\n",
    "        while len(H)>1:\n",
    "            O,t=heapq.heappop(H),heapq.heappop(H)\n",
    "            ans+=O+t\n",
    "            heapq.heappush(H,(O+t))\n",
    "        return ans"
   ]
  },
  {
   "cell_type": "markdown",
   "id": "622f1d11",
   "metadata": {},
   "source": [
    "## Q.7"
   ]
  },
  {
   "cell_type": "markdown",
   "id": "6f62e1eb",
   "metadata": {},
   "source": [
    "### Magician and Chocolates\n",
    "\n",
    "Given N bags, each bag contains Bi chocolates. There is a kid and a magician. In one unit of time, kid chooses a random bag i, eats Bi chocolates, then the magician fills the ith bag with floor(Bi/2) chocolates.\n",
    "\n",
    "Find the maximum number of chocolates that kid can eat in A units of time.\n",
    "\n",
    "NOTE: \n",
    "\n",
    "- floor() function returns the largest integer less than or equal to a given number.\n",
    "- Return your answer modulo 109+7"
   ]
  },
  {
   "cell_type": "markdown",
   "id": "2a27cfdb",
   "metadata": {},
   "source": [
    "- [Interviewbit](https://www.interviewbit.com/problems/magician-and-chocolates/)"
   ]
  },
  {
   "cell_type": "markdown",
   "id": "ae21c79c",
   "metadata": {},
   "source": [
    "## Intuition"
   ]
  },
  {
   "cell_type": "markdown",
   "id": "f9f8329f",
   "metadata": {},
   "source": [
    "- Use Maxheap."
   ]
  },
  {
   "cell_type": "markdown",
   "id": "768e08d8",
   "metadata": {},
   "source": [
    "## Solution"
   ]
  },
  {
   "cell_type": "code",
   "execution_count": 3,
   "id": "412b7004",
   "metadata": {},
   "outputs": [],
   "source": [
    "import heapq\n",
    "class Solution:\n",
    "    # @param A : integer\n",
    "    # @param B : list of integers\n",
    "    # @return an integer\n",
    "    def nchoc(self, A, B):\n",
    "        M,H,ans=10**9+7,[],0\n",
    "        for i in B:heapq.heappush(H,-i)\n",
    "        while A and H:\n",
    "            T=heapq.heappop(H)\n",
    "            heapq.heappush(H,-(-T//2))\n",
    "            ans+=(-T)%M\n",
    "            A-=1\n",
    "        return ans%M"
   ]
  },
  {
   "cell_type": "markdown",
   "id": "6bd460ff",
   "metadata": {},
   "source": [
    "## Coding Ninjas Problem of the Day"
   ]
  },
  {
   "cell_type": "markdown",
   "id": "66f42200",
   "metadata": {},
   "source": [
    "## [Easy](https://www.naukri.com/code360/problems/add-one-to-number_873367)"
   ]
  },
  {
   "cell_type": "code",
   "execution_count": null,
   "id": "e4d55036",
   "metadata": {},
   "outputs": [],
   "source": [
    "def addOneToNumber(arr):\n",
    "    s=''\n",
    "    for i in arr:s+=str(i)\n",
    "    n=str(int(s)+1)\n",
    "    return list(n)"
   ]
  },
  {
   "cell_type": "markdown",
   "id": "b8494e61",
   "metadata": {},
   "source": [
    "## [Moderate](https://www.naukri.com/code360/problems/zig-zag-conversion_3164695)"
   ]
  },
  {
   "cell_type": "code",
   "execution_count": null,
   "id": "f751f333",
   "metadata": {},
   "outputs": [],
   "source": [
    "def zigzagConversion(s: str, row: int) -> str:\n",
    "    if row<=1:return s\n",
    "    result=''\n",
    "    for rows in range(row):\n",
    "        i,flag=rows,True\n",
    "        while i<len(s):\n",
    "            result+=s[i]\n",
    "            if rows==0 or rows==row-1:i+=(2*row-2)\n",
    "            else:\n",
    "                if flag:i+=(2*(row-rows)-2)\n",
    "                else:\n",
    "                    i+=rows*2\n",
    "                flag^=True\n",
    "    return result"
   ]
  },
  {
   "cell_type": "markdown",
   "id": "e5fc51cc",
   "metadata": {},
   "source": [
    "## [Hard](https://www.naukri.com/code360/problems/maximum-sum-bst-in-binary-tree_2099910)"
   ]
  },
  {
   "cell_type": "code",
   "execution_count": 2,
   "id": "3348ef19",
   "metadata": {},
   "outputs": [],
   "source": [
    "class Quad:\n",
    "    def __init__(self):\n",
    "        self.min=float('inf')\n",
    "        self.max=float('-inf')\n",
    "        self.isBST=True\n",
    "        self.sum=0\n",
    "\n",
    "def maximumSumBST(root):\n",
    "    def Rec(R):\n",
    "        if not R:return Quad()\n",
    "        L,r=Rec(R.left),Rec(R.right)\n",
    "        ans=Quad()\n",
    "        ans.min=min(R.data,L.min,r.min)\n",
    "        ans.max=max(R.data,L.max,r.max)\n",
    "        ans.isBST=L.isBST and r.isBST and L.max<R.data<r.min\n",
    "        if ans.isBST:ans.sum=R.data+L.sum+r.sum\n",
    "        else: ans.sum=max(L.sum,r.sum)\n",
    "        return ans\n",
    "    return Rec(root).sum"
   ]
  },
  {
   "cell_type": "code",
   "execution_count": null,
   "id": "864d385a",
   "metadata": {},
   "outputs": [],
   "source": []
  }
 ],
 "metadata": {
  "kernelspec": {
   "display_name": "Python 3 (ipykernel)",
   "language": "python",
   "name": "python3"
  },
  "language_info": {
   "codemirror_mode": {
    "name": "ipython",
    "version": 3
   },
   "file_extension": ".py",
   "mimetype": "text/x-python",
   "name": "python",
   "nbconvert_exporter": "python",
   "pygments_lexer": "ipython3",
   "version": "3.11.5"
  }
 },
 "nbformat": 4,
 "nbformat_minor": 5
}
