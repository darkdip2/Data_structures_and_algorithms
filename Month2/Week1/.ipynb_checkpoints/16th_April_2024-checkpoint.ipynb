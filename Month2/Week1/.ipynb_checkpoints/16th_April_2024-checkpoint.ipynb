{
 "cells": [
  {
   "cell_type": "markdown",
   "id": "d2ffff82",
   "metadata": {},
   "source": [
    "## Q.1"
   ]
  },
  {
   "cell_type": "markdown",
   "id": "2be451c7",
   "metadata": {},
   "source": [
    "### Shortest Unique Prefix\n",
    "\n",
    "Find shortest unique prefix to represent each word in the list.\n",
    "\n",
    "Example:\n",
    "\n",
    "Input: [zebra, dog, duck, dove]\n",
    "Output: {z, dog, du, dov}\n",
    "where we can see that\n",
    "zebra = z\n",
    "dog = dog\n",
    "duck = du\n",
    "dove = dov\n",
    "NOTE : Assume that no word is prefix of another. In other words, the representation is always possible."
   ]
  },
  {
   "cell_type": "markdown",
   "id": "b463c5ca",
   "metadata": {},
   "source": [
    "- [Interviewbit](https://www.interviewbit.com/problems/shortest-unique-prefix/)"
   ]
  },
  {
   "cell_type": "markdown",
   "id": "c04699b3",
   "metadata": {},
   "source": [
    "## Intuition"
   ]
  },
  {
   "cell_type": "markdown",
   "id": "ff548fba",
   "metadata": {},
   "source": [
    "- Use Tries maintain a frequency pointer and while searching return prefix if freq==1."
   ]
  },
  {
   "cell_type": "markdown",
   "id": "b35c0d8a",
   "metadata": {},
   "source": [
    "## Solution"
   ]
  },
  {
   "cell_type": "code",
   "execution_count": 1,
   "id": "54651483",
   "metadata": {},
   "outputs": [],
   "source": [
    "class TrieNode:\n",
    "    def __init__(self):\n",
    "        self.child=[None]*26\n",
    "        self.f=0\n",
    "class Trie:\n",
    "    def __init__(self):\n",
    "        self.root=TrieNode()\n",
    "    def insert(self,word):\n",
    "        T=self.root\n",
    "        for i in word:\n",
    "            c=ord(i)-ord('a')\n",
    "            if not T.child[c]:\n",
    "                T.child[c]=TrieNode()\n",
    "            T=T.child[c]\n",
    "            T.f+=1\n",
    "        T.End=True\n",
    "    def Pref(self,word):\n",
    "        T,s=self.root,''\n",
    "        for i in word:\n",
    "            c=ord(i)-ord('a')\n",
    "            if T.f==1:return s\n",
    "            s+=i\n",
    "            T=T.child[c]\n",
    "        return s\n",
    "\n",
    "class Solution:\n",
    "    # @param A : list of strings\n",
    "    # @return a list of strings\n",
    "    def prefix(self, A):\n",
    "        T=Trie()\n",
    "        for i in A:T.insert(i)\n",
    "        ans=[]\n",
    "        for i in A:ans.append(T.Pref(i))\n",
    "        return ans"
   ]
  },
  {
   "cell_type": "markdown",
   "id": "5139132e",
   "metadata": {},
   "source": [
    "## Q.2"
   ]
  },
  {
   "cell_type": "markdown",
   "id": "c8e5f076",
   "metadata": {},
   "source": [
    "### Maximum XOR of Two Numbers in an Array\n",
    "\n",
    "Given an integer array nums, return the maximum result of nums[i] XOR nums[j], where 0 <= i <= j < n."
   ]
  },
  {
   "cell_type": "markdown",
   "id": "36a9d119",
   "metadata": {},
   "source": [
    "- [LeetCode](https://leetcode.com/problems/maximum-xor-of-two-numbers-in-an-array/description/)"
   ]
  },
  {
   "cell_type": "markdown",
   "id": "a30e8bdd",
   "metadata": {},
   "source": [
    "## Intuition"
   ]
  },
  {
   "cell_type": "markdown",
   "id": "33a0128d",
   "metadata": {},
   "source": [
    "- Use Tries."
   ]
  },
  {
   "cell_type": "markdown",
   "id": "6e1722c3",
   "metadata": {},
   "source": [
    "## Solution"
   ]
  },
  {
   "cell_type": "code",
   "execution_count": 8,
   "id": "04722852",
   "metadata": {},
   "outputs": [],
   "source": [
    "class TrieNode:\n",
    "    def __init__(self):\n",
    "        self.child={}\n",
    "class Trie:\n",
    "    def __init__(self):\n",
    "        self.root=TrieNode()\n",
    "    def insert(self,num):\n",
    "        node=self.root\n",
    "        for bit in range(31,-1,-1):\n",
    "            cb=(num >> bit) & 1\n",
    "            if cb not in node.child:\n",
    "                node.child[cb]=TrieNode()\n",
    "            node=node.child[cb]\n",
    "    def maxXor(self,num):\n",
    "        node,xor=self.root,0\n",
    "        for bit in range(31,-1,-1):\n",
    "            cb=(num >> bit) & 1\n",
    "            if 1-cb in node.child:\n",
    "                xor |=(1<<bit)\n",
    "                node=node.child[1-cb]\n",
    "            else:node=node.child[cb]\n",
    "        return xor\n",
    "\n",
    "class Solution:\n",
    "    def findMaximumXOR(self, nums: List[int]) -> int:\n",
    "        T,ans=Trie(),float('-inf')\n",
    "        for i in nums:T.insert(i)\n",
    "        for i in nums:ans=max(T.maxXor(i),ans)\n",
    "        return ans"
   ]
  },
  {
   "cell_type": "markdown",
   "id": "d7b9c318",
   "metadata": {},
   "source": [
    "## Q.3"
   ]
  },
  {
   "cell_type": "markdown",
   "id": "cfd7c30c",
   "metadata": {},
   "source": [
    "### Flatten Binary Tree to Linked List\n",
    "\n",
    "Given the root of a binary tree, flatten the tree into a \"linked list\":\n",
    "\n",
    "- The \"linked list\" should use the same TreeNode class where the right child pointer points to the next node in the list and the left child pointer is always null.\n",
    "- The \"linked list\" should be in the same order as a pre-order traversal of the binary tree."
   ]
  },
  {
   "cell_type": "markdown",
   "id": "4413652d",
   "metadata": {},
   "source": [
    "- [LeetCode](https://leetcode.com/problems/flatten-binary-tree-to-linked-list/description/)\n",
    "- [Interviewbit](https://www.interviewbit.com/problems/flatten-binary-tree-to-linked-list/submissions/)"
   ]
  },
  {
   "cell_type": "markdown",
   "id": "a677c90c",
   "metadata": {},
   "source": [
    "## Intuition"
   ]
  },
  {
   "cell_type": "markdown",
   "id": "b4f54eba",
   "metadata": {},
   "source": [
    "- Use Recursion solve right half and then left half."
   ]
  },
  {
   "cell_type": "markdown",
   "id": "02677d27",
   "metadata": {},
   "source": [
    "## Solution"
   ]
  },
  {
   "cell_type": "code",
   "execution_count": 8,
   "id": "b05ad0a1",
   "metadata": {},
   "outputs": [],
   "source": [
    "class Solution:\n",
    "    # @param A : root node of tree\n",
    "    # @return the root node in the tree\n",
    "    def flatten(self, A):\n",
    "        Prev=[None]\n",
    "        def Rec(R):\n",
    "            if not R:return\n",
    "            Rec(R.right)\n",
    "            Rec(R.left)\n",
    "            R.left=None\n",
    "            R.right=Prev[0]\n",
    "            Prev[0]=R\n",
    "        Rec(A)\n",
    "        return A"
   ]
  },
  {
   "cell_type": "markdown",
   "id": "6bd460ff",
   "metadata": {},
   "source": [
    "## Coding Ninjas Problem of the Day"
   ]
  },
  {
   "cell_type": "markdown",
   "id": "66f42200",
   "metadata": {},
   "source": [
    "## [Easy](https://www.naukri.com/code360/problems/return-in-row-wave-form_893285)"
   ]
  },
  {
   "cell_type": "code",
   "execution_count": null,
   "id": "e4d55036",
   "metadata": {},
   "outputs": [],
   "source": [
    "def rowWaveForm(mat):\n",
    "    ans=[]\n",
    "    for i in range(len(mat)):\n",
    "        if i%2:ans+=mat[i][::-1]\n",
    "        else:ans+=mat[i]\n",
    "    return ans"
   ]
  },
  {
   "cell_type": "markdown",
   "id": "b8494e61",
   "metadata": {},
   "source": [
    "## [Moderate](https://www.naukri.com/code360/problems/asteroid-collision_977232)"
   ]
  },
  {
   "cell_type": "code",
   "execution_count": null,
   "id": "f751f333",
   "metadata": {},
   "outputs": [],
   "source": [
    "from typing import List\n",
    "\n",
    "def collidingAsteroids(asteroids: List[int]) -> List[int]:\n",
    "    R=[]\n",
    "    for a in asteroids:\n",
    "        while R and a<=0<R[-1]:\n",
    "            if R[-1]<-a:\n",
    "                R.pop()\n",
    "                continue\n",
    "            elif R[-1]==-a:\n",
    "                R.pop()\n",
    "            break\n",
    "        else:\n",
    "            R.append(a)\n",
    "    return R"
   ]
  },
  {
   "cell_type": "markdown",
   "id": "e5fc51cc",
   "metadata": {},
   "source": [
    "## [Hard](https://www.naukri.com/code360/problems/ninja-and-the-malicious-software_3153023)"
   ]
  },
  {
   "cell_type": "code",
   "execution_count": 2,
   "id": "3348ef19",
   "metadata": {},
   "outputs": [],
   "source": [
    "from typing import List\n",
    "def Find(P,i):\n",
    "    if i==P[i]:return P[i]\n",
    "    P[i]=Find(P,P[i])\n",
    "    return P[i]\n",
    "def Union(a,b,S,P):\n",
    "    x,y=Find(P,a),Find(P,b)\n",
    "    if x==y:return\n",
    "    if S[x]>=S[y]:\n",
    "        P[y]=x\n",
    "        S[x]+=S[y]\n",
    "    else:\n",
    "        S[y]+=S[x]\n",
    "        P[x]=y\n",
    "\n",
    "def minimizeMalwareSpread(n: int, graph: List[List[int]], m: int, infected: List[int]) -> int:\n",
    "    P,S,I=[i for i in range(len(graph))],[1]*(len(graph)),sorted(infected, reverse=True)\n",
    "    for i in range(len(graph)):\n",
    "        for j in range(len(graph[0])):\n",
    "            if graph[i][j]:Union(i,j,S,P)\n",
    "    M,ans=float('-inf'),0\n",
    "    for i in I:\n",
    "        s=S[Find(P,i)]\n",
    "        if s>M:\n",
    "            ans=i\n",
    "    return ans"
   ]
  },
  {
   "cell_type": "code",
   "execution_count": null,
   "id": "864d385a",
   "metadata": {},
   "outputs": [],
   "source": []
  }
 ],
 "metadata": {
  "kernelspec": {
   "display_name": "Python 3 (ipykernel)",
   "language": "python",
   "name": "python3"
  },
  "language_info": {
   "codemirror_mode": {
    "name": "ipython",
    "version": 3
   },
   "file_extension": ".py",
   "mimetype": "text/x-python",
   "name": "python",
   "nbconvert_exporter": "python",
   "pygments_lexer": "ipython3",
   "version": "3.11.5"
  }
 },
 "nbformat": 4,
 "nbformat_minor": 5
}
