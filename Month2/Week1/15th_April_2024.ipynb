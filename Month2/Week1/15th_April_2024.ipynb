{
 "cells": [
  {
   "cell_type": "markdown",
   "id": "d2ffff82",
   "metadata": {},
   "source": [
    "## Q.1"
   ]
  },
  {
   "cell_type": "markdown",
   "id": "2be451c7",
   "metadata": {},
   "source": [
    "### Contact Finder\n",
    "\n",
    "We're going to make our own Contacts application! The application must perform two types of operations:\n",
    "\n",
    "- add name, where  is a string denoting a contact name. This must store  as a new contact in the application.\n",
    "- find partial, where  is a string that denotes a partial name to search the application for. \n",
    "It must count the number of contacts starting with  and print the count on a new line.\n",
    "Given  sequential add and find operations, perform each operation in order."
   ]
  },
  {
   "cell_type": "markdown",
   "id": "b463c5ca",
   "metadata": {},
   "source": [
    "- [Hackerrank](https://www.hackerrank.com/challenges/ctci-contacts/problem)"
   ]
  },
  {
   "cell_type": "markdown",
   "id": "c04699b3",
   "metadata": {},
   "source": [
    "## Intuition"
   ]
  },
  {
   "cell_type": "markdown",
   "id": "ff548fba",
   "metadata": {},
   "source": [
    "- Use Tries."
   ]
  },
  {
   "cell_type": "markdown",
   "id": "b35c0d8a",
   "metadata": {},
   "source": [
    "## Solution"
   ]
  },
  {
   "cell_type": "code",
   "execution_count": 1,
   "id": "54651483",
   "metadata": {},
   "outputs": [
    {
     "name": "stdout",
     "output_type": "stream",
     "text": [
      "5\n",
      "add abc\n",
      "add ajkjn\n",
      "add knokn\n",
      "add pkmkm\n",
      "find kno\n",
      "1\n"
     ]
    }
   ],
   "source": [
    "import math\n",
    "import os\n",
    "import random\n",
    "import re\n",
    "import sys\n",
    "\n",
    "class TrieNode:\n",
    "    def __init__(self,f=1):\n",
    "        self.child=[None]*26\n",
    "        self.f=f\n",
    "class Trie:\n",
    "    def __init__(self):\n",
    "        self.root=TrieNode()\n",
    "    def insert(self,a):\n",
    "        T=self.root\n",
    "        for i in a:\n",
    "            if not T.child[ord(i)-ord('a')]:\n",
    "                T.child[ord(i)-ord('a')]=TrieNode(0)\n",
    "            T=T.child[ord(i)-ord('a')]\n",
    "            T.f+=1\n",
    "    def search(self,a):\n",
    "        T=self.root\n",
    "        for i in a:\n",
    "            if T.child[ord(i)-ord('a')]:\n",
    "                T=T.child[ord(i)-ord('a')]\n",
    "            else:return 0\n",
    "        return T.f\n",
    "\n",
    "if __name__ == '__main__':\n",
    "    n = int(input().strip())\n",
    "    T=Trie()\n",
    "\n",
    "    for n_itr in range(n):\n",
    "        first_multiple_input = input().rstrip().split()\n",
    "\n",
    "        op = first_multiple_input[0]\n",
    "\n",
    "        contact = first_multiple_input[1]\n",
    "        \n",
    "        if op=='add':T.insert(contact)\n",
    "        else:print(T.search(contact))"
   ]
  },
  {
   "cell_type": "markdown",
   "id": "5139132e",
   "metadata": {},
   "source": [
    "## Q.2"
   ]
  },
  {
   "cell_type": "markdown",
   "id": "c8e5f076",
   "metadata": {},
   "source": [
    "### Implement Trie (Prefix Tree)\n",
    "\n",
    "A trie (pronounced as \"try\") or prefix tree is a tree data structure used to efficiently store and retrieve keys in a dataset of strings. There are various applications of this data structure, such as autocomplete and spellchecker.\n",
    "\n",
    "Implement the Trie class:\n",
    "\n",
    "Trie() Initializes the trie object.\n",
    "void insert(String word) Inserts the string word into the trie.\n",
    "boolean search(String word) Returns true if the string word is in the trie (i.e., was inserted before), and false otherwise.\n",
    "boolean startsWith(String prefix) Returns true if there is a previously inserted string word that has the prefix prefix, and false otherwise."
   ]
  },
  {
   "cell_type": "markdown",
   "id": "36a9d119",
   "metadata": {},
   "source": [
    "- [LeetCode](https://leetcode.com/problems/implement-trie-prefix-tree/description/)"
   ]
  },
  {
   "cell_type": "markdown",
   "id": "a30e8bdd",
   "metadata": {},
   "source": [
    "## Intuition"
   ]
  },
  {
   "cell_type": "markdown",
   "id": "33a0128d",
   "metadata": {},
   "source": [
    "- Use Tries."
   ]
  },
  {
   "cell_type": "markdown",
   "id": "6e1722c3",
   "metadata": {},
   "source": [
    "## Solution"
   ]
  },
  {
   "cell_type": "code",
   "execution_count": 8,
   "id": "04722852",
   "metadata": {},
   "outputs": [],
   "source": [
    "class TrieNode:\n",
    "    def __init__(self):\n",
    "        self.child=[None]*26\n",
    "        self.End=False\n",
    "class Trie:\n",
    "\n",
    "    def __init__(self):\n",
    "        self.root=TrieNode()\n",
    "        \n",
    "\n",
    "    def insert(self, word: str) -> None:\n",
    "        T=self.root\n",
    "        for i in word:\n",
    "            c=ord(i)-ord('a')\n",
    "            if not T.child[c]:\n",
    "                T.child[c]=TrieNode()\n",
    "            T=T.child[c]\n",
    "        T.End=True\n",
    "        \n",
    "\n",
    "    def search(self, word: str) -> bool:\n",
    "        T=self.root\n",
    "        for i in word:\n",
    "            c=ord(i)-ord('a')\n",
    "            if not T.child[c]:return False\n",
    "            T=T.child[c]\n",
    "        return T.End\n",
    "        \n",
    "\n",
    "    def startsWith(self, prefix: str) -> bool:\n",
    "        T=self.root\n",
    "        for i in prefix:\n",
    "            c=ord(i)-ord('a')\n",
    "            if not T.child[c]:return False\n",
    "            T=T.child[c]\n",
    "        return True"
   ]
  },
  {
   "cell_type": "markdown",
   "id": "6bd460ff",
   "metadata": {},
   "source": [
    "## Coding Ninjas Problem of the Day"
   ]
  },
  {
   "cell_type": "markdown",
   "id": "66f42200",
   "metadata": {},
   "source": [
    "## [Easy](https://www.naukri.com/code360/problems/sort-odd-even_5558623)\n",
    "### Python compiler error"
   ]
  },
  {
   "cell_type": "code",
   "execution_count": null,
   "id": "e4d55036",
   "metadata": {},
   "outputs": [],
   "source": [
    "def sortOddEven(nums):\n",
    "    n = len(nums)\n",
    "    ans = sorted(nums)\n",
    "    i, j, k = 0, n - 1, n - 1\n",
    "    while k >= 0:\n",
    "        if ans[k] % 2 == 0:\n",
    "            nums[j] = ans[k]\n",
    "            j -= 1\n",
    "        else:\n",
    "            nums[i] = ans[k]\n",
    "            i += 1\n",
    "        k -= 1"
   ]
  },
  {
   "cell_type": "markdown",
   "id": "b8494e61",
   "metadata": {},
   "source": [
    "## [Moderate](https://www.naukri.com/code360/problems/who-won-the-election_985277)"
   ]
  },
  {
   "cell_type": "code",
   "execution_count": null,
   "id": "f751f333",
   "metadata": {},
   "outputs": [],
   "source": []
  },
  {
   "cell_type": "markdown",
   "id": "e5fc51cc",
   "metadata": {},
   "source": [
    "## [Hard](https://www.naukri.com/code360/problems/print-nodes-at-distance-k-from-a-given-node_842560)"
   ]
  },
  {
   "cell_type": "code",
   "execution_count": 10,
   "id": "3348ef19",
   "metadata": {},
   "outputs": [],
   "source": [
    "from collections import deque\n",
    "class BinaryTreeNode:\n",
    "    def __init__(self, data):\n",
    "        self.data = data\n",
    "        self.left = None\n",
    "        self.right = None\n",
    "\n",
    "def addParent(root,p,hm):\n",
    "    if root is None:return\n",
    "    hm[root]=p\n",
    "    addParent(root.left,root,hm)\n",
    "    addParent(root.right,root,hm)\n",
    "\n",
    "def printNodesAtDistanceK(root, target, K):\n",
    "    result,Q,vis,parent=[],deque(),set(),{}\n",
    "    addParent(root,None,parent)\n",
    "    Q.append(target)\n",
    "    vis.add(target)\n",
    "\n",
    "    while Q:\n",
    "        n=len(Q)\n",
    "        for _ in range(n):\n",
    "            curr=Q.popleft()\n",
    "            if K==0:result.append(curr)\n",
    "            if curr.left and curr.left not in vis:\n",
    "                Q.append(curr.left)\n",
    "                vis.add(curr.left)\n",
    "            if curr.right and curr.right not in vis:\n",
    "                Q.append(curr.right)\n",
    "                vis.add(curr.right)\n",
    "            if parent.get(curr) and parent[curr] not in vis:\n",
    "                Q.append(parent[curr])\n",
    "                vis.add(parent[curr])\n",
    "        K-=1\n",
    "        if K<0:break\n",
    "    return result\n",
    "    "
   ]
  },
  {
   "cell_type": "code",
   "execution_count": null,
   "id": "864d385a",
   "metadata": {},
   "outputs": [],
   "source": []
  }
 ],
 "metadata": {
  "kernelspec": {
   "display_name": "Python 3 (ipykernel)",
   "language": "python",
   "name": "python3"
  },
  "language_info": {
   "codemirror_mode": {
    "name": "ipython",
    "version": 3
   },
   "file_extension": ".py",
   "mimetype": "text/x-python",
   "name": "python",
   "nbconvert_exporter": "python",
   "pygments_lexer": "ipython3",
   "version": "3.11.5"
  }
 },
 "nbformat": 4,
 "nbformat_minor": 5
}
