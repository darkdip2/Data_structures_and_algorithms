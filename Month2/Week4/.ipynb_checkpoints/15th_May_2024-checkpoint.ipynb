{
 "cells": [
  {
   "cell_type": "markdown",
   "id": "d2ffff82",
   "metadata": {},
   "source": [
    "## Q.1"
   ]
  },
  {
   "cell_type": "markdown",
   "id": "2be451c7",
   "metadata": {},
   "source": [
    "### Word Break\n",
    "\n",
    "Given a string s and a dictionary of strings wordDict, return true if s can be segmented into a space-separated sequence of one or more dictionary words.\n",
    "\n",
    "Note that the same word in the dictionary may be reused multiple times in the segmentation."
   ]
  },
  {
   "cell_type": "markdown",
   "id": "b463c5ca",
   "metadata": {},
   "source": [
    "- [LeetCode](https://leetcode.com/problems/word-break/description/)\n",
    "- [Interviewbit](https://www.interviewbit.com/problems/word-break/)"
   ]
  },
  {
   "cell_type": "markdown",
   "id": "c04699b3",
   "metadata": {},
   "source": [
    "## Intuition"
   ]
  },
  {
   "cell_type": "markdown",
   "id": "ff548fba",
   "metadata": {},
   "source": [
    "- Use DP."
   ]
  },
  {
   "cell_type": "markdown",
   "id": "b35c0d8a",
   "metadata": {},
   "source": [
    "## Solution"
   ]
  },
  {
   "cell_type": "code",
   "execution_count": 1,
   "id": "54651483",
   "metadata": {},
   "outputs": [],
   "source": [
    "class Solution:\n",
    "    # @param A : string\n",
    "    # @param B : list of strings\n",
    "    # @return an integer\n",
    "    def wordBreak(self, A, B):\n",
    "        S=set(B)\n",
    "        T=[0]*(len(A)+1)\n",
    "        T[len(A)]=1\n",
    "        for i in range(len(A),-1,-1):\n",
    "            for w in S:\n",
    "                    if i+len(w)<=len(A) and A[i:i+len(w)]==w and T[i+len(w)]:T[i]=1\n",
    "                    if T[i]:break\n",
    "        return T[0]"
   ]
  },
  {
   "cell_type": "markdown",
   "id": "a6801432",
   "metadata": {},
   "source": [
    "## Q.2"
   ]
  },
  {
   "cell_type": "markdown",
   "id": "0c221f8d",
   "metadata": {},
   "source": [
    "### Palindromic Substrings\n",
    "\n",
    "Given a string s, return the number of palindromic substrings in it.\n",
    "\n",
    "A string is a palindrome when it reads the same backward as forward.\n",
    "\n",
    "A substring is a contiguous sequence of characters within the string."
   ]
  },
  {
   "cell_type": "markdown",
   "id": "3218c06a",
   "metadata": {},
   "source": [
    "- [LeetCode](https://leetcode.com/problems/palindromic-substrings/description/)\n",
    "- [Interviewbit](https://www.interviewbit.com/problems/palindromic-substrings/)"
   ]
  },
  {
   "cell_type": "markdown",
   "id": "dd3c3b29",
   "metadata": {},
   "source": [
    "## Intuition"
   ]
  },
  {
   "cell_type": "markdown",
   "id": "d8c520ea",
   "metadata": {},
   "source": [
    "- Use DP."
   ]
  },
  {
   "cell_type": "markdown",
   "id": "4b15d859",
   "metadata": {},
   "source": [
    "## Solution"
   ]
  },
  {
   "cell_type": "code",
   "execution_count": 1,
   "id": "2838d819",
   "metadata": {},
   "outputs": [],
   "source": [
    "class Solution:\n",
    "    # @param A : string\n",
    "    # @return an integer\n",
    "    def countSubstrings(self, A):\n",
    "        n=len(A)\n",
    "        T,count=[[0]*n for _ in range(n)],n\n",
    "        for i in range(n):T[i][i]=1\n",
    "        for i in range(1,n):\n",
    "            if A[i-1]==A[i]:\n",
    "                T[i-1][i]=1\n",
    "                count+=1\n",
    "        for l in range(3,n+1):\n",
    "            for i in range(n-l+1):\n",
    "                j=i+l-1\n",
    "                if A[i]==A[j] and T[i+1][j-1]:\n",
    "                    T[i][j]=1\n",
    "                    count+=1\n",
    "        return count"
   ]
  },
  {
   "cell_type": "markdown",
   "id": "5139132e",
   "metadata": {},
   "source": [
    "## Q.3"
   ]
  },
  {
   "cell_type": "markdown",
   "id": "c8e5f076",
   "metadata": {},
   "source": [
    "### Palindrome Partitioning II\n",
    "\n",
    "Given a string s, partition s such that every substring of the partition is a palindrome.\n",
    "Return the minimum cuts needed for a palindrome partitioning of s."
   ]
  },
  {
   "cell_type": "markdown",
   "id": "36a9d119",
   "metadata": {},
   "source": [
    "- [LeetCode](https://leetcode.com/problems/palindrome-partitioning-ii/description/)\n",
    "- [Interviewbit](https://www.interviewbit.com/problems/palindrome-partitioning-ii/)"
   ]
  },
  {
   "cell_type": "markdown",
   "id": "a30e8bdd",
   "metadata": {},
   "source": [
    "## Intuition"
   ]
  },
  {
   "cell_type": "markdown",
   "id": "33a0128d",
   "metadata": {},
   "source": [
    "- Use DP."
   ]
  },
  {
   "cell_type": "markdown",
   "id": "6e1722c3",
   "metadata": {},
   "source": [
    "## Solution"
   ]
  },
  {
   "cell_type": "code",
   "execution_count": 3,
   "id": "04722852",
   "metadata": {},
   "outputs": [],
   "source": [
    "class Solution:\n",
    "    def minCut(self, s: str) -> int:\n",
    "        M={}\n",
    "        def Rec(i):\n",
    "            if i==len(s):return 0\n",
    "            if i in M:return M[i]\n",
    "            T,m='',float('inf')\n",
    "            for j in range(i,len(s)):\n",
    "                T+=s[j]\n",
    "                if T==T[-1::-1]:\n",
    "                    m=min(m,1+Rec(j+1))\n",
    "            M[i]=m\n",
    "            return M[i]\n",
    "        return Rec(0)-1"
   ]
  },
  {
   "cell_type": "markdown",
   "id": "706d97cc",
   "metadata": {},
   "source": [
    "## Q.4"
   ]
  },
  {
   "cell_type": "markdown",
   "id": "f5a12144",
   "metadata": {},
   "source": [
    "### Longest Valid Parentheses\n",
    "\n",
    "Given a string containing just the characters '(' and ')', return the length of the longest valid (well-formed) parentheses \n",
    "substring."
   ]
  },
  {
   "cell_type": "markdown",
   "id": "96996cff",
   "metadata": {},
   "source": [
    "- [LeetCode](https://leetcode.com/problems/longest-valid-parentheses/description/)\n",
    "- [Interviewbit](https://www.interviewbit.com/problems/longest-valid-parentheses/)"
   ]
  },
  {
   "cell_type": "markdown",
   "id": "a25ca31b",
   "metadata": {},
   "source": [
    "## Intuition"
   ]
  },
  {
   "cell_type": "markdown",
   "id": "d7ace036",
   "metadata": {},
   "source": [
    "- Use DP."
   ]
  },
  {
   "cell_type": "markdown",
   "id": "1f08ffaf",
   "metadata": {},
   "source": [
    "## Solution"
   ]
  },
  {
   "cell_type": "code",
   "execution_count": 1,
   "id": "a1a9ca34",
   "metadata": {},
   "outputs": [],
   "source": [
    "class Solution:\n",
    "    def longestValidParentheses(self, A):\n",
    "        dp = [0] * len(A)\n",
    "        stack = []\n",
    "\n",
    "        for i in range(len(A)):\n",
    "            if A[i] == '(':\n",
    "                stack.append(i)\n",
    "            else:\n",
    "                if stack:\n",
    "                    openParIndex = stack.pop()\n",
    "                    length = i - openParIndex + 1\n",
    "                    if openParIndex > 0:dp[i] = dp[openParIndex - 1] + length\n",
    "                    else:dp[i] = length\n",
    "        maxLength = 0\n",
    "        for length in dp:\n",
    "            maxLength = max(maxLength, length)\n",
    "        \n",
    "        return maxLength"
   ]
  },
  {
   "cell_type": "markdown",
   "id": "737fe9ec",
   "metadata": {},
   "source": [
    "## Q.5"
   ]
  },
  {
   "cell_type": "markdown",
   "id": "771cf211",
   "metadata": {},
   "source": [
    "### Burst Balloons\n",
    "\n",
    "You are given n balloons, indexed from 0 to n - 1. Each balloon is painted with a number on it represented by an array nums. You are asked to burst all the balloons.\n",
    "\n",
    "If you burst the ith balloon, you will get nums[i - 1] * nums[i] * nums[i + 1] coins. If i - 1 or i + 1 goes out of bounds of the array, then treat it as if there is a balloon with a 1 painted on it.\n",
    "\n",
    "Return the maximum coins you can collect by bursting the balloons wisely."
   ]
  },
  {
   "cell_type": "markdown",
   "id": "72515f22",
   "metadata": {},
   "source": [
    "- [LeetCode](https://leetcode.com/problems/burst-balloons/description/)"
   ]
  },
  {
   "cell_type": "markdown",
   "id": "97865ea9",
   "metadata": {},
   "source": [
    "## Intuition"
   ]
  },
  {
   "cell_type": "markdown",
   "id": "cbd07473",
   "metadata": {},
   "source": [
    "- DP."
   ]
  },
  {
   "cell_type": "markdown",
   "id": "033a51fa",
   "metadata": {},
   "source": [
    "## Solution"
   ]
  },
  {
   "cell_type": "code",
   "execution_count": 3,
   "id": "40533c64",
   "metadata": {},
   "outputs": [],
   "source": [
    "class Solution:\n",
    "    def maxCoins(self, nums):\n",
    "        nums=[1]+nums+[1]\n",
    "        M,n={},len(nums)\n",
    "        def Rec(i,j):\n",
    "            if i>j:return 0\n",
    "            if (i,j) in M:return M[(i,j)]\n",
    "            m=0\n",
    "            for k in range(i,j+1):\n",
    "                m=max(Rec(i,k-1)+Rec(k+1,j)+nums[i-1]*nums[k]*nums[j+1],m)\n",
    "            M[(i,j)]=m\n",
    "            return m   \n",
    "        return Rec(1,n-2)"
   ]
  },
  {
   "cell_type": "markdown",
   "id": "6bd460ff",
   "metadata": {},
   "source": [
    "## Coding Ninjas Problem of the Day"
   ]
  },
  {
   "cell_type": "markdown",
   "id": "66f42200",
   "metadata": {},
   "source": [
    "## [Easy](https://www.naukri.com/code360/problems/flip-given-bits_973114)"
   ]
  },
  {
   "cell_type": "code",
   "execution_count": 5,
   "id": "e4d55036",
   "metadata": {},
   "outputs": [],
   "source": [
    "def flipSomeBits(num, arr, n):\n",
    "    for i in range(n):\n",
    "        pos=arr[i]\n",
    "        num^=(1<<pos-1)\n",
    "    return num"
   ]
  },
  {
   "cell_type": "markdown",
   "id": "b8494e61",
   "metadata": {},
   "source": [
    "## [Moderate](https://www.naukri.com/code360/problems/minimum-difference-of-subarrays_2181057)"
   ]
  },
  {
   "cell_type": "code",
   "execution_count": 3,
   "id": "4722a4c9",
   "metadata": {},
   "outputs": [],
   "source": [
    "def minimumDifference(n, arr):\n",
    "    S,M,s=sum(arr),float('inf'),0\n",
    "    for i in arr:\n",
    "        s+=i\n",
    "        M=min(M,abs(2*s-S))\n",
    "    return M"
   ]
  },
  {
   "cell_type": "markdown",
   "id": "e5fc51cc",
   "metadata": {},
   "source": [
    "## [Hard](https://www.naukri.com/code360/problems/boyer-moore-for-pattern-searching_1229066)"
   ]
  },
  {
   "cell_type": "code",
   "execution_count": 1,
   "id": "3348ef19",
   "metadata": {},
   "outputs": [],
   "source": []
  },
  {
   "cell_type": "code",
   "execution_count": null,
   "id": "864d385a",
   "metadata": {},
   "outputs": [],
   "source": []
  }
 ],
 "metadata": {
  "kernelspec": {
   "display_name": "Python 3 (ipykernel)",
   "language": "python",
   "name": "python3"
  },
  "language_info": {
   "codemirror_mode": {
    "name": "ipython",
    "version": 3
   },
   "file_extension": ".py",
   "mimetype": "text/x-python",
   "name": "python",
   "nbconvert_exporter": "python",
   "pygments_lexer": "ipython3",
   "version": "3.11.5"
  }
 },
 "nbformat": 4,
 "nbformat_minor": 5
}
