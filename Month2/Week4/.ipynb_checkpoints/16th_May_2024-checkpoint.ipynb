{
 "cells": [
  {
   "cell_type": "markdown",
   "id": "d2ffff82",
   "metadata": {},
   "source": [
    "## Q.1"
   ]
  },
  {
   "cell_type": "markdown",
   "id": "2be451c7",
   "metadata": {},
   "source": [
    "### Longest Increasing Subsequence\n",
    "\n",
    "Given an integer array nums, return the length of the longest strictly increasing subsequence."
   ]
  },
  {
   "cell_type": "markdown",
   "id": "b463c5ca",
   "metadata": {},
   "source": [
    "- [LeetCode](https://leetcode.com/problems/longest-increasing-subsequence/description/)\n",
    "- [Interviewbit](https://www.interviewbit.com/problems/longest-increasing-subsequence/)"
   ]
  },
  {
   "cell_type": "markdown",
   "id": "c04699b3",
   "metadata": {},
   "source": [
    "## Intuition"
   ]
  },
  {
   "cell_type": "markdown",
   "id": "ff548fba",
   "metadata": {},
   "source": [
    "- Use DP."
   ]
  },
  {
   "cell_type": "markdown",
   "id": "b35c0d8a",
   "metadata": {},
   "source": [
    "## Solution"
   ]
  },
  {
   "cell_type": "code",
   "execution_count": 1,
   "id": "54651483",
   "metadata": {},
   "outputs": [],
   "source": [
    "class Solution:\n",
    "    # @param A : tuple of integers\n",
    "    # @return an integer\n",
    "    def lengthOfLIS(self, A):\n",
    "        n = len(A)\n",
    "        T = [1] * n\n",
    "        for i in range(n):\n",
    "            for j in range(i):\n",
    "                if A[j] < A[i]:\n",
    "                    T[i] = max(T[i], T[j] + 1)\n",
    "        return max(T)"
   ]
  },
  {
   "cell_type": "markdown",
   "id": "a6801432",
   "metadata": {},
   "source": [
    "## Q.2"
   ]
  },
  {
   "cell_type": "markdown",
   "id": "0c221f8d",
   "metadata": {},
   "source": [
    "### Russian Doll Envelopes\n",
    "\n",
    "You are given a 2D array of integers envelopes where envelopes[i] = [wi, hi] represents the width and the height of an envelope.\n",
    "\n",
    "One envelope can fit into another if and only if both the width and height of one envelope are greater than the other envelope's width and height.\n",
    "\n",
    "Return the maximum number of envelopes you can Russian doll (i.e., put one inside the other).\n",
    "\n",
    "Note: You cannot rotate an envelope."
   ]
  },
  {
   "cell_type": "markdown",
   "id": "3218c06a",
   "metadata": {},
   "source": [
    "- [LeetCode](https://leetcode.com/problems/russian-doll-envelopes/description/)"
   ]
  },
  {
   "cell_type": "markdown",
   "id": "dd3c3b29",
   "metadata": {},
   "source": [
    "## Intuition"
   ]
  },
  {
   "cell_type": "markdown",
   "id": "d8c520ea",
   "metadata": {},
   "source": [
    "- Use LIS."
   ]
  },
  {
   "cell_type": "markdown",
   "id": "4b15d859",
   "metadata": {},
   "source": [
    "## Solution"
   ]
  },
  {
   "cell_type": "code",
   "execution_count": 2,
   "id": "2838d819",
   "metadata": {},
   "outputs": [],
   "source": [
    "from typing import List\n",
    "class Solution:\n",
    "    def maxEnvelopes(self, envelopes: List[List[int]]) -> int:\n",
    "        envelopes.sort(key=lambda x:  (x[0],-x[1]))\n",
    "        R=[]\n",
    "        for w,h in envelopes:\n",
    "            l,r=0,len(R)-1\n",
    "            while l<=r:\n",
    "                m=(l+r)>>1\n",
    "                if R[m]>=h:\n",
    "                    r=m-1\n",
    "                else:\n",
    "                    l=m+1\n",
    "            if l==len(R):\n",
    "                R.append(h)\n",
    "            else:\n",
    "                R[l]=h\n",
    "        return len(R)"
   ]
  },
  {
   "cell_type": "markdown",
   "id": "5139132e",
   "metadata": {},
   "source": [
    "## Q.3"
   ]
  },
  {
   "cell_type": "markdown",
   "id": "c8e5f076",
   "metadata": {},
   "source": [
    "### Maximum Height by Stacking Cuboids \n",
    "\n",
    "Given n cuboids where the dimensions of the ith cuboid is cuboids[i] = [widthi, lengthi, heighti] (0-indexed). Choose a subset of cuboids and place them on each other.\n",
    "\n",
    "You can place cuboid i on cuboid j if widthi <= widthj and lengthi <= lengthj and heighti <= heightj. You can rearrange any cuboid's dimensions by rotating it to put it on another cuboid.\n",
    "\n",
    "Return the maximum height of the stacked cuboids."
   ]
  },
  {
   "cell_type": "markdown",
   "id": "36a9d119",
   "metadata": {},
   "source": [
    "- [LeetCode](https://leetcode.com/problems/maximum-height-by-stacking-cuboids/description/)"
   ]
  },
  {
   "cell_type": "markdown",
   "id": "a30e8bdd",
   "metadata": {},
   "source": [
    "## Intuition"
   ]
  },
  {
   "cell_type": "markdown",
   "id": "33a0128d",
   "metadata": {},
   "source": [
    "- Use LIS."
   ]
  },
  {
   "cell_type": "markdown",
   "id": "6e1722c3",
   "metadata": {},
   "source": [
    "## Solution"
   ]
  },
  {
   "cell_type": "code",
   "execution_count": 3,
   "id": "04722852",
   "metadata": {},
   "outputs": [],
   "source": [
    "class Solution:\n",
    "    def maxHeight(self, cuboids: List[List[int]]) -> int:\n",
    "        for c in cuboids:c.sort()\n",
    "        cuboids.sort()\n",
    "        n=len(cuboids)\n",
    "        T=[0]*n\n",
    "        for i in range(n):\n",
    "            T[i]=cuboids[i][2]\n",
    "            for j in range(i):\n",
    "                if cuboids[i][1]>=cuboids[j][1] and cuboids[i][2]>=cuboids[j][2]:\n",
    "                    T[i]=max(T[i],T[j]+cuboids[i][2])\n",
    "        return max(T)"
   ]
  },
  {
   "cell_type": "markdown",
   "id": "706d97cc",
   "metadata": {},
   "source": [
    "## Q.4"
   ]
  },
  {
   "cell_type": "markdown",
   "id": "f5a12144",
   "metadata": {},
   "source": [
    "### Intersecting Chords in a Circle\n",
    "\n",
    "Given a number A, return number of ways you can draw A chords in a circle with 2 x A points such that no 2 chords intersect.\n",
    "\n",
    "Two ways are different if there exists a chord which is present in one way and not in other.\n",
    "\n",
    "Return the answer modulo 10^9 + 7."
   ]
  },
  {
   "cell_type": "markdown",
   "id": "96996cff",
   "metadata": {},
   "source": [
    "- [Interviewbit](https://www.interviewbit.com/problems/intersecting-chords-in-a-circle/)"
   ]
  },
  {
   "cell_type": "markdown",
   "id": "a25ca31b",
   "metadata": {},
   "source": [
    "## Intuition"
   ]
  },
  {
   "cell_type": "markdown",
   "id": "d7ace036",
   "metadata": {},
   "source": [
    "- Nth Catalan number."
   ]
  },
  {
   "cell_type": "markdown",
   "id": "1f08ffaf",
   "metadata": {},
   "source": [
    "## Solution"
   ]
  },
  {
   "cell_type": "code",
   "execution_count": 4,
   "id": "a1a9ca34",
   "metadata": {},
   "outputs": [],
   "source": [
    "class Solution:\n",
    "    # @param A : integer\n",
    "    # @return an integer\n",
    "    def chordCnt(self, A):\n",
    "        T,m=[0]*(A+1),pow(10,9)+7\n",
    "        T[0]=1\n",
    "        for i in range(1,A+1):\n",
    "            for j in range(i):\n",
    "                T[i]+=(T[i-j-1]*T[j])%m\n",
    "        return T[A]%m"
   ]
  },
  {
   "cell_type": "markdown",
   "id": "16c2d9c1",
   "metadata": {},
   "source": [
    "# Best time to buy and sell stocks"
   ]
  },
  {
   "cell_type": "markdown",
   "id": "27ab9204",
   "metadata": {},
   "source": [
    "## [Once [I]](https://leetcode.com/problems/best-time-to-buy-and-sell-stock/description/)"
   ]
  },
  {
   "cell_type": "code",
   "execution_count": null,
   "id": "983cfc93",
   "metadata": {},
   "outputs": [],
   "source": [
    "class Solution:\n",
    "    # @param A : tuple of integers\n",
    "    # @return an integer\n",
    "    def maxProfit(self, A):\n",
    "        L,r,P=0,1,0\n",
    "        while r<len(A):\n",
    "            if A[r]>A[L]:\n",
    "                P=max(A[r]-A[L],P)\n",
    "            else:\n",
    "                L=r\n",
    "            r+=1\n",
    "        return P"
   ]
  },
  {
   "cell_type": "markdown",
   "id": "081618b6",
   "metadata": {},
   "source": [
    "## [Multiple Times [II]](https://leetcode.com/problems/best-time-to-buy-and-sell-stock-ii/description/)"
   ]
  },
  {
   "cell_type": "code",
   "execution_count": 5,
   "id": "34bb0864",
   "metadata": {},
   "outputs": [],
   "source": [
    "class Solution:\n",
    "    # @param A : tuple of integers\n",
    "    # @return an integer\n",
    "    def maxProfit(self, A):\n",
    "        P=0\n",
    "        for i in range(1,len(A)):\n",
    "            if A[i-1]<A[i]:P+=(A[i]-A[i-1])\n",
    "        return P"
   ]
  },
  {
   "cell_type": "markdown",
   "id": "4136c830",
   "metadata": {},
   "source": [
    "## [At Most 2 Transactions [III]](https://leetcode.com/problems/best-time-to-buy-and-sell-stock-iii/description/)"
   ]
  },
  {
   "cell_type": "code",
   "execution_count": 6,
   "id": "ffa4bba7",
   "metadata": {},
   "outputs": [],
   "source": [
    "from typing import List\n",
    "class Solution:\n",
    "    def maxProfit(self, prices: List[int]) -> int:\n",
    "        buy1,buy2,sell1,sell2=-prices[0],-prices[0],0,0\n",
    "        for i in range(1,len(prices)):\n",
    "            buy1=max(buy1,-prices[i])\n",
    "            sell1=max(sell1,buy1+prices[i])\n",
    "            buy2=max(buy2,sell1-prices[i])\n",
    "            sell2=max(sell2,buy2+prices[i])\n",
    "        return sell2"
   ]
  },
  {
   "cell_type": "markdown",
   "id": "ef8d651c",
   "metadata": {},
   "source": [
    "## [At Most k Transactions [IV]](https://leetcode.com/problems/best-time-to-buy-and-sell-stock-iv/description/)"
   ]
  },
  {
   "cell_type": "code",
   "execution_count": 7,
   "id": "522fd3cd",
   "metadata": {},
   "outputs": [],
   "source": [
    "class Solution:\n",
    "    # @param A : list of integers\n",
    "    # @param B : integer\n",
    "    # @return an integer\n",
    "    def maxProfit(self,k,prices):\n",
    "        n=len(prices)\n",
    "        if k>n:k=n\n",
    "        P=[[0]*(k+1) for x in range(2)]\n",
    "        for i in range(n-1,-1,-1):\n",
    "            c=[[0]*(k+1) for x in range(2)]\n",
    "            for j in range(2):\n",
    "                for k in range(1,k+1):\n",
    "                    if j==0:c[j][k]=max(P[0][k],-prices[i]+P[1][k])\n",
    "                    else:c[j][k]=max(P[1][k],prices[i]+P[0][k-1])\n",
    "            P=c[:]\n",
    "        return P[0][k]"
   ]
  },
  {
   "cell_type": "markdown",
   "id": "86adeb92",
   "metadata": {},
   "source": [
    "## [As many as possible with cooldown](https://leetcode.com/problems/best-time-to-buy-and-sell-stock-with-cooldown/description/)"
   ]
  },
  {
   "cell_type": "code",
   "execution_count": 8,
   "id": "1df9b3ea",
   "metadata": {},
   "outputs": [],
   "source": [
    "from typing import List\n",
    "class Solution:\n",
    "    def maxProfit(self, prices: List[int]) -> int:\n",
    "        M={}\n",
    "        def Rec(i,j):\n",
    "            if i>=len(prices):return 0\n",
    "            if (i,j) in M:return M[(i,j)]\n",
    "            T,Nt=0,0\n",
    "            if j==0:\n",
    "                T=Rec(i+2,1)+prices[i]\n",
    "                Nt=Rec(i+1,0)\n",
    "            else:\n",
    "                T=Rec(i+1,0)-prices[i]\n",
    "                Nt=Rec(i+1,1)\n",
    "            M[(i,j)]=max(T,Nt)\n",
    "            return M[(i,j)]\n",
    "        return Rec(0,1)"
   ]
  },
  {
   "cell_type": "markdown",
   "id": "6bd460ff",
   "metadata": {},
   "source": [
    "## Coding Ninjas Problem of the Day"
   ]
  },
  {
   "cell_type": "markdown",
   "id": "66f42200",
   "metadata": {},
   "source": [
    "## [Easy](https://www.naukri.com/code360/problems/remove-duplicates-from-sorted-array_1102307)"
   ]
  },
  {
   "cell_type": "code",
   "execution_count": 5,
   "id": "e4d55036",
   "metadata": {},
   "outputs": [],
   "source": [
    "def removeDuplicates(arr,n):\n",
    "    j=1\n",
    "    for i in range(1,n):\n",
    "        if arr[j-1]!=arr[i]:\n",
    "            arr[j],arr[i]=arr[i],arr[j]\n",
    "            j+=1\n",
    "    return j"
   ]
  },
  {
   "cell_type": "markdown",
   "id": "b8494e61",
   "metadata": {},
   "source": [
    "## [Moderate](https://www.naukri.com/code360/problems/maximum-subarray-sum_630526)"
   ]
  },
  {
   "cell_type": "code",
   "execution_count": 3,
   "id": "4722a4c9",
   "metadata": {},
   "outputs": [],
   "source": [
    "n=int(input())\n",
    "s=input()\n",
    "a=list(map(int,s.split()))\n",
    "B,s=float('-inf'),0\n",
    "for i in a:\n",
    "    s+=i\n",
    "    B=max(s,B)\n",
    "    if s<0:s=0\n",
    "print(B)"
   ]
  },
  {
   "cell_type": "markdown",
   "id": "e5fc51cc",
   "metadata": {},
   "source": [
    "## [Hard](https://www.naukri.com/code360/problems/boundary-traversal-of-binary-tree_790725)"
   ]
  },
  {
   "cell_type": "code",
   "execution_count": 1,
   "id": "3348ef19",
   "metadata": {},
   "outputs": [],
   "source": [
    "class BinaryTreeNode:\n",
    "    def __init__(self, data):\n",
    "        self.data = data\n",
    "        self.left = None\n",
    "        self.right = None\n",
    "\n",
    "def isLeaf(node):return not node.left and not node.right\n",
    "def leftBoundary(root,ans):\n",
    "    cur=root.left\n",
    "    while cur:\n",
    "        if not isLeaf(cur):ans.append(cur.data)\n",
    "        if cur.left:cur=cur.left\n",
    "        else:cur=cur.right\n",
    "def rightBoundary(root,ans):\n",
    "    cur=root.right\n",
    "    temp=[]\n",
    "    while cur:\n",
    "        if not isLeaf(cur):temp.append(cur.data)\n",
    "        if cur.right:cur=cur.right\n",
    "        else:cur=cur.left\n",
    "    ans.extend(temp[::-1])\n",
    "def leaves(root,ans):\n",
    "    if isLeaf(root):ans.append(root.data)\n",
    "    if root.left:leaves(root.left,ans)\n",
    "    if root.right:leaves(root.right,ans)\n",
    "def traverseBoundary(root):\n",
    "    ans=[]\n",
    "    if not root:return ans\n",
    "    if not isLeaf(root):ans.append(root.data)\n",
    "    leftBoundary(root,ans)\n",
    "    leaves(root,ans)\n",
    "    rightBoundary(root,ans)\n",
    "    return ans"
   ]
  },
  {
   "cell_type": "code",
   "execution_count": null,
   "id": "864d385a",
   "metadata": {},
   "outputs": [],
   "source": []
  }
 ],
 "metadata": {
  "kernelspec": {
   "display_name": "Python 3 (ipykernel)",
   "language": "python",
   "name": "python3"
  },
  "language_info": {
   "codemirror_mode": {
    "name": "ipython",
    "version": 3
   },
   "file_extension": ".py",
   "mimetype": "text/x-python",
   "name": "python",
   "nbconvert_exporter": "python",
   "pygments_lexer": "ipython3",
   "version": "3.11.5"
  }
 },
 "nbformat": 4,
 "nbformat_minor": 5
}
