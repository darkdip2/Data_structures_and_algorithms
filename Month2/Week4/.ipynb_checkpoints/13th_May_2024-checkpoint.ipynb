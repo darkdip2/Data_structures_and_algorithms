{
 "cells": [
  {
   "cell_type": "markdown",
   "id": "d2ffff82",
   "metadata": {},
   "source": [
    "## Q.1"
   ]
  },
  {
   "cell_type": "markdown",
   "id": "2be451c7",
   "metadata": {},
   "source": [
    "### Decode Ways\n",
    "\n",
    "A message containing letters from A-Z can be encoded into numbers using the following mapping:\n",
    "\n",
    "'A' -> \"1\"\n",
    "'B' -> \"2\"\n",
    "...\n",
    "'Z' -> \"26\"\n",
    "To decode an encoded message, all the digits must be grouped then mapped back into letters using the reverse of the mapping above (there may be multiple ways). For example, \"11106\" can be mapped into:\n",
    "\n",
    "\"AAJF\" with the grouping (1 1 10 6)\n",
    "\"KJF\" with the grouping (11 10 6)\n",
    "Note that the grouping (1 11 06) is invalid because \"06\" cannot be mapped into 'F' since \"6\" is different from \"06\".\n",
    "\n",
    "Given a string s containing only digits, return the number of ways to decode it.\n",
    "\n",
    "The test cases are generated so that the answer fits in a 32-bit integer."
   ]
  },
  {
   "cell_type": "markdown",
   "id": "b463c5ca",
   "metadata": {},
   "source": [
    "- [LeetCode](https://leetcode.com/problems/decode-ways/description/)\n",
    "- [Interviewbit](https://www.interviewbit.com/problems/ways-to-decode/)"
   ]
  },
  {
   "cell_type": "markdown",
   "id": "c04699b3",
   "metadata": {},
   "source": [
    "## Intuition"
   ]
  },
  {
   "cell_type": "markdown",
   "id": "ff548fba",
   "metadata": {},
   "source": [
    "- Use DP."
   ]
  },
  {
   "cell_type": "markdown",
   "id": "b35c0d8a",
   "metadata": {},
   "source": [
    "## Solution"
   ]
  },
  {
   "cell_type": "code",
   "execution_count": 1,
   "id": "54651483",
   "metadata": {},
   "outputs": [],
   "source": [
    "class Solution:\n",
    "    def numDecodings(self, s: str) -> int:\n",
    "        M={}\n",
    "        def Rec(i):\n",
    "            if i==len(s):return 1\n",
    "            if s[i]=='0':return 0\n",
    "            if i in M:return M[i]\n",
    "            O=Rec(i+1)\n",
    "            if i+1<len(s) and (s[i]=='1' or (s[i]=='2' and s[i+1]<='6')):O+=Rec(i+2)\n",
    "            M[i]=O\n",
    "            return O\n",
    "        return Rec(0)"
   ]
  },
  {
   "cell_type": "markdown",
   "id": "5139132e",
   "metadata": {},
   "source": [
    "## Q.2"
   ]
  },
  {
   "cell_type": "markdown",
   "id": "c8e5f076",
   "metadata": {},
   "source": [
    "### 0-1 Knapsack\n",
    "\n",
    "Given two integer arrays A and B of size N each which represent values and weights associated with N items respectively.\n",
    "\n",
    "Also given an integer C which represents knapsack capacity.\n",
    "\n",
    "Find out the maximum value subset of A such that sum of the weights of this subset is smaller than or equal to C.\n",
    "\n",
    "- NOTE: You cannot break an item, either pick the complete item, or don’t pick it (0-1 property)."
   ]
  },
  {
   "cell_type": "markdown",
   "id": "36a9d119",
   "metadata": {},
   "source": [
    "- [Interviewbit](https://www.interviewbit.com/problems/0-1-knapsack/)"
   ]
  },
  {
   "cell_type": "markdown",
   "id": "a30e8bdd",
   "metadata": {},
   "source": [
    "## Intuition"
   ]
  },
  {
   "cell_type": "markdown",
   "id": "33a0128d",
   "metadata": {},
   "source": [
    "- Use DP."
   ]
  },
  {
   "cell_type": "markdown",
   "id": "6e1722c3",
   "metadata": {},
   "source": [
    "## Solution"
   ]
  },
  {
   "cell_type": "code",
   "execution_count": 3,
   "id": "04722852",
   "metadata": {},
   "outputs": [],
   "source": [
    "class Solution:\n",
    "    # @param A : list of integers [values]\n",
    "    # @param B : list of integers [weights]\n",
    "    # @param C : integer [capacity]\n",
    "    # @return an integer\n",
    "    def solve(self, C, A, B):\n",
    "        P,n=[0]*(C+1),len(A)\n",
    "        for i in range(1,n+1):\n",
    "            c=[0]*(C+1)\n",
    "            for j in range(1,C+1):\n",
    "                if B[i-1]<=j:c[j]=max(P[j],A[i-1]+P[j-B[i-1]]) #For unbounded use c[j-B[i-1]]\n",
    "                else:c[j]=P[j]\n",
    "            P=c[:]\n",
    "        return P[C]"
   ]
  },
  {
   "cell_type": "markdown",
   "id": "706d97cc",
   "metadata": {},
   "source": [
    "## Q.3"
   ]
  },
  {
   "cell_type": "markdown",
   "id": "f5a12144",
   "metadata": {},
   "source": [
    "### Coin Change II\n",
    "\n",
    "You are given an integer array coins representing coins of different denominations and an integer amount representing a total amount of money.\n",
    "\n",
    "Return the number of combinations that make up that amount. If that amount of money cannot be made up by any combination of the coins, return 0.\n",
    "\n",
    "You may assume that you have an infinite number of each kind of coin.\n",
    "\n",
    "The answer is guaranteed to fit into a signed 32-bit integer."
   ]
  },
  {
   "cell_type": "markdown",
   "id": "96996cff",
   "metadata": {},
   "source": [
    "- [LeetCode](https://leetcode.com/problems/coin-change-ii/description/)\n",
    "- [Interviewbit](https://www.interviewbit.com/problems/coin-sum-infinite/)"
   ]
  },
  {
   "cell_type": "markdown",
   "id": "a25ca31b",
   "metadata": {},
   "source": [
    "## Intuition"
   ]
  },
  {
   "cell_type": "markdown",
   "id": "d7ace036",
   "metadata": {},
   "source": [
    "- Use DP."
   ]
  },
  {
   "cell_type": "markdown",
   "id": "1f08ffaf",
   "metadata": {},
   "source": [
    "## Solution"
   ]
  },
  {
   "cell_type": "code",
   "execution_count": 1,
   "id": "a1a9ca34",
   "metadata": {},
   "outputs": [],
   "source": [
    "class Solution:\n",
    "    def change(self, amount: int, coins: List[int]) -> int:\n",
    "        T=[0]*(amount+1)\n",
    "        T[0]=1\n",
    "        for i in coins:\n",
    "            for a in range(i,amount+1):T[a]+=T[a-i]\n",
    "        return T[amount]"
   ]
  },
  {
   "cell_type": "markdown",
   "id": "737fe9ec",
   "metadata": {},
   "source": [
    "## Q.4"
   ]
  },
  {
   "cell_type": "markdown",
   "id": "771cf211",
   "metadata": {},
   "source": [
    "### Flip Array\n",
    "\n",
    "Given an array A of positive elements, you have to flip the sign of some of its elements such that the resultant sum of the elements of array should be minimum non-negative(as close to zero as possible).\n",
    "\n",
    "Return the minimum number of elements whose sign needs to be flipped such that the resultant sum is minimum non-negative."
   ]
  },
  {
   "cell_type": "markdown",
   "id": "72515f22",
   "metadata": {},
   "source": [
    "- [Interviewbit](https://www.interviewbit.com/problems/flip-array/)"
   ]
  },
  {
   "cell_type": "markdown",
   "id": "97865ea9",
   "metadata": {},
   "source": [
    "## Intuition"
   ]
  },
  {
   "cell_type": "markdown",
   "id": "cbd07473",
   "metadata": {},
   "source": [
    "- DP."
   ]
  },
  {
   "cell_type": "markdown",
   "id": "033a51fa",
   "metadata": {},
   "source": [
    "## Solution"
   ]
  },
  {
   "cell_type": "code",
   "execution_count": 3,
   "id": "40533c64",
   "metadata": {},
   "outputs": [],
   "source": [
    "class Solution:\n",
    "    # @param A : tuple of integers\n",
    "    # @return an integer\n",
    "    def solve(self, A):\n",
    "        if len(A) == 1:return 0\n",
    "        if len(A) == 2:return 1\n",
    "        total_sum = sum(A) // 2\n",
    "        P = [0] * (total_sum + 1)\n",
    "\n",
    "        for i in range(1, len(A) + 1):\n",
    "            c=[0]*(total_sum+1)\n",
    "            for j in range(1, total_sum + 1):\n",
    "                if j == A[i - 1]:c[j] = 1\n",
    "                elif j - A[i - 1] > 0 and P[j - A[i - 1]] > 0:\n",
    "                    if P[j] > 0:c[j] = min(P[j], 1 + P[j - A[i - 1]])\n",
    "                    else:c[j] = 1 + P[j - A[i - 1]]\n",
    "                else:c[j] = P[j]\n",
    "            P=c[:]\n",
    "\n",
    "        return P[total_sum]"
   ]
  },
  {
   "cell_type": "markdown",
   "id": "6bd460ff",
   "metadata": {},
   "source": [
    "## Coding Ninjas Problem of the Day"
   ]
  },
  {
   "cell_type": "markdown",
   "id": "66f42200",
   "metadata": {},
   "source": [
    "## [Easy](https://www.naukri.com/code360/problems/break-the-board_1115781)"
   ]
  },
  {
   "cell_type": "code",
   "execution_count": 5,
   "id": "e4d55036",
   "metadata": {},
   "outputs": [],
   "source": [
    "def minimumCost(row, column, l, w):\n",
    "    row.sort()\n",
    "    column.sort()\n",
    "    i, j, v, h, ans = l - 2, w - 2, 1, 1, 0\n",
    "    while i >= 0 and j >= 0:\n",
    "        if row[i] > column[j]:\n",
    "            ans += row[i] * v\n",
    "            i -= 1\n",
    "            h += 1\n",
    "        else:\n",
    "            ans += column[j] * h\n",
    "            j -= 1\n",
    "            v += 1\n",
    "    while i >= 0:\n",
    "        ans += row[i] * v\n",
    "        i -= 1\n",
    "        h += 1\n",
    "    while j >= 0:\n",
    "        ans += column[j] * h\n",
    "        j -= 1\n",
    "        v += 1\n",
    "    return ans"
   ]
  },
  {
   "cell_type": "markdown",
   "id": "b8494e61",
   "metadata": {},
   "source": [
    "## [Moderate](https://www.naukri.com/code360/problems/next-greater-element_799354)"
   ]
  },
  {
   "cell_type": "code",
   "execution_count": 3,
   "id": "4722a4c9",
   "metadata": {},
   "outputs": [],
   "source": [
    "def nextGreater(arr,n):\n",
    "    S,ans=[],[-1]*n\n",
    "    for i in range(n):\n",
    "        while S and arr[S[-1]]<arr[i]:\n",
    "            ans[S.pop()]=i \n",
    "        S.append(i)\n",
    "    return [-1 if i==-1 else arr[i] for i in ans]"
   ]
  },
  {
   "cell_type": "markdown",
   "id": "e5fc51cc",
   "metadata": {},
   "source": [
    "## [Hard](https://www.naukri.com/code360/problems/palindrome-partitioning-ll_873266)"
   ]
  },
  {
   "cell_type": "code",
   "execution_count": 1,
   "id": "3348ef19",
   "metadata": {},
   "outputs": [],
   "source": [
    "def palindromePartitioning(s: str) -> int:\n",
    "    def Pal(s):return s==''.join(list(s)[::-1])\n",
    "    n=len(s)\n",
    "    T=[0]*(n+1)\n",
    "    for i in range(n-1,-1,-1):\n",
    "        M=float('inf')\n",
    "        for j in range(i,n):\n",
    "            if Pal(s[i:j+1]):M=min(M,1+T[j+1])\n",
    "        T[i]=M \n",
    "    return T[0]-1"
   ]
  },
  {
   "cell_type": "code",
   "execution_count": null,
   "id": "864d385a",
   "metadata": {},
   "outputs": [],
   "source": []
  }
 ],
 "metadata": {
  "kernelspec": {
   "display_name": "Python 3 (ipykernel)",
   "language": "python",
   "name": "python3"
  },
  "language_info": {
   "codemirror_mode": {
    "name": "ipython",
    "version": 3
   },
   "file_extension": ".py",
   "mimetype": "text/x-python",
   "name": "python",
   "nbconvert_exporter": "python",
   "pygments_lexer": "ipython3",
   "version": "3.11.5"
  }
 },
 "nbformat": 4,
 "nbformat_minor": 5
}
