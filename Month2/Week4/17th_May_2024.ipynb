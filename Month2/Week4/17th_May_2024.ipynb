{
 "cells": [
  {
   "cell_type": "markdown",
   "id": "d2ffff82",
   "metadata": {},
   "source": [
    "## Q.1"
   ]
  },
  {
   "cell_type": "markdown",
   "id": "2be451c7",
   "metadata": {},
   "source": [
    "### Number of Islands\n",
    "\n",
    "Given an m x n 2D binary grid grid which represents a map of '1's (land) and '0's (water), return the number of islands.\n",
    "\n",
    "An island is surrounded by water and is formed by connecting adjacent lands horizontally or vertically. You may assume all four edges of the grid are all surrounded by water."
   ]
  },
  {
   "cell_type": "markdown",
   "id": "b463c5ca",
   "metadata": {},
   "source": [
    "- [LeetCode](https://leetcode.com/problems/number-of-islands/description/)\n",
    "- [Interviewbit](https://www.interviewbit.com/problems/black-shapes/)"
   ]
  },
  {
   "cell_type": "markdown",
   "id": "c04699b3",
   "metadata": {},
   "source": [
    "## Intuition"
   ]
  },
  {
   "cell_type": "markdown",
   "id": "ff548fba",
   "metadata": {},
   "source": [
    "- Use DFS."
   ]
  },
  {
   "cell_type": "markdown",
   "id": "b35c0d8a",
   "metadata": {},
   "source": [
    "## Solution"
   ]
  },
  {
   "cell_type": "code",
   "execution_count": 1,
   "id": "54651483",
   "metadata": {},
   "outputs": [],
   "source": [
    "class Solution:\n",
    "    # @param A : list of strings\n",
    "    # @return an integer\n",
    "    def numIslands(self, A):\n",
    "        n, m = len(A), len(A[0])\n",
    "        V = [[False] * m for i in range(n)]\n",
    "        \n",
    "        def Rec(i, j):\n",
    "            if i < 0 or i >= n or j < 0 or j >= m or V[i][j] or A[i][j] == '0':\n",
    "                return False\n",
    "            V[i][j] = True\n",
    "            Rec(i - 1, j)\n",
    "            Rec(i + 1, j)\n",
    "            Rec(i, j - 1)\n",
    "            Rec(i, j + 1)\n",
    "            return True\n",
    "        \n",
    "        count = 0\n",
    "        for i in range(n):\n",
    "            for j in range(m):\n",
    "                if not V[i][j]:\n",
    "                    if Rec(i, j):\n",
    "                        count += 1\n",
    "        return count"
   ]
  },
  {
   "cell_type": "markdown",
   "id": "a6801432",
   "metadata": {},
   "source": [
    "## Q.2"
   ]
  },
  {
   "cell_type": "markdown",
   "id": "0c221f8d",
   "metadata": {},
   "source": [
    "### Cycle in Directed Graph\n",
    "\n",
    "Given an directed graph having A nodes. A matrix B of size M x 2 is given which represents the M edges such that there is a edge directed from node B[i][0] to node B[i][1].\n",
    "\n",
    "Find whether the graph contains a cycle or not, return 1 if cycle is present else return 0.\n",
    "\n",
    "NOTE:\n",
    "\n",
    "- The cycle must contain atleast two nodes.\n",
    "- There are no self-loops in the graph.\n",
    "- There are no multiple edges between two nodes.\n",
    "- The graph may or may not be connected.\n",
    "- Nodes are numbered from 1 to A.\n",
    "- Your solution will run on multiple test cases. If you are using global variables make sure to clear them."
   ]
  },
  {
   "cell_type": "markdown",
   "id": "3218c06a",
   "metadata": {},
   "source": [
    "- [Interviewbit](https://www.interviewbit.com/problems/cycle-in-directed-graph/)"
   ]
  },
  {
   "cell_type": "markdown",
   "id": "dd3c3b29",
   "metadata": {},
   "source": [
    "## Intuition"
   ]
  },
  {
   "cell_type": "markdown",
   "id": "d8c520ea",
   "metadata": {},
   "source": [
    "- Kahn's algo used can use DFS also."
   ]
  },
  {
   "cell_type": "markdown",
   "id": "4b15d859",
   "metadata": {},
   "source": [
    "## Solution"
   ]
  },
  {
   "cell_type": "code",
   "execution_count": 1,
   "id": "2838d819",
   "metadata": {},
   "outputs": [],
   "source": [
    "from collections import defaultdict,deque\n",
    "class Solution:\n",
    "    # @param A : integer\n",
    "    # @param B : list of list of integers\n",
    "    # @return an integer\n",
    "    def solve(self, A, B):\n",
    "        Q,In,M,count=deque(),[0]*(A+1),defaultdict(list),0\n",
    "        for i in B:\n",
    "            M[i[0]].append(i[1])\n",
    "            In[i[1]]+=1\n",
    "        for i in range(1,A+1):\n",
    "            if In[i]==0:Q.append(i)\n",
    "        while Q:\n",
    "            F=Q.popleft()\n",
    "            count+=1\n",
    "            for j in M[F]:\n",
    "                In[j]-=1\n",
    "                if In[j]==0:Q.append(j)\n",
    "        return int(count!=A)"
   ]
  },
  {
   "cell_type": "markdown",
   "id": "5139132e",
   "metadata": {},
   "source": [
    "## Q.3"
   ]
  },
  {
   "cell_type": "markdown",
   "id": "c8e5f076",
   "metadata": {},
   "source": [
    "### Path in Directed Graph\n",
    "\n",
    "Given an directed graph having A nodes labelled from 1 to A containing M edges given by matrix B of size M x 2such that there is a edge directed from node\n",
    "\n",
    "B[i][0] to node B[i][1].\n",
    "\n",
    "Find whether a path exists from node 1 to node A.\n",
    "\n",
    "Return 1 if path exists else return 0.\n",
    "\n",
    "NOTE:\n",
    "\n",
    "- There are no self-loops in the graph.\n",
    "- There are no multiple edges between two nodes.\n",
    "- The graph may or may not be connected.\n",
    "- Nodes are numbered from 1 to A.\n",
    "- Your solution will run on multiple test cases. If you are using global variables make sure to clear them."
   ]
  },
  {
   "cell_type": "markdown",
   "id": "36a9d119",
   "metadata": {},
   "source": [
    "- [Interviewbit](https://www.interviewbit.com/problems/path-in-directed-graph/)"
   ]
  },
  {
   "cell_type": "markdown",
   "id": "a30e8bdd",
   "metadata": {},
   "source": [
    "## Intuition"
   ]
  },
  {
   "cell_type": "markdown",
   "id": "33a0128d",
   "metadata": {},
   "source": [
    "- Use DFS."
   ]
  },
  {
   "cell_type": "markdown",
   "id": "6e1722c3",
   "metadata": {},
   "source": [
    "## Solution"
   ]
  },
  {
   "cell_type": "code",
   "execution_count": 3,
   "id": "04722852",
   "metadata": {},
   "outputs": [],
   "source": [
    "import sys\n",
    "sys.setrecursionlimit(10**9)\n",
    "from collections import defaultdict\n",
    "class Solution:\n",
    "    # @param A : integer\n",
    "    # @param B : list of list of integers\n",
    "    # @return an integer\n",
    "    def solve(self, A, B):\n",
    "        V,M=[False]*(A+1),defaultdict(list)\n",
    "        for i in B:M[i[0]].append(i[1])\n",
    "        def Rec(i):\n",
    "            if i==A:return True\n",
    "            V[i]=True\n",
    "            for j in M[i]:\n",
    "                if not V[j] and Rec(j):\n",
    "                    return True\n",
    "            return False\n",
    "        return int(Rec(1))"
   ]
  },
  {
   "cell_type": "markdown",
   "id": "706d97cc",
   "metadata": {},
   "source": [
    "## Q.4"
   ]
  },
  {
   "cell_type": "markdown",
   "id": "f5a12144",
   "metadata": {},
   "source": [
    "###  Valid Path\n",
    "\n",
    "There is a rectangle with left bottom as (0, 0) and right up as (x, y).\n",
    "\n",
    "There are N circles such that their centers are inside the rectangle.\n",
    "\n",
    "Radius of each circle is R. Now we need to find out if it is possible that we can move from (0, 0) to (x, y) without touching any circle.\n",
    "\n",
    "Note : We can move from any cell to any of its 8 adjecent neighbours and we cannot move outside the boundary of the rectangle at any point of time."
   ]
  },
  {
   "cell_type": "markdown",
   "id": "96996cff",
   "metadata": {},
   "source": [
    "- [Interviewbit](https://www.interviewbit.com/problems/valid-path/)"
   ]
  },
  {
   "cell_type": "markdown",
   "id": "a25ca31b",
   "metadata": {},
   "source": [
    "## Intuition"
   ]
  },
  {
   "cell_type": "markdown",
   "id": "d7ace036",
   "metadata": {},
   "source": [
    "- Use BFS."
   ]
  },
  {
   "cell_type": "markdown",
   "id": "1f08ffaf",
   "metadata": {},
   "source": [
    "## Solution"
   ]
  },
  {
   "cell_type": "code",
   "execution_count": 2,
   "id": "a1a9ca34",
   "metadata": {},
   "outputs": [],
   "source": [
    "from collections import deque\n",
    "class Solution:\n",
    "    # @param A : integer\n",
    "    # @param B : integer\n",
    "    # @param C : integer\n",
    "    # @param D : integer\n",
    "    # @param E : list of integers\n",
    "    # @param F : list of integers\n",
    "    # @return a strings\n",
    "    def solve(self, A, B, C, D, E, F):\n",
    "        def Check(i,j):\n",
    "            for k in range(C):\n",
    "                if (E[k]-j)**2+(F[k]-i)**2<=D**2:return False\n",
    "            return True\n",
    "        Q,X,Y,V=deque([(0,0)]),[-1,1,0,0,-1,1,-1,1],[0,0,-1,1,-1,1,1,-1],[[False]*(A+1) for i in range(B+1)]\n",
    "        V[0][0]=True\n",
    "        while Q:\n",
    "            i,j=Q.popleft()\n",
    "            if not Check(i,j):return 'NO'\n",
    "            if (i,j)==(B,A):return 'YES'\n",
    "            for k in range(8):\n",
    "                dx,dy=i+X[k],j+Y[k]\n",
    "                if 0<=dx<=B and 0<=dy<=A and not V[dx][dy] and Check(dx,dy):\n",
    "                    V[dx][dy]=True\n",
    "                    Q.append((dx,dy))\n",
    "        return 'NO'"
   ]
  },
  {
   "cell_type": "markdown",
   "id": "737fe9ec",
   "metadata": {},
   "source": [
    "## Q.5"
   ]
  },
  {
   "cell_type": "markdown",
   "id": "771cf211",
   "metadata": {},
   "source": [
    "### Clone Graph\n",
    "\n",
    "Given a reference of a node in a connected undirected graph.\n",
    "\n",
    "Return a deep copy (clone) of the graph.\n",
    "\n",
    "Each node in the graph contains a value (int) and a list (List[Node]) of its neighbors.\n",
    "\n",
    "class Node {\n",
    "    public int val;\n",
    "    public List<Node> neighbors;\n",
    "}"
   ]
  },
  {
   "cell_type": "markdown",
   "id": "72515f22",
   "metadata": {},
   "source": [
    "- [LeetCode](https://leetcode.com/problems/clone-graph/description/)\n",
    "- [Interviewbit](https://www.interviewbit.com/problems/clone-graph/)"
   ]
  },
  {
   "cell_type": "markdown",
   "id": "97865ea9",
   "metadata": {},
   "source": [
    "## Intuition"
   ]
  },
  {
   "cell_type": "markdown",
   "id": "cbd07473",
   "metadata": {},
   "source": [
    "- DFS."
   ]
  },
  {
   "cell_type": "markdown",
   "id": "033a51fa",
   "metadata": {},
   "source": [
    "## Solution"
   ]
  },
  {
   "cell_type": "code",
   "execution_count": 3,
   "id": "40533c64",
   "metadata": {},
   "outputs": [],
   "source": [
    "\"\"\"\n",
    "# Definition for a Node.\n",
    "class Node:\n",
    "    def __init__(self, val = 0, neighbors = None):\n",
    "        self.val = val\n",
    "        self.neighbors = neighbors if neighbors is not None else []\n",
    "\"\"\"\n",
    "\n",
    "from typing import Optional\n",
    "class Solution:\n",
    "    def cloneGraph(self, node: Optional['Node']) -> Optional['Node']:\n",
    "        M={}\n",
    "        def Rec(root):\n",
    "            if not root:return None\n",
    "            if root in M:return M[root]\n",
    "            newroot=Node(root.val)\n",
    "            M[root]=newroot\n",
    "            for n in root.neighbors:\n",
    "                newroot.neighbors.append(Rec(n))\n",
    "            return newroot\n",
    "        return Rec(node)"
   ]
  },
  {
   "cell_type": "markdown",
   "id": "6bd460ff",
   "metadata": {},
   "source": [
    "## Coding Ninjas Problem of the Day"
   ]
  },
  {
   "cell_type": "markdown",
   "id": "66f42200",
   "metadata": {},
   "source": [
    "## [Easy](https://www.naukri.com/code360/problems/special-sum_1281320)"
   ]
  },
  {
   "cell_type": "code",
   "execution_count": 5,
   "id": "e4d55036",
   "metadata": {},
   "outputs": [],
   "source": [
    "def specialSum(arr, n):\n",
    "    S,mini=0,float('inf')\n",
    "    for i in range(n):\n",
    "        S+=arr[i]+arr[n-i-1]\n",
    "        mini=min(mini,S)\n",
    "    return mini"
   ]
  },
  {
   "cell_type": "markdown",
   "id": "b8494e61",
   "metadata": {},
   "source": [
    "## [Moderate](https://www.naukri.com/code360/problems/add-k-nodes_759412)"
   ]
  },
  {
   "cell_type": "code",
   "execution_count": 3,
   "id": "4722a4c9",
   "metadata": {},
   "outputs": [],
   "source": [
    "class Node:\n",
    "    def __init__(self, data):\n",
    "        self.data = data\n",
    "        self.next = None\n",
    "\n",
    "def getListAfterAddingNodes(head, k) :\n",
    "    H,L,count,sum=head,None,0,0\n",
    "    while H:\n",
    "        count+=1\n",
    "        sum+=H.data\n",
    "        if count==k:\n",
    "            count=0\n",
    "            T=H.next\n",
    "            H.next=Node(sum)\n",
    "            sum=0\n",
    "            H.next.next=T\n",
    "            H=H.next\n",
    "        if not H.next:L=H\n",
    "        H=H.next\n",
    "    if count>0:L.next=Node(sum)\n",
    "    return head"
   ]
  },
  {
   "cell_type": "markdown",
   "id": "e5fc51cc",
   "metadata": {},
   "source": [
    "## [Hard](https://www.naukri.com/code360/problems/ninja-is-running-out-of-time_1758496)"
   ]
  },
  {
   "cell_type": "code",
   "execution_count": 1,
   "id": "3348ef19",
   "metadata": {},
   "outputs": [],
   "source": []
  },
  {
   "cell_type": "code",
   "execution_count": null,
   "id": "864d385a",
   "metadata": {},
   "outputs": [],
   "source": []
  }
 ],
 "metadata": {
  "kernelspec": {
   "display_name": "Python 3 (ipykernel)",
   "language": "python",
   "name": "python3"
  },
  "language_info": {
   "codemirror_mode": {
    "name": "ipython",
    "version": 3
   },
   "file_extension": ".py",
   "mimetype": "text/x-python",
   "name": "python",
   "nbconvert_exporter": "python",
   "pygments_lexer": "ipython3",
   "version": "3.11.5"
  }
 },
 "nbformat": 4,
 "nbformat_minor": 5
}
