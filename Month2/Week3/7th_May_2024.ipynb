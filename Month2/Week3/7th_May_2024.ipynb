{
 "cells": [
  {
   "cell_type": "markdown",
   "id": "d2ffff82",
   "metadata": {},
   "source": [
    "## Q.1"
   ]
  },
  {
   "cell_type": "markdown",
   "id": "2be451c7",
   "metadata": {},
   "source": [
    "### Climbing Stairs[Fibonacci]\n",
    "\n",
    "You are climbing a staircase. It takes n steps to reach the top.\n",
    "\n",
    "Each time you can either climb 1 or 2 steps. In how many distinct ways can you climb to the top?"
   ]
  },
  {
   "cell_type": "markdown",
   "id": "b463c5ca",
   "metadata": {},
   "source": [
    "- [LeetCode](https://leetcode.com/problems/climbing-stairs/description/)\n",
    "- [Interviewbit](https://www.interviewbit.com/problems/stairs/)"
   ]
  },
  {
   "cell_type": "markdown",
   "id": "c04699b3",
   "metadata": {},
   "source": [
    "## Intuition"
   ]
  },
  {
   "cell_type": "markdown",
   "id": "ff548fba",
   "metadata": {},
   "source": [
    "- Use DP."
   ]
  },
  {
   "cell_type": "markdown",
   "id": "b35c0d8a",
   "metadata": {},
   "source": [
    "## Solution"
   ]
  },
  {
   "cell_type": "code",
   "execution_count": 1,
   "id": "54651483",
   "metadata": {},
   "outputs": [],
   "source": [
    "class Solution:\n",
    "    # @param A : integer\n",
    "    # @return an integer\n",
    "    def climbStairs(self, A):\n",
    "        M=[1,1]\n",
    "        for i in range(2,A+1):M.append(M[i-1]+M[i-2])\n",
    "        return M[A]"
   ]
  },
  {
   "cell_type": "markdown",
   "id": "5139132e",
   "metadata": {},
   "source": [
    "## Q.2"
   ]
  },
  {
   "cell_type": "markdown",
   "id": "c8e5f076",
   "metadata": {},
   "source": [
    "### Perfect Squares\n",
    "\n",
    "Given an integer n, return the least number of perfect square numbers that sum to n.\n",
    "\n",
    "A perfect square is an integer that is the square of an integer; in other words, it is the product of some integer with itself. For example, 1, 4, 9, and 16 are perfect squares while 3 and 11 are not."
   ]
  },
  {
   "cell_type": "markdown",
   "id": "36a9d119",
   "metadata": {},
   "source": [
    "- [LeetCode](https://leetcode.com/problems/perfect-squares/description/)"
   ]
  },
  {
   "cell_type": "markdown",
   "id": "a30e8bdd",
   "metadata": {},
   "source": [
    "## Intuition"
   ]
  },
  {
   "cell_type": "markdown",
   "id": "33a0128d",
   "metadata": {},
   "source": [
    "- Use DP."
   ]
  },
  {
   "cell_type": "markdown",
   "id": "6e1722c3",
   "metadata": {},
   "source": [
    "## Solution"
   ]
  },
  {
   "cell_type": "code",
   "execution_count": 1,
   "id": "04722852",
   "metadata": {},
   "outputs": [],
   "source": [
    "import math\n",
    "class Solution:\n",
    "    # @param A : integer\n",
    "    # @return an integer\n",
    "    def numSquares(self, A):\n",
    "        dp = [float('inf')] * (A + 1)\n",
    "        dp[0] = 0  \n",
    "        \n",
    "        for i in range(1, A + 1):\n",
    "            for j in range(1, math.isqrt(i) + 1):\n",
    "                dp[i] = min(dp[i], dp[i - j*j] + 1)\n",
    "        \n",
    "        return dp[A]"
   ]
  },
  {
   "cell_type": "markdown",
   "id": "706d97cc",
   "metadata": {},
   "source": [
    "## Q.3"
   ]
  },
  {
   "cell_type": "markdown",
   "id": "f5a12144",
   "metadata": {},
   "source": [
    "### House Robber\n",
    "\n",
    "You are a professional robber planning to rob houses along a street. Each house has a certain amount of money stashed, the only constraint stopping you from robbing each of them is that adjacent houses have security systems connected and it will automatically contact the police if two adjacent houses were broken into on the same night.\n",
    "\n",
    "Given an integer array nums representing the amount of money of each house, return the maximum amount of money you can rob tonight without alerting the police."
   ]
  },
  {
   "cell_type": "markdown",
   "id": "96996cff",
   "metadata": {},
   "source": [
    "- [LeetCode](https://leetcode.com/problems/house-robber/description/)"
   ]
  },
  {
   "cell_type": "markdown",
   "id": "a25ca31b",
   "metadata": {},
   "source": [
    "## Intuition"
   ]
  },
  {
   "cell_type": "markdown",
   "id": "d7ace036",
   "metadata": {},
   "source": [
    "- Use DP."
   ]
  },
  {
   "cell_type": "markdown",
   "id": "1f08ffaf",
   "metadata": {},
   "source": [
    "## Solution"
   ]
  },
  {
   "cell_type": "code",
   "execution_count": 4,
   "id": "a1a9ca34",
   "metadata": {},
   "outputs": [],
   "source": [
    "from typing import List\n",
    "class Solution:\n",
    "    def rob(self, nums: List[int]) -> int:\n",
    "        Prev,Curr=0,0\n",
    "        for i in nums:\n",
    "            Take,NotTake=0,0\n",
    "            Take=Prev+i\n",
    "            NotTake=Curr\n",
    "            Prev=Curr\n",
    "            Curr=max(Take,NotTake)\n",
    "        return Curr"
   ]
  },
  {
   "cell_type": "markdown",
   "id": "737fe9ec",
   "metadata": {},
   "source": [
    "## Q.4"
   ]
  },
  {
   "cell_type": "markdown",
   "id": "771cf211",
   "metadata": {},
   "source": [
    "### House Robber II\n",
    "\n",
    "You are a professional robber planning to rob houses along a street. Each house has a certain amount of money stashed. All houses at this place are arranged in a circle. That means the first house is the neighbor of the last one. Meanwhile, adjacent houses have a security system connected, and it will automatically contact the police if two adjacent houses were broken into on the same night.\n",
    "\n",
    "Given an integer array nums representing the amount of money of each house, return the maximum amount of money you can rob tonight without alerting the police."
   ]
  },
  {
   "cell_type": "markdown",
   "id": "72515f22",
   "metadata": {},
   "source": [
    "- [LeetCode](https://leetcode.com/problems/house-robber-ii/description/)"
   ]
  },
  {
   "cell_type": "markdown",
   "id": "97865ea9",
   "metadata": {},
   "source": [
    "## Intuition"
   ]
  },
  {
   "cell_type": "markdown",
   "id": "cbd07473",
   "metadata": {},
   "source": [
    "- Use House robber logic."
   ]
  },
  {
   "cell_type": "markdown",
   "id": "033a51fa",
   "metadata": {},
   "source": [
    "## Solution"
   ]
  },
  {
   "cell_type": "code",
   "execution_count": 3,
   "id": "40533c64",
   "metadata": {},
   "outputs": [],
   "source": [
    "class Solution:\n",
    "    def Hr(self,a):\n",
    "        P,c=0,0\n",
    "        for i in a:\n",
    "            T,Nt=0,0\n",
    "            T=P+i\n",
    "            Nt=c\n",
    "            P=c\n",
    "            c=max(T,Nt)\n",
    "        return c\n",
    "\n",
    "    def rob(self, nums: List[int]) -> int:\n",
    "        return max(self.Hr(nums[:-1]),self.Hr(nums[1:]),nums[0])"
   ]
  },
  {
   "cell_type": "markdown",
   "id": "47c8d6cb",
   "metadata": {},
   "source": [
    "## Q.5"
   ]
  },
  {
   "cell_type": "markdown",
   "id": "ca16144c",
   "metadata": {},
   "source": [
    "### Maximum Product Subarray\n",
    "\n",
    "Given an integer array nums, find a subarray that has the largest product, and return the product.\n",
    "The test cases are generated so that the answer will fit in a 32-bit integer."
   ]
  },
  {
   "cell_type": "markdown",
   "id": "a72c17c8",
   "metadata": {},
   "source": [
    "- [LeetCode](https://leetcode.com/problems/maximum-product-subarray/description/)"
   ]
  },
  {
   "cell_type": "markdown",
   "id": "888aece7",
   "metadata": {},
   "source": [
    "## Intuition"
   ]
  },
  {
   "cell_type": "markdown",
   "id": "2aafd5a9",
   "metadata": {},
   "source": [
    "- Use Kadane type DP."
   ]
  },
  {
   "cell_type": "markdown",
   "id": "bbe7f28c",
   "metadata": {},
   "source": [
    "## Solution"
   ]
  },
  {
   "cell_type": "code",
   "execution_count": 1,
   "id": "800a2dd4",
   "metadata": {},
   "outputs": [],
   "source": [
    "class Solution:\n",
    "    # @param A : tuple of integers\n",
    "    # @return an integer\n",
    "    def maxProduct(self, A):\n",
    "        Best, curr = float('-inf'), 1\n",
    "        \n",
    "        # Forward pass\n",
    "        for i in range(len(A)):\n",
    "            curr = curr * A[i]\n",
    "            Best = max(Best, curr)\n",
    "            if A[i] == 0:\n",
    "                curr = 1\n",
    "        \n",
    "        curr = 1\n",
    "        \n",
    "        # Backward pass\n",
    "        for i in range(len(A) - 1, -1, -1):\n",
    "            curr = curr * A[i]\n",
    "            Best = max(Best, curr)\n",
    "            if A[i] == 0:\n",
    "                curr = 1\n",
    "        \n",
    "        return Best"
   ]
  },
  {
   "cell_type": "markdown",
   "id": "6bd460ff",
   "metadata": {},
   "source": [
    "## Coding Ninjas Problem of the Day"
   ]
  },
  {
   "cell_type": "markdown",
   "id": "66f42200",
   "metadata": {},
   "source": [
    "## [Easy](https://www.naukri.com/code360/problems/the-hero-test-1_1472833)"
   ]
  },
  {
   "cell_type": "code",
   "execution_count": 5,
   "id": "e4d55036",
   "metadata": {},
   "outputs": [],
   "source": [
    "from collections import deque\n",
    "\n",
    "def theOrder(n):\n",
    "    Q,ans=deque(range(1,n+1)),[]\n",
    "    while Q:\n",
    "        Q.append(Q.popleft())\n",
    "        ans.append(Q.popleft())\n",
    "    return ans"
   ]
  },
  {
   "cell_type": "markdown",
   "id": "b8494e61",
   "metadata": {},
   "source": [
    "## [Moderate](https://www.naukri.com/code360/problems/queries-on-stack_1496513)"
   ]
  },
  {
   "cell_type": "code",
   "execution_count": 9,
   "id": "f751f333",
   "metadata": {},
   "outputs": [],
   "source": [
    "def answerQueries(queries, limit):\n",
    "    S, ans = [], []\n",
    "    for q in queries:\n",
    "        if q[0] == 1:\n",
    "            if len(S) < limit:\n",
    "                S.append(q[1])\n",
    "        elif q[0] == 2:\n",
    "            if S:\n",
    "                ans.append(S.pop())\n",
    "            else:\n",
    "                ans.append(-1)\n",
    "        else:\n",
    "            Inc = min(q[1], len(S))\n",
    "            for i in range(Inc):\n",
    "                S[i] += q[2]\n",
    "    return ans"
   ]
  },
  {
   "cell_type": "markdown",
   "id": "e5fc51cc",
   "metadata": {},
   "source": [
    "## [Hard](https://www.naukri.com/code360/problems/maximum-number-in-k-swaps_992843)"
   ]
  },
  {
   "cell_type": "code",
   "execution_count": 6,
   "id": "3348ef19",
   "metadata": {},
   "outputs": [],
   "source": [
    "def solve(string,n,result,k,i):\n",
    "    result[0]=max(result[0],string)\n",
    "    if i==n or k==0:return \n",
    "    maxchar=max(string[i:])\n",
    "    if maxchar>string[i]:\n",
    "        for j in range(i+1,n):\n",
    "            if string[j]==maxchar:\n",
    "                string=string[:i]+string[j]+string[i+1:j]+string[i]+string[j+1:]\n",
    "                solve(string,n,result,k-1,i+1)\n",
    "                string=string[:i]+string[j]+string[i+1:j]+string[i]+string[j+1:]\n",
    "    else:\n",
    "        solve(string,n,result,k,i+1)\n",
    "def findMax(m, k):    \n",
    "    m=str(m)\n",
    "    n=len(m)\n",
    "    result=[m]\n",
    "    solve(m,n,result,k,0)\n",
    "    return result[0]"
   ]
  },
  {
   "cell_type": "code",
   "execution_count": null,
   "id": "864d385a",
   "metadata": {},
   "outputs": [],
   "source": []
  }
 ],
 "metadata": {
  "kernelspec": {
   "display_name": "Python 3 (ipykernel)",
   "language": "python",
   "name": "python3"
  },
  "language_info": {
   "codemirror_mode": {
    "name": "ipython",
    "version": 3
   },
   "file_extension": ".py",
   "mimetype": "text/x-python",
   "name": "python",
   "nbconvert_exporter": "python",
   "pygments_lexer": "ipython3",
   "version": "3.11.5"
  }
 },
 "nbformat": 4,
 "nbformat_minor": 5
}
