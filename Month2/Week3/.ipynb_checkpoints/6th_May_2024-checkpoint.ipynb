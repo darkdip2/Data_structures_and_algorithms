{
 "cells": [
  {
   "cell_type": "markdown",
   "id": "d2ffff82",
   "metadata": {},
   "source": [
    "## Q.1"
   ]
  },
  {
   "cell_type": "markdown",
   "id": "2be451c7",
   "metadata": {},
   "source": [
    "### Word Break\n",
    "\n",
    "Given a string s and a dictionary of strings wordDict, return true if s can be segmented into a space-separated sequence of one or more dictionary words.\n",
    "\n",
    "Note that the same word in the dictionary may be reused multiple times in the segmentation."
   ]
  },
  {
   "cell_type": "markdown",
   "id": "b463c5ca",
   "metadata": {},
   "source": [
    "- [LeetCode](https://leetcode.com/problems/word-break/description/)\n",
    "- [Interviewbit](https://www.interviewbit.com/problems/word-break/)"
   ]
  },
  {
   "cell_type": "markdown",
   "id": "c04699b3",
   "metadata": {},
   "source": [
    "## Intuition"
   ]
  },
  {
   "cell_type": "markdown",
   "id": "ff548fba",
   "metadata": {},
   "source": [
    "- Use DP."
   ]
  },
  {
   "cell_type": "markdown",
   "id": "b35c0d8a",
   "metadata": {},
   "source": [
    "## Solution"
   ]
  },
  {
   "cell_type": "code",
   "execution_count": 1,
   "id": "54651483",
   "metadata": {},
   "outputs": [],
   "source": [
    "class Solution:\n",
    "    # @param A : string\n",
    "    # @param B : list of strings\n",
    "    # @return an integer\n",
    "    def wordBreak(self, A, B):\n",
    "        T=[0]*(len(A)+1)\n",
    "        T[0]=1\n",
    "        S=set(B)\n",
    "        for i in range(len(A)+1):\n",
    "            if T[i]:\n",
    "                for w in S:\n",
    "                    if A[i:i+len(w)]==w:\n",
    "                        T[i+len(w)]=1\n",
    "        return T[len(A)]"
   ]
  },
  {
   "cell_type": "markdown",
   "id": "5139132e",
   "metadata": {},
   "source": [
    "## Q.2"
   ]
  },
  {
   "cell_type": "markdown",
   "id": "c8e5f076",
   "metadata": {},
   "source": [
    "### Sudoku Solver\n",
    "\n",
    "Write a program to solve a Sudoku puzzle by filling the empty cells.\n",
    "\n",
    "A sudoku solution must satisfy all of the following rules:\n",
    "\n",
    "- Each of the digits 1-9 must occur exactly once in each row.\n",
    "- Each of the digits 1-9 must occur exactly once in each column.\n",
    "- Each of the digits 1-9 must occur exactly once in each of the 9 3x3 sub-boxes of the grid.\n",
    "The '.' character indicates empty cells."
   ]
  },
  {
   "cell_type": "markdown",
   "id": "36a9d119",
   "metadata": {},
   "source": [
    "- [LeetCode](https://leetcode.com/problems/sudoku-solver/description/)\n",
    "- [Interviewbit](https://www.interviewbit.com/problems/sudoku/)"
   ]
  },
  {
   "cell_type": "markdown",
   "id": "a30e8bdd",
   "metadata": {},
   "source": [
    "## Intuition"
   ]
  },
  {
   "cell_type": "markdown",
   "id": "33a0128d",
   "metadata": {},
   "source": [
    "- Use Backtracking."
   ]
  },
  {
   "cell_type": "markdown",
   "id": "6e1722c3",
   "metadata": {},
   "source": [
    "## Solution"
   ]
  },
  {
   "cell_type": "code",
   "execution_count": 2,
   "id": "04722852",
   "metadata": {},
   "outputs": [],
   "source": [
    "class Solution:\n",
    "    # @param A : list of list of chars\n",
    "    def solveSudoku(self, B):\n",
    "        A=None\n",
    "        def Safe(r,c,n):\n",
    "            for i in range(9):\n",
    "                for j in range(9):\n",
    "                    if B[i][c]==n:return False\n",
    "                    if B[r][j]==n:return False\n",
    "            for i in range(3*(r//3),3*(r//3)+3):\n",
    "                for j in range(3*(c//3),3*(c//3)+3):\n",
    "                    if B[i][j]==n:return False\n",
    "            return True\n",
    "        def Rec():\n",
    "            for i in range(9):\n",
    "                for j in range(9):\n",
    "                    if B[i][j]=='.':\n",
    "                        for k in range(1,10):\n",
    "                            if Safe(i,j,str(k)):\n",
    "                                B[i][j]=str(k)\n",
    "                                if Rec():\n",
    "                                    A=[''.join(i) for i in B[:]]\n",
    "                                    return True\n",
    "                                B[i][j]='.'\n",
    "                        return False\n",
    "            return True\n",
    "        Rec()\n",
    "        return A"
   ]
  },
  {
   "cell_type": "markdown",
   "id": "706d97cc",
   "metadata": {},
   "source": [
    "## Q.3"
   ]
  },
  {
   "cell_type": "markdown",
   "id": "f5a12144",
   "metadata": {},
   "source": [
    "### N-Queens\n",
    "\n",
    "The n-queens puzzle is the problem of placing n queens on an n x n chessboard such that no two queens attack each other.\n",
    "\n",
    "Given an integer n, return all distinct solutions to the n-queens puzzle. You may return the answer in any order.\n",
    "\n",
    "Each solution contains a distinct board configuration of the n-queens' placement, where 'Q' and '.' both indicate a queen and an empty space, respectively."
   ]
  },
  {
   "cell_type": "markdown",
   "id": "96996cff",
   "metadata": {},
   "source": [
    "- [LeetCode](https://leetcode.com/problems/n-queens/description/)\n",
    "- [Interviewbit](https://www.interviewbit.com/problems/nqueens/)"
   ]
  },
  {
   "cell_type": "markdown",
   "id": "a25ca31b",
   "metadata": {},
   "source": [
    "## Intuition"
   ]
  },
  {
   "cell_type": "markdown",
   "id": "d7ace036",
   "metadata": {},
   "source": [
    "- Use Backtracking."
   ]
  },
  {
   "cell_type": "markdown",
   "id": "1f08ffaf",
   "metadata": {},
   "source": [
    "## Solution"
   ]
  },
  {
   "cell_type": "code",
   "execution_count": 3,
   "id": "a1a9ca34",
   "metadata": {},
   "outputs": [],
   "source": [
    "class Solution:\n",
    "    # @param A : integer\n",
    "    # @return a list of list of strings\n",
    "    def solveNQueens(self, A):\n",
    "        B,ans=[['.']*A for i in range(A)],[]\n",
    "        def Safe(r,c):\n",
    "            for i in range(r):\n",
    "                if B[i][c]=='Q':return False\n",
    "            i,j=r-1,c-1\n",
    "            while i>=0 and j>=0:\n",
    "                if B[i][j]=='Q':return False\n",
    "                i-=1\n",
    "                j-=1\n",
    "            i,j=r-1,c+1\n",
    "            while i>=0 and j<A:\n",
    "                if B[i][j]=='Q':return False\n",
    "                i-=1\n",
    "                j+=1\n",
    "            return True\n",
    "        def Rec(r):\n",
    "            if r==A:\n",
    "                ans.append([''.join(i)for i in B])\n",
    "                return \n",
    "            for c in range(A):\n",
    "                if B[r][c]=='.':\n",
    "                    if Safe(r,c):\n",
    "                        B[r][c]='Q'\n",
    "                        Rec(r+1)\n",
    "                        B[r][c]='.'\n",
    "        Rec(0)\n",
    "        return ans"
   ]
  },
  {
   "cell_type": "markdown",
   "id": "737fe9ec",
   "metadata": {},
   "source": [
    "## Q.4"
   ]
  },
  {
   "cell_type": "markdown",
   "id": "771cf211",
   "metadata": {},
   "source": [
    "### Palindrome Partitioning\n",
    "\n",
    "Given a string s, partition s such that every substring of the partition is a palindrome. Return all possible palindrome partitioning of s."
   ]
  },
  {
   "cell_type": "markdown",
   "id": "72515f22",
   "metadata": {},
   "source": [
    "- [LeetCode](https://leetcode.com/problems/palindrome-partitioning/description/)\n",
    "- [Interviewbit](https://www.interviewbit.com/problems/palindrome-partitioning/)"
   ]
  },
  {
   "cell_type": "markdown",
   "id": "97865ea9",
   "metadata": {},
   "source": [
    "## Intuition"
   ]
  },
  {
   "cell_type": "markdown",
   "id": "cbd07473",
   "metadata": {},
   "source": [
    "- Use Recursion."
   ]
  },
  {
   "cell_type": "markdown",
   "id": "033a51fa",
   "metadata": {},
   "source": [
    "## Solution"
   ]
  },
  {
   "cell_type": "code",
   "execution_count": 3,
   "id": "40533c64",
   "metadata": {},
   "outputs": [],
   "source": [
    "class Solution:\n",
    "    # @param A : string\n",
    "    # @return a list of list of strings\n",
    "    def partition(self, A):\n",
    "        ans=[]\n",
    "        def Pal(s):\n",
    "            return s==''.join(list(s)[::-1])\n",
    "        def Rec(S,t):\n",
    "            if not S:\n",
    "                ans.append(t[:])\n",
    "                return \n",
    "            for i in range(1,len(S)+1):\n",
    "                x=S[:i]\n",
    "                if Pal(x):Rec(S[i:],t+[x])\n",
    "        Rec(A,[])\n",
    "        return ans       "
   ]
  },
  {
   "cell_type": "markdown",
   "id": "47c8d6cb",
   "metadata": {},
   "source": [
    "## Q.5"
   ]
  },
  {
   "cell_type": "markdown",
   "id": "ca16144c",
   "metadata": {},
   "source": [
    "### Combination Sum\n",
    "\n",
    "Given an array of distinct integers candidates and a target integer target, return a list of all unique combinations of candidates where the chosen numbers sum to target. You may return the combinations in any order.\n",
    "\n",
    "The same number may be chosen from candidates an unlimited number of times. Two combinations are unique if the \n",
    "frequency\n",
    " of at least one of the chosen numbers is different.\n",
    "\n",
    "The test cases are generated such that the number of unique combinations that sum up to target is less than 150 combinations for the given input."
   ]
  },
  {
   "cell_type": "markdown",
   "id": "a72c17c8",
   "metadata": {},
   "source": [
    "- [LeetCode](https://leetcode.com/problems/combination-sum/description/)\n",
    "- [Interviewbit](https://www.interviewbit.com/problems/combination-sum/)"
   ]
  },
  {
   "cell_type": "markdown",
   "id": "888aece7",
   "metadata": {},
   "source": [
    "## Intuition"
   ]
  },
  {
   "cell_type": "markdown",
   "id": "2aafd5a9",
   "metadata": {},
   "source": [
    "- Use Backtracking and set."
   ]
  },
  {
   "cell_type": "markdown",
   "id": "bbe7f28c",
   "metadata": {},
   "source": [
    "## Solution"
   ]
  },
  {
   "cell_type": "code",
   "execution_count": 1,
   "id": "800a2dd4",
   "metadata": {},
   "outputs": [],
   "source": [
    "class Solution:\n",
    "    # @param A : list of integers\n",
    "    # @param B : integer\n",
    "    # @return a list of list of integers\n",
    "    def combinationSum(self, A, B):\n",
    "        A.sort()\n",
    "        S,ans=set(),[]\n",
    "        def Rec(Bag,i,s):\n",
    "            if s<0:return\n",
    "            if i==len(A):\n",
    "                if s==0:\n",
    "                    key=''.join(map(str,Bag[:]))\n",
    "                    if  key not in S:\n",
    "                        ans.append(Bag[:])\n",
    "                        S.add(key)\n",
    "                return\n",
    "            if s>=A[i]:\n",
    "                Bag.append(A[i])\n",
    "                Rec(Bag,i,s-A[i])\n",
    "                Bag.pop()\n",
    "            Rec(Bag,i+1,s)\n",
    "        Rec([],0,B)\n",
    "        return sorted(ans)"
   ]
  },
  {
   "cell_type": "markdown",
   "id": "d3dd0154",
   "metadata": {},
   "source": [
    "## Q.6"
   ]
  },
  {
   "cell_type": "markdown",
   "id": "56320e33",
   "metadata": {},
   "source": [
    "### Combination Sum II\n",
    "\n",
    "Given a collection of candidate numbers (candidates) and a target number (target), find all unique combinations in candidates where the candidate numbers sum to target.\n",
    "\n",
    "Each number in candidates may only be used once in the combination.\n",
    "\n",
    "Note: The solution set must not contain duplicate combinations."
   ]
  },
  {
   "cell_type": "markdown",
   "id": "bfc9715d",
   "metadata": {},
   "source": [
    "- [LeetCode](https://leetcode.com/problems/combination-sum-ii/description/)\n",
    "- [Interviewbit](https://www.interviewbit.com/problems/combination-sum-ii/)"
   ]
  },
  {
   "cell_type": "markdown",
   "id": "55202c5e",
   "metadata": {},
   "source": [
    "## Intuition"
   ]
  },
  {
   "cell_type": "markdown",
   "id": "fb71eda2",
   "metadata": {},
   "source": [
    "- Use Backtracking."
   ]
  },
  {
   "cell_type": "markdown",
   "id": "01f603bc",
   "metadata": {},
   "source": [
    "## Solution"
   ]
  },
  {
   "cell_type": "code",
   "execution_count": 2,
   "id": "b3091791",
   "metadata": {},
   "outputs": [],
   "source": [
    "class Solution:\n",
    "    # @param A : list of integers\n",
    "    # @param B : integer\n",
    "    # @return a list of list of integers\n",
    "    def combinationSum2(self, A, B):\n",
    "        A.sort()\n",
    "        ans = []\n",
    "        \n",
    "        def Rec(Bag, i, target):\n",
    "            if target < 0:\n",
    "                return\n",
    "            if target == 0:\n",
    "                ans.append(Bag[:])\n",
    "                return\n",
    "            \n",
    "            for j in range(i, len(A)):\n",
    "                # Skip duplicate elements\n",
    "                if j > i and A[j] == A[j - 1]:\n",
    "                    continue\n",
    "                \n",
    "                Bag.append(A[j])\n",
    "                Rec(Bag, j + 1, target - A[j])\n",
    "                Bag.pop()\n",
    "        \n",
    "        Rec([], 0, B)\n",
    "        return ans"
   ]
  },
  {
   "cell_type": "markdown",
   "id": "6bd460ff",
   "metadata": {},
   "source": [
    "## Coding Ninjas Problem of the Day"
   ]
  },
  {
   "cell_type": "markdown",
   "id": "66f42200",
   "metadata": {},
   "source": [
    "## [Easy](https://www.naukri.com/code360/problems/turbulent-hills_893006)"
   ]
  },
  {
   "cell_type": "code",
   "execution_count": 8,
   "id": "e4d55036",
   "metadata": {},
   "outputs": [],
   "source": []
  },
  {
   "cell_type": "markdown",
   "id": "b8494e61",
   "metadata": {},
   "source": [
    "## [Moderate](https://www.naukri.com/code360/problems/count-squares_1062578)"
   ]
  },
  {
   "cell_type": "code",
   "execution_count": 9,
   "id": "f751f333",
   "metadata": {},
   "outputs": [],
   "source": []
  },
  {
   "cell_type": "markdown",
   "id": "e5fc51cc",
   "metadata": {},
   "source": [
    "## [Hard](https://www.naukri.com/code360/problems/fruits-and-baskets_1172174)"
   ]
  },
  {
   "cell_type": "code",
   "execution_count": 10,
   "id": "3348ef19",
   "metadata": {},
   "outputs": [],
   "source": []
  },
  {
   "cell_type": "code",
   "execution_count": null,
   "id": "864d385a",
   "metadata": {},
   "outputs": [],
   "source": []
  }
 ],
 "metadata": {
  "kernelspec": {
   "display_name": "Python 3 (ipykernel)",
   "language": "python",
   "name": "python3"
  },
  "language_info": {
   "codemirror_mode": {
    "name": "ipython",
    "version": 3
   },
   "file_extension": ".py",
   "mimetype": "text/x-python",
   "name": "python",
   "nbconvert_exporter": "python",
   "pygments_lexer": "ipython3",
   "version": "3.11.5"
  }
 },
 "nbformat": 4,
 "nbformat_minor": 5
}
