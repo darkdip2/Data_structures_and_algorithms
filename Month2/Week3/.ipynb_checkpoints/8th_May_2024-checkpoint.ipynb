{
 "cells": [
  {
   "cell_type": "markdown",
   "id": "d2ffff82",
   "metadata": {},
   "source": [
    "## Q.1"
   ]
  },
  {
   "cell_type": "markdown",
   "id": "2be451c7",
   "metadata": {},
   "source": [
    "### Dungeon Game\n",
    "\n",
    "The demons had captured the princess and imprisoned her in the bottom-right corner of a dungeon. The dungeon consists of m x n rooms laid out in a 2D grid. Our valiant knight was initially positioned in the top-left room and must fight his way through dungeon to rescue the princess.\n",
    "\n",
    "The knight has an initial health point represented by a positive integer. If at any point his health point drops to 0 or below, he dies immediately.\n",
    "\n",
    "Some of the rooms are guarded by demons (represented by negative integers), so the knight loses health upon entering these rooms; other rooms are either empty (represented as 0) or contain magic orbs that increase the knight's health (represented by positive integers).\n",
    "\n",
    "To reach the princess as quickly as possible, the knight decides to move only rightward or downward in each step.\n",
    "\n",
    "Return the knight's minimum initial health so that he can rescue the princess.\n",
    "\n",
    "Note that any room can contain threats or power-ups, even the first room the knight enters and the bottom-right room where the princess is imprisoned."
   ]
  },
  {
   "cell_type": "markdown",
   "id": "b463c5ca",
   "metadata": {},
   "source": [
    "- [LeetCode](https://leetcode.com/problems/dungeon-game/description/)\n",
    "- [Interviewbit](https://www.interviewbit.com/problems/dungeon-princess/)"
   ]
  },
  {
   "cell_type": "markdown",
   "id": "c04699b3",
   "metadata": {},
   "source": [
    "## Intuition"
   ]
  },
  {
   "cell_type": "markdown",
   "id": "ff548fba",
   "metadata": {},
   "source": [
    "- Use DP."
   ]
  },
  {
   "cell_type": "markdown",
   "id": "b35c0d8a",
   "metadata": {},
   "source": [
    "## Solution"
   ]
  },
  {
   "cell_type": "code",
   "execution_count": 1,
   "id": "54651483",
   "metadata": {},
   "outputs": [],
   "source": [
    "class Solution:\n",
    "    # @param A : list of list of integers\n",
    "    # @return an integer\n",
    "    def calculateMinimumHP(self, A):\n",
    "        n = len(A)\n",
    "        m = len(A[0])\n",
    "        M = [[float('inf')] * m for _ in range(n)]\n",
    "        \n",
    "        M[n - 1][m - 1] = max(1, 1 - A[n - 1][m - 1])\n",
    "        \n",
    "        for i in range(n - 2, -1, -1):\n",
    "            M[i][m - 1] = max(1, M[i + 1][m - 1] - A[i][m - 1])\n",
    "        for j in range(m - 2, -1, -1):\n",
    "            M[n - 1][j] = max(1, M[n - 1][j + 1] - A[n - 1][j])\n",
    "        \n",
    "        for i in range(n - 2, -1, -1):\n",
    "            for j in range(m - 2, -1, -1):\n",
    "                M[i][j] = max(1, min(M[i + 1][j], M[i][j + 1]) - A[i][j])\n",
    "        \n",
    "        return M[0][0]"
   ]
  },
  {
   "cell_type": "markdown",
   "id": "5139132e",
   "metadata": {},
   "source": [
    "## Q.2"
   ]
  },
  {
   "cell_type": "markdown",
   "id": "c8e5f076",
   "metadata": {},
   "source": [
    "### Triangle\n",
    "\n",
    "Given a triangle array, return the minimum path sum from top to bottom.\n",
    "\n",
    "For each step, you may move to an adjacent number of the row below. More formally, if you are on index i on the current row, you may move to either index i or index i + 1 on the next row."
   ]
  },
  {
   "cell_type": "markdown",
   "id": "36a9d119",
   "metadata": {},
   "source": [
    "- [LeetCode](https://leetcode.com/problems/triangle/description/)\n",
    "- [Interviewbit](https://www.interviewbit.com/problems/min-sum-path-in-triangle/)"
   ]
  },
  {
   "cell_type": "markdown",
   "id": "a30e8bdd",
   "metadata": {},
   "source": [
    "## Intuition"
   ]
  },
  {
   "cell_type": "markdown",
   "id": "33a0128d",
   "metadata": {},
   "source": [
    "- Use DP."
   ]
  },
  {
   "cell_type": "markdown",
   "id": "6e1722c3",
   "metadata": {},
   "source": [
    "## Solution"
   ]
  },
  {
   "cell_type": "code",
   "execution_count": 1,
   "id": "04722852",
   "metadata": {},
   "outputs": [],
   "source": [
    "class Solution:\n",
    "    # @param A : list of list of integers\n",
    "    # @return an integer\n",
    "    def minimumTotal(self, A):\n",
    "        M={}\n",
    "        def Rec(i,j):\n",
    "            if i==len(A)-1:return A[i][j]\n",
    "            if (i,j) in M:return  M[(i,j)]\n",
    "            M[(i,j)]=min(Rec(i+1,j+1),Rec(i+1,j))+A[i][j]\n",
    "            return M[(i,j)]\n",
    "        return Rec(0,0)"
   ]
  },
  {
   "cell_type": "markdown",
   "id": "706d97cc",
   "metadata": {},
   "source": [
    "## Q.3"
   ]
  },
  {
   "cell_type": "markdown",
   "id": "f5a12144",
   "metadata": {},
   "source": [
    "### N digit numbers with digit sum S\n",
    "\n",
    "Find out the number of N digit numbers, whose digits on being added equals to a given number S. Note that a valid number starts from digits 1-9 except the number 0 itself. i.e. leading zeroes are not allowed.\n",
    "\n",
    "Since the answer can be large, output answer modulo 1000000007\n",
    "\n",
    "N = 2, S = 4 \n",
    " Valid numbers are {22, 31, 13, 40} \n",
    " Hence output 4."
   ]
  },
  {
   "cell_type": "markdown",
   "id": "96996cff",
   "metadata": {},
   "source": [
    "- [Interviewbit](https://www.interviewbit.com/problems/n-digit-numbers-with-digit-sum-s-/)"
   ]
  },
  {
   "cell_type": "markdown",
   "id": "a25ca31b",
   "metadata": {},
   "source": [
    "## Intuition"
   ]
  },
  {
   "cell_type": "markdown",
   "id": "d7ace036",
   "metadata": {},
   "source": [
    "- Use DP."
   ]
  },
  {
   "cell_type": "markdown",
   "id": "1f08ffaf",
   "metadata": {},
   "source": [
    "## Solution"
   ]
  },
  {
   "cell_type": "code",
   "execution_count": 1,
   "id": "a1a9ca34",
   "metadata": {},
   "outputs": [],
   "source": [
    "class Solution:\n",
    "    # @param A : integer\n",
    "    # @param B : integer\n",
    "    # @return an integer\n",
    "    def solve(self, A, B):\n",
    "        M,mod={},pow(10,9)+7\n",
    "        def Rec(i,j):\n",
    "            if i==A:\n",
    "                if j==B:\n",
    "                    return 1\n",
    "                return 0\n",
    "            if (i,j) in M:return M[(i,j)]\n",
    "            C=0\n",
    "            for k in range(0,10):\n",
    "                if j+k<=B:\n",
    "                    C+=Rec(i+1,j+k)%mod\n",
    "            M[(i,j)]=C \n",
    "            return M[(i,j)]\n",
    "        ans=0\n",
    "        for i in range(1,10):\n",
    "            ans+=Rec(1,i)%mod\n",
    "        return ans%mod"
   ]
  },
  {
   "cell_type": "markdown",
   "id": "737fe9ec",
   "metadata": {},
   "source": [
    "## Q.4"
   ]
  },
  {
   "cell_type": "markdown",
   "id": "771cf211",
   "metadata": {},
   "source": [
    "### Minimum Path Sum\n",
    "\n",
    "Given a m x n grid filled with non-negative numbers, find a path from top left to bottom right, which minimizes the sum of all numbers along its path.\n",
    "\n",
    "Note: You can only move either down or right at any point in time."
   ]
  },
  {
   "cell_type": "markdown",
   "id": "72515f22",
   "metadata": {},
   "source": [
    "- [LeetCode](https://leetcode.com/problems/minimum-path-sum/description/)\n",
    "- [Interviewbit](https://www.interviewbit.com/problems/min-sum-path-in-matrix/)"
   ]
  },
  {
   "cell_type": "markdown",
   "id": "97865ea9",
   "metadata": {},
   "source": [
    "## Intuition"
   ]
  },
  {
   "cell_type": "markdown",
   "id": "cbd07473",
   "metadata": {},
   "source": [
    "- DP."
   ]
  },
  {
   "cell_type": "markdown",
   "id": "033a51fa",
   "metadata": {},
   "source": [
    "## Solution"
   ]
  },
  {
   "cell_type": "code",
   "execution_count": 3,
   "id": "40533c64",
   "metadata": {},
   "outputs": [],
   "source": [
    "class Solution:\n",
    "    # @param A : list of list of integers\n",
    "    # @return an integer\n",
    "    def minPathSum(self, A):\n",
    "        n, m = len(A), len(A[0])\n",
    "        M = [[float('inf')] * m for _ in range(n)]\n",
    "\n",
    "        M[-1][-1] = A[-1][-1]\n",
    "\n",
    "        for i in range(n - 2, -1, -1):\n",
    "            M[i][-1] = A[i][-1] + M[i + 1][-1]\n",
    "\n",
    "        for j in range(m - 2, -1, -1):\n",
    "            M[-1][j] = A[-1][j] + M[-1][j + 1]\n",
    "\n",
    "        for i in range(n - 2, -1, -1):\n",
    "            for j in range(m - 2, -1, -1):\n",
    "                M[i][j] = A[i][j] + min(M[i + 1][j], M[i][j + 1])\n",
    "\n",
    "        return M[0][0]"
   ]
  },
  {
   "cell_type": "markdown",
   "id": "47c8d6cb",
   "metadata": {},
   "source": [
    "## Q.5"
   ]
  },
  {
   "cell_type": "markdown",
   "id": "ca16144c",
   "metadata": {},
   "source": [
    "### Unique Paths II\n",
    "\n",
    "You are given an m x n integer array grid. There is a robot initially located at the top-left corner (i.e., grid[0][0]). The robot tries to move to the bottom-right corner (i.e., grid[m - 1][n - 1]). The robot can only move either down or right at any point in time.\n",
    "\n",
    "An obstacle and space are marked as 1 or 0 respectively in grid. A path that the robot takes cannot include any square that is an obstacle.\n",
    "\n",
    "Return the number of possible unique paths that the robot can take to reach the bottom-right corner.\n",
    "\n",
    "The testcases are generated so that the answer will be less than or equal to 2 * 109."
   ]
  },
  {
   "cell_type": "markdown",
   "id": "a72c17c8",
   "metadata": {},
   "source": [
    "- [LeetCode](https://leetcode.com/problems/unique-paths-ii/description/)\n",
    "- [Interviewbit](https://www.interviewbit.com/problems/unique-paths-in-a-grid/)"
   ]
  },
  {
   "cell_type": "markdown",
   "id": "888aece7",
   "metadata": {},
   "source": [
    "## Intuition"
   ]
  },
  {
   "cell_type": "markdown",
   "id": "2aafd5a9",
   "metadata": {},
   "source": [
    "- Use DP."
   ]
  },
  {
   "cell_type": "markdown",
   "id": "bbe7f28c",
   "metadata": {},
   "source": [
    "## Solution"
   ]
  },
  {
   "cell_type": "code",
   "execution_count": 1,
   "id": "800a2dd4",
   "metadata": {},
   "outputs": [],
   "source": [
    "class Solution:\n",
    "    # @param A : list of list of integers\n",
    "    # @return an integer\n",
    "    def uniquePathsWithObstacles(self, A):\n",
    "        n,m=len(A),len(A[0])\n",
    "        P,c=[0]*m,[0]*m\n",
    "        for i in range(n-1,-1,-1):\n",
    "            c=[0]*m\n",
    "            for j in range(m-1,-1,-1):\n",
    "                if A[i][j]==1:c[j]=0\n",
    "                elif i==n-1 and j==m-1:c[j]=1\n",
    "                else:\n",
    "                    L,u=0,0\n",
    "                    if i+1<n:u=P[j]\n",
    "                    if j+1<m:L=c[j+1]\n",
    "                    c[j]=L+u\n",
    "            P=c[:]\n",
    "        return P[0]"
   ]
  },
  {
   "cell_type": "markdown",
   "id": "6bd460ff",
   "metadata": {},
   "source": [
    "## Coding Ninjas Problem of the Day"
   ]
  },
  {
   "cell_type": "markdown",
   "id": "66f42200",
   "metadata": {},
   "source": [
    "## [Easy](https://www.naukri.com/code360/problems/remove-all-nodes-with-value-k_1262145)"
   ]
  },
  {
   "cell_type": "code",
   "execution_count": 5,
   "id": "e4d55036",
   "metadata": {},
   "outputs": [],
   "source": [
    "class Node:\n",
    "    def __init__(self, data):\n",
    "        self.data = data\n",
    "        self.next = None\n",
    "\n",
    "\n",
    "def removeNodes(head, k):\n",
    "    H=head\n",
    "    Fh=Node(0)\n",
    "    dummy=Fh\n",
    "    while H:\n",
    "        if H.data!=k:\n",
    "            dummy.next=H\n",
    "            dummy=dummy.next\n",
    "        H=H.next\n",
    "        dummy.next=None\n",
    "    return Fh.next"
   ]
  },
  {
   "cell_type": "markdown",
   "id": "b8494e61",
   "metadata": {},
   "source": [
    "## [Moderate](https://www.naukri.com/code360/problems/faulty-key_1229067)\n",
    "### Python compiler error"
   ]
  },
  {
   "cell_type": "code",
   "execution_count": 3,
   "id": "4722a4c9",
   "metadata": {},
   "outputs": [],
   "source": [
    "def getSum(a,b):\n",
    "    while b!=0:\n",
    "        carry=a&b\n",
    "        a=a^b\n",
    "        b=carry<<1\n",
    "    return a"
   ]
  },
  {
   "cell_type": "markdown",
   "id": "e5fc51cc",
   "metadata": {},
   "source": [
    "## [Hard](https://www.naukri.com/code360/problems/employee-free-time_1171181)"
   ]
  },
  {
   "cell_type": "code",
   "execution_count": 6,
   "id": "3348ef19",
   "metadata": {},
   "outputs": [],
   "source": []
  },
  {
   "cell_type": "code",
   "execution_count": null,
   "id": "864d385a",
   "metadata": {},
   "outputs": [],
   "source": []
  }
 ],
 "metadata": {
  "kernelspec": {
   "display_name": "Python 3 (ipykernel)",
   "language": "python",
   "name": "python3"
  },
  "language_info": {
   "codemirror_mode": {
    "name": "ipython",
    "version": 3
   },
   "file_extension": ".py",
   "mimetype": "text/x-python",
   "name": "python",
   "nbconvert_exporter": "python",
   "pygments_lexer": "ipython3",
   "version": "3.11.5"
  }
 },
 "nbformat": 4,
 "nbformat_minor": 5
}
