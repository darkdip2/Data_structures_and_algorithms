{
 "cells": [
  {
   "cell_type": "markdown",
   "id": "d2ffff82",
   "metadata": {},
   "source": [
    "## Q.1"
   ]
  },
  {
   "cell_type": "markdown",
   "id": "2be451c7",
   "metadata": {},
   "source": [
    "### Longest Common Subsequence\n",
    "\n",
    "Given two strings text1 and text2, return the length of their longest common subsequence. If there is no common subsequence, return 0.\n",
    "\n",
    "A subsequence of a string is a new string generated from the original string with some characters (can be none) deleted without changing the relative order of the remaining characters.\n",
    "\n",
    "- For example, \"ace\" is a subsequence of \"abcde\".\n",
    "A common subsequence of two strings is a subsequence that is common to both strings."
   ]
  },
  {
   "cell_type": "markdown",
   "id": "b463c5ca",
   "metadata": {},
   "source": [
    "- [LeetCode](https://leetcode.com/problems/longest-common-subsequence/description/)\n",
    "- [Interviewbit](https://www.interviewbit.com/problems/longest-common-subsequence/)"
   ]
  },
  {
   "cell_type": "markdown",
   "id": "c04699b3",
   "metadata": {},
   "source": [
    "## Intuition"
   ]
  },
  {
   "cell_type": "markdown",
   "id": "ff548fba",
   "metadata": {},
   "source": [
    "- Use DP."
   ]
  },
  {
   "cell_type": "markdown",
   "id": "b35c0d8a",
   "metadata": {},
   "source": [
    "## Solution"
   ]
  },
  {
   "cell_type": "code",
   "execution_count": 1,
   "id": "54651483",
   "metadata": {},
   "outputs": [],
   "source": [
    "class Solution:\n",
    "    # @param A : string\n",
    "    # @param B : string\n",
    "    # @return an integer\n",
    "    def longestCommonSubsequence(self, A, B):\n",
    "        n,m=len(A),len(B)\n",
    "        T=[[0]*(m+1) for i in range(n+1)]\n",
    "        for i in range(1,n+1):\n",
    "            for j in range(1,m+1):\n",
    "                if A[i-1]==B[j-1]:T[i][j]=T[i-1][j-1]+1\n",
    "                else:T[i][j]=max(T[i-1][j],T[i][j-1])\n",
    "        return T[n][m]"
   ]
  },
  {
   "cell_type": "markdown",
   "id": "5139132e",
   "metadata": {},
   "source": [
    "## Q.2"
   ]
  },
  {
   "cell_type": "markdown",
   "id": "c8e5f076",
   "metadata": {},
   "source": [
    "### Edit Distance\n",
    "\n",
    "Given two strings word1 and word2, return the minimum number of operations required to convert word1 to word2.\n",
    "\n",
    "You have the following three operations permitted on a word:\n",
    "\n",
    "- Insert a character\n",
    "- Delete a character\n",
    "- Replace a character"
   ]
  },
  {
   "cell_type": "markdown",
   "id": "36a9d119",
   "metadata": {},
   "source": [
    "- [LeetCode](https://leetcode.com/problems/edit-distance/description/)\n",
    "- [Interviewbit](https://www.interviewbit.com/problems/edit-distance/)"
   ]
  },
  {
   "cell_type": "markdown",
   "id": "a30e8bdd",
   "metadata": {},
   "source": [
    "## Intuition"
   ]
  },
  {
   "cell_type": "markdown",
   "id": "33a0128d",
   "metadata": {},
   "source": [
    "- Use DP."
   ]
  },
  {
   "cell_type": "markdown",
   "id": "6e1722c3",
   "metadata": {},
   "source": [
    "## Solution"
   ]
  },
  {
   "cell_type": "code",
   "execution_count": 1,
   "id": "04722852",
   "metadata": {},
   "outputs": [],
   "source": [
    "class Solution:\n",
    "    # @param A : string\n",
    "    # @param B : string\n",
    "    # @return an integer\n",
    "    def minDistance(self, A, B):\n",
    "        n,m=len(A),len(B)\n",
    "        T=[[0]*(m+1) for i in range(n+1)]\n",
    "        for i in range(n+1):T[i][0]=i\n",
    "        for j in range(m+1):T[0][j]=j\n",
    "        for i in range(1,n+1):\n",
    "            for j in range(1,m+1):\n",
    "                if A[i-1]==B[j-1]:T[i][j]=T[i-1][j-1]\n",
    "                else: T[i][j]=1+min(T[i][j-1],T[i-1][j],T[i-1][j-1])\n",
    "        return T[n][m]"
   ]
  },
  {
   "cell_type": "markdown",
   "id": "706d97cc",
   "metadata": {},
   "source": [
    "## Q.3"
   ]
  },
  {
   "cell_type": "markdown",
   "id": "f5a12144",
   "metadata": {},
   "source": [
    "### Regular Expression Match\n",
    "\n",
    "Implement wildcard pattern matching with support for '?' and '*' for strings A and B.\n",
    "- '?' : Matches any single character.\n",
    "- '*' : Matches any sequence of characters (including the empty sequence).\n",
    "The matching should cover the entire input string (not partial)."
   ]
  },
  {
   "cell_type": "markdown",
   "id": "96996cff",
   "metadata": {},
   "source": [
    "- [Interviewbit](https://www.interviewbit.com/problems/regular-expression-match/)"
   ]
  },
  {
   "cell_type": "markdown",
   "id": "a25ca31b",
   "metadata": {},
   "source": [
    "## Intuition"
   ]
  },
  {
   "cell_type": "markdown",
   "id": "d7ace036",
   "metadata": {},
   "source": [
    "- Use DP."
   ]
  },
  {
   "cell_type": "markdown",
   "id": "1f08ffaf",
   "metadata": {},
   "source": [
    "## Solution"
   ]
  },
  {
   "cell_type": "code",
   "execution_count": 1,
   "id": "a1a9ca34",
   "metadata": {},
   "outputs": [],
   "source": [
    "class Solution:\n",
    "    # @param A : string\n",
    "    # @param B : string\n",
    "    # @return an integer\n",
    "    def isMatch(self, A, B):\n",
    "        n, m = len(A), len(B)\n",
    "        if all(B[k] == '*' for k in range(m)):return 1\n",
    "        dp = [[0] * (m + 1) for _ in range(n + 1)]\n",
    "        dp[n][m] = 1\n",
    "        for i in range(n, -1, -1):\n",
    "            for j in range(m - 1, -1, -1):\n",
    "                if i == n:dp[i][j] = 1 if all(B[k] == '*' for k in range(j, m)) else 0\n",
    "                elif j == m:dp[i][j] = 0\n",
    "                elif A[i] == B[j] or B[j] == '?':dp[i][j] = dp[i + 1][j + 1]\n",
    "                elif B[j] == '*':dp[i][j] = dp[i + 1][j] or dp[i][j + 1]\n",
    "                else:dp[i][j] = 0\n",
    "        return dp[0][0]"
   ]
  },
  {
   "cell_type": "markdown",
   "id": "737fe9ec",
   "metadata": {},
   "source": [
    "## Q.4"
   ]
  },
  {
   "cell_type": "markdown",
   "id": "771cf211",
   "metadata": {},
   "source": [
    "### Interleaving String\n",
    "\n",
    "Given strings s1, s2, and s3, find whether s3 is formed by an interleaving of s1 and s2.\n",
    "\n",
    "An interleaving of two strings s and t is a configuration where s and t are divided into n and m \n",
    "substrings\n",
    " respectively, such that:\n",
    "\n",
    "- s = s1 + s2 + ... + sn\n",
    "- t = t1 + t2 + ... + tm\n",
    "- |n - m| <= 1\n",
    "- The interleaving is s1 + t1 + s2 + t2 + s3 + t3 + ... or t1 + s1 + t2 + s2 + t3 + s3 + ...\n",
    "Note: a + b is the concatenation of strings a and b."
   ]
  },
  {
   "cell_type": "markdown",
   "id": "72515f22",
   "metadata": {},
   "source": [
    "- [LeetCode](https://leetcode.com/problems/interleaving-string/description/)\n",
    "- [Interviewbit](https://www.interviewbit.com/problems/interleaving-strings/)"
   ]
  },
  {
   "cell_type": "markdown",
   "id": "97865ea9",
   "metadata": {},
   "source": [
    "## Intuition"
   ]
  },
  {
   "cell_type": "markdown",
   "id": "cbd07473",
   "metadata": {},
   "source": [
    "- DP."
   ]
  },
  {
   "cell_type": "markdown",
   "id": "033a51fa",
   "metadata": {},
   "source": [
    "## Solution"
   ]
  },
  {
   "cell_type": "code",
   "execution_count": 3,
   "id": "40533c64",
   "metadata": {},
   "outputs": [],
   "source": [
    "class Solution:\n",
    "    # @param A : string\n",
    "    # @param B : string\n",
    "    # @param C : string\n",
    "    # @return an integer\n",
    "    def isInterleave(self, A, B, C):\n",
    "        n,m,o=len(A),len(B),len(C)\n",
    "        if o!=n+m:return 0\n",
    "        T=[[0]*(m+1) for _ in range(n+1)]\n",
    "        T[0][0]=1\n",
    "        for i in range(n+1):\n",
    "            for j in range(m+1):\n",
    "                k=i+j\n",
    "                if i>0 and C[k-1]==A[i-1]:T[i][j]=T[i][j] or T[i-1][j]\n",
    "                if j>0 and C[k-1]==B[j-1]:T[i][j]=T[i][j] or T[i][j-1]\n",
    "        return T[n][m]"
   ]
  },
  {
   "cell_type": "markdown",
   "id": "47c8d6cb",
   "metadata": {},
   "source": [
    "## Q.5"
   ]
  },
  {
   "cell_type": "markdown",
   "id": "ca16144c",
   "metadata": {},
   "source": [
    "### Regular Expression Matching\n",
    "\n",
    "Given an input string s and a pattern p, implement regular expression matching with support for '.' and '*' where:\n",
    "\n",
    "- '.' Matches any single character.​​​​\n",
    "- '*' Matches zero or more of the preceding element.\n",
    "The matching should cover the entire input string (not partial)."
   ]
  },
  {
   "cell_type": "markdown",
   "id": "a72c17c8",
   "metadata": {},
   "source": [
    "- [LeetCode](https://leetcode.com/problems/regular-expression-matching/description/)"
   ]
  },
  {
   "cell_type": "markdown",
   "id": "888aece7",
   "metadata": {},
   "source": [
    "## Intuition"
   ]
  },
  {
   "cell_type": "markdown",
   "id": "2aafd5a9",
   "metadata": {},
   "source": [
    "- Use DP."
   ]
  },
  {
   "cell_type": "markdown",
   "id": "bbe7f28c",
   "metadata": {},
   "source": [
    "## Solution"
   ]
  },
  {
   "cell_type": "code",
   "execution_count": 1,
   "id": "800a2dd4",
   "metadata": {},
   "outputs": [],
   "source": [
    "class Solution:\n",
    "    # @param A : string\n",
    "    # @param B : string\n",
    "    # @return an integer\n",
    "    def isMatch(self, A, B):\n",
    "        n, m = len(A), len(B)\n",
    "        P = [0] * (m + 1)\n",
    "        P[0] = 1\n",
    "\n",
    "        for j in range(1, m + 1):\n",
    "            if B[j - 1] == '*':\n",
    "                P[j] = P[j - 2]\n",
    "\n",
    "        for i in range(1, n + 1):\n",
    "            c = [0] * (m + 1)\n",
    "            for j in range(1, m + 1):\n",
    "                if B[j - 1] == '.' or A[i - 1] == B[j - 1]:\n",
    "                    c[j] = P[j - 1]\n",
    "                elif B[j - 1] == '*':\n",
    "                    c[j] = c[j - 2] or (P[j] and (A[i - 1] == B[j - 2] or B[j - 2] == '.'))\n",
    "                else:\n",
    "                    c[j] = 0\n",
    "            P = c[:]\n",
    "\n",
    "        return int(P[m])"
   ]
  },
  {
   "cell_type": "markdown",
   "id": "6bd460ff",
   "metadata": {},
   "source": [
    "## Coding Ninjas Problem of the Day"
   ]
  },
  {
   "cell_type": "markdown",
   "id": "66f42200",
   "metadata": {},
   "source": [
    "## [Easy](https://www.naukri.com/code360/problems/reverse-the-string_799927)"
   ]
  },
  {
   "cell_type": "code",
   "execution_count": 5,
   "id": "e4d55036",
   "metadata": {},
   "outputs": [],
   "source": [
    "def reverseString(string):\n",
    "    return string[::-1]"
   ]
  },
  {
   "cell_type": "markdown",
   "id": "b8494e61",
   "metadata": {},
   "source": [
    "## [Moderate](https://www.naukri.com/code360/problems/three-pointer_1081487)"
   ]
  },
  {
   "cell_type": "code",
   "execution_count": 3,
   "id": "4722a4c9",
   "metadata": {},
   "outputs": [],
   "source": [
    "def threePointer(X:list, Y:list, Z:list):\n",
    "    n,m,o=len(X),len(Y),len(Z)\n",
    "    i,j,k,ans=0,0,0,float('inf')\n",
    "    while i<n and j<m and k<o:\n",
    "        Min=min(X[i],Y[j],Z[k])\n",
    "        Max=max(X[i],Y[j],Z[k])\n",
    "        ans=min(ans,Max-Min)\n",
    "        if X[i]==Min:i+=1\n",
    "        elif Y[j]==Min:j+=1\n",
    "        else:k+=1\n",
    "    return ans"
   ]
  },
  {
   "cell_type": "markdown",
   "id": "e5fc51cc",
   "metadata": {},
   "source": [
    "## [Hard](https://www.naukri.com/code360/problems/remove-invalid-parentheses_1263697)"
   ]
  },
  {
   "cell_type": "code",
   "execution_count": 6,
   "id": "3348ef19",
   "metadata": {},
   "outputs": [],
   "source": []
  },
  {
   "cell_type": "code",
   "execution_count": null,
   "id": "864d385a",
   "metadata": {},
   "outputs": [],
   "source": []
  }
 ],
 "metadata": {
  "kernelspec": {
   "display_name": "Python 3 (ipykernel)",
   "language": "python",
   "name": "python3"
  },
  "language_info": {
   "codemirror_mode": {
    "name": "ipython",
    "version": 3
   },
   "file_extension": ".py",
   "mimetype": "text/x-python",
   "name": "python",
   "nbconvert_exporter": "python",
   "pygments_lexer": "ipython3",
   "version": "3.11.5"
  }
 },
 "nbformat": 4,
 "nbformat_minor": 5
}
