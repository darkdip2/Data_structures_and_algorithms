{
 "cells": [
  {
   "cell_type": "markdown",
   "id": "d2ffff82",
   "metadata": {},
   "source": [
    "## Q.1"
   ]
  },
  {
   "cell_type": "markdown",
   "id": "2be451c7",
   "metadata": {},
   "source": [
    "### Longest Palindromic Subsequence\n",
    "\n",
    "Given a string s, find the longest palindromic subsequence's length in s.\n",
    "\n",
    "A subsequence is a sequence that can be derived from another sequence by deleting some or no elements without changing the order of the remaining elements."
   ]
  },
  {
   "cell_type": "markdown",
   "id": "b463c5ca",
   "metadata": {},
   "source": [
    "- [LeetCode](https://leetcode.com/problems/longest-palindromic-subsequence/description/)\n",
    "- [Interviewbit](https://www.interviewbit.com/problems/longest-palindromic-subsequence/submissions/)"
   ]
  },
  {
   "cell_type": "markdown",
   "id": "c04699b3",
   "metadata": {},
   "source": [
    "## Intuition"
   ]
  },
  {
   "cell_type": "markdown",
   "id": "ff548fba",
   "metadata": {},
   "source": [
    "- LCS of s and reverse of s."
   ]
  },
  {
   "cell_type": "markdown",
   "id": "b35c0d8a",
   "metadata": {},
   "source": [
    "## Solution"
   ]
  },
  {
   "cell_type": "code",
   "execution_count": 1,
   "id": "54651483",
   "metadata": {},
   "outputs": [],
   "source": [
    "class Solution:\n",
    "    # @param A : string\n",
    "    # @return an integer\n",
    "    def solve(self, A):\n",
    "        def LCS(S,t):\n",
    "            n,m=len(S),len(t)\n",
    "            T=[[0]*(m+1) for _ in range(n+1)]\n",
    "            for i in range(1,n+1):\n",
    "                for j in range(1,m+1):\n",
    "                    if S[i-1]==t[j-1]:T[i][j]=1+T[i-1][j-1]\n",
    "                    else:T[i][j]=max(T[i][j-1],T[i-1][j])\n",
    "            return T[n][m]\n",
    "        return LCS(A,A[::-1])"
   ]
  },
  {
   "cell_type": "markdown",
   "id": "5139132e",
   "metadata": {},
   "source": [
    "## Q.2"
   ]
  },
  {
   "cell_type": "markdown",
   "id": "c8e5f076",
   "metadata": {},
   "source": [
    "### Distinct Subsequences\n",
    "\n",
    "Given two strings s and t, return the number of distinct subsequences of s which equals t.\n",
    "\n",
    "The test cases are generated so that the answer fits on a 32-bit signed integer."
   ]
  },
  {
   "cell_type": "markdown",
   "id": "36a9d119",
   "metadata": {},
   "source": [
    "- [LeetCode](https://leetcode.com/problems/distinct-subsequences/description/)\n",
    "- [Interviewbit](https://www.interviewbit.com/problems/distinct-subsequences/)"
   ]
  },
  {
   "cell_type": "markdown",
   "id": "a30e8bdd",
   "metadata": {},
   "source": [
    "## Intuition"
   ]
  },
  {
   "cell_type": "markdown",
   "id": "33a0128d",
   "metadata": {},
   "source": [
    "- Use DP."
   ]
  },
  {
   "cell_type": "markdown",
   "id": "6e1722c3",
   "metadata": {},
   "source": [
    "## Solution"
   ]
  },
  {
   "cell_type": "code",
   "execution_count": 1,
   "id": "04722852",
   "metadata": {},
   "outputs": [],
   "source": [
    "class Solution:\n",
    "    def numDistinct(self, A: str, B: str) -> int:\n",
    "        n, m = len(A), len(B)\n",
    "        P = [0] * (m + 1)\n",
    "        P[m] = 1\n",
    "\n",
    "        for i in range(n - 1, -1, -1):\n",
    "            c = [0] * (m + 1)\n",
    "            c[m] = 1\n",
    "            for j in range(m - 1, -1, -1):\n",
    "                if A[i] == B[j]:\n",
    "                    c[j] = P[j] + P[j + 1]\n",
    "                else:\n",
    "                    c[j] = P[j]\n",
    "            P = c[:]\n",
    "\n",
    "        return P[0]"
   ]
  },
  {
   "cell_type": "markdown",
   "id": "706d97cc",
   "metadata": {},
   "source": [
    "## Q.3"
   ]
  },
  {
   "cell_type": "markdown",
   "id": "f5a12144",
   "metadata": {},
   "source": [
    "### Regular Expression Match\n",
    "\n",
    "Implement wildcard pattern matching with support for '?' and '*' for strings A and B.\n",
    "- '?' : Matches any single character.\n",
    "- '*' : Matches any sequence of characters (including the empty sequence).\n",
    "The matching should cover the entire input string (not partial)."
   ]
  },
  {
   "cell_type": "markdown",
   "id": "96996cff",
   "metadata": {},
   "source": [
    "- [Interviewbit](https://www.interviewbit.com/problems/regular-expression-match/)"
   ]
  },
  {
   "cell_type": "markdown",
   "id": "a25ca31b",
   "metadata": {},
   "source": [
    "## Intuition"
   ]
  },
  {
   "cell_type": "markdown",
   "id": "d7ace036",
   "metadata": {},
   "source": [
    "- Use DP."
   ]
  },
  {
   "cell_type": "markdown",
   "id": "1f08ffaf",
   "metadata": {},
   "source": [
    "## Solution"
   ]
  },
  {
   "cell_type": "code",
   "execution_count": 1,
   "id": "a1a9ca34",
   "metadata": {},
   "outputs": [],
   "source": [
    "class Solution:\n",
    "    # @param A : string\n",
    "    # @param B : string\n",
    "    # @return an integer\n",
    "    def isMatch(self, A, B):\n",
    "        n, m = len(A), len(B)\n",
    "        if all(B[k] == '*' for k in range(m)):return 1\n",
    "        P=[0]*(m+1)\n",
    "        P[m]=1\n",
    "        for i in range(n, -1, -1):\n",
    "            c=[0]*(m+1)\n",
    "            for j in range(m, -1, -1):\n",
    "                if i == n:c[j] = 1 if all(B[k] == '*' for k in range(j, m)) or P[j] else 0\n",
    "                elif j==m:c[j]=0\n",
    "                elif A[i] == B[j] or B[j] == '?':c[j] = P[j + 1]\n",
    "                elif B[j] == '*':c[j] = P[j] or c[j + 1]\n",
    "                else:c[j] = 0\n",
    "            P=c[:]\n",
    "        return P[0]"
   ]
  },
  {
   "cell_type": "markdown",
   "id": "737fe9ec",
   "metadata": {},
   "source": [
    "## Q.4"
   ]
  },
  {
   "cell_type": "markdown",
   "id": "771cf211",
   "metadata": {},
   "source": [
    "### Longest Palindromic Substring\n",
    "\n",
    "Given a string s, return the longest palindromic substring in s."
   ]
  },
  {
   "cell_type": "markdown",
   "id": "72515f22",
   "metadata": {},
   "source": [
    "- [LeetCode](https://leetcode.com/problems/longest-palindromic-substring/description/)\n",
    "- [Interviewbit](https://www.interviewbit.com/problems/longest-palindromic-substring/)"
   ]
  },
  {
   "cell_type": "markdown",
   "id": "97865ea9",
   "metadata": {},
   "source": [
    "## Intuition"
   ]
  },
  {
   "cell_type": "markdown",
   "id": "cbd07473",
   "metadata": {},
   "source": [
    "- DP."
   ]
  },
  {
   "cell_type": "markdown",
   "id": "033a51fa",
   "metadata": {},
   "source": [
    "## Solution"
   ]
  },
  {
   "cell_type": "code",
   "execution_count": 3,
   "id": "40533c64",
   "metadata": {},
   "outputs": [],
   "source": [
    "class Solution:\n",
    "    # @param A : string\n",
    "    # @return a strings\n",
    "    def longestPalindrome(self, A):\n",
    "        ans,n=[0,0],len(A)\n",
    "        T=[[0]*n for _ in range(n)]\n",
    "        for i in range(n):\n",
    "            T[i][i]=1\n",
    "        for i in range(n-1):\n",
    "            if A[i]==A[i+1]:\n",
    "                T[i][i+1]=1\n",
    "                ans=[i,i+1]\n",
    "        for l in range(2,n):\n",
    "            for i in range(n-l):\n",
    "                j=i+l\n",
    "                if A[i]==A[j] and T[i+1][j-1]:\n",
    "                    T[i][j]=1\n",
    "                    if l>ans[1]-ans[0]:\n",
    "                        ans=[i,j]\n",
    "        return A[ans[0]:ans[1]+1]"
   ]
  },
  {
   "cell_type": "markdown",
   "id": "47c8d6cb",
   "metadata": {},
   "source": [
    "## Q.5"
   ]
  },
  {
   "cell_type": "markdown",
   "id": "ca16144c",
   "metadata": {},
   "source": [
    "### Regular Expression Matching\n",
    "\n",
    "Given an input string s and a pattern p, implement regular expression matching with support for '.' and '*' where:\n",
    "\n",
    "- '.' Matches any single character.​​​​\n",
    "- '*' Matches zero or more of the preceding element.\n",
    "The matching should cover the entire input string (not partial)."
   ]
  },
  {
   "cell_type": "markdown",
   "id": "a72c17c8",
   "metadata": {},
   "source": [
    "- [LeetCode](https://leetcode.com/problems/regular-expression-matching/description/)"
   ]
  },
  {
   "cell_type": "markdown",
   "id": "888aece7",
   "metadata": {},
   "source": [
    "## Intuition"
   ]
  },
  {
   "cell_type": "markdown",
   "id": "2aafd5a9",
   "metadata": {},
   "source": [
    "- Use DP."
   ]
  },
  {
   "cell_type": "markdown",
   "id": "bbe7f28c",
   "metadata": {},
   "source": [
    "## Solution"
   ]
  },
  {
   "cell_type": "code",
   "execution_count": 1,
   "id": "800a2dd4",
   "metadata": {},
   "outputs": [],
   "source": [
    "class Solution:\n",
    "    # @param A : string\n",
    "    # @param B : string\n",
    "    # @return an integer\n",
    "    def isMatch(self, A, B):\n",
    "        n, m = len(A), len(B)\n",
    "        P = [0] * (m + 1)\n",
    "        P[0] = 1\n",
    "\n",
    "        for j in range(1, m + 1):\n",
    "            if B[j - 1] == '*':\n",
    "                P[j] = P[j - 2]\n",
    "\n",
    "        for i in range(1, n + 1):\n",
    "            c = [0] * (m + 1)\n",
    "            for j in range(1, m + 1):\n",
    "                if B[j - 1] == '.' or A[i - 1] == B[j - 1]:\n",
    "                    c[j] = P[j - 1]\n",
    "                elif B[j - 1] == '*':\n",
    "                    c[j] = c[j - 2] or (P[j] and (A[i - 1] == B[j - 2] or B[j - 2] == '.'))\n",
    "                else:\n",
    "                    c[j] = 0\n",
    "            P = c[:]\n",
    "\n",
    "        return int(P[m])"
   ]
  },
  {
   "cell_type": "markdown",
   "id": "6bd460ff",
   "metadata": {},
   "source": [
    "## Coding Ninjas Problem of the Day"
   ]
  },
  {
   "cell_type": "markdown",
   "id": "66f42200",
   "metadata": {},
   "source": [
    "## [Easy](https://www.naukri.com/code360/problems/string-mania_5558497)"
   ]
  },
  {
   "cell_type": "code",
   "execution_count": 5,
   "id": "e4d55036",
   "metadata": {},
   "outputs": [],
   "source": [
    "def stringMania(n : int, m : int, str1 : str, str2 : str) -> int:\n",
    "    for i in range(min(n,m)):\n",
    "        if str1[i]!=str2[i]:\n",
    "            return 1 if str1[i]>str2[i] else -1\n",
    "    if n>m:return 1\n",
    "    elif n<m:return -1\n",
    "    return 0"
   ]
  },
  {
   "cell_type": "markdown",
   "id": "b8494e61",
   "metadata": {},
   "source": [
    "## [Moderate](https://www.naukri.com/code360/problems/strobogrammatic-number-ll_1466957)\n",
    "### Python compiler error"
   ]
  },
  {
   "cell_type": "code",
   "execution_count": 3,
   "id": "4722a4c9",
   "metadata": {},
   "outputs": [],
   "source": [
    "def findStrobogrammatic(n):\n",
    "    def Rec(n,m):\n",
    "        if m==0:return ['']\n",
    "        if m==1:return ['0','1','8']\n",
    "        middles=Rec(n,m-2)\n",
    "        result=[]\n",
    "        for middle in middles:\n",
    "            if n!=m:result.append('0'+middle+'0')\n",
    "            result.append('1'+middle+'1')\n",
    "            result.append('6'+middle+'9')\n",
    "            result.append('8'+middle+'8')\n",
    "            result.append('9'+middle+'6')\n",
    "        return result\n",
    "    return Rec(n,n)"
   ]
  },
  {
   "cell_type": "markdown",
   "id": "e5fc51cc",
   "metadata": {},
   "source": [
    "## [Hard](https://www.naukri.com/code360/problems/pretty-strings-workshop_3149703)"
   ]
  },
  {
   "cell_type": "code",
   "execution_count": 1,
   "id": "3348ef19",
   "metadata": {},
   "outputs": [],
   "source": [
    "from typing import List\n",
    "def findCost(n: int, s: str, m: int, queries: List[List[int]]) -> List[int]:\n",
    "    combinations=['abc','acb','bca','bac','cba','cab']\n",
    "    T=[[0]*(n+1) for _ in range(6)]\n",
    "    for i in range(6):\n",
    "        count=0\n",
    "        for j in range(1,n+1):\n",
    "            if s[j-1]!=combinations[i][j%3]:count+=1\n",
    "            T[i][j]=count\n",
    "    ans=[]\n",
    "    for query in queries:\n",
    "        L,r=query\n",
    "        Min=float('inf')\n",
    "        for j in range(6):\n",
    "            cost=T[j][r]-T[j][L-1]\n",
    "            Min=min(Min,cost)\n",
    "        ans.append(Min)\n",
    "    return ans"
   ]
  },
  {
   "cell_type": "code",
   "execution_count": null,
   "id": "864d385a",
   "metadata": {},
   "outputs": [],
   "source": []
  }
 ],
 "metadata": {
  "kernelspec": {
   "display_name": "Python 3 (ipykernel)",
   "language": "python",
   "name": "python3"
  },
  "language_info": {
   "codemirror_mode": {
    "name": "ipython",
    "version": 3
   },
   "file_extension": ".py",
   "mimetype": "text/x-python",
   "name": "python",
   "nbconvert_exporter": "python",
   "pygments_lexer": "ipython3",
   "version": "3.11.5"
  }
 },
 "nbformat": 4,
 "nbformat_minor": 5
}
