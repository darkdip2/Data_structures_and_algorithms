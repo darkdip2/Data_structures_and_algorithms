{
 "cells": [
  {
   "cell_type": "markdown",
   "id": "d2ffff82",
   "metadata": {},
   "source": [
    "## Q.1"
   ]
  },
  {
   "cell_type": "markdown",
   "id": "2be451c7",
   "metadata": {},
   "source": [
    "### Topological sort in lexicographical order\n",
    "\n",
    "Given an directed acyclic graph having A nodes. A matrix B of size M x 2 is given which represents the M edges such that there is a edge directed from node B[i][0] to node B[i][1].\n",
    "\n",
    "Topological sorting for Directed Acyclic Graph (DAG) is a linear ordering of vertices such that for every directed edge uv, vertex u comes before v in the ordering. Topological Sorting for a graph is not possible if the graph is not a DAG.\n",
    "\n",
    "Return the topological ordering of the graph and if it doesn't exist then return an empty array.\n",
    "\n",
    "If there is a solution return the correct ordering. If there are multiple solutions print the lexographically smallest one.\n",
    "\n",
    "Ordering (a, b, c) is said to be lexographically smaller than ordering (e, f, g) if a < e or if(a==e) then b < f and so on.\n",
    "\n",
    "NOTE:\n",
    "\n",
    "- There are no self-loops in the graph.\n",
    "- The graph may or may not be connected.\n",
    "- Nodes are numbered from 1 to A.\n",
    "- Your solution will run on multiple test cases. If you are using global variables make sure to clear them."
   ]
  },
  {
   "cell_type": "markdown",
   "id": "c04699b3",
   "metadata": {},
   "source": [
    "## Intuition"
   ]
  },
  {
   "cell_type": "markdown",
   "id": "ff548fba",
   "metadata": {},
   "source": [
    "- Use Kahn's algorithm with minheap."
   ]
  },
  {
   "cell_type": "markdown",
   "id": "b35c0d8a",
   "metadata": {},
   "source": [
    "## Solution"
   ]
  },
  {
   "cell_type": "code",
   "execution_count": 1,
   "id": "54651483",
   "metadata": {},
   "outputs": [],
   "source": [
    "import heapq\n",
    "class Solution:\n",
    "    # @param A : integer\n",
    "    # @param B : list of list of integers\n",
    "    # @return a list of integers\n",
    "    def solve(self, A, B):\n",
    "        Ans,Q,Adj,In=[],[],[[] for i in range(A+1)],[0]*(A+1)\n",
    "        for i in B:\n",
    "            In[i[1]]+=1\n",
    "            Adj[i[0]].append(i[1])\n",
    "        for i in range(1,A+1):\n",
    "            if In[i]==0:heapq.heappush(Q,i)\n",
    "        while Q:\n",
    "            for i in range(len(Q)):\n",
    "                F=heapq.heappop(Q)\n",
    "                Ans.append(F)\n",
    "                for n in Adj[F]:\n",
    "                    In[n]-=1\n",
    "                    if In[n]==0:heapq.heappush(Q,n)\n",
    "        return Ans"
   ]
  },
  {
   "cell_type": "markdown",
   "id": "a6801432",
   "metadata": {},
   "source": [
    "## Q.2"
   ]
  },
  {
   "cell_type": "markdown",
   "id": "0c221f8d",
   "metadata": {},
   "source": [
    "### Course Schedule II\n",
    "\n",
    "There are a total of numCourses courses you have to take, labeled from 0 to numCourses - 1. You are given an array prerequisites where prerequisites[i] = [ai, bi] indicates that you must take course bi first if you want to take course ai.\n",
    "\n",
    "- For example, the pair [0, 1], indicates that to take course 0 you have to first take course 1.\n",
    "Return the ordering of courses you should take to finish all courses. If there are many valid answers, return any of them. If it is impossible to finish all courses, return an empty array."
   ]
  },
  {
   "cell_type": "markdown",
   "id": "3218c06a",
   "metadata": {},
   "source": [
    "- [LeetCode](https://leetcode.com/problems/course-schedule-ii/description/)\n",
    "- [LeetCode](https://leetcode.com/problems/course-schedule/description/)"
   ]
  },
  {
   "cell_type": "markdown",
   "id": "dd3c3b29",
   "metadata": {},
   "source": [
    "## Intuition"
   ]
  },
  {
   "cell_type": "markdown",
   "id": "d8c520ea",
   "metadata": {},
   "source": [
    "- Use Kahn's algorithm topological sort."
   ]
  },
  {
   "cell_type": "markdown",
   "id": "4b15d859",
   "metadata": {},
   "source": [
    "## Solution"
   ]
  },
  {
   "cell_type": "code",
   "execution_count": 1,
   "id": "2838d819",
   "metadata": {},
   "outputs": [],
   "source": [
    "from collections import deque\n",
    "\n",
    "class Solution:\n",
    "    # @param A : integer\n",
    "    # @param B : list of list of integers\n",
    "    # @return an integer\n",
    "    def findOrder(self, A, B):\n",
    " \n",
    "        Q = deque()\n",
    "        In = [0] * A\n",
    "        Adj = [[] for _ in range(A)]\n",
    "        order = []\n",
    "\n",
    "  \n",
    "        for i in B:\n",
    "            Adj[i[1]].append(i[0])\n",
    "            In[i[0]] += 1\n",
    "\n",
    "        for i in range(A):\n",
    "            if In[i] == 0:\n",
    "                Q.append(i)\n",
    "\n",
    "        while Q:\n",
    "            F = Q.popleft()\n",
    "            order.append(F)\n",
    "            for n in Adj[F]:\n",
    "                In[n] -= 1\n",
    "                if In[n] == 0:\n",
    "                    Q.append(n)\n",
    "\n",
    "        if len(order) == A:\n",
    "            return order\n",
    "        else:\n",
    "            return []"
   ]
  },
  {
   "cell_type": "markdown",
   "id": "5139132e",
   "metadata": {},
   "source": [
    "## Q.3"
   ]
  },
  {
   "cell_type": "markdown",
   "id": "c8e5f076",
   "metadata": {},
   "source": [
    "###  Batches\n",
    "\n",
    "A students applied for admission in IB Academy. An array of integers B is given representing the strengths of A people i.e. B[i] represents the strength of ith student.\n",
    "\n",
    "Among the A students some of them knew each other. A matrix C of size M x 2 is given which represents relations where ith relations depicts that C[i][0] and C[i][1] knew each other.\n",
    "\n",
    "All students who know each other are placed in one batch.\n",
    "\n",
    "Strength of a batch is equal to sum of the strength of all the students in it.\n",
    "\n",
    "Now the number of batches are formed are very much, it is impossible for IB to handle them. So IB set criteria for selection: All those batches having strength at least D are selected.\n",
    "\n",
    "Find the number of batches selected.\n",
    "\n",
    "NOTE: If student x and student y know each other, student y and z know each other then student x and student z will also know each other."
   ]
  },
  {
   "cell_type": "markdown",
   "id": "a30e8bdd",
   "metadata": {},
   "source": [
    "## Intuition"
   ]
  },
  {
   "cell_type": "markdown",
   "id": "33a0128d",
   "metadata": {},
   "source": [
    "- Use DSU."
   ]
  },
  {
   "cell_type": "markdown",
   "id": "6e1722c3",
   "metadata": {},
   "source": [
    "## Solution"
   ]
  },
  {
   "cell_type": "code",
   "execution_count": 2,
   "id": "04722852",
   "metadata": {},
   "outputs": [],
   "source": [
    "class Solution:\n",
    "    # @param A : integer\n",
    "    # @param B : list of integers\n",
    "    # @param C : list of list of integers\n",
    "    # @param D : integer\n",
    "    # @return an integer\n",
    "    def solve(self, A, B, C, D):\n",
    "        def Find(P,i):\n",
    "            if i==P[i]:return i\n",
    "            P[i]=Find(P,P[i])\n",
    "            return P[i]\n",
    "        def Union(A,B,S,P):\n",
    "            if S[A]>=S[B]:\n",
    "                P[B]=A \n",
    "                S[A]+=S[B]\n",
    "            else:\n",
    "                P[A]=B\n",
    "                S[B]+=S[A]\n",
    "        P,S,cnt=[i for i in range(A)],[B[i] for i in range(A)],0\n",
    "        for i in C:\n",
    "            x,y=Find(P,i[0]-1),Find(P,i[1]-1)\n",
    "            if x!=y:Union(x,y,S,P)\n",
    "        for i in range(A):\n",
    "            if P[i]==i and S[i]>=D:cnt+=1\n",
    "        return cnt"
   ]
  }
 ],
 "metadata": {
  "kernelspec": {
   "display_name": "Python 3 (ipykernel)",
   "language": "python",
   "name": "python3"
  },
  "language_info": {
   "codemirror_mode": {
    "name": "ipython",
    "version": 3
   },
   "file_extension": ".py",
   "mimetype": "text/x-python",
   "name": "python",
   "nbconvert_exporter": "python",
   "pygments_lexer": "ipython3",
   "version": "3.11.5"
  }
 },
 "nbformat": 4,
 "nbformat_minor": 5
}
