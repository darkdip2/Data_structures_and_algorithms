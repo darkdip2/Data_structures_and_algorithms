{
 "cells": [
  {
   "cell_type": "markdown",
   "id": "d2ffff82",
   "metadata": {},
   "source": [
    "## Q.1"
   ]
  },
  {
   "cell_type": "markdown",
   "id": "2be451c7",
   "metadata": {},
   "source": [
    "### Commutable Islands\n",
    "\n",
    "There are A islands and there are M bridges connecting them. Each bridge has some cost attached to it.\n",
    "\n",
    "We need to find bridges with minimal cost such that all islands are connected.\n",
    "\n",
    "It is guaranteed that input data will contain at least one possible scenario in which all islands are connected with each other."
   ]
  },
  {
   "cell_type": "markdown",
   "id": "a6c6d032",
   "metadata": {},
   "source": [
    "- [Interviewbit](https://www.interviewbit.com/problems/commutable-islands/)"
   ]
  },
  {
   "cell_type": "markdown",
   "id": "c04699b3",
   "metadata": {},
   "source": [
    "## Intuition"
   ]
  },
  {
   "cell_type": "markdown",
   "id": "ff548fba",
   "metadata": {},
   "source": [
    "- Use Prim's MST algorithm."
   ]
  },
  {
   "cell_type": "markdown",
   "id": "b35c0d8a",
   "metadata": {},
   "source": [
    "## Solution"
   ]
  },
  {
   "cell_type": "code",
   "execution_count": 1,
   "id": "54651483",
   "metadata": {},
   "outputs": [],
   "source": [
    "import heapq\n",
    "class Solution:\n",
    "    # @param A : integer\n",
    "    # @param B : list of list of integers\n",
    "    # @return an integer\n",
    "    def solve(self, A, B):\n",
    "        Adj,H,V,mincost=[[] for i in range(A+1)],[(0,1)],[False]*(A+1),0\n",
    "        for i,j,k in B:\n",
    "            Adj[i].append((j,k))\n",
    "            Adj[j].append((i,k))\n",
    "        while H:\n",
    "            c,i=heapq.heappop(H)\n",
    "            if V[i]:continue\n",
    "            mincost+=c\n",
    "            V[i]=True\n",
    "            for n,cost in Adj[i]:heapq.heappush(H,(cost,n))\n",
    "        return mincost"
   ]
  },
  {
   "cell_type": "markdown",
   "id": "a6801432",
   "metadata": {},
   "source": [
    "## Q.2"
   ]
  },
  {
   "cell_type": "markdown",
   "id": "0c221f8d",
   "metadata": {},
   "source": [
    "### Djikstra\n",
    "\n",
    "Given a weighted undirected graph having A nodes, a source node C and destination node D.\n",
    "\n",
    "Find the shortest distance from C to D and if it is impossible to reach node D from C then return -1.\n",
    "\n",
    "You are expected to do it in Time Complexity of O(A + M).\n",
    "\n",
    "Note:\n",
    "\n",
    "There are no self-loops in the graph.\n",
    "\n",
    "No multiple edges between two pair of vertices.\n",
    "\n",
    "The graph may or may not be connected.\n",
    "\n",
    "Nodes are Numbered from 0 to A-1.\n",
    "\n",
    "Your solution will run on multiple testcases. If you are using global variables make sure to clear them."
   ]
  },
  {
   "cell_type": "markdown",
   "id": "dd3c3b29",
   "metadata": {},
   "source": [
    "## Intuition"
   ]
  },
  {
   "cell_type": "markdown",
   "id": "d8c520ea",
   "metadata": {},
   "source": [
    "- Single source no self loop Djikstra.\n",
    "- Single source self loop Bellman Ford.\n",
    "- Multi source Floyd Warshall."
   ]
  },
  {
   "cell_type": "markdown",
   "id": "4b15d859",
   "metadata": {},
   "source": [
    "## Solution"
   ]
  },
  {
   "cell_type": "code",
   "execution_count": 1,
   "id": "2838d819",
   "metadata": {},
   "outputs": [],
   "source": [
    "import heapq\n",
    "class Solution:\n",
    "    # @param A : integer\n",
    "    # @param B : list of list of integers\n",
    "    # @param C : integer\n",
    "    # @param D : integer\n",
    "    # @return an integer\n",
    "    def solve(self, A, B, C, D):\n",
    "        Q,Adj,dist=[(0,C)],[[] for i in range(A)],[float('inf')]*A \n",
    "        for i,j,k in B:\n",
    "            Adj[i].append((k,j))\n",
    "            Adj[j].append((k,i))\n",
    "        dist[C]=0\n",
    "        while Q:\n",
    "            d,i=heapq.heappop(Q)\n",
    "            for d1,i1 in Adj[i]:\n",
    "                if d+d1<dist[i1]:\n",
    "                    dist[i1]=d+d1\n",
    "                    heapq.heappush(Q,(d+d1,i1))\n",
    "        return -1 if dist[D]==float('inf') else dist[D]"
   ]
  },
  {
   "cell_type": "markdown",
   "id": "5139132e",
   "metadata": {},
   "source": [
    "## Q.3"
   ]
  },
  {
   "cell_type": "markdown",
   "id": "c8e5f076",
   "metadata": {},
   "source": [
    "###  Surrounded Regions\n",
    "\n",
    "Given an m x n matrix board containing 'X' and 'O', capture all regions that are 4-directionally surrounded by 'X'.\n",
    "\n",
    "A region is captured by flipping all 'O's into 'X's in that surrounded region."
   ]
  },
  {
   "cell_type": "markdown",
   "id": "d4fe1135",
   "metadata": {},
   "source": [
    "- [LeetCode](https://leetcode.com/problems/surrounded-regions/description/)\n",
    "- [Interviewbit](https://www.interviewbit.com/problems/capture-regions-on-board/)"
   ]
  },
  {
   "cell_type": "markdown",
   "id": "a30e8bdd",
   "metadata": {},
   "source": [
    "## Intuition"
   ]
  },
  {
   "cell_type": "markdown",
   "id": "33a0128d",
   "metadata": {},
   "source": [
    "- Used DFS but can use BFS also."
   ]
  },
  {
   "cell_type": "markdown",
   "id": "6e1722c3",
   "metadata": {},
   "source": [
    "## Solution"
   ]
  },
  {
   "cell_type": "code",
   "execution_count": 1,
   "id": "04722852",
   "metadata": {},
   "outputs": [],
   "source": [
    "from typing import List\n",
    "class Solution:\n",
    "    def solve(self, b: List[List[str]]) -> None:\n",
    "        n,m=len(b),len(b[0])\n",
    "        def Rec(i,j):\n",
    "            if i<0 or i>=n or j<0 or j>=m or b[i][j]!='O':return\n",
    "            b[i][j]='Y'\n",
    "            Rec(i-1,j)\n",
    "            Rec(i+1,j)\n",
    "            Rec(i,j-1)\n",
    "            Rec(i,j+1)   \n",
    "        for i in range(n):\n",
    "            Rec(i,0)\n",
    "            Rec(i,m-1)\n",
    "        for j in range(m):\n",
    "            Rec(0,j)\n",
    "            Rec(n-1,j)\n",
    "        for i in range(n):\n",
    "            for j in range(m):\n",
    "                if b[i][j]=='O':b[i][j]='X'\n",
    "                elif b[i][j]=='Y':b[i][j]='O'"
   ]
  },
  {
   "cell_type": "markdown",
   "id": "6bd460ff",
   "metadata": {},
   "source": [
    "## Coding Ninjas Problem of the Day"
   ]
  },
  {
   "cell_type": "markdown",
   "id": "66f42200",
   "metadata": {},
   "source": [
    "## [Easy](https://www.naukri.com/code360/problems/beautiful-string_1115625)"
   ]
  },
  {
   "cell_type": "code",
   "execution_count": 3,
   "id": "e4d55036",
   "metadata": {},
   "outputs": [],
   "source": [
    "def makeBeautiful(str):\n",
    "    def F(start):\n",
    "        cnt=0\n",
    "        for i in range(len(str)):\n",
    "            if i%2 and str[i]==start:cnt+=1\n",
    "            if i%2==0 and str[i]!=start:cnt+=1\n",
    "        return cnt\n",
    "    return min(F('0'),F('1'))"
   ]
  },
  {
   "cell_type": "markdown",
   "id": "b8494e61",
   "metadata": {},
   "source": [
    "## [Moderate](https://www.naukri.com/code360/problems/ninja-and-the-nested-ranges_1467794)"
   ]
  },
  {
   "cell_type": "code",
   "execution_count": 4,
   "id": "4722a4c9",
   "metadata": {},
   "outputs": [],
   "source": [
    "def nestedRangesCheck(ranges, n):\n",
    "    ans=[[0]* n for i in range(2)]\n",
    "    ranges=[(ranges[i],i) for i in range(n)]\n",
    "    ranges.sort(key=lambda x:(x[0][0],-x[0][1]))\n",
    "    max_end=float('-inf')\n",
    "    for (start,end), i in ranges:\n",
    "        if end<=max_end:ans[1][i]=1\n",
    "        max_end=max(max_end,end)\n",
    "    min_end=float('inf')\n",
    "    for (start,end),i in reversed(ranges):\n",
    "        if end>=min_end:ans[0][i]=1\n",
    "        min_end=min(min_end,end)\n",
    "    return ans"
   ]
  },
  {
   "cell_type": "markdown",
   "id": "e5fc51cc",
   "metadata": {},
   "source": [
    "## [Hard](https://www.naukri.com/code360/problems/maximum-coins_758902)"
   ]
  },
  {
   "cell_type": "code",
   "execution_count": 5,
   "id": "3348ef19",
   "metadata": {},
   "outputs": [],
   "source": [
    "def maximumCoin(mat, n, m):\n",
    "    def inside(row,col1,col2):\n",
    "        return 0<=row<n and 0<=col1<m and 0<=col2<m\n",
    "    def Rec(row,col1,col2):\n",
    "        if row==n-1 and col1==0 and col2==m-1:\n",
    "            return mat[row][col1]+mat[row][col2] if col1!=col2 else mat[row][col1]\n",
    "        if dp[row][col1][col2]!=-1:return dp[row][col1][col2]\n",
    "        ans=float('-inf')\n",
    "        currSum=mat[row][col1]+mat[row][col2] if col1!=col2 else mat[row][col1]\n",
    "        for i in range(-1,2):\n",
    "            for j in range(-1,2):\n",
    "                newRow,newCol1,newCol2=row+1,col1+i,col2+j\n",
    "                if inside(newRow,newCol1,newCol2):\n",
    "                    ans=max(ans,currSum+Rec(newRow,newCol1,newCol2))\n",
    "        dp[row][col1][col2]=ans\n",
    "        return ans   \n",
    "    dp=[[[-1 for _ in range(m)] for _ in range(m)]for _ in range(n)]\n",
    "    return Rec(0,0,m-1)"
   ]
  },
  {
   "cell_type": "code",
   "execution_count": null,
   "id": "e7283d2b",
   "metadata": {},
   "outputs": [],
   "source": []
  }
 ],
 "metadata": {
  "kernelspec": {
   "display_name": "Python 3 (ipykernel)",
   "language": "python",
   "name": "python3"
  },
  "language_info": {
   "codemirror_mode": {
    "name": "ipython",
    "version": 3
   },
   "file_extension": ".py",
   "mimetype": "text/x-python",
   "name": "python",
   "nbconvert_exporter": "python",
   "pygments_lexer": "ipython3",
   "version": "3.11.5"
  }
 },
 "nbformat": 4,
 "nbformat_minor": 5
}
