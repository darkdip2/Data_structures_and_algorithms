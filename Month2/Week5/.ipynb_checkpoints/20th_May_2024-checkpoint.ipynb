{
 "cells": [
  {
   "cell_type": "markdown",
   "id": "d2ffff82",
   "metadata": {},
   "source": [
    "## Q.1"
   ]
  },
  {
   "cell_type": "markdown",
   "id": "2be451c7",
   "metadata": {},
   "source": [
    "### Distance of nearest cell having 1\n",
    "\n",
    "Given a binary grid of n*m. Find the distance of the nearest 1 in the grid for each cell.\n",
    "The distance is calculated as |i1  - i2| + |j1 - j2|, where i1, j1 are the row number and column number of the current cell, and i2, j2 are the row number and column number of the nearest cell having value 1. There should be atleast one 1 in the grid."
   ]
  },
  {
   "cell_type": "markdown",
   "id": "b463c5ca",
   "metadata": {},
   "source": [
    "- [GeeksforGeeks](https://www.geeksforgeeks.org/problems/distance-of-nearest-cell-having-1-1587115620/1?itm_source=geeksforgeeks&itm_medium=article&itm_campaign=bottom_sticky_on_article)"
   ]
  },
  {
   "cell_type": "markdown",
   "id": "c04699b3",
   "metadata": {},
   "source": [
    "## Intuition"
   ]
  },
  {
   "cell_type": "markdown",
   "id": "ff548fba",
   "metadata": {},
   "source": [
    "- Use BFS."
   ]
  },
  {
   "cell_type": "markdown",
   "id": "b35c0d8a",
   "metadata": {},
   "source": [
    "## Solution"
   ]
  },
  {
   "cell_type": "code",
   "execution_count": 1,
   "id": "54651483",
   "metadata": {},
   "outputs": [],
   "source": [
    "from collections import deque\n",
    "class Solution:\n",
    "    # @param A : list of list of integers\n",
    "    # @return a list of list of integers\n",
    "    def nearest(self, A):\n",
    "        X,Y,Q,n,m=[-1,1,0,0],[0,0,-1,1],deque(),len(A),len(A[0])\n",
    "        ans=[[float('inf')]*m for i in range(n)]\n",
    "        for i in range(n):\n",
    "            for j in range(m):\n",
    "                if A[i][j]==1:\n",
    "                    ans[i][j]=0\n",
    "                    Q.append((0,i,j))\n",
    "        while Q:\n",
    "            z,x,y=Q.popleft()\n",
    "            for k in range(4):\n",
    "                dx,dy=x+X[k],y+Y[k]\n",
    "                if 0<=dx<n and 0<=dy<m and ans[dx][dy]==float('inf'):\n",
    "                    ans[dx][dy]=z+1\n",
    "                    Q.append((z+1,dx,dy))\n",
    "        return ans"
   ]
  },
  {
   "cell_type": "markdown",
   "id": "a6801432",
   "metadata": {},
   "source": [
    "## Q.2"
   ]
  },
  {
   "cell_type": "markdown",
   "id": "0c221f8d",
   "metadata": {},
   "source": [
    "### Is Graph Bipartite?\n",
    "\n",
    "There is an undirected graph with n nodes, where each node is numbered between 0 and n - 1. You are given a 2D array graph, where graph[u] is an array of nodes that node u is adjacent to. More formally, for each v in graph[u], there is an undirected edge between node u and node v. The graph has the following properties:\n",
    "\n",
    "- There are no self-edges (graph[u] does not contain u).\n",
    "- There are no parallel edges (graph[u] does not contain duplicate values).\n",
    "- If v is in graph[u], then u is in graph[v] (the graph is undirected).\n",
    "- The graph may not be connected, meaning there may be two nodes u and v such that there is no path between them.\n",
    "A graph is bipartite if the nodes can be partitioned into two independent sets A and B such that every edge in the graph connects a node in set A and a node in set B.\n",
    "\n",
    "Return true if and only if it is bipartite."
   ]
  },
  {
   "cell_type": "markdown",
   "id": "3218c06a",
   "metadata": {},
   "source": [
    "- [LeetCode](https://leetcode.com/problems/is-graph-bipartite/description/)"
   ]
  },
  {
   "cell_type": "markdown",
   "id": "dd3c3b29",
   "metadata": {},
   "source": [
    "## Intuition"
   ]
  },
  {
   "cell_type": "markdown",
   "id": "d8c520ea",
   "metadata": {},
   "source": [
    "- Use BFS or DFS."
   ]
  },
  {
   "cell_type": "markdown",
   "id": "4b15d859",
   "metadata": {},
   "source": [
    "## Solution"
   ]
  },
  {
   "cell_type": "code",
   "execution_count": 1,
   "id": "2838d819",
   "metadata": {},
   "outputs": [],
   "source": [
    "from collections import deque\n",
    "class Solution:\n",
    "    # @param A : integer\n",
    "    # @param B : list of list of integers\n",
    "    # @return an integer\n",
    "    def BFs(self,v,A,Adj,c):\n",
    "        Q=deque([v])\n",
    "        c[v]=0\n",
    "        while Q:\n",
    "            F=Q.popleft()\n",
    "            for n in Adj[F]:\n",
    "                if c[n]==-1:\n",
    "                    c[n]=1-c[F]\n",
    "                    Q.append(n)\n",
    "                elif c[n]==c[F]:return 0\n",
    "        return 1\n",
    "\n",
    "    def isBipartite(self, graph):\n",
    "        A=len(graph)\n",
    "        c=[-1]*A\n",
    "        for i in range(A):\n",
    "            if c[i]==-1:\n",
    "                if self.BFs(i,A,graph,c)==0:return 0\n",
    "        return 1"
   ]
  },
  {
   "cell_type": "markdown",
   "id": "5139132e",
   "metadata": {},
   "source": [
    "## Q.3"
   ]
  },
  {
   "cell_type": "markdown",
   "id": "c8e5f076",
   "metadata": {},
   "source": [
    "### Possible Bipartition\n",
    "\n",
    "We want to split a group of n people (labeled from 1 to n) into two groups of any size. Each person may dislike some other people, and they should not go into the same group.\n",
    "\n",
    "Given the integer n and the array dislikes where dislikes[i] = [ai, bi] indicates that the person labeled ai does not like the person labeled bi, return true if it is possible to split everyone into two groups in this way."
   ]
  },
  {
   "cell_type": "markdown",
   "id": "36a9d119",
   "metadata": {},
   "source": [
    "- [LeetCode](https://leetcode.com/problems/possible-bipartition/description/)"
   ]
  },
  {
   "cell_type": "markdown",
   "id": "a30e8bdd",
   "metadata": {},
   "source": [
    "## Intuition"
   ]
  },
  {
   "cell_type": "markdown",
   "id": "33a0128d",
   "metadata": {},
   "source": [
    "- Use BFS or DFS."
   ]
  },
  {
   "cell_type": "markdown",
   "id": "6e1722c3",
   "metadata": {},
   "source": [
    "## Solution"
   ]
  },
  {
   "cell_type": "code",
   "execution_count": 2,
   "id": "04722852",
   "metadata": {},
   "outputs": [],
   "source": [
    "from collections import deque\n",
    "class Solution:\n",
    "    # @param A : integer\n",
    "    # @param B : list of list of integers\n",
    "    # @return an integer\n",
    "    def BFs(self,v,A,Adj,c):\n",
    "        Q=deque([v])\n",
    "        c[v]=0\n",
    "        while Q:\n",
    "            F=Q.popleft()\n",
    "            for n in Adj[F]:\n",
    "                if c[n]==-1:\n",
    "                    c[n]=1-c[F]\n",
    "                    Q.append(n)\n",
    "                elif c[n]==c[F]:return 0\n",
    "        return 1\n",
    "\n",
    "    def possibleBipartition(self,n, dislikes):\n",
    "        graph=[[] for i in range(n)]\n",
    "        for i in dislikes:\n",
    "            graph[i[0]-1].append(i[1]-1)\n",
    "            graph[i[1]-1].append(i[0]-1)\n",
    "        c=[-1]*(n)\n",
    "        for i in range(n):\n",
    "            if c[i]==-1:\n",
    "                if self.BFs(i,A,graph,c)==0:return 0\n",
    "        return 1"
   ]
  },
  {
   "cell_type": "markdown",
   "id": "706d97cc",
   "metadata": {},
   "source": [
    "## Q.4"
   ]
  },
  {
   "cell_type": "markdown",
   "id": "f5a12144",
   "metadata": {},
   "source": [
    "### Rotting Oranges\n",
    "\n",
    "You are given an m x n grid where each cell can have one of three values:\n",
    "\n",
    "- 0 representing an empty cell,\n",
    "- 1 representing a fresh orange, or\n",
    "- 2 representing a rotten orange.\n",
    "Every minute, any fresh orange that is 4-directionally adjacent to a rotten orange becomes rotten.\n",
    "\n",
    "Return the minimum number of minutes that must elapse until no cell has a fresh orange. If this is impossible, return -1."
   ]
  },
  {
   "cell_type": "markdown",
   "id": "96996cff",
   "metadata": {},
   "source": [
    "- [LeetCode](https://leetcode.com/problems/rotting-oranges/description/)"
   ]
  },
  {
   "cell_type": "markdown",
   "id": "a25ca31b",
   "metadata": {},
   "source": [
    "## Intuition"
   ]
  },
  {
   "cell_type": "markdown",
   "id": "d7ace036",
   "metadata": {},
   "source": [
    "- Use BFS."
   ]
  },
  {
   "cell_type": "markdown",
   "id": "1f08ffaf",
   "metadata": {},
   "source": [
    "## Solution"
   ]
  },
  {
   "cell_type": "code",
   "execution_count": 3,
   "id": "a1a9ca34",
   "metadata": {},
   "outputs": [],
   "source": [
    "from collections import deque\n",
    "class Solution:\n",
    "    # @param A : list of list of integers\n",
    "    # @return an integer\n",
    "    def orangesRotting(self, A):\n",
    "        X,Y,Q,cnt,n,m=[-1,1,0,0],[0,0,-1,1],deque(),0,len(A),len(A[0])\n",
    "        for i in range(n):\n",
    "            for j in range(m):\n",
    "                if A[i][j]==1:cnt+=1\n",
    "                elif A[i][j]==2:Q.append((0,i,j))\n",
    "        if cnt==0:return 0\n",
    "        while Q:\n",
    "            z,x,y=Q.popleft()\n",
    "            for k in range(4):\n",
    "                dx,dy=x+X[k],y+Y[k]\n",
    "                if 0<=dx<n and 0<=dy<m and A[dx][dy]==1:\n",
    "                    cnt-=1\n",
    "                    if cnt==0:return z+1\n",
    "                    Q.append((z+1,dx,dy))\n",
    "                    A[dx][dy]=2\n",
    "        return -1"
   ]
  }
 ],
 "metadata": {
  "kernelspec": {
   "display_name": "Python 3 (ipykernel)",
   "language": "python",
   "name": "python3"
  },
  "language_info": {
   "codemirror_mode": {
    "name": "ipython",
    "version": 3
   },
   "file_extension": ".py",
   "mimetype": "text/x-python",
   "name": "python",
   "nbconvert_exporter": "python",
   "pygments_lexer": "ipython3",
   "version": "3.11.5"
  }
 },
 "nbformat": 4,
 "nbformat_minor": 5
}
