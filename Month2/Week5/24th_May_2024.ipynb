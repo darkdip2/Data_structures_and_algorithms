{
 "cells": [
  {
   "cell_type": "markdown",
   "id": "0c221f8d",
   "metadata": {},
   "source": [
    "### Djikstra\n",
    "\n",
    "Given a weighted undirected graph having A nodes, a source node C and destination node D.\n",
    "\n",
    "Find the shortest distance from C to D and if it is impossible to reach node D from C then return -1.\n",
    "\n",
    "You are expected to do it in Time Complexity of O(A + M).\n",
    "\n",
    "Note:\n",
    "\n",
    "There are no self-loops in the graph.\n",
    "\n",
    "No multiple edges between two pair of vertices.\n",
    "\n",
    "The graph may or may not be connected.\n",
    "\n",
    "Nodes are Numbered from 0 to A-1.\n",
    "\n",
    "Your solution will run on multiple testcases. If you are using global variables make sure to clear them."
   ]
  },
  {
   "cell_type": "markdown",
   "id": "dd3c3b29",
   "metadata": {},
   "source": [
    "## Intuition"
   ]
  },
  {
   "cell_type": "markdown",
   "id": "d8c520ea",
   "metadata": {},
   "source": [
    "- Single source no self loop Djikstra.\n",
    "- Single source self loop Bellman Ford.\n",
    "- Multi source Floyd Warshall."
   ]
  },
  {
   "cell_type": "markdown",
   "id": "4b15d859",
   "metadata": {},
   "source": [
    "## Solution"
   ]
  },
  {
   "cell_type": "code",
   "execution_count": 1,
   "id": "2838d819",
   "metadata": {},
   "outputs": [],
   "source": [
    "import heapq\n",
    "class Solution:\n",
    "    # @param A : integer\n",
    "    # @param B : list of list of integers\n",
    "    # @param C : integer\n",
    "    # @param D : integer\n",
    "    # @return an integer\n",
    "    def solve(self, A, B, C, D):\n",
    "        Q,Adj,dist=[(0,C)],[[] for i in range(A)],[float('inf')]*A \n",
    "        for i,j,k in B:\n",
    "            Adj[i].append((k,j))\n",
    "            Adj[j].append((k,i))\n",
    "        dist[C]=0\n",
    "        while Q:\n",
    "            d,i=heapq.heappop(Q)\n",
    "            if d>D[i]:continue\n",
    "            for d1,i1 in Adj[i]:\n",
    "                if d+d1<dist[i1]:\n",
    "                    dist[i1]=d+d1\n",
    "                    heapq.heappush(Q,(d+d1,i1))\n",
    "        return -1 if dist[D]==float('inf') else dist[D]"
   ]
  },
  {
   "cell_type": "markdown",
   "id": "160c1e15",
   "metadata": {},
   "source": [
    "### Bellman-Ford\n",
    "\n",
    "Given a weighted and directed graph of V vertices and E edges, Find the shortest distance of all the vertex's from the source vertex S. If a vertices can't be reach from the S then mark the distance as 10^8. Note: If the Graph contains a negative cycle then return an array consisting of only -1."
   ]
  },
  {
   "cell_type": "markdown",
   "id": "b3bd2b11",
   "metadata": {},
   "source": [
    "## Solution"
   ]
  },
  {
   "cell_type": "code",
   "execution_count": 1,
   "id": "9b4b6740",
   "metadata": {},
   "outputs": [],
   "source": [
    "class Solution:\n",
    "    '''\n",
    "    V: nodes in graph\n",
    "    edges: adjacency list for the graph\n",
    "    S: Source\n",
    "    '''\n",
    "    def bellman_ford(self, V, edges, S):\n",
    "        D=[pow(10,8)]*V\n",
    "        D[S]=0\n",
    "        for i in range(V-1):\n",
    "            for a,b,c in edges:\n",
    "                if D[a]+c<D[b] and D[a]!=pow(10,8):\n",
    "                    D[b]=D[a]+c\n",
    "        # Negative weight cycle\n",
    "        for a,b,c in edges:\n",
    "            if D[a]!=pow(10,8) and D[a]+c<D[b]:\n",
    "                return [-1]\n",
    "        return D"
   ]
  },
  {
   "cell_type": "markdown",
   "id": "72f68c59",
   "metadata": {},
   "source": [
    "### Floyd-warshall\n",
    "\n",
    "Given a matrix of integers A of size N x N, where A[i][j] represents the weight of directed edge from i to j (i ---> j).\n",
    "\n",
    "If i == j, A[i][j] = 0, and if there is no directed edge from vertex i to vertex j, A[i][j] = -1.\n",
    "\n",
    "Return a matrix B of size N x N where B[i][j] = shortest path from vertex i to vertex j.\n",
    "\n",
    "If there is no possible path from vertex i to vertex j , B[i][j] = -1\n",
    "\n",
    "Note: Rows are numbered from top to bottom and columns are numbered from left to right."
   ]
  },
  {
   "cell_type": "markdown",
   "id": "814e7d18",
   "metadata": {},
   "source": [
    "## Solution"
   ]
  },
  {
   "cell_type": "code",
   "execution_count": 1,
   "id": "9256beb6",
   "metadata": {},
   "outputs": [],
   "source": [
    "class Solution:\n",
    "    # @param A : list of list of integers\n",
    "    # @return a list of list of integers\n",
    "    def solve(self, A):\n",
    "        n=len(A)\n",
    "        for i in range(n):\n",
    "            for j in range(n):\n",
    "                if A[i][j]==-1:A[i][j]=float('inf')\n",
    "        for via in range(n):\n",
    "            for i in range(n):\n",
    "                for j in range(n):\n",
    "                    A[i][j]=min(A[i][j],A[i][via]+A[via][j])\n",
    "        for i in range(n):\n",
    "            for j in range(n):\n",
    "                if A[i][j]==float('inf'):A[i][j]=-1\n",
    "        return A"
   ]
  },
  {
   "cell_type": "markdown",
   "id": "062164a8",
   "metadata": {},
   "source": [
    "### Sheldon and Pair of Cities\n",
    "\n",
    "Sheldon lives in a country with A cities (numbered from 1 to A) and B bidirectional roads.\n",
    "\n",
    "Roads are denoted by integer array D, E and F of size M, where D[i] and E[i] denotes the cities and F[i] denotes the distance between the cities.\n",
    "\n",
    "Now he has many lectures to give in the city and is running short of time, so he asked you C queries, for each query i, find the shortest distance between city G[i] and H[i].\n",
    "\n",
    "If the two cities are not connected then the distance between them is assumed to be -1."
   ]
  },
  {
   "cell_type": "markdown",
   "id": "f34f2c78",
   "metadata": {},
   "source": [
    "## Solution \n",
    "#### Floyd-Warshall"
   ]
  },
  {
   "cell_type": "code",
   "execution_count": 3,
   "id": "0d29474f",
   "metadata": {},
   "outputs": [],
   "source": [
    "class Solution:\n",
    "    # @param A : integer\n",
    "    # @param B : integer\n",
    "    # @param C : integer\n",
    "    # @param D : list of integers\n",
    "    # @param E : list of integers\n",
    "    # @param F : list of integers\n",
    "    # @param G : list of integers\n",
    "    # @param H : list of integers\n",
    "    # @return a list of integers\n",
    "    def solve(self, A, B, C, D, E, F, G, H):\n",
    "        ans,Adj=[],[[float('inf')]*(A+1) for i in range(A+1)]\n",
    "        for i in range(B):\n",
    "            Adj[D[i]][E[i]]=min(Adj[D[i]][E[i]],F[i])\n",
    "            Adj[E[i]][D[i]]=min(Adj[E[i]][D[i]],F[i])\n",
    "        for i in range(1,A+1):Adj[i][i]=0\n",
    "        for via in range(1,A+1):\n",
    "            for i in range(1,A+1):\n",
    "                for j in range(1,A+1):\n",
    "                    Adj[i][j]=min(Adj[i][j],Adj[i][via]+Adj[via][j])\n",
    "        for i in range(C):ans.append(Adj[G[i]][H[i]])\n",
    "        return [ i if i!= float('inf') else -1 for i in ans]"
   ]
  },
  {
   "cell_type": "markdown",
   "id": "5139132e",
   "metadata": {},
   "source": [
    "## Q.1"
   ]
  },
  {
   "cell_type": "markdown",
   "id": "c8e5f076",
   "metadata": {},
   "source": [
    "### Knight On Chess Board\n",
    "\n",
    "Given any source point, (C, D) and destination point, (E, F) on a chess board, we need to find whether Knight can move to the destination or not.\n",
    "\n",
    "Knight's movements on a chess board\n",
    "\n",
    "The above figure details the movements for a knight ( 8 possibilities ).\n",
    "\n",
    "If yes, then what would be the minimum number of steps for the knight to move to the said point.\n",
    "\n",
    "If knight can not move from the source point to the destination point, then return -1.\n",
    "\n",
    "Note: A knight cannot go out of the board."
   ]
  },
  {
   "cell_type": "markdown",
   "id": "d4fe1135",
   "metadata": {},
   "source": [
    "- [Interviewbit](https://www.interviewbit.com/problems/knight-on-chess-board/)"
   ]
  },
  {
   "cell_type": "markdown",
   "id": "a30e8bdd",
   "metadata": {},
   "source": [
    "## Intuition"
   ]
  },
  {
   "cell_type": "markdown",
   "id": "33a0128d",
   "metadata": {},
   "source": [
    "- Use BFS."
   ]
  },
  {
   "cell_type": "markdown",
   "id": "6e1722c3",
   "metadata": {},
   "source": [
    "## Solution"
   ]
  },
  {
   "cell_type": "code",
   "execution_count": 2,
   "id": "04722852",
   "metadata": {},
   "outputs": [],
   "source": [
    "from collections import deque\n",
    "class Solution:\n",
    "    # @param A : integer\n",
    "    # @param B : integer\n",
    "    # @param C : integer\n",
    "    # @param D : integer\n",
    "    # @param E : integer\n",
    "    # @param F : integer\n",
    "    # @return an integer\n",
    "    def knight(self, A, B, C, D, E, F):\n",
    "        Q,V,X,Y=deque([(C-1,D-1,0)]),[[False]*B for i in range(A)],[2,-2,2,-2,1,1,-1,-1],[1,1,-1,-1,2,-2,2,-2]\n",
    "        V[C-1][D-1]=True\n",
    "        if (C-1,D-1)==(E-1,F-1):return 0\n",
    "        while Q:\n",
    "            n=len(Q)\n",
    "            for i in range(n):\n",
    "                x,y,l=Q.popleft()\n",
    "                for k in range(8):\n",
    "                    dx,dy=x+X[k],y+Y[k]\n",
    "                    if 0<=dx<A and 0<=dy<B and not V[dx][dy]:\n",
    "                        if (dx,dy)==(E-1,F-1):return l+1\n",
    "                        Q.append((dx,dy,l+1))\n",
    "                        V[dx][dy]=True\n",
    "        return -1"
   ]
  },
  {
   "cell_type": "markdown",
   "id": "6bd460ff",
   "metadata": {},
   "source": [
    "## Coding Ninjas Problem of the Day"
   ]
  },
  {
   "cell_type": "markdown",
   "id": "66f42200",
   "metadata": {},
   "source": [
    "## [Easy](https://www.naukri.com/code360/problems/different-bits-sum-pairwise_1082152)"
   ]
  },
  {
   "cell_type": "code",
   "execution_count": 3,
   "id": "e4d55036",
   "metadata": {},
   "outputs": [],
   "source": [
    "def differentBitsSumPairwise(arr, n):\n",
    "    mod,ans=pow(10,9)+7,0\n",
    "    for i in range(32):\n",
    "        c1=0\n",
    "        for j in arr:\n",
    "            if j&(1<<i):c1+=1\n",
    "        c0=n-c1\n",
    "        diff=c1*c0*2\n",
    "        ans+=diff%mod\n",
    "    return int(ans%mod)"
   ]
  },
  {
   "cell_type": "markdown",
   "id": "b8494e61",
   "metadata": {},
   "source": [
    "## [Moderate](https://www.naukri.com/code360/problems/ninja-technique_1263700)"
   ]
  },
  {
   "cell_type": "code",
   "execution_count": 4,
   "id": "4722a4c9",
   "metadata": {},
   "outputs": [],
   "source": [
    "def ninjaTechnique(str):\n",
    "    def Check(n):\n",
    "        x=int(sqrt(n))\n",
    "        return x*(x+1)==n\n",
    "    n=len(str)\n",
    "    for i in range(n):\n",
    "        s=''\n",
    "        for j in range(i,min(18,n)):\n",
    "            s+=str[j]\n",
    "            if Check(int(s)):return True\n",
    "    return False"
   ]
  },
  {
   "cell_type": "markdown",
   "id": "e5fc51cc",
   "metadata": {},
   "source": [
    "## [Hard](https://www.naukri.com/code360/problems/minimum-travel-time_1171046)"
   ]
  },
  {
   "cell_type": "code",
   "execution_count": 5,
   "id": "3348ef19",
   "metadata": {},
   "outputs": [],
   "source": [
    "from collections import deque,defaultdict\n",
    "import sys\n",
    "\n",
    "\n",
    "def isConnected(mp,visit,node):\n",
    "    visit[node]=True\n",
    "    for neighbor,_ in mp[node]:\n",
    "        if not visit[neighbor]:\n",
    "            isConnected(mp,visit,neighbor)\n",
    "\n",
    "def determineOdd(mp):\n",
    "    result=[]\n",
    "    for node,neighbors in mp.items():\n",
    "        if len(neighbors)%2==1:result.append(node)\n",
    "    return result \n",
    "\n",
    "def floydWarshall(n,edges):\n",
    "    inf=sys.maxsize\n",
    "    dp=[[inf]*(n+1) for _ in range(n+1)]\n",
    "    for u,v,w in edges:\n",
    "        dp[u][v]=w\n",
    "        dp[v][u]=w\n",
    "    for i in range(1,n+1):dp[i][i]=0\n",
    "    for k in range(1,n+1):\n",
    "        for i in range(1,n+1):\n",
    "            for j in range(1,n+1):dp[i][j]=min(dp[i][j],dp[i][k]+dp[k][j])\n",
    "    return dp  \n",
    "\n",
    "def extraDistance(odds,dp):\n",
    "    if len(odds)==2:return dp[odds[0]][odds[1]]\n",
    "    last=odds.pop()\n",
    "    minWeight=sys.maxsize\n",
    "    n=len(odds)\n",
    "    for i in range(n):\n",
    "        front=odds.popleft()\n",
    "        temp=dp[front][last]+extraDistance(odds,dp)\n",
    "        odds.append(front)\n",
    "        minWeight=min(minWeight,temp)\n",
    "    odds.append(last)\n",
    "    return minWeight\n",
    "\n",
    "def minTravelTime(n, roads):\n",
    "    mp,weight,visit=defaultdict(list),0,[False]*(n+1)\n",
    "    for u,v,w in roads:\n",
    "        mp[u].append((v,w))\n",
    "        mp[v].append((u,w))\n",
    "        weight+=w\n",
    "    isConnected(mp,visit,1)\n",
    "    for i in range(2,n+1):\n",
    "        if not visit[i]:return -1\n",
    "    dp=floydWarshall(n,roads)\n",
    "    odds=determineOdd(mp)\n",
    "    if not odds:return weight\n",
    "    odds_deque=deque(odds)\n",
    "    ext=extraDistance(odds_deque,dp)\n",
    "    return ext+weight"
   ]
  },
  {
   "cell_type": "code",
   "execution_count": null,
   "id": "e7283d2b",
   "metadata": {},
   "outputs": [],
   "source": []
  }
 ],
 "metadata": {
  "kernelspec": {
   "display_name": "Python 3 (ipykernel)",
   "language": "python",
   "name": "python3"
  },
  "language_info": {
   "codemirror_mode": {
    "name": "ipython",
    "version": 3
   },
   "file_extension": ".py",
   "mimetype": "text/x-python",
   "name": "python",
   "nbconvert_exporter": "python",
   "pygments_lexer": "ipython3",
   "version": "3.11.5"
  }
 },
 "nbformat": 4,
 "nbformat_minor": 5
}
