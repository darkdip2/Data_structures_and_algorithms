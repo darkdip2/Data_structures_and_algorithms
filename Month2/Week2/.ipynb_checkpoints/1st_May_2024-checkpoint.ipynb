{
 "cells": [
  {
   "cell_type": "markdown",
   "id": "d2ffff82",
   "metadata": {},
   "source": [
    "## Q.1"
   ]
  },
  {
   "cell_type": "markdown",
   "id": "2be451c7",
   "metadata": {},
   "source": [
    "### Kth Largest Element in a Stream\n",
    "\n",
    "Design a class to find the kth largest element in a stream. Note that it is the kth largest element in the sorted order, not the kth distinct element.\n",
    "\n",
    "Implement KthLargest class:\n",
    "\n",
    "KthLargest(int k, int[] nums) Initializes the object with the integer k and the stream of integers nums.\n",
    "int add(int val) Appends the integer val to the stream and returns the element representing the kth largest element in the stream."
   ]
  },
  {
   "cell_type": "markdown",
   "id": "b463c5ca",
   "metadata": {},
   "source": [
    "- [LeetCode](https://leetcode.com/problems/kth-largest-element-in-a-stream/)"
   ]
  },
  {
   "cell_type": "markdown",
   "id": "c04699b3",
   "metadata": {},
   "source": [
    "## Intuition"
   ]
  },
  {
   "cell_type": "markdown",
   "id": "ff548fba",
   "metadata": {},
   "source": [
    "- Use Minheap to obtain the kth largest element in root."
   ]
  },
  {
   "cell_type": "markdown",
   "id": "b35c0d8a",
   "metadata": {},
   "source": [
    "## Solution"
   ]
  },
  {
   "cell_type": "code",
   "execution_count": 2,
   "id": "54651483",
   "metadata": {},
   "outputs": [],
   "source": [
    "from typing import List\n",
    "import heapq\n",
    "class KthLargest:\n",
    "\n",
    "    def __init__(self, k: int, nums: List[int]):\n",
    "        self.H=nums\n",
    "        heapq.heapify(self.H)\n",
    "        self.k=k\n",
    "        \n",
    "\n",
    "    def add(self, val: int) -> int:\n",
    "        heapq.heappush(self.H,val)\n",
    "        while len(self.H)>self.k:heapq.heappop(self.H)\n",
    "        return self.H[0]"
   ]
  },
  {
   "cell_type": "markdown",
   "id": "5139132e",
   "metadata": {},
   "source": [
    "## Q.2"
   ]
  },
  {
   "cell_type": "markdown",
   "id": "c8e5f076",
   "metadata": {},
   "source": [
    "### Nearly Sorted\n",
    "\n",
    "You’re given an array/list 'ARR' of N elements, where each element is at most K away from its target position(Position if the array was sorted). Now, your task is to devise an algorithm that sorts the given array in O(N log K) time.\n",
    "\n",
    "For example:\n",
    "\n",
    "Let us consider 'K' is 3, an element at index 4 in the sorted array, can be at indexes 1, 2, 3, 4, 5, 6, 7 in the given array, because the absolute difference of all these indices with 4 is at most 3."
   ]
  },
  {
   "cell_type": "markdown",
   "id": "36a9d119",
   "metadata": {},
   "source": [
    "- [Coding Ninjas](https://www.naukri.com/code360/problems/nearly-sorted_982937)"
   ]
  },
  {
   "cell_type": "markdown",
   "id": "a30e8bdd",
   "metadata": {},
   "source": [
    "## Intuition"
   ]
  },
  {
   "cell_type": "markdown",
   "id": "33a0128d",
   "metadata": {},
   "source": [
    "- Maintain a minheap of size B+1."
   ]
  },
  {
   "cell_type": "markdown",
   "id": "6e1722c3",
   "metadata": {},
   "source": [
    "## Solution"
   ]
  },
  {
   "cell_type": "code",
   "execution_count": 1,
   "id": "04722852",
   "metadata": {},
   "outputs": [],
   "source": [
    "import heapq\n",
    "def nearlySorted(A,B):\n",
    "    if B==0:return A\n",
    "    H,ans=[],[]\n",
    "    for i in range(B+1):\n",
    "        heapq.heappush(H,A[i])\n",
    "    for i in range(B+1,len(A)):\n",
    "        ans.append(heapq.heappop(H))\n",
    "        heapq.heappush(H,A[i])\n",
    "    while H:ans.append(heapq.heappop(H))\n",
    "    return ans"
   ]
  },
  {
   "cell_type": "markdown",
   "id": "6bd460ff",
   "metadata": {},
   "source": [
    "## Coding Ninjas Problem of the Day"
   ]
  },
  {
   "cell_type": "markdown",
   "id": "66f42200",
   "metadata": {},
   "source": [
    "## [Easy](https://www.naukri.com/code360/problems/ninja-and-his-old-friends_1214934)"
   ]
  },
  {
   "cell_type": "code",
   "execution_count": 8,
   "id": "e4d55036",
   "metadata": {},
   "outputs": [],
   "source": [
    "def shakeHands(friends, n, k):\n",
    "    for i in range(n):\n",
    "        if friends[i]==k:\n",
    "            k*=2\n",
    "    return k"
   ]
  },
  {
   "cell_type": "markdown",
   "id": "b8494e61",
   "metadata": {},
   "source": [
    "## [Moderate](https://www.naukri.com/code360/problems/avoiding-traps_839704)"
   ]
  },
  {
   "cell_type": "code",
   "execution_count": 9,
   "id": "f751f333",
   "metadata": {},
   "outputs": [],
   "source": [
    "def avoidTraps(obstacles, n):\n",
    "    M,F,a=float('-inf'),False,-1\n",
    "    for i in range(2,10**7):\n",
    "        F=True\n",
    "        for j in range(n):\n",
    "            if obstacles[j]%i==0:\n",
    "                F=False\n",
    "                break\n",
    "        if F:\n",
    "            a=i\n",
    "            break\n",
    "    return a"
   ]
  },
  {
   "cell_type": "markdown",
   "id": "e5fc51cc",
   "metadata": {},
   "source": [
    "## [Hard](https://www.naukri.com/code360/problems/critical-connection_1805503)"
   ]
  },
  {
   "cell_type": "code",
   "execution_count": 10,
   "id": "3348ef19",
   "metadata": {},
   "outputs": [],
   "source": [
    "def criticalConnections(n, connections):\n",
    "    graph=[[] for _ in range(n)]\n",
    "    for u,v in connections:\n",
    "        graph[u].append(v)\n",
    "        graph[v].append(u)\n",
    "    visited=[False]*n\n",
    "    discovery_time=[float('inf')]*n\n",
    "    low_time=[float('inf')]*n\n",
    "    parent=[-1]*n\n",
    "    time=0\n",
    "    result=[]\n",
    "    def dfs(node):\n",
    "        nonlocal time\n",
    "        visited[node]=True\n",
    "        discovery_time[node]=time\n",
    "        low_time[node]=time\n",
    "        time+=1\n",
    "        for neighbor in graph[node]:\n",
    "            if not visited[neighbor]:\n",
    "                parent[neighbor]=node\n",
    "                dfs(neighbor)\n",
    "                low_time[node]=min(low_time[node],low_time[neighbor])\n",
    "                if low_time[neighbor]>discovery_time[node]:\n",
    "                    result.append((node,neighbor))\n",
    "            elif neighbor!=parent[node]:\n",
    "                low_time[node]=min(low_time[node],discovery_time[neighbor])\n",
    "    for i in range(n):\n",
    "        if not visited[i]:\n",
    "            dfs(i)\n",
    "    return result"
   ]
  },
  {
   "cell_type": "code",
   "execution_count": null,
   "id": "864d385a",
   "metadata": {},
   "outputs": [],
   "source": []
  }
 ],
 "metadata": {
  "kernelspec": {
   "display_name": "Python 3 (ipykernel)",
   "language": "python",
   "name": "python3"
  },
  "language_info": {
   "codemirror_mode": {
    "name": "ipython",
    "version": 3
   },
   "file_extension": ".py",
   "mimetype": "text/x-python",
   "name": "python",
   "nbconvert_exporter": "python",
   "pygments_lexer": "ipython3",
   "version": "3.11.5"
  }
 },
 "nbformat": 4,
 "nbformat_minor": 5
}
