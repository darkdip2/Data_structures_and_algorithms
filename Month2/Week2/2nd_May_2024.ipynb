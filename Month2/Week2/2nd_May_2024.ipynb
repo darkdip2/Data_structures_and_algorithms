{
 "cells": [
  {
   "cell_type": "markdown",
   "id": "d2ffff82",
   "metadata": {},
   "source": [
    "## Q.1"
   ]
  },
  {
   "cell_type": "markdown",
   "id": "2be451c7",
   "metadata": {},
   "source": [
    "### Subsets\n",
    "\n",
    "Given an integer array nums of unique elements, return all possible \n",
    "subsets\n",
    " (the power set).\n",
    "\n",
    "The solution set must not contain duplicate subsets. Return the solution in any order."
   ]
  },
  {
   "cell_type": "markdown",
   "id": "b463c5ca",
   "metadata": {},
   "source": [
    "- [LeetCode](https://leetcode.com/problems/subsets/description/)\n",
    "- [Interviewbit](https://www.interviewbit.com/problems/subset/)"
   ]
  },
  {
   "cell_type": "markdown",
   "id": "c04699b3",
   "metadata": {},
   "source": [
    "## Intuition"
   ]
  },
  {
   "cell_type": "markdown",
   "id": "ff548fba",
   "metadata": {},
   "source": [
    "- Use Backtracking."
   ]
  },
  {
   "cell_type": "markdown",
   "id": "b35c0d8a",
   "metadata": {},
   "source": [
    "## Solution"
   ]
  },
  {
   "cell_type": "code",
   "execution_count": 1,
   "id": "54651483",
   "metadata": {},
   "outputs": [],
   "source": [
    "class Solution:\n",
    "    # @param A : list of integers\n",
    "    # @return a list of list of integers\n",
    "    def subsets(self, A):\n",
    "        ans = []\n",
    "\n",
    "        def Rec(B, i):\n",
    "            if i == len(A):\n",
    "                ans.append(B[:])\n",
    "                return\n",
    "            B.append(A[i])\n",
    "            Rec(B, i + 1)\n",
    "            B.pop()\n",
    "            Rec(B, i + 1)\n",
    "\n",
    "        Rec([], 0)\n",
    "        return ans"
   ]
  },
  {
   "cell_type": "markdown",
   "id": "5139132e",
   "metadata": {},
   "source": [
    "## Q.2"
   ]
  },
  {
   "cell_type": "markdown",
   "id": "c8e5f076",
   "metadata": {},
   "source": [
    "### Permutations\n",
    "\n",
    "Given an array nums of distinct integers, return all the possible permutations. You can return the answer in any order."
   ]
  },
  {
   "cell_type": "markdown",
   "id": "36a9d119",
   "metadata": {},
   "source": [
    "- [LeetCode](https://leetcode.com/problems/permutations/description/)\n",
    "- [Interviewbit](https://www.interviewbit.com/problems/permutations/)"
   ]
  },
  {
   "cell_type": "markdown",
   "id": "a30e8bdd",
   "metadata": {},
   "source": [
    "## Intuition"
   ]
  },
  {
   "cell_type": "markdown",
   "id": "33a0128d",
   "metadata": {},
   "source": [
    "- Use Backtracking."
   ]
  },
  {
   "cell_type": "markdown",
   "id": "6e1722c3",
   "metadata": {},
   "source": [
    "## Solution"
   ]
  },
  {
   "cell_type": "code",
   "execution_count": 2,
   "id": "04722852",
   "metadata": {},
   "outputs": [],
   "source": [
    "class Solution:\n",
    "    # @param A : list of integers\n",
    "    # @return a list of list of integers\n",
    "    def permute(self, A):\n",
    "        ans=[]\n",
    "        def Rec(i):\n",
    "            if i==len(A)-1:\n",
    "                ans.append(A[:])\n",
    "                return\n",
    "            for j in range(i,len(A)):\n",
    "                A[i],A[j]=A[j],A[i]\n",
    "                Rec(i+1)\n",
    "                A[i],A[j]=A[j],A[i]\n",
    "        Rec(0)\n",
    "        return ans"
   ]
  },
  {
   "cell_type": "markdown",
   "id": "706d97cc",
   "metadata": {},
   "source": [
    "## Q.3"
   ]
  },
  {
   "cell_type": "markdown",
   "id": "f5a12144",
   "metadata": {},
   "source": [
    "### All Unique Permutations\n",
    "\n",
    "Given an array A of size N denoting collection of numbers that might contain duplicates, return all possible unique permutations.\n",
    "\n",
    "NOTE: No 2 entries in the permutation sequence should be the same."
   ]
  },
  {
   "cell_type": "markdown",
   "id": "96996cff",
   "metadata": {},
   "source": [
    "- [Interviewbit](https://www.interviewbit.com/problems/all-unique-permutations/)"
   ]
  },
  {
   "cell_type": "markdown",
   "id": "a25ca31b",
   "metadata": {},
   "source": [
    "## Intuition"
   ]
  },
  {
   "cell_type": "markdown",
   "id": "d7ace036",
   "metadata": {},
   "source": [
    "- Use Backtracking and set."
   ]
  },
  {
   "cell_type": "markdown",
   "id": "1f08ffaf",
   "metadata": {},
   "source": [
    "## Solution"
   ]
  },
  {
   "cell_type": "code",
   "execution_count": 3,
   "id": "a1a9ca34",
   "metadata": {},
   "outputs": [],
   "source": [
    "class Solution:\n",
    "    # @param A : list of integers\n",
    "    # @return a list of list of integers\n",
    "    def permute(self, A):\n",
    "        ans,S=[],set()\n",
    "        def Rec(i):\n",
    "            if i==len(A)-1:\n",
    "                key=''.join(list(map(str,A)))\n",
    "                if key not in S:\n",
    "                    S.add(key)\n",
    "                    ans.append(A[:])\n",
    "                return\n",
    "            for j in range(i,len(A)):\n",
    "                A[i],A[j]=A[j],A[i]\n",
    "                Rec(i+1)\n",
    "                A[i],A[j]=A[j],A[i]\n",
    "        Rec(0)\n",
    "        return ans"
   ]
  },
  {
   "cell_type": "markdown",
   "id": "737fe9ec",
   "metadata": {},
   "source": [
    "## Q.4"
   ]
  },
  {
   "cell_type": "markdown",
   "id": "771cf211",
   "metadata": {},
   "source": [
    "### Unique Paths III\n",
    "\n",
    "You are given an m x n integer array grid where grid[i][j] could be:\n",
    "\n",
    "- 1 representing the starting square. There is exactly one starting square.\n",
    "- 2 representing the ending square. There is exactly one ending square.\n",
    "- 0 representing empty squares we can walk over.\n",
    "- -1 representing obstacles that we cannot walk over.\n",
    "Return the number of 4-directional walks from the starting square to the ending square, that walk over every non-obstacle square exactly once."
   ]
  },
  {
   "cell_type": "markdown",
   "id": "72515f22",
   "metadata": {},
   "source": [
    "- [LeetCode](https://leetcode.com/problems/unique-paths-iii/description/)"
   ]
  },
  {
   "cell_type": "markdown",
   "id": "97865ea9",
   "metadata": {},
   "source": [
    "## Intuition"
   ]
  },
  {
   "cell_type": "markdown",
   "id": "cbd07473",
   "metadata": {},
   "source": [
    "- Use Backtracking and keep count of empty unvisited cells."
   ]
  },
  {
   "cell_type": "markdown",
   "id": "033a51fa",
   "metadata": {},
   "source": [
    "## Solution"
   ]
  },
  {
   "cell_type": "code",
   "execution_count": 3,
   "id": "40533c64",
   "metadata": {},
   "outputs": [],
   "source": [
    "class Solution:\n",
    "    # @param A : list of list of integers\n",
    "    # @return an integer\n",
    "    def uniquePathsIII(self, A):\n",
    "        Src, empty, ans = None, 1 , [0]\n",
    "        for i in range(len(A)):\n",
    "            for j in range(len(A[0])):\n",
    "                if A[i][j] == 1:\n",
    "                    Src = (i, j)\n",
    "                if A[i][j] == 0:\n",
    "                    empty += 1\n",
    "        def Rec(i, j, empty):\n",
    "            if i < 0 or i >= len(A) or j < 0 or j >= len(A[0]) or A[i][j] == -1 :return\n",
    "            if A[i][j] == 2:\n",
    "                if empty == 0:\n",
    "                    ans[0] += 1\n",
    "                return\n",
    "            A[i][j]=-1\n",
    "            Rec(i + 1, j, empty - 1)\n",
    "            Rec(i - 1, j, empty - 1)\n",
    "            Rec(i, j + 1, empty - 1)\n",
    "            Rec(i, j - 1, empty - 1)\n",
    "            A[i][j]=0\n",
    "\n",
    "        Rec(Src[0], Src[1], empty)\n",
    "        return ans[0]"
   ]
  },
  {
   "cell_type": "markdown",
   "id": "47c8d6cb",
   "metadata": {},
   "source": [
    "## Q.5"
   ]
  },
  {
   "cell_type": "markdown",
   "id": "ca16144c",
   "metadata": {},
   "source": [
    "### Subsets II\n",
    "\n",
    "Given an integer array nums that may contain duplicates, return all possible \n",
    "subsets\n",
    " (the power set).\n",
    "\n",
    "The solution set must not contain duplicate subsets. Return the solution in any order."
   ]
  },
  {
   "cell_type": "markdown",
   "id": "a72c17c8",
   "metadata": {},
   "source": [
    "- [LeetCode](https://leetcode.com/problems/subsets-ii/description/)\n",
    "- [Interviewbit](https://www.interviewbit.com/problems/subsets-ii/)"
   ]
  },
  {
   "cell_type": "markdown",
   "id": "888aece7",
   "metadata": {},
   "source": [
    "## Intuition"
   ]
  },
  {
   "cell_type": "markdown",
   "id": "2aafd5a9",
   "metadata": {},
   "source": [
    "- Use Backtracking and set."
   ]
  },
  {
   "cell_type": "markdown",
   "id": "bbe7f28c",
   "metadata": {},
   "source": [
    "## Solution"
   ]
  },
  {
   "cell_type": "code",
   "execution_count": 4,
   "id": "800a2dd4",
   "metadata": {},
   "outputs": [],
   "source": [
    "class Solution:\n",
    "    # @param A : list of integers\n",
    "    # @return a list of list of integers\n",
    "    def subsetsWithDup(self, A):\n",
    "        A.sort()\n",
    "        S,ans=set(),[]\n",
    "        def Rec(B,i):\n",
    "            if i==len(A):\n",
    "                k=''.join(list(map(str,B)))\n",
    "                if k not in S:\n",
    "                    ans.append(B[:])\n",
    "                    S.add(k)\n",
    "                return \n",
    "            B.append(A[i])\n",
    "            Rec(B,i+1)\n",
    "            B.pop()\n",
    "            Rec(B,i+1)\n",
    "        Rec([],0)\n",
    "        return sorted(ans)"
   ]
  },
  {
   "cell_type": "markdown",
   "id": "d3dd0154",
   "metadata": {},
   "source": [
    "## Q.6"
   ]
  },
  {
   "cell_type": "markdown",
   "id": "56320e33",
   "metadata": {},
   "source": [
    "### Letter Combinations of a Phone Number\n",
    "\n",
    "Given a string containing digits from 2-9 inclusive, return all possible letter combinations that the number could represent. Return the answer in any order.\n",
    "\n",
    "A mapping of digits to letters (just like on the telephone buttons) is given below. Note that 1 does not map to any letters.\n",
    "\n",
    "M={'2':'abc','3':'def','4':'ghi','5':'jkl','6':'mno','7':'pqrs','8':'tuv','9':'wxyz'}"
   ]
  },
  {
   "cell_type": "markdown",
   "id": "bfc9715d",
   "metadata": {},
   "source": [
    "- [LeetCode](https://leetcode.com/problems/letter-combinations-of-a-phone-number/description/)\n",
    "- [Interviewbit](https://www.interviewbit.com/problems/letter-phone/)"
   ]
  },
  {
   "cell_type": "markdown",
   "id": "55202c5e",
   "metadata": {},
   "source": [
    "## Intuition"
   ]
  },
  {
   "cell_type": "markdown",
   "id": "fb71eda2",
   "metadata": {},
   "source": [
    "- Use Backtracking."
   ]
  },
  {
   "cell_type": "markdown",
   "id": "01f603bc",
   "metadata": {},
   "source": [
    "## Solution"
   ]
  },
  {
   "cell_type": "code",
   "execution_count": 5,
   "id": "b3091791",
   "metadata": {},
   "outputs": [],
   "source": [
    "from typing import List\n",
    "class Solution:\n",
    "    def letterCombinations(self, digits: str) -> List[str]:\n",
    "        if not digits:return []\n",
    "        M={'0':'0','1':'1','2':'abc','3':'def','4':'ghi','5':'jkl','6':'mno','7':'pqrs','8':'tuv','9':'wxyz'}\n",
    "        B,ans=[],[]\n",
    "        def Rec(i):\n",
    "            if i==len(digits):\n",
    "                ans.append(''.join(B))\n",
    "                return\n",
    "            for j in M[digits[i]]:\n",
    "                B.append(j)\n",
    "                Rec(i+1)\n",
    "                B.pop()\n",
    "        Rec(0)\n",
    "        return sorted(ans)"
   ]
  },
  {
   "cell_type": "markdown",
   "id": "6bd460ff",
   "metadata": {},
   "source": [
    "## Coding Ninjas Problem of the Day"
   ]
  },
  {
   "cell_type": "markdown",
   "id": "66f42200",
   "metadata": {},
   "source": [
    "## [Easy](https://www.naukri.com/code360/problems/shortest-route_1214936)"
   ]
  },
  {
   "cell_type": "code",
   "execution_count": 8,
   "id": "e4d55036",
   "metadata": {},
   "outputs": [],
   "source": [
    "def findShortestRoute(str):\n",
    "    x,y=0,0\n",
    "    for ch in str:\n",
    "        if ch=='E':x+=1\n",
    "        elif ch=='W':x-=1\n",
    "        elif ch=='N':y+=1\n",
    "        else: y-=1\n",
    "    a,b,s=0,0,''\n",
    "    while a!=x or b!=y:\n",
    "        if x>a:\n",
    "            s+='E'\n",
    "            a+=1\n",
    "        elif y>b:\n",
    "            s+='N'\n",
    "            b+=1\n",
    "        elif b>y:\n",
    "            s+='S'\n",
    "            b-=1\n",
    "        elif a>x:\n",
    "            s+='W'\n",
    "            a-=1\n",
    "    return s"
   ]
  },
  {
   "cell_type": "markdown",
   "id": "b8494e61",
   "metadata": {},
   "source": [
    "## [Moderate](https://www.naukri.com/code360/problems/unique-subsets_3625236)"
   ]
  },
  {
   "cell_type": "code",
   "execution_count": 9,
   "id": "f751f333",
   "metadata": {},
   "outputs": [],
   "source": [
    "from os import *\n",
    "from sys import *\n",
    "from collections import *\n",
    "from math import *\n",
    "\n",
    "from typing import *\n",
    "\n",
    "  \n",
    "def uniqueSubsets(n :int,arr :List[int]) -> List[List[int]]:\n",
    "    S,ans=set(),[]\n",
    "    arr.sort()\n",
    "    def Rec(B,i):\n",
    "        if i==len(arr):\n",
    "            key=''.join(list(map(str,B)))\n",
    "            if key not in S:\n",
    "                S.add(key)\n",
    "                ans.append(B[:])\n",
    "            return \n",
    "        B.append(arr[i])\n",
    "        Rec(B,i+1)\n",
    "        B.pop()\n",
    "        Rec(B,i+1)\n",
    "    Rec([],0)\n",
    "    return ans"
   ]
  },
  {
   "cell_type": "markdown",
   "id": "e5fc51cc",
   "metadata": {},
   "source": [
    "## [Hard](https://www.naukri.com/code360/problems/median-of-two-sorted-arrays_985294)"
   ]
  },
  {
   "cell_type": "code",
   "execution_count": 10,
   "id": "3348ef19",
   "metadata": {},
   "outputs": [],
   "source": [
    "def median(a: int, b: int) -> float:\n",
    "    n1,n2=len(a),len(b)\n",
    "    if n1>n2:return median(b,a)\n",
    "    n,left,low,high=n1+n2,(n1+n2+1)//2,0,n1\n",
    "    while low<=high:\n",
    "        mid1=(low+high)//2\n",
    "        mid2=left-mid1\n",
    "        l1,l2,r1,r2=float('-inf'),float('-inf'),float('inf'),float('inf')\n",
    "        if mid1<n1:r1=a[mid1]\n",
    "        if mid2<n2:r2=b[mid2]\n",
    "        if mid1-1>=0:l1=a[mid1-1]\n",
    "        if mid2-1>=0:l2=b[mid2-1]\n",
    "        if l1<=r2 and l2<=r1:\n",
    "            if n%2:return float(max(l1,l2))\n",
    "            else:return (max(l1,l2)+min(r1,r2))/2\n",
    "        elif l1>r2:high=mid1-1\n",
    "        else:low=mid1+1\n",
    "    return 0"
   ]
  },
  {
   "cell_type": "code",
   "execution_count": null,
   "id": "864d385a",
   "metadata": {},
   "outputs": [],
   "source": []
  }
 ],
 "metadata": {
  "kernelspec": {
   "display_name": "Python 3 (ipykernel)",
   "language": "python",
   "name": "python3"
  },
  "language_info": {
   "codemirror_mode": {
    "name": "ipython",
    "version": 3
   },
   "file_extension": ".py",
   "mimetype": "text/x-python",
   "name": "python",
   "nbconvert_exporter": "python",
   "pygments_lexer": "ipython3",
   "version": "3.11.5"
  }
 },
 "nbformat": 4,
 "nbformat_minor": 5
}
