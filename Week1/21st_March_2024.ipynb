{
 "cells": [
  {
   "cell_type": "markdown",
   "id": "15837259",
   "metadata": {},
   "source": [
    "## Q.1"
   ]
  },
  {
   "cell_type": "markdown",
   "id": "57376f87",
   "metadata": {},
   "source": [
    "### Quicksort\n",
    "\n",
    "Given an integer array A, sort the array using QuickSort."
   ]
  },
  {
   "cell_type": "markdown",
   "id": "83da381d",
   "metadata": {},
   "source": [
    "- [GeeksforGeeks](https://www.geeksforgeeks.org/problems/quick-sort/1)"
   ]
  },
  {
   "cell_type": "markdown",
   "id": "df3f76d5",
   "metadata": {},
   "source": [
    "## Intuition"
   ]
  },
  {
   "cell_type": "markdown",
   "id": "0a43c169",
   "metadata": {},
   "source": [
    "- Randomly select a pivot and using 2 pointers keep all elements greater than pivot on right and lesser on left.\n",
    "- So we can say that the pivot element is in its right position using partition function.\n",
    "- In the quickSort recursive function keep calling partition till total array is sorted."
   ]
  },
  {
   "cell_type": "markdown",
   "id": "9bc6cbca",
   "metadata": {},
   "source": [
    "## Solution"
   ]
  },
  {
   "cell_type": "code",
   "execution_count": 1,
   "id": "d2b0c3af",
   "metadata": {},
   "outputs": [],
   "source": [
    "import random\n",
    "class Solution:\n",
    "    #Function to sort a list using quick sort algorithm.\n",
    "    def quickSort(self,arr,low,high):\n",
    "        if low>=high:return\n",
    "        pivot=self.partition(arr,low,high)\n",
    "        self.quickSort(arr,low,pivot-1)\n",
    "        self.quickSort(arr,pivot+1,high)\n",
    "    \n",
    "    def partition(self,arr,low,high):\n",
    "        ri=random.randint(low,high)\n",
    "        arr[low],arr[ri]=arr[ri],arr[low]\n",
    "        L,r=low+1,high\n",
    "        while L<=r:\n",
    "            if arr[L]<=arr[low]:L+=1\n",
    "            elif arr[r]>arr[low]:r-=1\n",
    "            else:\n",
    "                arr[L],arr[r]=arr[r],arr[L]\n",
    "                L+=1\n",
    "                r-=1\n",
    "        arr[low],arr[r]=arr[r],arr[low]\n",
    "        return r"
   ]
  },
  {
   "cell_type": "markdown",
   "id": "21d2ef25",
   "metadata": {},
   "source": [
    "## Q.2"
   ]
  },
  {
   "cell_type": "markdown",
   "id": "66e8d150",
   "metadata": {},
   "source": [
    "### Search a 2D Matrix\n",
    "\n",
    "You are given an m x n integer matrix matrix with the following two properties:\n",
    "\n",
    "Each row is sorted in non-decreasing order.\n",
    "The first integer of each row is greater than the last integer of the previous row.\n",
    "Given an integer target, return true if target is in matrix or false otherwise.\n",
    "\n",
    "You must write a solution in O(log(m * n)) time complexity."
   ]
  },
  {
   "cell_type": "markdown",
   "id": "82f23845",
   "metadata": {},
   "source": [
    "- [LeetCode](https://leetcode.com/problems/search-a-2d-matrix/description/)\n",
    "- [Interviewbit](https://www.interviewbit.com/problems/matrix-search/)"
   ]
  },
  {
   "cell_type": "markdown",
   "id": "91426bdb",
   "metadata": {},
   "source": [
    "## Intuition"
   ]
  },
  {
   "cell_type": "markdown",
   "id": "2b2beab0",
   "metadata": {},
   "source": [
    "- Seeing the time complexity and as it is completely sorted we need to apply binary search on whole matrix."
   ]
  },
  {
   "cell_type": "markdown",
   "id": "de8d98ba",
   "metadata": {},
   "source": [
    "## Solution"
   ]
  },
  {
   "cell_type": "code",
   "execution_count": null,
   "id": "e706073b",
   "metadata": {},
   "outputs": [],
   "source": [
    "class Solution:\n",
    "    # @param A : list of list of integers\n",
    "    # @param B : integer\n",
    "    # @return an integer\n",
    "    def searchMatrix(self, A, B):\n",
    "        n,m=len(A),len(A[0])\n",
    "        i,j=0,(n*m)-1\n",
    "        while i<=j:\n",
    "            mid=(i+j)//2\n",
    "            row,col=mid//m,mid%m\n",
    "            if A[row][col]==B:return 1\n",
    "            elif A[row][col]<B:i=mid+1\n",
    "            else:j=mid-1\n",
    "        return 0"
   ]
  },
  {
   "cell_type": "markdown",
   "id": "34a71d85",
   "metadata": {},
   "source": [
    "## Q.3"
   ]
  },
  {
   "cell_type": "markdown",
   "id": "786b6ad6",
   "metadata": {},
   "source": [
    "### Search in Rotated Sorted Array\n",
    "\n",
    "There is an integer array nums sorted in ascending order (with distinct values).\n",
    "\n",
    "Prior to being passed to your function, nums is possibly rotated at an unknown pivot index k (1 <= k < nums.length) such that the resulting array is [nums[k], nums[k+1], ..., nums[n-1], nums[0], nums[1], ..., nums[k-1]] (0-indexed). For example, [0,1,2,4,5,6,7] might be rotated at pivot index 3 and become [4,5,6,7,0,1,2].\n",
    "\n",
    "Given the array nums after the possible rotation and an integer target, return the index of target if it is in nums, or -1 if it is not in nums.\n",
    "\n",
    "You must write an algorithm with O(log n) runtime complexity."
   ]
  },
  {
   "cell_type": "markdown",
   "id": "a75388dd",
   "metadata": {},
   "source": [
    "- [LeetCode](https://leetcode.com/problems/search-in-rotated-sorted-array/description/)\n",
    "- [Interviewbit](https://www.interviewbit.com/problems/rotated-sorted-array-search/)"
   ]
  },
  {
   "cell_type": "markdown",
   "id": "b62abe4e",
   "metadata": {},
   "source": [
    "## Intuition"
   ]
  },
  {
   "cell_type": "markdown",
   "id": "d41a1177",
   "metadata": {},
   "source": [
    "- The algorithm uses binary search to efficiently find the target value in the rotated sorted array.\n",
    "- It distinguishes between two cases: when the left half of the array is sorted and when the right half is sorted.\n",
    "- Based on the sorted half, it determines whether to search in the left or right half, reducing the search space until the target value is found or the search space is exhausted."
   ]
  },
  {
   "cell_type": "markdown",
   "id": "e11da827",
   "metadata": {},
   "source": [
    "## Solution"
   ]
  },
  {
   "cell_type": "code",
   "execution_count": null,
   "id": "45098f6a",
   "metadata": {},
   "outputs": [],
   "source": [
    "class Solution:\n",
    "    def search(self, A, B):\n",
    "        L, R = 0, len(A) - 1\n",
    "        while L <= R:\n",
    "            mid = (L + R) // 2\n",
    "            if A[mid] == B:\n",
    "                return mid\n",
    "            if A[mid] >= A[L]:  # Left half is sorted\n",
    "                if A[L] <= B < A[mid]:\n",
    "                    R = mid - 1\n",
    "                else:\n",
    "                    L = mid + 1\n",
    "            else:  # Right half is sorted\n",
    "                if A[mid] < B <= A[R]:\n",
    "                    L = mid + 1\n",
    "                else:\n",
    "                    R = mid - 1\n",
    "        return -1"
   ]
  },
  {
   "cell_type": "markdown",
   "id": "6c9c6244",
   "metadata": {},
   "source": [
    "## Q.4"
   ]
  },
  {
   "cell_type": "markdown",
   "id": "a04d858f",
   "metadata": {},
   "source": [
    "### Sorted Insert Position\n",
    "\n",
    "Given a sorted array A and a target value B, return the index if the target is found. If not, return the index where it would be if it were inserted in order.\n",
    "\n",
    "You may assume no duplicates in the array."
   ]
  },
  {
   "cell_type": "markdown",
   "id": "f98e3c11",
   "metadata": {},
   "source": [
    "- [LeetCode](https://leetcode.com/problems/search-insert-position/description/)\n",
    "- [Interviewbit](https://www.interviewbit.com/problems/sorted-insert-position/)"
   ]
  },
  {
   "cell_type": "markdown",
   "id": "2a4c2e48",
   "metadata": {},
   "source": [
    "## Intuition"
   ]
  },
  {
   "cell_type": "markdown",
   "id": "f71928ac",
   "metadata": {},
   "source": [
    "- Use normal binary search and just store the index if mid is greater than target."
   ]
  },
  {
   "cell_type": "markdown",
   "id": "7cb6c817",
   "metadata": {},
   "source": [
    "## Solution"
   ]
  },
  {
   "cell_type": "code",
   "execution_count": null,
   "id": "7701b04d",
   "metadata": {},
   "outputs": [],
   "source": [
    "class Solution:\n",
    "    # @param A : list of integers\n",
    "    # @param B : integer\n",
    "    # @return an integer\n",
    "    def searchInsert(self, A, B):\n",
    "        L,r=0,len(A)-1\n",
    "        ans=-1\n",
    "        while L<=r:\n",
    "            m=(L+r)//2\n",
    "            if A[m]==B:return m\n",
    "            elif A[m]<B:L=m+1\n",
    "            else:\n",
    "                ans=m\n",
    "                r=m-1\n",
    "        return len(A) if ans==-1 else ans"
   ]
  },
  {
   "cell_type": "markdown",
   "id": "8789343e",
   "metadata": {},
   "source": [
    "## Problem of the day Coding Ninjas"
   ]
  },
  {
   "cell_type": "markdown",
   "id": "edc09dcc",
   "metadata": {},
   "source": [
    "## [Easy](https://www.codingninjas.com/studio/problems/periodic-string_1094904)"
   ]
  },
  {
   "cell_type": "code",
   "execution_count": null,
   "id": "31bbe2c3",
   "metadata": {},
   "outputs": [],
   "source": [
    "def isPeriodic(s):\n",
    "    n=len(s)\n",
    "    for i in range(1,n):\n",
    "        if s[:i]*(n//i)==s:return True\n",
    "    return False"
   ]
  },
  {
   "cell_type": "markdown",
   "id": "d92ee2d3",
   "metadata": {},
   "source": [
    "## [Moderate](https://www.codingninjas.com/studio/problems/pair-with-given-sum-in-a-balanced-bst_920480)"
   ]
  },
  {
   "cell_type": "code",
   "execution_count": null,
   "id": "7a2cd798",
   "metadata": {},
   "outputs": [],
   "source": [
    "class TreeNode:\n",
    "    def __init__ (self, data):\n",
    "        self.data = data\n",
    "        self.left = None\n",
    "        self.right = None\n",
    "def findTargetPair(root, target):\n",
    "    A=[]\n",
    "    def In(r):\n",
    "        if r is None:return \n",
    "        In(r.left)\n",
    "        A.append(r.data)\n",
    "        In(r.right)\n",
    "    In(root)\n",
    "    L,r=0,len(A)-1\n",
    "    while L<=r:\n",
    "        s=A[L]+A[r]\n",
    "        if s==target:return True\n",
    "        elif s<target:L+=1\n",
    "        else: r-=1\n",
    "    return False"
   ]
  },
  {
   "cell_type": "markdown",
   "id": "d5011196",
   "metadata": {},
   "source": [
    "## [Hard](https://www.codingninjas.com/studio/problems/garden-fencing_2446761)"
   ]
  },
  {
   "cell_type": "code",
   "execution_count": 1,
   "id": "6c7405e5",
   "metadata": {},
   "outputs": [],
   "source": [
    "from typing import List, Tuple\n",
    "import random\n",
    "import math\n",
    "\n",
    "def wetzls(points: List[Tuple[float, float]]) -> Tuple[float, float, float]:\n",
    "    cloned_points = points.copy()\n",
    "    shuffle(cloned_points)\n",
    "    return mec(cloned_points, len(points), [], 0)\n",
    "\n",
    "def shuffle(a):\n",
    "    for i in range(len(a) - 1, 0, -1):\n",
    "        j = random.randint(0, i)\n",
    "        a[i], a[j] = a[j], a[i]\n",
    "\n",
    "def mec(points, n, boundary, b):\n",
    "    local_circle = None\n",
    "    if b == 3:\n",
    "        local_circle = calc_circle_3(boundary[0], boundary[1], boundary[2])\n",
    "    elif n == 1 and b == 0:\n",
    "        local_circle = {'x': points[0][0], 'y': points[0][1], 'r': 0}\n",
    "    elif n == 0 and b == 2:\n",
    "        local_circle = calc_circle_2(boundary[0], boundary[1])\n",
    "    elif n == 1 and b == 1:\n",
    "        local_circle = calc_circle_2(boundary[0], points[0])\n",
    "    else:\n",
    "        local_circle = mec(points, n - 1, boundary[:], b)  # Copy the boundary list\n",
    "        if not is_in_circle(points[n - 1], local_circle):\n",
    "            if b < len(boundary):  # Check if there is space in the boundary list\n",
    "                boundary[b] = points[n - 1]\n",
    "            else:\n",
    "                boundary.append(points[n - 1])  # Append if boundary is full\n",
    "            b += 1\n",
    "            local_circle = mec(points, n - 1, boundary[:], b)  # Copy the boundary list\n",
    "    return local_circle\n",
    "\n",
    "def calc_circle_3(p1, p2, p3):\n",
    "    p1x, p1y = p1[0], p1[1]\n",
    "    p2x, p2y = p2[0], p2[1]\n",
    "    p3x, p3y = p3[0], p3[1]\n",
    "    a = p2x - p1x\n",
    "    b = p2y - p1y\n",
    "    c = p3x - p1x\n",
    "    d = p3y - p1y\n",
    "    e = a * (p2x + p1x) * 0.5 + b * (p2y + p1y) * 0.5\n",
    "    f = c * (p3x + p1x) * 0.5 + d * (p3y + p1y) * 0.5\n",
    "    det = a * d - b * c\n",
    "    cx = (d * e - b * f) / det\n",
    "    cy = (-c * e + a * f) / det\n",
    "    r = math.sqrt((p1x - cx) * (p1x - cx) + (p1y - cy) * (p1y - cy))\n",
    "    return {'x': cx, 'y': cy, 'r': r}\n",
    "\n",
    "def calc_circle_2(p1, p2):\n",
    "    p1x, p1y = p1[0], p1[1]\n",
    "    p2x, p2y = p2[0], p2[1]\n",
    "    cx = 0.5 * (p1x + p2x)\n",
    "    cy = 0.5 * (p1y + p2y)\n",
    "    r = math.sqrt((p1x - cx) * (p1x - cx) + (p1y - cy) * (p1y - cy))\n",
    "    return {'x': cx, 'y': cy, 'r': r}\n",
    "\n",
    "def is_in_circle(p, c):\n",
    "    return (c['x'] - p[0]) ** 2 + (c['y'] - p[1]) ** 2 <= c['r'] ** 2\n",
    "\n",
    "def gardenFencing(n: int, trees: List[List[float]]) -> List[float]:\n",
    "    points=[(i[0],i[1]) for i in trees]\n",
    "    circle = wetzls(points)\n",
    "    return((circle['x'],circle['y'],circle['r']))"
   ]
  },
  {
   "cell_type": "code",
   "execution_count": null,
   "id": "51e67618",
   "metadata": {},
   "outputs": [],
   "source": []
  }
 ],
 "metadata": {
  "kernelspec": {
   "display_name": "Python 3 (ipykernel)",
   "language": "python",
   "name": "python3"
  },
  "language_info": {
   "codemirror_mode": {
    "name": "ipython",
    "version": 3
   },
   "file_extension": ".py",
   "mimetype": "text/x-python",
   "name": "python",
   "nbconvert_exporter": "python",
   "pygments_lexer": "ipython3",
   "version": "3.11.5"
  }
 },
 "nbformat": 4,
 "nbformat_minor": 5
}
