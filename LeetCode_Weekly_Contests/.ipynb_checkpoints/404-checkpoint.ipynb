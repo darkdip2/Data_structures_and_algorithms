{
 "cells": [
  {
   "cell_type": "markdown",
   "id": "75d8c25b",
   "metadata": {},
   "source": [
    "### 3200. Maximum Height of a Triangle"
   ]
  },
  {
   "cell_type": "markdown",
   "id": "f3840e61",
   "metadata": {},
   "source": [
    "You are given two integers red and blue representing the count of red and blue colored balls. You have to arrange these balls to form a triangle such that the 1st row will have 1 ball, the 2nd row will have 2 balls, the 3rd row will have 3 balls, and so on.\r\n",
    "\r\n",
    "All the balls in a particular row should be the same color, and adjacent rows should have different colors.\r\n",
    "\r\n",
    "Return the maximum height of the triangle that can be achieved."
   ]
  },
  {
   "cell_type": "code",
   "execution_count": 1,
   "id": "8aed1a64",
   "metadata": {},
   "outputs": [],
   "source": [
    "class Solution:\n",
    "    def maxHeightOfTriangle(self, r: int, B: int) -> int:\n",
    "        blue,red=B,r\n",
    "        cnta,cntb,i=0,0,0\n",
    "        while True:\n",
    "            i+=1\n",
    "            blue-=i\n",
    "            if blue<0:break\n",
    "            cnta+=1\n",
    "            i+=1\n",
    "            red-=i\n",
    "            if red<0:break\n",
    "            cnta+=1\n",
    "        blue,red,i=B,r,0\n",
    "        while True:\n",
    "            i+=1\n",
    "            red-=i\n",
    "            if red<0:break\n",
    "            cntb+=1\n",
    "            i+=1\n",
    "            blue-=i\n",
    "            if blue<0:break\n",
    "            cntb+=1\n",
    "        return max(cnta,cntb)"
   ]
  },
  {
   "cell_type": "markdown",
   "id": "f6f808a3",
   "metadata": {},
   "source": [
    "### 3201. Find the Maximum Length of Valid Subsequence I"
   ]
  },
  {
   "cell_type": "markdown",
   "id": "0f29dfc3",
   "metadata": {},
   "source": [
    "You are given an integer array nums.\r\n",
    "A subsequence sub of nums with length x is called valid if it satisfies:\n",
    "\n",
    "\r\n",
    "(sub[0] + sub[1]) % 2 == (sub[1] + sub[2]) % 2 == ... == (sub[x - 2] + sub[x - 1]) % 2.\r\n",
    "Return the length of the longest valid subsequence of nums.\r\n",
    "\r\n",
    "A subsequence is an array that can be derived from another array by deleting some or no elements without changing the order of the remaining elements."
   ]
  },
  {
   "cell_type": "code",
   "execution_count": 2,
   "id": "1acbece4",
   "metadata": {},
   "outputs": [],
   "source": [
    "class Solution:\n",
    "    def maximumLength(self, nums: list[int]) -> int:\n",
    "        a = 0\n",
    "        t = 0\n",
    "        for i in range(len(nums)):\n",
    "            if nums[i] % 2 == 0:\n",
    "                t += 1\n",
    "        a = max(t, a)\n",
    "        \n",
    "        t = 0\n",
    "        for i in range(len(nums)):\n",
    "            if nums[i] % 2 == 1:\n",
    "                t += 1\n",
    "        a = max(t, a)\n",
    "        \n",
    "        t = 0\n",
    "        c = 0\n",
    "        for i in range(len(nums)):\n",
    "            if nums[i] % 2 == c:\n",
    "                t += 1\n",
    "                c = (c + 1) % 2\n",
    "        a = max(t, a)\n",
    "        \n",
    "        t = 0\n",
    "        c = 1\n",
    "        for i in range(len(nums)):\n",
    "            if nums[i] % 2 == c:\n",
    "                t += 1\n",
    "                c = (c + 1) % 2\n",
    "        a = max(t, a)\n",
    "        \n",
    "        return a"
   ]
  },
  {
   "cell_type": "markdown",
   "id": "0c961844",
   "metadata": {},
   "source": [
    "### 3202. Find the Maximum Length of Valid Subsequence II"
   ]
  },
  {
   "cell_type": "markdown",
   "id": "7e79b267",
   "metadata": {},
   "source": [
    "You are given an integer array nums and a positive integer k.\r\n",
    "A subsequence sub of nums with length x is called valid if it satisfies:\r\n",
    "\r\n",
    "(sub[0] + sub[1]) % k == (sub[1] + sub[2]) % k == ... == (sub[x - 2] + sub[x - 1]) % k.\r\n",
    "Return the length of the longest valid subsequence of nums."
   ]
  },
  {
   "cell_type": "code",
   "execution_count": 3,
   "id": "1bf1a603",
   "metadata": {},
   "outputs": [],
   "source": [
    "class Solution:\n",
    "    def maximumLength(self, nums: list[int], k: int) -> int:\n",
    "        n = len(nums)\n",
    "        dp = [[1] * k for _ in range(n)]\n",
    "        max_len = 0\n",
    "        \n",
    "        for i in range(n):\n",
    "            for j in range(i):\n",
    "                r = (nums[i] + nums[j]) % k\n",
    "                dp[i][r] = max(dp[i][r], dp[j][r] + 1)\n",
    "        \n",
    "        for row in dp:\n",
    "            for length in row:\n",
    "                max_len = max(max_len, length)\n",
    "        \n",
    "        return max_len"
   ]
  },
  {
   "cell_type": "markdown",
   "id": "b889594c",
   "metadata": {},
   "source": [
    "### 3203. Find Minimum Diameter After Merging Two Trees"
   ]
  },
  {
   "cell_type": "markdown",
   "id": "3752d476",
   "metadata": {},
   "source": [
    "There exist two undirected trees with n and m nodes, numbered from 0 to n - 1 and from 0 to m - 1, respectively. You are given two 2D integer arrays edges1 and edges2 of lengths n - 1 and m - 1, respectively, where edges1[i] = [ai, bi] indicates that there is an edge between nodes ai and bi in the first tree and edges2[i] = [ui, vi] indicates that there is an edge between nodes ui and vi in the second tree.\r\n",
    "\r\n",
    "You must connect one node from the first tree with another node from the second tree with an edge.\r\n",
    "\r\n",
    "Return the minimum possible diameter of the resulting tree.\r\n",
    "\r\n",
    "The diameter of a tree is the length of the longest path between any two nodes in the tree."
   ]
  },
  {
   "cell_type": "code",
   "execution_count": 1,
   "id": "ae2343ed",
   "metadata": {},
   "outputs": [],
   "source": [
    "from collections import deque\n",
    "\n",
    "class Solution:\n",
    "    def minimumDiameterAfterMerge(self, edges1: list[list[int]], edges2: list[list[int]]) -> int:\n",
    "        if not edges1 and not edges2:return 1\n",
    "        if not edges1 or not edges2:return 2\n",
    "\n",
    "        def Diameter(edges):\n",
    "            n = len(edges) + 1\n",
    "            adj = [[] for _ in range(n)]\n",
    "            \n",
    "            for e in edges:\n",
    "                adj[e[0]].append(e[1])\n",
    "                adj[e[1]].append(e[0])\n",
    "            \n",
    "            def bfs(start):\n",
    "                dist = [-1] * n\n",
    "                q = deque([start])\n",
    "                dist[start] = 0\n",
    "                furthest = start\n",
    "                \n",
    "                while q:\n",
    "                    node = q.popleft()\n",
    "                    for nei in adj[node]:\n",
    "                        if dist[nei] == -1:\n",
    "                            dist[nei] = dist[node] + 1\n",
    "                            q.append(nei)\n",
    "                            if dist[nei] > dist[furthest]:\n",
    "                                furthest = nei\n",
    "                \n",
    "                return furthest, dist[furthest]\n",
    "            \n",
    "            fb = bfs(edges[0][0])\n",
    "            sb = bfs(fb[0])\n",
    "            \n",
    "            return sb[1]\n",
    "\n",
    "        def Centers(edges):\n",
    "            n = len(edges) + 1\n",
    "            adj = [[] for _ in range(n)]\n",
    "            degree = [0] * n\n",
    "            \n",
    "            for e in edges:\n",
    "                adj[e[0]].append(e[1])\n",
    "                adj[e[1]].append(e[0])\n",
    "                degree[e[0]] += 1\n",
    "                degree[e[1]] += 1\n",
    "            \n",
    "            leaves = deque()\n",
    "            \n",
    "            for i in range(n):\n",
    "                if degree[i] == 1:\n",
    "                    leaves.append(i)\n",
    "            \n",
    "            remaining = n\n",
    "            \n",
    "            while remaining > 2:\n",
    "                cnt = len(leaves)\n",
    "                remaining -= cnt\n",
    "                \n",
    "                for _ in range(cnt):\n",
    "                    leaf = leaves.popleft()\n",
    "                    \n",
    "                    for nei in adj[leaf]:\n",
    "                        degree[nei] -= 1\n",
    "                        \n",
    "                        if degree[nei] == 1:\n",
    "                            leaves.append(nei)\n",
    "            \n",
    "            return list(leaves)\n",
    "\n",
    "        d1 = Diameter(edges1)\n",
    "        d2 = Diameter(edges2)\n",
    "        \n",
    "        C1 = Centers(edges1)\n",
    "        C2 = Centers(edges2)\n",
    "        \n",
    "        min_ = float('inf')\n",
    "        \n",
    "        for c1 in C1:\n",
    "            for c2 in C2:\n",
    "                new_ = max(d1, d2, (d1 + 1) // 2 + (d2 + 1) // 2 + 1)\n",
    "                min_ = min(min_, new_)\n",
    "        \n",
    "        return min_"
   ]
  },
  {
   "cell_type": "code",
   "execution_count": null,
   "id": "85cb02fa-59df-48c8-9d51-2fb734d6632f",
   "metadata": {},
   "outputs": [],
   "source": []
  }
 ],
 "metadata": {
  "kernelspec": {
   "display_name": "Python 3 (ipykernel)",
   "language": "python",
   "name": "python3"
  },
  "language_info": {
   "codemirror_mode": {
    "name": "ipython",
    "version": 3
   },
   "file_extension": ".py",
   "mimetype": "text/x-python",
   "name": "python",
   "nbconvert_exporter": "python",
   "pygments_lexer": "ipython3",
   "version": "3.11.7"
  }
 },
 "nbformat": 4,
 "nbformat_minor": 5
}
