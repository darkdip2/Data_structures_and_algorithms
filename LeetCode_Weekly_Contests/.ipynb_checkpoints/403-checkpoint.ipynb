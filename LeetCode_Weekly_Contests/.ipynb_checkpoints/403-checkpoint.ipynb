{
 "cells": [
  {
   "cell_type": "code",
   "execution_count": 1,
   "id": "6387f5e0-9798-4343-8089-c07de0624342",
   "metadata": {},
   "outputs": [],
   "source": [
    "from typing import List"
   ]
  },
  {
   "cell_type": "markdown",
   "id": "6dee1969-5ab2-42a4-9514-7fd8445f8b85",
   "metadata": {},
   "source": [
    "### 3194. Minimum Average of Smallest and Largest Elements"
   ]
  },
  {
   "cell_type": "markdown",
   "id": "f3840e61",
   "metadata": {},
   "source": [
    "You have an array of floating point numbers averages which is initially empty. You are given an array nums of n integers where n is even.\r\n",
    "\r\n",
    "You repeat the following procedure n / 2 times:- \r\n",
    "\r\n",
    "Remove the smallest element, minElement, and the largest element maxElement, from nu- ms.\r\n",
    "Add (minElement + maxElement) / 2 to aver\n",
    "ages.\r\n",
    "Return the minimum element in averages. on."
   ]
  },
  {
   "cell_type": "code",
   "execution_count": 2,
   "id": "8aed1a64",
   "metadata": {},
   "outputs": [],
   "source": [
    "class Solution:\n",
    "    def minimumAverage(self, nums: List[int]) -> float:\n",
    "        n=len(nums)\n",
    "        L,r=0,n-1\n",
    "        nums.sort()\n",
    "        A=[]\n",
    "        for i in range(n//2):\n",
    "            A.append((nums[L]+nums[r])/2)\n",
    "            L+=1\n",
    "            r-=1\n",
    "        return min(A)"
   ]
  },
  {
   "cell_type": "markdown",
   "id": "f6f808a3",
   "metadata": {},
   "source": [
    "### 3195. Find the Minimum Area to Cover All Ones I"
   ]
  },
  {
   "cell_type": "markdown",
   "id": "0f29dfc3",
   "metadata": {},
   "source": [
    "You are given a 2D binary array grid. Find a rectangle with horizontal and vertical sides with the smallest area, such that all the 1's in grid lie inside this rectangle.\r\n",
    "\r\n",
    "Return the minimum possible area of the rectangle.an cast."
   ]
  },
  {
   "cell_type": "code",
   "execution_count": 3,
   "id": "1acbece4",
   "metadata": {},
   "outputs": [],
   "source": [
    "class Solution:\n",
    "    def minimumArea(self, grid: List[List[int]]) -> int:\n",
    "        ans=float('inf')\n",
    "        maxi,mini,maxj,minj=0,999,0,999\n",
    "        for i in range(len(grid)):\n",
    "            for j in range(len(grid[0])):\n",
    "                if grid[i][j]==1:\n",
    "                    maxi=max(i,maxi)\n",
    "                    mini=min(mini,i)\n",
    "                    maxj=max(j,maxj)\n",
    "                    minj=min(minj,j)\n",
    "        #print((maxi,maxj,mini,minj))\n",
    "        return (maxi-mini+1)*(maxj-minj+1)"
   ]
  },
  {
   "cell_type": "markdown",
   "id": "60cc3266-6dda-4234-8af3-316417838d20",
   "metadata": {},
   "source": [
    "### 3196. Maximize Total Cost of Alternating Subarrays"
   ]
  },
  {
   "cell_type": "markdown",
   "id": "5b045b87-86c2-46fb-a647-5b45aa422a3a",
   "metadata": {},
   "source": [
    "You are given an integer array nums with length n.\n",
    "\n",
    "The cost of a subarray nums[l..r], where 0 <= l <= r < n, is defined as:\n",
    "\n",
    "cost(l, r) = nums[l] - nums[l + 1] + ... + nums[r] * (−1)r − l\n",
    "\n",
    "Your task is to split nums into subarrays such that the total cost of the subarrays is maximized, ensuring each element belongs to exactly one subarray.\n",
    "\n",
    "Formally, if nums is split into k subarrays, where k > 1, at indices i1, i2, ..., ik − 1, where 0 <= i1 < i2 < ... < ik - 1 < n - 1, then the total cost will be:\n",
    "\n",
    "cost(0, i1) + cost(i1 + 1, i2) + ... + cost(ik − 1 + 1, n − 1)\n",
    "\n",
    "Return an integer denoting the maximum total cost of the subarrays after splitting the array optimally.\n",
    "\n",
    "Note: If nums is not split into subarrays, i.e. k = 1, the total cost is simply cost(0, n - 1)."
   ]
  },
  {
   "cell_type": "code",
   "execution_count": 4,
   "id": "dbb0f3ad-f8a4-44d4-8c9f-ac5ad2ef5921",
   "metadata": {},
   "outputs": [],
   "source": [
    "class Solution:\n",
    "    def maximumTotalCost(self, nums: List[int]) -> int:\n",
    "        n = len(nums)\n",
    "        dp = [[-float('inf')] * 2 for _ in range(n + 1)]\n",
    "        dp[n][0] = 0\n",
    "        dp[n][1] = 0\n",
    "\n",
    "        for i in range(n - 1, -1, -1):\n",
    "            for lp in range(2):\n",
    "                if lp == 1:dp[i][lp] = max(dp[i + 1][0] - nums[i], dp[i + 1][1] + nums[i])\n",
    "                else:dp[i][lp] = dp[i + 1][1] + nums[i]\n",
    "\n",
    "        return dp[0][0]"
   ]
  }
 ],
 "metadata": {
  "kernelspec": {
   "display_name": "Python 3 (ipykernel)",
   "language": "python",
   "name": "python3"
  },
  "language_info": {
   "codemirror_mode": {
    "name": "ipython",
    "version": 3
   },
   "file_extension": ".py",
   "mimetype": "text/x-python",
   "name": "python",
   "nbconvert_exporter": "python",
   "pygments_lexer": "ipython3",
   "version": "3.11.7"
  }
 },
 "nbformat": 4,
 "nbformat_minor": 5
}
