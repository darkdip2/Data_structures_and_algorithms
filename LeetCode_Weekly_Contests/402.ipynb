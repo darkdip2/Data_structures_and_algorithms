{
 "cells": [
  {
   "cell_type": "markdown",
   "id": "75d8c25b",
   "metadata": {},
   "source": [
    "### 3184. Count Pairs That Form a Complete Day I"
   ]
  },
  {
   "cell_type": "markdown",
   "id": "6dee1969-5ab2-42a4-9514-7fd8445f8b85",
   "metadata": {},
   "source": [
    "### 3185. Count Pairs That Form a Complete Day II"
   ]
  },
  {
   "cell_type": "markdown",
   "id": "f3840e61",
   "metadata": {},
   "source": [
    "Given an integer array hours representing times in hours, return an integer denoting the number of pairs i, j where i < j and hours[i] + hours[j] forms a complete day.\r\n",
    "\r\n",
    "A complete day is defined as a time duration that is an exact multiple of 24 hours.\r\n",
    "\r\n",
    "For example, 1 day is 24 hours, 2 days is 48 hours, 3 days is 72 hours, and so on."
   ]
  },
  {
   "cell_type": "code",
   "execution_count": 2,
   "id": "8aed1a64",
   "metadata": {},
   "outputs": [],
   "source": [
    "from typing import List\n",
    "class Solution:\n",
    "    def countCompleteDayPairs(self, hours: List[int]) -> int:\n",
    "        M,cnt ={}, 0\n",
    "\n",
    "        for hour in hours:\n",
    "            remainder = hour % 24\n",
    "            complement = (24 - remainder) % 24\n",
    "    \n",
    "            if complement in M:cnt += M[complement]\n",
    "        \n",
    "            if remainder in M:M[remainder] += 1\n",
    "            else:M[remainder] = 1\n",
    "\n",
    "        return cnt"
   ]
  },
  {
   "cell_type": "markdown",
   "id": "f6f808a3",
   "metadata": {},
   "source": [
    "### 3186. Maximum Total Damage With Spell Casting"
   ]
  },
  {
   "cell_type": "markdown",
   "id": "0f29dfc3",
   "metadata": {},
   "source": [
    "A magician has various spells.\r\n",
    "\r\n",
    "You are given an array power, where each element represents the damage of a spell. Multiple spells can have the same damage value.\r\n",
    "\r\n",
    "It is a known fact that if a magician decides to cast a spell with a damage of power[i], they cannot cast any spell with a damage of power[i] - 2, power[i] - 1, power[i] + 1, or power[i] + 2.\r\n",
    "\r\n",
    "Each spell can be cast only once.\r\n",
    "\r\n",
    "Return the maximum possible total damage that a magician can cast."
   ]
  },
  {
   "cell_type": "code",
   "execution_count": 3,
   "id": "1acbece4",
   "metadata": {},
   "outputs": [],
   "source": [
    "from typing import List\n",
    "\n",
    "class Solution:\n",
    "    def maximumTotalDamage(self, powers: List[int]) -> int:\n",
    "        M = Counter(powers)\n",
    "        unique_powers = sorted(list(M.keys()))\n",
    "        unique_count = len(unique_powers)\n",
    "        if unique_count == 1:\n",
    "            return unique_powers[0] * M[unique_powers[0]]\n",
    "\n",
    "        max_damage = [0] * (unique_count + 1)\n",
    "        for i in range(1, unique_count + 1):\n",
    "            current_damage = unique_powers[i - 1] * M[unique_powers[i - 1]]\n",
    "            take_damage = current_damage\n",
    "\n",
    "            for j in range(i - 2, -1, -1):\n",
    "                if unique_powers[i - 1] - unique_powers[j] > 2:\n",
    "                    take_damage += max_damage[j + 1]\n",
    "                    break\n",
    "\n",
    "            dont_take_damage = max_damage[i - 1]\n",
    "            max_damage[i] = max(take_damage, dont_take_damage)\n",
    "\n",
    "        return max_damage[unique_count]"
   ]
  }
 ],
 "metadata": {
  "kernelspec": {
   "display_name": "Python 3 (ipykernel)",
   "language": "python",
   "name": "python3"
  },
  "language_info": {
   "codemirror_mode": {
    "name": "ipython",
    "version": 3
   },
   "file_extension": ".py",
   "mimetype": "text/x-python",
   "name": "python",
   "nbconvert_exporter": "python",
   "pygments_lexer": "ipython3",
   "version": "3.11.7"
  }
 },
 "nbformat": 4,
 "nbformat_minor": 5
}
