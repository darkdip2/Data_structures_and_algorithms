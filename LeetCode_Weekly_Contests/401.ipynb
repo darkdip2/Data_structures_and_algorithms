{
 "cells": [
  {
   "cell_type": "markdown",
   "id": "75d8c25b",
   "metadata": {},
   "source": [
    "### 3178. Find the Child Who Has the Ball After K Seconds"
   ]
  },
  {
   "cell_type": "markdown",
   "id": "f3840e61",
   "metadata": {},
   "source": [
    "You are given two positive integers n and k. There are n children numbered from 0 to n - 1 standing in a queue in order from left to right.\n",
    "\n",
    "Initially, child 0 holds a ball and the direction of passing the ball is towards the right direction. After each second, the child holding the ball passes it to the child next to them. Once the ball reaches either end of the line, i.e. child 0 or child n - 1, the direction of passing is reversed.\n",
    "\n",
    "Return the number of the child who receives the ball after k seconds."
   ]
  },
  {
   "cell_type": "code",
   "execution_count": null,
   "id": "8aed1a64",
   "metadata": {},
   "outputs": [],
   "source": [
    "import math \n",
    "class Solution:\n",
    "    def numberOfChild(self, n: int, k: int) -> int:\n",
    "        curr,cnt,F=0,k,False\n",
    "        while cnt>=0:\n",
    "            if not F:\n",
    "                curr+=1\n",
    "                cnt-=1\n",
    "                if cnt==0:return curr\n",
    "            if curr==n-1:\n",
    "                F=True\n",
    "            if F:\n",
    "                curr-=1\n",
    "                cnt-=1\n",
    "                if cnt==0:return curr\n",
    "            if curr==0:\n",
    "                F=False"
   ]
  },
  {
   "cell_type": "markdown",
   "id": "f6f808a3",
   "metadata": {},
   "source": [
    "### 3179. Find the N-th Value After K Seconds"
   ]
  },
  {
   "cell_type": "markdown",
   "id": "0f29dfc3",
   "metadata": {},
   "source": [
    "You are given two integers n and k.\n",
    "\n",
    "Initially, you start with an array a of n integers where a[i] = 1 for all 0 <= i <= n - 1. After each second, you simultaneously update each element to be the sum of all its preceding elements plus the element itself. For example, after one second, a[0] remains the same, a[1] becomes a[0] + a[1], a[2] becomes a[0] + a[1] + a[2], and so on.\n",
    "\n",
    "Return the value of a[n - 1] after k seconds.\n",
    "\n",
    "Since the answer may be very large, return it modulo 109 + 7."
   ]
  },
  {
   "cell_type": "code",
   "execution_count": 1,
   "id": "1acbece4",
   "metadata": {},
   "outputs": [],
   "source": [
    "class Solution:\n",
    "    def valueAfterKSeconds(self, n: int, k: int) -> int:\n",
    "        T=[1]*n\n",
    "        for i in range(k):\n",
    "            for j in range(1,n):\n",
    "                T[j]+=T[j-1]%(pow(10,9)+7)\n",
    "        return T[-1]%(pow(10,9)+7)"
   ]
  },
  {
   "cell_type": "markdown",
   "id": "0c961844",
   "metadata": {},
   "source": [
    "### 3180. Maximum Total Reward Using Operations I"
   ]
  },
  {
   "cell_type": "markdown",
   "id": "7e79b267",
   "metadata": {},
   "source": [
    "You are given an integer array rewardValues of length n, representing the values of rewards.\n",
    "\n",
    "Initially, your total reward x is 0, and all indices are unmarked. You are allowed to perform the following operation any number of times:\n",
    "\n",
    "- Choose an unmarked index i from the range [0, n - 1].\n",
    "- If rewardValues[i] is greater than your current total reward x, then add rewardValues[i] to x (i.e., x = x + rewardValues[i]), and mark the index i.\n",
    "Return an integer denoting the maximum total reward you can collect by performing the operations optimally."
   ]
  },
  {
   "cell_type": "code",
   "execution_count": 2,
   "id": "1bf1a603",
   "metadata": {},
   "outputs": [],
   "source": [
    "from typing import List\n",
    "\n",
    "class Solution:\n",
    "    def maxTotalReward(self, r: List[int]) -> int:\n",
    "        n = len(r)\n",
    "        r.sort()\n",
    "        P,max_sum = 2*max(r),[0] * (max_sum + 1)\n",
    "        for i in range(n - 1, -1, -1):\n",
    "            c = [0] * (max_sum + 1)\n",
    "            for x in range(max_sum + 1):\n",
    "                c[x] = P[x]\n",
    "                if r[i] > x and r[i]+x<=max_sum:c[x] = max(c[x], r[i] + P[r[i] + x])\n",
    "            P=c[:]\n",
    "        return P[0]"
   ]
  },
  {
   "cell_type": "markdown",
   "id": "b889594c",
   "metadata": {},
   "source": [
    "## 3181. Maximum Total Reward Using Operations II"
   ]
  },
  {
   "cell_type": "markdown",
   "id": "3752d476",
   "metadata": {},
   "source": [
    "You are given an integer array rewardValues of length n, representing the values of rewards.\n",
    "\n",
    "Initially, your total reward x is 0, and all indices are unmarked. You are allowed to perform the following operation any number of times:\n",
    "\n",
    "- Choose an unmarked index i from the range [0, n - 1].\n",
    "- If rewardValues[i] is greater than your current total reward x, then add rewardValues[i] to x (i.e., x = x + rewardValues[i]), and mark the index i.\n",
    "Return an integer denoting the maximum total reward you can collect by performing the operations optimally."
   ]
  },
  {
   "cell_type": "code",
   "execution_count": 3,
   "id": "ae2343ed",
   "metadata": {},
   "outputs": [],
   "source": []
  }
 ],
 "metadata": {
  "kernelspec": {
   "display_name": "Python 3 (ipykernel)",
   "language": "python",
   "name": "python3"
  },
  "language_info": {
   "codemirror_mode": {
    "name": "ipython",
    "version": 3
   },
   "file_extension": ".py",
   "mimetype": "text/x-python",
   "name": "python",
   "nbconvert_exporter": "python",
   "pygments_lexer": "ipython3",
   "version": "3.11.7"
  }
 },
 "nbformat": 4,
 "nbformat_minor": 5
}
