{
 "cells": [
  {
   "cell_type": "code",
   "execution_count": 1,
   "id": "d3585196-da5f-4a7b-97bd-aa773c0ce33e",
   "metadata": {},
   "outputs": [],
   "source": [
    "from typing import List"
   ]
  },
  {
   "cell_type": "markdown",
   "id": "75d8c25b",
   "metadata": {},
   "source": [
    "### 100339. Find the Encrypted String"
   ]
  },
  {
   "cell_type": "markdown",
   "id": "f3840e61",
   "metadata": {},
   "source": [
    "You are given a string s and an integer k. Encrypt the string using the following algorithm:\r\n",
    "\r\n",
    "For each character c in s, replace c with the kth character after c in the string (in a cyclic manner).\r\n",
    "Return the encrypted string.ved."
   ]
  },
  {
   "cell_type": "code",
   "execution_count": 2,
   "id": "8aed1a64",
   "metadata": {},
   "outputs": [],
   "source": [
    "class Solution:\n",
    "    def getEncryptedString(self, s: str, k: int) -> str:\n",
    "        A,n=[],len(s)\n",
    "        for i in range(n):A.append(s[(i+k)%n])\n",
    "        return ''.join(A)"
   ]
  },
  {
   "cell_type": "markdown",
   "id": "f6f808a3",
   "metadata": {},
   "source": [
    "### 100328. Generate Binary Strings Without Adjacent Zeros"
   ]
  },
  {
   "cell_type": "markdown",
   "id": "0f29dfc3",
   "metadata": {},
   "source": [
    "You are given a positive integer n.\r\n",
    "\r\n",
    "A binary string x is valid if all substrings of x of length 2 contain at least one \"1\".\r\n",
    "\r\n",
    "Return all valid strings with length n, in any order.ments."
   ]
  },
  {
   "cell_type": "code",
   "execution_count": 3,
   "id": "1acbece4",
   "metadata": {},
   "outputs": [],
   "source": [
    "class Solution:\n",
    "    def validStrings(self, n: int) -> List[str]:\n",
    "        if n == 1:\n",
    "            return [\"0\", \"1\"]\n",
    "        if n == 2:\n",
    "            return [\"01\", \"10\", \"11\"]\n",
    "\n",
    "        res = []\n",
    "        def dfs(s):\n",
    "            if len(s) == n:\n",
    "                res.append(s)\n",
    "                return\n",
    "            if s[-1] == \"0\":\n",
    "                dfs(s + \"1\")\n",
    "            else:\n",
    "                dfs(s + \"0\")\n",
    "                dfs(s + \"1\")\n",
    "\n",
    "        dfs(\"1\")\n",
    "        dfs(\"0\")\n",
    "        return res"
   ]
  },
  {
   "cell_type": "markdown",
   "id": "0c961844",
   "metadata": {},
   "source": [
    "### 100359. Count Submatrices With Equal Frequency of X and Y"
   ]
  },
  {
   "cell_type": "markdown",
   "id": "7e79b267",
   "metadata": {},
   "source": [
    "Given a 2D character matrix grid, where grid[i][j] is either 'X', 'Y', or '.', return the number of submatrices that contains:\r\n",
    "grid[0][, ]\r\n",
    "an equal frequency of 'X' and ' '.\r\n",
    "at least one 'X'.ums."
   ]
  },
  {
   "cell_type": "code",
   "execution_count": 4,
   "id": "1bf1a603",
   "metadata": {},
   "outputs": [],
   "source": [
    "class Solution:\n",
    "    def numberOfSubmatrices(self, g: List[List[str]]) -> int:\n",
    "        r, c = len(g), len(g[0])\n",
    "        dx = [[0] * (c + 1) for _ in range(r + 1)]\n",
    "        dy = [[0] * (c + 1) for _ in range(r + 1)]\n",
    "        \n",
    "        for i in range(r):\n",
    "            for j in range(c):\n",
    "                if g[i][j] == 'X':dx[i+1][j+1] += 1\n",
    "                elif g[i][j] == 'Y':dy[i+1][j+1] += 1\n",
    "        \n",
    "        for i in range(1, r + 1):\n",
    "            for j in range(1, c + 1):\n",
    "                dx[i][j] += dx[i-1][j] + dx[i][j-1] - dx[i-1][j-1]\n",
    "                dy[i][j] += dy[i-1][j] + dy[i][j-1] - dy[i-1][j-1]\n",
    "        \n",
    "        res = 0\n",
    "        for i in range(1, r + 1):\n",
    "            for j in range(1, c + 1):\n",
    "                if dx[i][j] == dy[i][j] and dx[i][j] > 0:res += 1\n",
    "        \n",
    "        return res"
   ]
  },
  {
   "cell_type": "markdown",
   "id": "b889594c",
   "metadata": {},
   "source": [
    "### 100350. Construct String with Minimum Cost"
   ]
  },
  {
   "cell_type": "markdown",
   "id": "3752d476",
   "metadata": {},
   "source": [
    "You are given a string target, an array of strings words, and an integer array costs, both arrays of the same length.\r\n",
    "\r\n",
    "Imagine an empty string s.\r\n",
    "\r\n",
    "You can perform the following operation any number of times (including zero):\r\n",
    "\r\n",
    "Choose an index i in the range [0, words.length - 1].\r\n",
    "Append words[i] to s.\r\n",
    "The cost of operation is costs[i].\r\n",
    "Return the minimum cost to make s equal to target. If it's not possible, return -1. tree."
   ]
  },
  {
   "cell_type": "code",
   "execution_count": 5,
   "id": "ae2343ed",
   "metadata": {},
   "outputs": [],
   "source": [
    "class Solution:\n",
    "    def minimumCost(self, t: str, w: List[str], c: List[int]) -> int:\n",
    "        M,n,m={},len(t),len(w)\n",
    "        T=[float('inf')]*(n+1)\n",
    "        for i,v in enumerate(w):M[v]=min(M.get(v,float('inf')),c[i])\n",
    "        T[0]=0\n",
    "        for i in range(1,n+1):\n",
    "            for w in M:\n",
    "                if i>=len(w) and t[i-len(w):i]==w:T[i]=min(T[i],T[i-len(w)]+M[w])\n",
    "        return T[n] if T[n]!=float('inf') else -1"
   ]
  },
  {
   "cell_type": "code",
   "execution_count": null,
   "id": "85cb02fa-59df-48c8-9d51-2fb734d6632f",
   "metadata": {},
   "outputs": [],
   "source": []
  }
 ],
 "metadata": {
  "kernelspec": {
   "display_name": "Python 3 (ipykernel)",
   "language": "python",
   "name": "python3"
  },
  "language_info": {
   "codemirror_mode": {
    "name": "ipython",
    "version": 3
   },
   "file_extension": ".py",
   "mimetype": "text/x-python",
   "name": "python",
   "nbconvert_exporter": "python",
   "pygments_lexer": "ipython3",
   "version": "3.11.7"
  }
 },
 "nbformat": 4,
 "nbformat_minor": 5
}
