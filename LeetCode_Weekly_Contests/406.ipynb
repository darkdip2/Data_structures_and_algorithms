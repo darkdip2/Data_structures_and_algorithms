{
 "cells": [
  {
   "cell_type": "code",
   "execution_count": 1,
   "id": "d3585196-da5f-4a7b-97bd-aa773c0ce33e",
   "metadata": {},
   "outputs": [],
   "source": [
    "from typing import List, Optional"
   ]
  },
  {
   "cell_type": "markdown",
   "id": "75d8c25b",
   "metadata": {},
   "source": [
    "### 100352. Lexicographically Smallest String After a Swap"
   ]
  },
  {
   "cell_type": "markdown",
   "id": "f3840e61",
   "metadata": {},
   "source": [
    "Given a string s containing only digits, return the lexicographically smallest string that can be obtained after swapping adjacent digits in s with the same parity at most once.\n",
    "\n",
    "Digits have the same parity if both are odd or both are even. For example, 5 and 9, as well as 2 and 4, have the same parity, while 6 and 9 do not.ed."
   ]
  },
  {
   "cell_type": "code",
   "execution_count": 2,
   "id": "8aed1a64",
   "metadata": {},
   "outputs": [],
   "source": [
    "class Solution:\n",
    "    def getSmallestString(self, s: str) -> str:\n",
    "        A=list(s)\n",
    "        for L in range(len(s)-1):\n",
    "            if int(s[L])%2==int(s[L+1])%2 and int(s[L])>int(s[L+1]):\n",
    "                A[L],A[L+1]=A[L+1],A[L]\n",
    "                break\n",
    "        return ''.join(A)"
   ]
  },
  {
   "cell_type": "markdown",
   "id": "f6f808a3",
   "metadata": {},
   "source": [
    "### 100368. Delete Nodes From Linked List Present in Array"
   ]
  },
  {
   "cell_type": "markdown",
   "id": "0f29dfc3",
   "metadata": {},
   "source": [
    "You are given an array of integers nums and the head of a linked list. Return the head of the modified linked list after removing all nodes from the linked list that have a value that exists in nums.nts."
   ]
  },
  {
   "cell_type": "code",
   "execution_count": 3,
   "id": "1acbece4",
   "metadata": {},
   "outputs": [],
   "source": [
    "class ListNode:\n",
    "    def __init__(self, val=0, next=None):\n",
    "        self.val = val\n",
    "        self.next = next\n",
    "\n",
    "\n",
    "class Solution:\n",
    "    def modifiedList(self, a: List[int], h: Optional[ListNode]) -> Optional[ListNode]:\n",
    "        s = set(a)\n",
    "        d = ListNode(0)\n",
    "        d.next = h\n",
    "        p = d\n",
    "        while p.next:\n",
    "            if p.next.val in s:\n",
    "                p.next = p.next.next\n",
    "            else:\n",
    "                p = p.next\n",
    "        return d.next"
   ]
  },
  {
   "cell_type": "markdown",
   "id": "0c961844",
   "metadata": {},
   "source": [
    "### 100367. Minimum Cost for Cutting Cake II"
   ]
  },
  {
   "cell_type": "markdown",
   "id": "7e79b267",
   "metadata": {},
   "source": [
    "There is an m x n cake that needs to be cut into 1 x 1 pieces.\n",
    "\n",
    "You are given integers m, n, and two arrays:\n",
    "\n",
    "horizontalCut of size m - 1, where horizontalCut[i] represents the cost to cut along the horizontal line i.\n",
    "verticalCut of size n - 1, where verticalCut[j] represents the cost to cut along the vertical line j.\n",
    "In one operation, you can choose any piece of cake that is not yet a 1 x 1 square and perform one of the following cuts:\n",
    "\n",
    "Cut along a horizontal line i at a cost of horizontalCut[i].\n",
    "Cut along a vertical line j at a cost of verticalCut[j].\n",
    "After the cut, the piece of cake is divided into two distinct pieces.\n",
    "\n",
    "The cost of a cut depends only on the initial cost of the line and does not change.\n",
    "\n",
    "Return the minimum total cost to cut the entire cake into 1 x 1 pieces.ms."
   ]
  },
  {
   "cell_type": "code",
   "execution_count": 4,
   "id": "1bf1a603",
   "metadata": {},
   "outputs": [],
   "source": [
    "class Solution:\n",
    "    def minimumCost(self, m: int, n: int, horizontalCut: List[int], verticalCut: List[int]) -> int:\n",
    "        h = horizontalCut\n",
    "        v = verticalCut\n",
    "        \n",
    "        h.sort(reverse=True)\n",
    "        v.sort(reverse=True)\n",
    "        \n",
    "        hi = 0\n",
    "        vi = 0\n",
    "        \n",
    "        h_count = 1\n",
    "        v_count = 1\n",
    "        \n",
    "        cost = 0\n",
    "        \n",
    "        while hi < len(h) and vi < len(v):\n",
    "            if h[hi] >= v[vi]:\n",
    "                cost += h[hi] * v_count\n",
    "                h_count += 1\n",
    "                hi += 1\n",
    "            else:\n",
    "                cost += v[vi] * h_count\n",
    "                v_count += 1\n",
    "                vi += 1\n",
    "        \n",
    "        while hi < len(h):\n",
    "            cost += h[hi] * v_count\n",
    "            hi += 1\n",
    "        \n",
    "        while vi < len(v):\n",
    "            cost += v[vi] * h_count\n",
    "            vi += 1\n",
    "        \n",
    "        return cost"
   ]
  },
  {
   "cell_type": "code",
   "execution_count": null,
   "id": "85cb02fa-59df-48c8-9d51-2fb734d6632f",
   "metadata": {},
   "outputs": [],
   "source": []
  }
 ],
 "metadata": {
  "kernelspec": {
   "display_name": "Python 3 (ipykernel)",
   "language": "python",
   "name": "python3"
  },
  "language_info": {
   "codemirror_mode": {
    "name": "ipython",
    "version": 3
   },
   "file_extension": ".py",
   "mimetype": "text/x-python",
   "name": "python",
   "nbconvert_exporter": "python",
   "pygments_lexer": "ipython3",
   "version": "3.11.7"
  }
 },
 "nbformat": 4,
 "nbformat_minor": 5
}
