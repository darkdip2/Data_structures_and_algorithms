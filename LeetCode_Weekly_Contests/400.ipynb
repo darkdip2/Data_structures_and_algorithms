{
 "cells": [
  {
   "cell_type": "markdown",
   "id": "75d8c25b",
   "metadata": {},
   "source": [
    "### 100307. Minimum Number of Chairs in a Waiting Room"
   ]
  },
  {
   "cell_type": "markdown",
   "id": "f3840e61",
   "metadata": {},
   "source": [
    "You are given a string s. Simulate events at each second i:\n",
    "\n",
    "If s[i] == 'E', a person enters the waiting room and takes one of the chairs in it.\n",
    "If s[i] == 'L', a person leaves the waiting room, freeing up a chair.\n",
    "Return the minimum number of chairs needed so that a chair is available for every person who enters the waiting room given that it is initially empty."
   ]
  },
  {
   "cell_type": "code",
   "execution_count": null,
   "id": "8aed1a64",
   "metadata": {},
   "outputs": [],
   "source": [
    "class Solution:\n",
    "    def minimumChairs(self, s: str) -> int:\n",
    "        ans,cnt=0,0\n",
    "        for i in s:\n",
    "            if i=='E':cnt+=1\n",
    "            else:cnt-=1\n",
    "            ans=max(cnt,ans)\n",
    "        return ans"
   ]
  },
  {
   "cell_type": "markdown",
   "id": "f6f808a3",
   "metadata": {},
   "source": [
    "### 100311. Count Days Without Meetings"
   ]
  },
  {
   "cell_type": "markdown",
   "id": "0f29dfc3",
   "metadata": {},
   "source": [
    "You are given a positive integer days representing the total number of days an employee is available for work (starting from day 1). You are also given a 2D array meetings of size n where, meetings[i] = [start_i, end_i] represents the starting and ending days of meeting i (inclusive).\n",
    "\n",
    "Return the count of days when the employee is available for work but no meetings are scheduled.\n",
    "\n",
    "Note: The meetings may overlap."
   ]
  },
  {
   "cell_type": "code",
   "execution_count": 1,
   "id": "1acbece4",
   "metadata": {},
   "outputs": [],
   "source": [
    "from typing import List\n",
    "\n",
    "class Solution:\n",
    "    def countDays(self, days: int, meetings: List[List[int]]) -> int:\n",
    "        meetings.sort(key=lambda x:(x[0],x[1]))\n",
    "        M,ans=[meetings[0]],0\n",
    "        for [i,j] in meetings[1:]:\n",
    "            if M[-1][1]<i:M.append([i,j])\n",
    "            else:M[-1][1]=max(M[-1][1],j)\n",
    "        for [i,j] in M:ans+=j-i+1\n",
    "        return days-ans"
   ]
  },
  {
   "cell_type": "markdown",
   "id": "0c961844",
   "metadata": {},
   "source": [
    "### 100322. Lexicographically Minimum String After Removing Stars"
   ]
  },
  {
   "cell_type": "markdown",
   "id": "7e79b267",
   "metadata": {},
   "source": [
    "You are given a string s. It may contain any number of '*' characters. Your task is to remove all '*' characters.\n",
    "\n",
    "While there is a '*', do the following operation:\n",
    "\n",
    "Delete the leftmost '*' and the smallest non-'*' character to its left. If there are several smallest characters, you can delete any of them.\n",
    "Return the lexicographically smallest resulting string after removing all '*' characters."
   ]
  },
  {
   "cell_type": "code",
   "execution_count": 2,
   "id": "1bf1a603",
   "metadata": {},
   "outputs": [],
   "source": [
    "import heapq\n",
    "class Solution:\n",
    "    def clearStars(self, s: str) -> str:\n",
    "        H,ans=[],''\n",
    "        for i in range(len(s)):\n",
    "            if s[i]=='*':val,index,char=heapq.heappop(H)\n",
    "            else:heapq.heappush(H,(ord(s[i])-ord('a'),-i,s[i]))\n",
    "        H.sort(key=lambda x:(-x[1]))\n",
    "        for _,_,char in H:ans+=char\n",
    "        return ans"
   ]
  },
  {
   "cell_type": "markdown",
   "id": "b889594c",
   "metadata": {},
   "source": [
    "### 100315. Find Subarray With Bitwise AND Closest to K"
   ]
  },
  {
   "cell_type": "markdown",
   "id": "3752d476",
   "metadata": {},
   "source": [
    "You are given an array nums and an integer k. You need to find a subarray of nums such that the absolute difference between k and the bitwise AND of the subarray elements is as small as possible. In other words, select a subarray nums[l..r] such that |k - (nums[l] AND nums[l + 1] ... AND nums[r])| is minimum.\n",
    "\n",
    "Return the minimum possible value of the absolute difference.\n",
    "\n",
    "A subarray is a contiguous non-empty sequence of elements within an array."
   ]
  },
  {
   "cell_type": "code",
   "execution_count": 3,
   "id": "ae2343ed",
   "metadata": {},
   "outputs": [],
   "source": [
    "class Solution:\n",
    "    def minimumDifference(self, nums: List[int], k: int) -> int:\n",
    "        zeros = [0] * 32\n",
    "\n",
    "        def a(x):\n",
    "            for i in range(32):\n",
    "                if ((x >> i) & 1) == 0:zeros[i] += 1\n",
    "        def b(x):\n",
    "            for i in range(32):\n",
    "                if ((x >> i) & 1) == 0:zeros[i] -= 1\n",
    "        def c():\n",
    "            res = 0\n",
    "            for i in range(32):\n",
    "                if zeros[i] == 0:res ^= (1 << i)\n",
    "            return res\n",
    "\n",
    "        left,n,ans = 0,len(nums),float('inf')\n",
    "\n",
    "        for right in range(n):\n",
    "            a(nums[right])\n",
    "            x = c()\n",
    "            ans = min(ans, abs(x - k))\n",
    "            while left < right and x < k:\n",
    "                b(nums[left])\n",
    "                left += 1\n",
    "                x = c()\n",
    "                ans = min(ans, abs(x - k))\n",
    "\n",
    "        return ans"
   ]
  },
  {
   "cell_type": "code",
   "execution_count": null,
   "id": "aa308805",
   "metadata": {},
   "outputs": [],
   "source": []
  }
 ],
 "metadata": {
  "kernelspec": {
   "display_name": "Python 3 (ipykernel)",
   "language": "python",
   "name": "python3"
  },
  "language_info": {
   "codemirror_mode": {
    "name": "ipython",
    "version": 3
   },
   "file_extension": ".py",
   "mimetype": "text/x-python",
   "name": "python",
   "nbconvert_exporter": "python",
   "pygments_lexer": "ipython3",
   "version": "3.11.5"
  }
 },
 "nbformat": 4,
 "nbformat_minor": 5
}
