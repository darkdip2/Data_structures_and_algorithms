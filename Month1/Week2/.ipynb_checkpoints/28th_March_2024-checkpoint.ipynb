{
 "cells": [
  {
   "cell_type": "markdown",
   "id": "e640218a",
   "metadata": {},
   "source": [
    "## Q.1"
   ]
  },
  {
   "cell_type": "markdown",
   "id": "90e9f2bd",
   "metadata": {},
   "source": [
    "### Minimum Area Rectangle\n",
    "\n",
    "You are given an array of points in the X-Y plane points where points[i] = [xi, yi].\n",
    "\n",
    "Return the minimum area of a rectangle formed from these points, with sides parallel to the X and Y axes. If there is not any such rectangle, return 0."
   ]
  },
  {
   "cell_type": "markdown",
   "id": "700db869",
   "metadata": {},
   "source": [
    "- [LeetCode](https://leetcode.com/problems/minimum-area-rectangle/description/)"
   ]
  },
  {
   "cell_type": "markdown",
   "id": "6d600b98",
   "metadata": {},
   "source": [
    "## Intuition"
   ]
  },
  {
   "cell_type": "markdown",
   "id": "012b718d",
   "metadata": {},
   "source": [
    "- Fix two diagonal points and use geometry and set to check rectangle criteria.\n",
    "- Calculate the minimum area."
   ]
  },
  {
   "cell_type": "markdown",
   "id": "4c40e6b5",
   "metadata": {},
   "source": [
    "## Solution"
   ]
  },
  {
   "cell_type": "code",
   "execution_count": 1,
   "id": "008aaedf",
   "metadata": {},
   "outputs": [],
   "source": [
    "class Solution:\n",
    "    def minAreaRect(self, points: List[List[int]]) -> int:\n",
    "        S,ans=set(),float('inf')\n",
    "        for x,y in points:\n",
    "            for xx,yy in S:\n",
    "                if (xx,y) in S and (x,yy) in S:\n",
    "                    ans=min(ans,(abs(xx-x)*abs(y-yy))) #Geometry\n",
    "            S.add((x,y))\n",
    "        return 0 if ans==float('inf') else ans"
   ]
  },
  {
   "cell_type": "markdown",
   "id": "3d6da544",
   "metadata": {},
   "source": [
    "## Q.2"
   ]
  },
  {
   "cell_type": "markdown",
   "id": "213e2481",
   "metadata": {},
   "source": [
    "### Two Sum\n",
    "\n",
    "Given an array of integers nums and an integer target, return indices of the two numbers such that they add up to target.\n",
    "You may assume that each input would have exactly one solution, and you may not use the same element twice.\n",
    "You can return the answer in any order."
   ]
  },
  {
   "cell_type": "markdown",
   "id": "87b15e2a",
   "metadata": {},
   "source": [
    "- [LeetCode](https://leetcode.com/problems/two-sum/description/)\n",
    "- [InterviewBit](https://www.interviewbit.com/problems/2-sum/)"
   ]
  },
  {
   "cell_type": "markdown",
   "id": "2ae4b796",
   "metadata": {},
   "source": [
    "## Intuition"
   ]
  },
  {
   "cell_type": "markdown",
   "id": "71b5ea49",
   "metadata": {},
   "source": [
    "- Use hashmap to check whether target-current was already observed or not."
   ]
  },
  {
   "cell_type": "markdown",
   "id": "065b6112",
   "metadata": {},
   "source": [
    "## Solution"
   ]
  },
  {
   "cell_type": "code",
   "execution_count": 3,
   "id": "fb0a6e59",
   "metadata": {},
   "outputs": [],
   "source": [
    "class Solution:\n",
    "    def twoSum(self, nums,target):\n",
    "        M={}\n",
    "        for i,v in enumerate(nums):\n",
    "            if target-v in M:\n",
    "                return [M[target-v]+1,i+1]\n",
    "            if v not in M:M[v]=i\n",
    "        return []"
   ]
  },
  {
   "cell_type": "markdown",
   "id": "f747ce46",
   "metadata": {},
   "source": [
    "## Q.3"
   ]
  },
  {
   "cell_type": "markdown",
   "id": "fd4e556f",
   "metadata": {},
   "source": [
    "### 4Sum\n",
    "\n",
    "Given an array nums of n integers, return an array of all the unique quadruplets [nums[a], nums[b], nums[c], nums[d]] such that:\n",
    "0 <= a, b, c, d < n\n",
    "a, b, c, and d are distinct.\n",
    "nums[a] + nums[b] + nums[c] + nums[d] == target\n",
    "You may return the answer in any order."
   ]
  },
  {
   "cell_type": "markdown",
   "id": "0c8cb76e",
   "metadata": {},
   "source": [
    "- [LeetCode](https://leetcode.com/problems/4sum/description/)\n",
    "- [Interviewbit](https://www.interviewbit.com/problems/4-sum/)"
   ]
  },
  {
   "cell_type": "markdown",
   "id": "337aa475",
   "metadata": {},
   "source": [
    "## Intuition"
   ]
  },
  {
   "cell_type": "markdown",
   "id": "5a5b79e0",
   "metadata": {},
   "source": [
    "- Sort the array and use 2 pointers.\n",
    "- Store the quadruplets in set to avoid duplicates."
   ]
  },
  {
   "cell_type": "markdown",
   "id": "7b404a12",
   "metadata": {},
   "source": [
    "## Solution"
   ]
  },
  {
   "cell_type": "code",
   "execution_count": 5,
   "id": "530ded1e",
   "metadata": {},
   "outputs": [],
   "source": [
    "class Solution:\n",
    "    def fourSum(self, nums: List[int], target: int) -> List[List[int]]:\n",
    "        nums.sort()\n",
    "        A,S,n=[],set(),len(nums)\n",
    "        for i in range(n-3):\n",
    "            for j in range(i+1,n-2):\n",
    "                L,r=j+1,n-1\n",
    "                while L<r:\n",
    "                    s=nums[i]+nums[j]+nums[L]+nums[r]\n",
    "                    if s<target:L+=1\n",
    "                    elif s>target:r-=1\n",
    "                    else:\n",
    "                        if (nums[i],nums[j],nums[L],nums[r]) not in S:\n",
    "                            A.append([nums[i],nums[j],nums[L],nums[r]])\n",
    "                            S.add((nums[i],nums[j],nums[L],nums[r]))\n",
    "                        L+=1\n",
    "        return A"
   ]
  },
  {
   "cell_type": "markdown",
   "id": "723e13af",
   "metadata": {},
   "source": [
    "## Q.4"
   ]
  },
  {
   "cell_type": "markdown",
   "id": "12d75d5c",
   "metadata": {},
   "source": [
    "###  Longest Subarray Length\n",
    "\n",
    "Given an integer array A of size N containing 0's and 1's only.\n",
    "You need to find the length of the longest subarray having count of 1’s one more than count of 0’s.\n",
    "Note: In the subarray count of 1's should be one more than the count of 0's."
   ]
  },
  {
   "cell_type": "markdown",
   "id": "1d536136",
   "metadata": {},
   "source": [
    "- [Interviewbit](https://www.interviewbit.com/problems/longest-subarray-length/)"
   ]
  },
  {
   "cell_type": "markdown",
   "id": "87831364",
   "metadata": {},
   "source": [
    "## Intuition"
   ]
  },
  {
   "cell_type": "markdown",
   "id": "5260b1b0",
   "metadata": {},
   "source": [
    "- Same as finding longest subarray with sum 1 when we take 1 as +1 and 0 as -1."
   ]
  },
  {
   "cell_type": "markdown",
   "id": "1044a54a",
   "metadata": {},
   "source": [
    "## Solution"
   ]
  },
  {
   "cell_type": "code",
   "execution_count": 1,
   "id": "c3e0ee02",
   "metadata": {},
   "outputs": [],
   "source": [
    "class Solution:\n",
    "    # @param A : list of integers\n",
    "    # @return an integer\n",
    "    def solve(self, A):\n",
    "        M,L,s={},0,0\n",
    "        for i in range(len(A)):\n",
    "            if A[i]==1:s+=1\n",
    "            else:s-=1\n",
    "            if s==1:L=max(i+1,L)\n",
    "            elif s not in M:M[s]=i\n",
    "            if s-1 in M:L=max(i-M[s-1],L)\n",
    "        return L"
   ]
  },
  {
   "cell_type": "markdown",
   "id": "bff4bd73",
   "metadata": {},
   "source": [
    "## Q.5"
   ]
  },
  {
   "cell_type": "markdown",
   "id": "47b41b40",
   "metadata": {},
   "source": [
    "###  First Repeating element\n",
    "\n",
    "Given an integer array A of size N, find the first repeating element in it.\n",
    "We need to find the element that occurs more than once and whose index of first occurrence is smallest.\n",
    "If there is no repeating element, return -1."
   ]
  },
  {
   "cell_type": "markdown",
   "id": "9eb37c6c",
   "metadata": {},
   "source": [
    "- [Interviewbit](https://www.interviewbit.com/problems/first-repeating-element/)"
   ]
  },
  {
   "cell_type": "markdown",
   "id": "3ec3f0e8",
   "metadata": {},
   "source": [
    "## Intuition"
   ]
  },
  {
   "cell_type": "markdown",
   "id": "e32e47ee",
   "metadata": {},
   "source": [
    "- Store the frequencies of elements in map and reiterate to get the first repeating number."
   ]
  },
  {
   "cell_type": "markdown",
   "id": "119ab698",
   "metadata": {},
   "source": [
    "## Solution"
   ]
  },
  {
   "cell_type": "code",
   "execution_count": 2,
   "id": "4d3de3f9",
   "metadata": {},
   "outputs": [],
   "source": [
    "from collections import defaultdict\n",
    "class Solution:\n",
    "    # @param A : list of integers\n",
    "    # @return an integer\n",
    "    def solve(self, A):\n",
    "        M=defaultdict(int)\n",
    "        for i in A:M[i]+=1\n",
    "        for i in A:\n",
    "            if M[i]>1:return i \n",
    "        return -1"
   ]
  },
  {
   "cell_type": "markdown",
   "id": "065ad85c",
   "metadata": {},
   "source": [
    "## Q.6"
   ]
  },
  {
   "cell_type": "markdown",
   "id": "1fd48f2d",
   "metadata": {},
   "source": [
    "###  Group Anagrams\n",
    "\n",
    "Given an array of strings strs, group the anagrams together. You can return the answer in any order.\n",
    "\n",
    "An Anagram is a word or phrase formed by rearranging the letters of a different word or phrase, typically using all the original letters exactly once."
   ]
  },
  {
   "cell_type": "markdown",
   "id": "49b48993",
   "metadata": {},
   "source": [
    "- [LeetCode](https://leetcode.com/problems/group-anagrams/description/)\n",
    "- [Interviewbit](https://www.interviewbit.com/problems/anagrams/)"
   ]
  },
  {
   "cell_type": "markdown",
   "id": "5eaae2b3",
   "metadata": {},
   "source": [
    "## Intuition"
   ]
  },
  {
   "cell_type": "markdown",
   "id": "b4c3e6ac",
   "metadata": {},
   "source": [
    "- All anagrams will have same string when sorted.\n",
    "- Use that key to group them in a map."
   ]
  },
  {
   "cell_type": "markdown",
   "id": "2908e901",
   "metadata": {},
   "source": [
    "## Solution"
   ]
  },
  {
   "cell_type": "code",
   "execution_count": 6,
   "id": "e43a8e58",
   "metadata": {},
   "outputs": [],
   "source": [
    "from collections import defaultdict\n",
    "class Solution:\n",
    "    def groupAnagrams(self, strs: List[str]) -> List[List[str]]:\n",
    "        M,a=defaultdict(list),[]\n",
    "        for s in strs:\n",
    "            k=''.join(sorted(list(s)))\n",
    "            M[k].append(s)\n",
    "        for i in M:a.append(M[i])\n",
    "        return a"
   ]
  },
  {
   "cell_type": "markdown",
   "id": "4d5be5c5",
   "metadata": {},
   "source": [
    "## Q.7"
   ]
  },
  {
   "cell_type": "markdown",
   "id": "d375a6f6",
   "metadata": {},
   "source": [
    "###  Two Out of Three\n",
    "\n",
    "Given three integer arrays nums1, nums2, and nums3, return a distinct array containing all the values that are present in at least two out of the three arrays. You may return the values in any order."
   ]
  },
  {
   "cell_type": "markdown",
   "id": "5e7c0975",
   "metadata": {},
   "source": [
    "- [LeetCode](https://leetcode.com/problems/two-out-of-three/description/)\n",
    "- [Interviewbit](https://www.interviewbit.com/problems/two-out-of-three/)"
   ]
  },
  {
   "cell_type": "markdown",
   "id": "8b8de2cf",
   "metadata": {},
   "source": [
    "## Intuition"
   ]
  },
  {
   "cell_type": "markdown",
   "id": "24c4b084",
   "metadata": {},
   "source": [
    "- Map each value with the array numbers.\n",
    "- Find if the set contains more than or equal to 2 mappings."
   ]
  },
  {
   "cell_type": "markdown",
   "id": "6adf016a",
   "metadata": {},
   "source": [
    "## Solution"
   ]
  },
  {
   "cell_type": "code",
   "execution_count": null,
   "id": "a57642a4",
   "metadata": {},
   "outputs": [],
   "source": [
    "from collections import defaultdict\n",
    "class Solution:\n",
    "    def twoOutOfThree(self, nums1: List[int], nums2: List[int], nums3: List[int]) -> List[int]:\n",
    "        M=defaultdict(set)\n",
    "        A=[]\n",
    "        for i in nums1:M[i].add(1)\n",
    "        for j in nums2:M[j].add(2)\n",
    "        for k in nums3:M[k].add(3)\n",
    "        for i in M:\n",
    "            if len(M[i])>=2:A.append(i)\n",
    "        return A"
   ]
  },
  {
   "cell_type": "markdown",
   "id": "6bd460ff",
   "metadata": {},
   "source": [
    "## Coding Ninjas Problem of the Day"
   ]
  },
  {
   "cell_type": "markdown",
   "id": "66f42200",
   "metadata": {},
   "source": [
    "## [Easy](https://www.naukri.com/code360/problems/queue-using-two-stacks_1170062)"
   ]
  },
  {
   "cell_type": "code",
   "execution_count": 9,
   "id": "e4d55036",
   "metadata": {},
   "outputs": [],
   "source": [
    "class Queue:\n",
    "    def __init__(self):\n",
    "        self.stk1 = []  \n",
    "        self.stk2 = []  \n",
    "\n",
    "    def enqueue(self, X):\n",
    "        self.stk1.append(X)\n",
    "        return True\n",
    "\n",
    "    def dequeue(self):\n",
    "        if not self.stk1 and not self.stk2:  \n",
    "            return -1\n",
    "\n",
    "        if not self.stk2:  \n",
    "            while self.stk1:\n",
    "                self.stk2.append(self.stk1.pop())\n",
    "\n",
    "        return self.stk2.pop() if self.stk2 else -1"
   ]
  },
  {
   "cell_type": "markdown",
   "id": "b8494e61",
   "metadata": {},
   "source": [
    "## [Moderate](https://www.naukri.com/code360/problems/internship-experience_1381937)"
   ]
  },
  {
   "cell_type": "code",
   "execution_count": 3,
   "id": "f751f333",
   "metadata": {},
   "outputs": [],
   "source": [
    "from os import *\n",
    "from sys import *\n",
    "from collections import *\n",
    "from math import *\n",
    "\n",
    "def internshipExp(d, k, n, minExp, expGained):\n",
    "    Id = [[minExp[i], expGained[i]] for i in range(n)]\n",
    "    Id.sort(key=lambda x: -x[1])\n",
    "    exp, i = d, 0\n",
    "    while i < k:\n",
    "        found = False\n",
    "        for j in range(n):\n",
    "            if Id[j][0] <= exp:\n",
    "                exp += Id[j][1]\n",
    "                i += 1\n",
    "                Id[j][0] = float('inf')\n",
    "                found = True\n",
    "                break\n",
    "        if not found:\n",
    "            return exp\n",
    "    return exp"
   ]
  },
  {
   "cell_type": "markdown",
   "id": "e5fc51cc",
   "metadata": {},
   "source": [
    "## [Hard](https://www.naukri.com/code360/problems/minimum-cost-tree-from-leaf-nodes_1266047)"
   ]
  },
  {
   "cell_type": "code",
   "execution_count": 4,
   "id": "3348ef19",
   "metadata": {},
   "outputs": [],
   "source": [
    "def minimumCostTreeFromLeafNodes(arr):\n",
    "    S, ans = [float('inf')], 0\n",
    "    for x in arr:\n",
    "        while S[-1] <= x:\n",
    "            T = S.pop()\n",
    "            ans += T * min(S[-1], x)\n",
    "        S.append(x)\n",
    "    while len(S) > 2:\n",
    "        T = S.pop()\n",
    "        ans += T * S[-1]\n",
    "    return ans"
   ]
  },
  {
   "cell_type": "code",
   "execution_count": null,
   "id": "4cf838bb",
   "metadata": {},
   "outputs": [],
   "source": []
  }
 ],
 "metadata": {
  "kernelspec": {
   "display_name": "Python 3 (ipykernel)",
   "language": "python",
   "name": "python3"
  },
  "language_info": {
   "codemirror_mode": {
    "name": "ipython",
    "version": 3
   },
   "file_extension": ".py",
   "mimetype": "text/x-python",
   "name": "python",
   "nbconvert_exporter": "python",
   "pygments_lexer": "ipython3",
   "version": "3.11.5"
  }
 },
 "nbformat": 4,
 "nbformat_minor": 5
}
