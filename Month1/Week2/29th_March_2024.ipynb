{
 "cells": [
  {
   "cell_type": "markdown",
   "id": "e640218a",
   "metadata": {},
   "source": [
    "## Q.1"
   ]
  },
  {
   "cell_type": "markdown",
   "id": "90e9f2bd",
   "metadata": {},
   "source": [
    "### Repeated Substring Pattern\n",
    "\n",
    "Given a string s, check if it can be constructed by taking a substring of it and appending multiple copies of the substring together."
   ]
  },
  {
   "cell_type": "markdown",
   "id": "700db869",
   "metadata": {},
   "source": [
    "- [LeetCode](https://leetcode.com/problems/repeated-substring-pattern/description/)"
   ]
  },
  {
   "cell_type": "markdown",
   "id": "6d600b98",
   "metadata": {},
   "source": [
    "## Intuition"
   ]
  },
  {
   "cell_type": "markdown",
   "id": "012b718d",
   "metadata": {},
   "source": [
    "- Check if the substring from start*(n//index) is equal to s."
   ]
  },
  {
   "cell_type": "markdown",
   "id": "4c40e6b5",
   "metadata": {},
   "source": [
    "## Solution"
   ]
  },
  {
   "cell_type": "code",
   "execution_count": 1,
   "id": "008aaedf",
   "metadata": {},
   "outputs": [],
   "source": [
    "class Solution:\n",
    "    def repeatedSubstringPattern(self, s: str) -> bool:\n",
    "        n=len(s)\n",
    "        for i in range(1,n):\n",
    "            if s[:i]*(n//i)==s:return True\n",
    "        return False"
   ]
  },
  {
   "cell_type": "markdown",
   "id": "3d6da544",
   "metadata": {},
   "source": [
    "## Q.2"
   ]
  },
  {
   "cell_type": "markdown",
   "id": "213e2481",
   "metadata": {},
   "source": [
    "### Count and Say\n",
    "\n",
    "The count-and-say sequence is a sequence of digit strings defined by the recursive formula:\n",
    "\n",
    "countAndSay(1) = \"1\"\n",
    "countAndSay(n) is the way you would \"say\" the digit string from countAndSay(n-1), which is then converted into a different digit string.\n",
    "To determine how you \"say\" a digit string, split it into the minimal number of substrings such that each substring contains exactly one unique digit. Then for each substring, say the number of digits, then say the digit. Finally, concatenate every said digit.\n",
    "\n",
    "For example, the saying and conversion for digit string \"3322251\":"
   ]
  },
  {
   "cell_type": "markdown",
   "id": "87b15e2a",
   "metadata": {},
   "source": [
    "- [LeetCode](https://leetcode.com/problems/two-sum/description/)\n",
    "- [InterviewBit](https://www.interviewbit.com/problems/count-and-say/)"
   ]
  },
  {
   "cell_type": "markdown",
   "id": "2ae4b796",
   "metadata": {},
   "source": [
    "## Intuition"
   ]
  },
  {
   "cell_type": "markdown",
   "id": "71b5ea49",
   "metadata": {},
   "source": [
    "- Use Recursion and create a string as per requirement."
   ]
  },
  {
   "cell_type": "markdown",
   "id": "065b6112",
   "metadata": {},
   "source": [
    "## Solution"
   ]
  },
  {
   "cell_type": "code",
   "execution_count": 3,
   "id": "fb0a6e59",
   "metadata": {},
   "outputs": [],
   "source": [
    "class Solution:\n",
    "    def countAndSay(self, n: int) -> str:\n",
    "        def Rec(i):\n",
    "            if i==1:return '1'\n",
    "            S,j,s='',0,Rec(i-1)\n",
    "            while j<len(s):\n",
    "                cnt=0\n",
    "                while j+cnt<len(s) and s[j+cnt]==s[j]:\n",
    "                    cnt+=1\n",
    "                S+=str(cnt)+s[j]\n",
    "                j=j+cnt\n",
    "            return S\n",
    "        return Rec(n)"
   ]
  },
  {
   "cell_type": "markdown",
   "id": "7d882746",
   "metadata": {},
   "source": [
    "## KMP"
   ]
  },
  {
   "cell_type": "code",
   "execution_count": null,
   "id": "533332ef",
   "metadata": {},
   "outputs": [],
   "source": [
    "def computeLPSArray(pat):\n",
    "    m = len(pat)\n",
    "    lps = [0] * m\n",
    "    length = 0\n",
    "    i = 1\n",
    "    \n",
    "    while i < m:\n",
    "        if pat[i] == pat[length]:\n",
    "            length += 1\n",
    "            lps[i] = length\n",
    "            i += 1\n",
    "        else:\n",
    "            if length != 0:\n",
    "                length = lps[length - 1]\n",
    "            else:\n",
    "                lps[i] = 0\n",
    "                i += 1\n",
    "    return lps\n",
    "\n",
    "def KMPSearch(txt, pat):\n",
    "    n = len(txt)\n",
    "    m = len(pat)\n",
    "    lps = computeLPSArray(pat)\n",
    "    i = 0  # Index for txt\n",
    "    j = 0  # Index for pat\n",
    "    indices = []\n",
    "\n",
    "    while i < n:\n",
    "        if pat[j] == txt[i]:\n",
    "            i += 1\n",
    "            j += 1\n",
    "\n",
    "            if j == m:\n",
    "                indices.append(i - j)\n",
    "                j = lps[j - 1]\n",
    "        else:\n",
    "            if j != 0:\n",
    "                j = lps[j - 1]\n",
    "            else:\n",
    "                i += 1\n",
    "\n",
    "    return indices"
   ]
  },
  {
   "cell_type": "markdown",
   "id": "6bd460ff",
   "metadata": {},
   "source": [
    "## Coding Ninjas Problem of the Day"
   ]
  },
  {
   "cell_type": "markdown",
   "id": "66f42200",
   "metadata": {},
   "source": [
    "## [Easy](https://www.naukri.com/code360/problems/minimum-difference-of-array_5026699)\n",
    "### Python compiler error"
   ]
  },
  {
   "cell_type": "code",
   "execution_count": 9,
   "id": "e4d55036",
   "metadata": {},
   "outputs": [],
   "source": [
    "def minDiff(n : int, arr : List[int]) -> int:\n",
    "    arr.sort()\n",
    "    ans=float('inf')\n",
    "    for i in range(1,n):\n",
    "        ans=min(ans,arr[i]-arr[i-1])\n",
    "    return ans"
   ]
  },
  {
   "cell_type": "markdown",
   "id": "b8494e61",
   "metadata": {},
   "source": [
    "## [Moderate](https://www.naukri.com/code360/problems/queue-using-stack_799482)"
   ]
  },
  {
   "cell_type": "code",
   "execution_count": 3,
   "id": "f751f333",
   "metadata": {},
   "outputs": [],
   "source": [
    "class Queue:\n",
    "    def __init__(self):\n",
    "        self.in_stack = []\n",
    "        self.out_stack = []\n",
    "\n",
    "    def enQueue(self, val: int) -> None:\n",
    "        self.in_stack.append(val)\n",
    "\n",
    "    def deQueue(self) -> int:\n",
    "        if not self.out_stack:\n",
    "            while self.in_stack:\n",
    "                self.out_stack.append(self.in_stack.pop())\n",
    "        return self.out_stack.pop() if self.out_stack else -1\n",
    "\n",
    "    def peek(self) -> int:\n",
    "        if not self.out_stack:\n",
    "            while self.in_stack:\n",
    "                self.out_stack.append(self.in_stack.pop())\n",
    "        return self.out_stack[-1] if self.out_stack else -1\n",
    "\n",
    "    def isEmpty(self) -> bool:\n",
    "        return not self.in_stack and not self.out_stack"
   ]
  },
  {
   "cell_type": "markdown",
   "id": "e5fc51cc",
   "metadata": {},
   "source": [
    "## [Hard](https://www.naukri.com/code360/problems/partition-a-set-into-two-subsets-such-that-the-difference-of-subset-sums-is-minimum_842494)"
   ]
  },
  {
   "cell_type": "code",
   "execution_count": 4,
   "id": "3348ef19",
   "metadata": {},
   "outputs": [],
   "source": [
    "from typing import List\n",
    "def minSubsetSumDifference(arr, n):\n",
    "    k = sum(arr)\n",
    "    P=[False] * (k + 1)\n",
    "    P[0]=True\n",
    "    P[arr[0]]=True\n",
    "    for i in range(1,n):\n",
    "        c=[False] * (k + 1)\n",
    "        c[0]=True\n",
    "        for j in range(1,k+1):\n",
    "            if arr[i]>j:\n",
    "                c[j]=P[j]\n",
    "            else:\n",
    "                c[j]=P[j-arr[i]] or P[j]\n",
    "        P=c[:]\n",
    "    M = float('inf')\n",
    "    for j in range(k + 1):\n",
    "        if P[j]==True:\n",
    "            diff = abs(j - (k - j))\n",
    "            M = min(M, diff)\n",
    "    return M"
   ]
  },
  {
   "cell_type": "code",
   "execution_count": null,
   "id": "4cf838bb",
   "metadata": {},
   "outputs": [],
   "source": []
  }
 ],
 "metadata": {
  "kernelspec": {
   "display_name": "Python 3 (ipykernel)",
   "language": "python",
   "name": "python3"
  },
  "language_info": {
   "codemirror_mode": {
    "name": "ipython",
    "version": 3
   },
   "file_extension": ".py",
   "mimetype": "text/x-python",
   "name": "python",
   "nbconvert_exporter": "python",
   "pygments_lexer": "ipython3",
   "version": "3.11.5"
  }
 },
 "nbformat": 4,
 "nbformat_minor": 5
}
