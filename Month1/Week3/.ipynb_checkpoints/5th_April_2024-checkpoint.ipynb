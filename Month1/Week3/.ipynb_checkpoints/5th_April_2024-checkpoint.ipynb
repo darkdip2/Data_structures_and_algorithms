{
 "cells": [
  {
   "cell_type": "markdown",
   "id": "d2ffff82",
   "metadata": {},
   "source": [
    "## Q.1"
   ]
  },
  {
   "cell_type": "markdown",
   "id": "2be451c7",
   "metadata": {},
   "source": [
    "### Sliding Window Maximum\n",
    "\n",
    "You are given an array of integers nums, there is a sliding window of size k which is moving from the very left of the array to the very right. You can only see the k numbers in the window. Each time the sliding window moves right by one position.\n",
    "\n",
    "Return the max sliding window."
   ]
  },
  {
   "cell_type": "markdown",
   "id": "b463c5ca",
   "metadata": {},
   "source": [
    "- [LeetCode](https://leetcode.com/problems/sliding-window-maximum/description/)\n",
    "- [Interviewbit](https://www.interviewbit.com/problems/sliding-window-maximum/)"
   ]
  },
  {
   "cell_type": "markdown",
   "id": "c04699b3",
   "metadata": {},
   "source": [
    "## Intuition"
   ]
  },
  {
   "cell_type": "markdown",
   "id": "ff548fba",
   "metadata": {},
   "source": [
    "- Use a deque to store the window of k elements in descending pattern.\n",
    "- pop from rear till current is greater than rear then append index.\n",
    "- Remove the index of elements which is outside the window [<=i-k] using popleft and removing from from front.\n",
    "- if i>=k-1 append the answer which is front of deque to the ans."
   ]
  },
  {
   "cell_type": "markdown",
   "id": "b35c0d8a",
   "metadata": {},
   "source": [
    "## Solution"
   ]
  },
  {
   "cell_type": "code",
   "execution_count": 1,
   "id": "54651483",
   "metadata": {},
   "outputs": [],
   "source": [
    "from typing import List\n",
    "from collections import deque\n",
    "class Solution:\n",
    "    def slidingMaximum(self, nums: List[int], k: int) -> List[int]:\n",
    "        Q,ans=deque([]),[]\n",
    "        for i in range(len(nums)):\n",
    "            while Q and nums[Q[-1]]<nums[i]:Q.pop()\n",
    "            Q.append(i)\n",
    "            while Q and Q[0]<=i-k:Q.popleft()\n",
    "            if i>=k-1:ans.append(nums[Q[0]])\n",
    "        return ans"
   ]
  },
  {
   "cell_type": "markdown",
   "id": "0e1cd1d1",
   "metadata": {},
   "source": [
    "## Q.2"
   ]
  },
  {
   "cell_type": "markdown",
   "id": "1c4310a5",
   "metadata": {},
   "source": [
    "### Maximum Frequency Stack\n",
    "\n",
    "Design a stack-like data structure to push elements to the stack and pop the most frequent element from the stack.\n",
    "\n",
    "Implement the FreqStack class:\n",
    "\n",
    "FreqStack() constructs an empty frequency stack.\n",
    "void push(int val) pushes an integer val onto the top of the stack.\n",
    "int pop() removes and returns the most frequent element in the stack.\n",
    "If there is a tie for the most frequent element, the element closest to the stack's top is removed and returned."
   ]
  },
  {
   "cell_type": "markdown",
   "id": "b57e01c2",
   "metadata": {},
   "source": [
    "- [LeetCode](https://leetcode.com/problems/maximum-frequency-stack/description/)"
   ]
  },
  {
   "cell_type": "markdown",
   "id": "db232b9f",
   "metadata": {},
   "source": [
    "## Intuition"
   ]
  },
  {
   "cell_type": "markdown",
   "id": "57c05eef",
   "metadata": {},
   "source": [
    "- Maintain one map to store the frequency counts and the other one to store the list of elements of each frequency count in order.\n",
    "- Update maxfreq, and the 2 maps while pushing element.\n",
    "- While popping reduce freq count and pop the max freq count list map.\n",
    "- if the maxfreq list map is empty reduce maxfreq by 1."
   ]
  },
  {
   "cell_type": "markdown",
   "id": "a0c58523",
   "metadata": {},
   "source": [
    "## Solution"
   ]
  },
  {
   "cell_type": "code",
   "execution_count": 5,
   "id": "5d0a6145",
   "metadata": {},
   "outputs": [],
   "source": [
    "from collections import defaultdict\n",
    "class FreqStack:\n",
    "\n",
    "    def __init__(self):\n",
    "        self.M,self.S,self.maxfreq=defaultdict(int),defaultdict(list),0\n",
    "\n",
    "    def push(self, val: int) -> None:\n",
    "        self.M[val]+=1\n",
    "        self.maxfreq=max(self.maxfreq,self.M[val])\n",
    "        self.S[self.M[val]].append(val)\n",
    "\n",
    "    def pop(self) -> int:\n",
    "        Top=self.S[self.maxfreq].pop()\n",
    "        self.M[Top]-=1\n",
    "        if not self.S[self.maxfreq]:self.maxfreq-=1\n",
    "        return Top\n",
    "\n",
    "# Your FreqStack object will be instantiated and called as such:\n",
    "# obj = FreqStack()\n",
    "# obj.push(val)\n",
    "# param_2 = obj.pop()"
   ]
  },
  {
   "cell_type": "markdown",
   "id": "1dbc7af4",
   "metadata": {},
   "source": [
    "## Q.3"
   ]
  },
  {
   "cell_type": "markdown",
   "id": "a66f52f7",
   "metadata": {},
   "source": [
    "### First non-repeating character in a stream of characters\n",
    "\n",
    "Given a string A denoting a stream of lowercase alphabets. You have to make new string B.\n",
    "\n",
    "B is formed such that we have to find first non-repeating character each time a character is inserted to the stream and append it at the end to B. If no non-repeating character is found then append '#' at the end of B."
   ]
  },
  {
   "cell_type": "markdown",
   "id": "01e92058",
   "metadata": {},
   "source": [
    "- [Interviewbit](https://www.interviewbit.com/problems/first-non-repeating-character-in-a-stream-of-characters/)"
   ]
  },
  {
   "cell_type": "markdown",
   "id": "7431ca78",
   "metadata": {},
   "source": [
    "## Intuition"
   ]
  },
  {
   "cell_type": "markdown",
   "id": "4dd74ba7",
   "metadata": {},
   "source": [
    "- Use a queue to store the order of stream and a map to store the count.\n",
    "- Remove elements from the front with frequency greater than one.\n",
    "- The element at the front is the answer character."
   ]
  },
  {
   "cell_type": "markdown",
   "id": "bf367cee",
   "metadata": {},
   "source": [
    "## Solution"
   ]
  },
  {
   "cell_type": "code",
   "execution_count": 1,
   "id": "cafc4263",
   "metadata": {},
   "outputs": [],
   "source": [
    "from collections import deque,defaultdict\n",
    "class Solution:\n",
    "    # @param A : string\n",
    "    # @return a strings\n",
    "    def solve(self, A):\n",
    "        Q,M,ans=deque(),defaultdict(int),''\n",
    "        for i in A:\n",
    "            M[i]+=1\n",
    "            Q.append(i)\n",
    "            while Q and M[Q[0]]>1:Q.popleft()\n",
    "            if not Q:ans+='#'\n",
    "            else:ans+=Q[0] \n",
    "        return ans   "
   ]
  },
  {
   "cell_type": "markdown",
   "id": "6bd460ff",
   "metadata": {},
   "source": [
    "## Coding Ninjas Problem of the Day"
   ]
  },
  {
   "cell_type": "markdown",
   "id": "66f42200",
   "metadata": {},
   "source": [
    "## [Easy](https://www.naukri.com/code360/problems/print-the-kth-digit_1214937)\n",
    "### Python Compiler error"
   ]
  },
  {
   "cell_type": "code",
   "execution_count": 4,
   "id": "e4d55036",
   "metadata": {},
   "outputs": [],
   "source": [
    "def findKthFromRight(n, m, k):\n",
    "    return int(str(n**m)[-k])"
   ]
  },
  {
   "cell_type": "markdown",
   "id": "b8494e61",
   "metadata": {},
   "source": [
    "## [Moderate](https://www.naukri.com/code360/problems/check-if-all-levels-of-two-trees-are-anagrams-of-each-other-not_1214546)"
   ]
  },
  {
   "cell_type": "code",
   "execution_count": 2,
   "id": "f751f333",
   "metadata": {},
   "outputs": [],
   "source": [
    "class TreeNode:\n",
    "    def __init__(self, val):\n",
    "        self.val = val\n",
    "        self.left = None\n",
    "        self.right = None\n",
    "\n",
    "    def __del__(self):\n",
    "        if self.left:\n",
    "            del self.left\n",
    "        if self.right:\n",
    "            del self.right\n",
    "def Level(Q,M):\n",
    "    l=0\n",
    "    while Q:\n",
    "        n,L=len(Q),[]\n",
    "        for i in range(n):\n",
    "            F=Q.popleft()\n",
    "            L.append(str(F.val))\n",
    "            if F.left:Q.append(F.left)\n",
    "            if F.right:Q.append(F.right)\n",
    "        M.append(''.join(sorted(L)))\n",
    "        l+=1\n",
    "def anagram(root1, n, root2, m):\n",
    "    M1,M2=[],[]\n",
    "    Q1,Q2=deque([root1]),deque([root2])\n",
    "    Level(Q1,M1)\n",
    "    Level(Q2,M2)\n",
    "    if len(M1)!=len(M2):return False\n",
    "    for i in range(len(M1)):\n",
    "        if M1[i]!=M2[i]:return False\n",
    "    return True"
   ]
  },
  {
   "cell_type": "markdown",
   "id": "e5fc51cc",
   "metadata": {},
   "source": [
    "## [Hard](https://www.naukri.com/code360/problems/help-ninja-to-cross-river_1235196)"
   ]
  },
  {
   "cell_type": "code",
   "execution_count": 10,
   "id": "3348ef19",
   "metadata": {},
   "outputs": [],
   "source": [
    "from typing import List\n",
    "\n",
    "def crossRiver(stones: List[int]) -> bool:\n",
    "    if stones[0]+1 != stones[1]:\n",
    "        return False\n",
    "    S,n=set(stones),len(stones)\n",
    "    M={}\n",
    "    def Rec(i,j):\n",
    "        if i==stones[-1]:return True  \n",
    "        if (i,j) in M:return M[(i,j)]\n",
    "        p,q,r=False,False,False \n",
    "        if i+j in S:p=Rec(i+1,j)\n",
    "        if i+j+1 in S:q=Rec(i+j+1,j+1)\n",
    "        if i+j-1 in S and (i+j-1)!=i:r=Rec(i+j-1,j-1)\n",
    "        M[(i,j)]=p or q or r  \n",
    "        return M[(i,j)]\n",
    "    return Rec(stones[1],1)"
   ]
  }
 ],
 "metadata": {
  "kernelspec": {
   "display_name": "Python 3 (ipykernel)",
   "language": "python",
   "name": "python3"
  },
  "language_info": {
   "codemirror_mode": {
    "name": "ipython",
    "version": 3
   },
   "file_extension": ".py",
   "mimetype": "text/x-python",
   "name": "python",
   "nbconvert_exporter": "python",
   "pygments_lexer": "ipython3",
   "version": "3.11.5"
  }
 },
 "nbformat": 4,
 "nbformat_minor": 5
}
