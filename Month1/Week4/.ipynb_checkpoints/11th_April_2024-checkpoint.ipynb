{
 "cells": [
  {
   "cell_type": "markdown",
   "id": "d2ffff82",
   "metadata": {},
   "source": [
    "## Q.1"
   ]
  },
  {
   "cell_type": "markdown",
   "id": "2be451c7",
   "metadata": {},
   "source": [
    "### Recover Binary Search Tree\n",
    "\n",
    "You are given the root of a binary search tree (BST), where the values of exactly two nodes of the tree were swapped by mistake. Recover the tree without changing its structure."
   ]
  },
  {
   "cell_type": "markdown",
   "id": "b463c5ca",
   "metadata": {},
   "source": [
    "- [LeetCode](https://leetcode.com/problems/recover-binary-search-tree/description/)\n",
    "- [Interviewbit]()"
   ]
  },
  {
   "cell_type": "markdown",
   "id": "c04699b3",
   "metadata": {},
   "source": [
    "## Intuition"
   ]
  },
  {
   "cell_type": "markdown",
   "id": "ff548fba",
   "metadata": {},
   "source": []
  },
  {
   "cell_type": "markdown",
   "id": "b35c0d8a",
   "metadata": {},
   "source": [
    "## Solution"
   ]
  },
  {
   "cell_type": "code",
   "execution_count": 2,
   "id": "54651483",
   "metadata": {},
   "outputs": [],
   "source": []
  },
  {
   "cell_type": "markdown",
   "id": "5139132e",
   "metadata": {},
   "source": [
    "## Q.2"
   ]
  },
  {
   "cell_type": "markdown",
   "id": "c8e5f076",
   "metadata": {},
   "source": [
    "### Lowest Common Ancestor of a Binary Tree\n",
    "\n",
    "Given a binary tree, find the lowest common ancestor (LCA) of two given nodes in the tree.\n",
    "\n",
    "According to the definition of LCA on Wikipedia: “The lowest common ancestor is defined between two nodes p and q as the lowest node in T that has both p and q as descendants (where we allow a node to be a descendant of itself).”"
   ]
  },
  {
   "cell_type": "markdown",
   "id": "36a9d119",
   "metadata": {},
   "source": [
    "- [LeetCode](https://leetcode.com/problems/lowest-common-ancestor-of-a-binary-tree/description/)\n",
    "- [Interviewbit](https://www.interviewbit.com/problems/least-common-ancestor/)"
   ]
  },
  {
   "cell_type": "markdown",
   "id": "a30e8bdd",
   "metadata": {},
   "source": [
    "## Intuition"
   ]
  },
  {
   "cell_type": "markdown",
   "id": "33a0128d",
   "metadata": {},
   "source": [
    "- Either use path method to construct paths to both nodes and then compare this is more robust when node is not present, but space complexity is O(n).\n",
    "- Or use recursion to find LCA by comparing the values of Left and right subtrees."
   ]
  },
  {
   "cell_type": "markdown",
   "id": "6e1722c3",
   "metadata": {},
   "source": [
    "## Solution"
   ]
  },
  {
   "cell_type": "code",
   "execution_count": 1,
   "id": "f48119b8",
   "metadata": {},
   "outputs": [],
   "source": [
    "class Solution:\n",
    "    # @param A : root node of tree\n",
    "    # @param B : integer\n",
    "    # @param C : integer\n",
    "    # @return an integer\n",
    "    def lca(self, A, B, C):\n",
    "        def Path(R,s,x):\n",
    "            if not R:return False\n",
    "            s.append(R.val)\n",
    "            if Path(R.left,s,x) or Path(R.right,s,x) or R.val==x:return True\n",
    "            s.pop()\n",
    "            return False\n",
    "        A1,A2=[],[]\n",
    "        Path(A,A1,B)\n",
    "        Path(A,A2,C)\n",
    "        if not A1 or not A2:return -1\n",
    "        i=0\n",
    "        while i<min(len(A1),len(A2)):\n",
    "            if A1[i]!=A2[i]:break\n",
    "            i+=1\n",
    "        return A1[i-1]"
   ]
  },
  {
   "cell_type": "code",
   "execution_count": 2,
   "id": "04722852",
   "metadata": {},
   "outputs": [],
   "source": [
    "class Solution:\n",
    "    def lowestCommonAncestor(self, root: 'TreeNode', p: 'TreeNode', q: 'TreeNode') -> 'TreeNode':\n",
    "        if not root or root==p or root==q:return root\n",
    "        L,r=self.lowestCommonAncestor(root.left,p,q),self.lowestCommonAncestor(root.right,p,q)\n",
    "        if L and r:return root\n",
    "        return L or r"
   ]
  },
  {
   "cell_type": "markdown",
   "id": "56e05ee3",
   "metadata": {},
   "source": [
    "## Q.3"
   ]
  },
  {
   "cell_type": "markdown",
   "id": "ff4e1272",
   "metadata": {},
   "source": [
    "###  LCA of Two Nodes In A BST\n",
    "\n",
    "\n",
    "You are given a binary search tree of integers with N nodes. You are also given references to two nodes 'P' and 'Q' from this BST.\n",
    "\n",
    "Your task is to find the lowest common ancestor(LCA) of these two given nodes.\n",
    "\n",
    "The lowest common ancestor for two nodes P and Q is defined as the lowest node that has both P and Q as descendants (where we allow a node to be a descendant of itself)\n",
    "\n",
    "A binary search tree (BST) is a binary tree data structure which has the following properties.\n",
    "\n",
    "- The left subtree of a node contains only nodes with data less than the node’s data.\n",
    "- The right subtree of a node contains only nodes with data greater than the node’s data.\n",
    "- Both the left and right subtrees must also be binary search trees."
   ]
  },
  {
   "cell_type": "markdown",
   "id": "616cb7f5",
   "metadata": {},
   "source": [
    "- [Coding Ninjas](https://www.naukri.com/code360/problems/lca-in-a-bst_981280)"
   ]
  },
  {
   "cell_type": "markdown",
   "id": "31d60ab6",
   "metadata": {},
   "source": [
    "## Intuition"
   ]
  },
  {
   "cell_type": "markdown",
   "id": "b6633a26",
   "metadata": {},
   "source": [
    "- Use recursion and the property of BSt and the fact that both nodes are present."
   ]
  },
  {
   "cell_type": "markdown",
   "id": "a95e2024",
   "metadata": {},
   "source": [
    "## Solution"
   ]
  },
  {
   "cell_type": "code",
   "execution_count": 1,
   "id": "1d891749",
   "metadata": {},
   "outputs": [],
   "source": [
    "class   TreeNode :\n",
    "    def __init__(self, data) :\n",
    "        self.data = data\n",
    "        self.left = None\n",
    "        self.right = None\n",
    "\n",
    "    def __del__(self):\n",
    "        if self.left:\n",
    "            del self.left\n",
    "        if self.right:\n",
    "            del self.right\n",
    "\n",
    "def LCAinaBST(A, B, C):\n",
    "        def Rec(R,b,c):\n",
    "            if not R:return root\n",
    "            if R.data<b.data and R.data<c.data:return Rec(R.right,b,c)\n",
    "            elif R.data>b.data and R.data>c.data:return Rec(R.left,b,c)\n",
    "            return R\n",
    "        return Rec(A,B,C)"
   ]
  },
  {
   "cell_type": "markdown",
   "id": "ebcbbd79",
   "metadata": {},
   "source": [
    "## Q.4"
   ]
  },
  {
   "cell_type": "markdown",
   "id": "2c468554",
   "metadata": {},
   "source": [
    "### Distance between 2 nodes of a tree"
   ]
  },
  {
   "cell_type": "markdown",
   "id": "531a303b",
   "metadata": {},
   "source": [
    "## Intuition"
   ]
  },
  {
   "cell_type": "markdown",
   "id": "8ed029de",
   "metadata": {},
   "source": [
    "- Distance is equal to sum of path lengths of each node - 2*LCA_path which is common."
   ]
  },
  {
   "cell_type": "markdown",
   "id": "138a234a",
   "metadata": {},
   "source": [
    "## Solution"
   ]
  },
  {
   "cell_type": "code",
   "execution_count": 1,
   "id": "10e1e254",
   "metadata": {},
   "outputs": [],
   "source": [
    "class Solution:\n",
    "    # @param A : root node of tree\n",
    "    # @param B : integer\n",
    "    # @param C : integer\n",
    "    # @return an integer\n",
    "    def solve(self, A, B, C):\n",
    "        def Path(R,s,x):\n",
    "            if not R:return False\n",
    "            s.append(R.val)\n",
    "            if Path(R.left,s,x) or Path(R.right,s,x) or R.val==x:return True\n",
    "            s.pop()\n",
    "            return False\n",
    "        A1,A2=[],[]\n",
    "        Path(A,A1,B)\n",
    "        Path(A,A2,C)\n",
    "        N=len(A1)+len(A2)\n",
    "        i=0\n",
    "        while i<min(len(A1),len(A2)):\n",
    "            if A1[i]!=A2[i]:break\n",
    "            i+=1\n",
    "        return N-2*i"
   ]
  },
  {
   "cell_type": "markdown",
   "id": "6bd460ff",
   "metadata": {},
   "source": [
    "## Coding Ninjas Problem of the Day"
   ]
  },
  {
   "cell_type": "markdown",
   "id": "66f42200",
   "metadata": {},
   "source": [
    "## [Easy](https://www.naukri.com/code360/problems/nth-root-of-m_1062679)"
   ]
  },
  {
   "cell_type": "code",
   "execution_count": 2,
   "id": "e4d55036",
   "metadata": {},
   "outputs": [],
   "source": [
    "import math\n",
    "def NthRoot(n: int, m: int) -> int:\n",
    "    r=m**(1/n)\n",
    "    x=round(r)\n",
    "    if abs(r-x)<.0000000001:\n",
    "        return x\n",
    "    return -1"
   ]
  },
  {
   "cell_type": "markdown",
   "id": "b8494e61",
   "metadata": {},
   "source": [
    "## [Moderate](https://www.naukri.com/code360/problems/vertical-order-traversal_920533)"
   ]
  },
  {
   "cell_type": "code",
   "execution_count": 2,
   "id": "f751f333",
   "metadata": {},
   "outputs": [],
   "source": [
    "def verticalOrderTraversal(A):\n",
    "    Q,L,ans=deque([(A,0,0)]),defaultdict(list),[]\n",
    "    while Q:\n",
    "        F,x,y=Q.popleft()\n",
    "        L[x].append((y,F.data))\n",
    "        if F.left:Q.append((F.left,x-1,y+1))\n",
    "        if F.right:Q.append((F.right,x+1,y+1))\n",
    "    for i in sorted(L):\n",
    "        ans+=L[i]\n",
    "    return [i[1] for i in ans]"
   ]
  },
  {
   "cell_type": "markdown",
   "id": "e5fc51cc",
   "metadata": {},
   "source": [
    "## [Hard](https://www.naukri.com/code360/problems/minimum-window-subsequence_2181133)"
   ]
  },
  {
   "cell_type": "code",
   "execution_count": 3,
   "id": "3348ef19",
   "metadata": {},
   "outputs": [],
   "source": []
  },
  {
   "cell_type": "code",
   "execution_count": null,
   "id": "864d385a",
   "metadata": {},
   "outputs": [],
   "source": []
  }
 ],
 "metadata": {
  "kernelspec": {
   "display_name": "Python 3 (ipykernel)",
   "language": "python",
   "name": "python3"
  },
  "language_info": {
   "codemirror_mode": {
    "name": "ipython",
    "version": 3
   },
   "file_extension": ".py",
   "mimetype": "text/x-python",
   "name": "python",
   "nbconvert_exporter": "python",
   "pygments_lexer": "ipython3",
   "version": "3.11.5"
  }
 },
 "nbformat": 4,
 "nbformat_minor": 5
}
