{
 "cells": [
  {
   "cell_type": "markdown",
   "id": "d2ffff82",
   "metadata": {},
   "source": [
    "## Q.1"
   ]
  },
  {
   "cell_type": "markdown",
   "id": "2be451c7",
   "metadata": {},
   "source": [
    "### Same Tree\n",
    "\n",
    "Given the roots of two binary trees p and q, write a function to check if they are the same or not.\n",
    "\n",
    "Two binary trees are considered the same if they are structurally identical, and the nodes have the same value."
   ]
  },
  {
   "cell_type": "markdown",
   "id": "b463c5ca",
   "metadata": {},
   "source": [
    "- [LeetCode](https://leetcode.com/problems/same-tree/description/)\n",
    "- [Interviewbit](https://www.interviewbit.com/problems/identical-binary-trees/)"
   ]
  },
  {
   "cell_type": "markdown",
   "id": "c04699b3",
   "metadata": {},
   "source": [
    "## Intuition"
   ]
  },
  {
   "cell_type": "markdown",
   "id": "ff548fba",
   "metadata": {},
   "source": [
    "- Use Recursion."
   ]
  },
  {
   "cell_type": "markdown",
   "id": "b35c0d8a",
   "metadata": {},
   "source": [
    "## Solution"
   ]
  },
  {
   "cell_type": "code",
   "execution_count": 2,
   "id": "54651483",
   "metadata": {},
   "outputs": [],
   "source": [
    "class Solution:\n",
    "    # @param A : root node of tree\n",
    "    # @param B : root node of tree\n",
    "    # @return an integer\n",
    "    def isSameTree(self, A, B):\n",
    "        if not A and not B:\n",
    "            return 1\n",
    "        if not A or not B:\n",
    "            return 0\n",
    "        return int(self.isSameTree(A.left, B.left) and self.isSameTree(A.right, B.right) and A.val == B.val)"
   ]
  },
  {
   "cell_type": "markdown",
   "id": "5139132e",
   "metadata": {},
   "source": [
    "## Q.2"
   ]
  },
  {
   "cell_type": "markdown",
   "id": "c8e5f076",
   "metadata": {},
   "source": [
    "### Symmetric Tree\n",
    "\n",
    "Given the root of a binary tree, check whether it is a mirror of itself (i.e., symmetric around its center)."
   ]
  },
  {
   "cell_type": "markdown",
   "id": "36a9d119",
   "metadata": {},
   "source": [
    "- [LeetCode](https://leetcode.com/problems/symmetric-tree/description/)\n",
    "- [Interviewbit](https://www.interviewbit.com/problems/symmetric-binary-tree/)"
   ]
  },
  {
   "cell_type": "markdown",
   "id": "a30e8bdd",
   "metadata": {},
   "source": [
    "## Intuition"
   ]
  },
  {
   "cell_type": "markdown",
   "id": "33a0128d",
   "metadata": {},
   "source": [
    "- Use recursion to check whether Left of Left side is equal to right of right side and also right of Left side is equal to Left of right side."
   ]
  },
  {
   "cell_type": "markdown",
   "id": "6e1722c3",
   "metadata": {},
   "source": [
    "## Solution"
   ]
  },
  {
   "cell_type": "code",
   "execution_count": 3,
   "id": "04722852",
   "metadata": {},
   "outputs": [],
   "source": [
    "class Solution:\n",
    "    # @param A : root node of tree\n",
    "    # @return an integer\n",
    "    def isSymmetric(self, A):\n",
    "        if not A:\n",
    "            return 1\n",
    "        \n",
    "        def Rec(L, r):\n",
    "            if not L and not r:\n",
    "                return 1\n",
    "            if not L or not r:\n",
    "                return 0\n",
    "            return int(Rec(L.right, r.left) and Rec(L.left, r.right) and L.val == r.val)\n",
    "        \n",
    "        return Rec(A.left, A.right)"
   ]
  },
  {
   "cell_type": "markdown",
   "id": "56e05ee3",
   "metadata": {},
   "source": [
    "## Q.3"
   ]
  },
  {
   "cell_type": "markdown",
   "id": "ff4e1272",
   "metadata": {},
   "source": [
    "### Path Sum\n",
    "\n",
    "Given the root of a binary tree and an integer targetSum, return true if the tree has a root-to-leaf path such that adding up all the values along the path equals targetSum.\n",
    "\n",
    "A leaf is a node with no children."
   ]
  },
  {
   "cell_type": "markdown",
   "id": "616cb7f5",
   "metadata": {},
   "source": [
    "- [LeetCode](https://leetcode.com/problems/path-sum/description/)\n",
    "- [Interviewbit](https://www.interviewbit.com/problems/path-sum/)"
   ]
  },
  {
   "cell_type": "markdown",
   "id": "31d60ab6",
   "metadata": {},
   "source": [
    "## Intuition"
   ]
  },
  {
   "cell_type": "markdown",
   "id": "b6633a26",
   "metadata": {},
   "source": [
    "- Use recursion."
   ]
  },
  {
   "cell_type": "markdown",
   "id": "a95e2024",
   "metadata": {},
   "source": [
    "## Solution"
   ]
  },
  {
   "cell_type": "code",
   "execution_count": 2,
   "id": "1d891749",
   "metadata": {},
   "outputs": [],
   "source": [
    "class Solution:\n",
    "    # @param A : root node of tree\n",
    "    # @param B : integer\n",
    "    # @return an integer\n",
    "    def hasPathSum(self, A, B):\n",
    "        def Rec(R, s):\n",
    "            if not R:\n",
    "                return 0\n",
    "            s += R.val\n",
    "            if s == B and not R.left and not R.right:\n",
    "                return 1\n",
    "            return int(Rec(R.left, s) or Rec(R.right, s))\n",
    "        return Rec(A,0)"
   ]
  },
  {
   "cell_type": "markdown",
   "id": "ebcbbd79",
   "metadata": {},
   "source": [
    "## Q.4"
   ]
  },
  {
   "cell_type": "markdown",
   "id": "2c468554",
   "metadata": {},
   "source": [
    "### Path Sum II\n",
    "\n",
    "Given the root of a binary tree and an integer targetSum, return all root-to-leaf paths where the sum of the node values in the path equals targetSum. Each path should be returned as a list of the node values, not node references.\n",
    "\n",
    "A root-to-leaf path is a path starting from the root and ending at any leaf node. A leaf is a node with no children."
   ]
  },
  {
   "cell_type": "markdown",
   "id": "fbb0bf51",
   "metadata": {},
   "source": [
    "- [LeetCode](https://leetcode.com/problems/path-sum-ii/description/)\n",
    "- [Interviewbit](https://www.interviewbit.com/problems/root-to-leaf-paths-with-sum/)"
   ]
  },
  {
   "cell_type": "markdown",
   "id": "531a303b",
   "metadata": {},
   "source": [
    "## Intuition"
   ]
  },
  {
   "cell_type": "markdown",
   "id": "8ed029de",
   "metadata": {},
   "source": [
    "- No need to return boolean this time use backtracking to store the required paths."
   ]
  },
  {
   "cell_type": "markdown",
   "id": "138a234a",
   "metadata": {},
   "source": [
    "## Solution"
   ]
  },
  {
   "cell_type": "code",
   "execution_count": 1,
   "id": "10e1e254",
   "metadata": {},
   "outputs": [],
   "source": [
    "class Solution:\n",
    "    def pathSum(self, A, B) :\n",
    "        ans=[]\n",
    "        def Rec(R,s,a):\n",
    "            if not R:return \n",
    "            s+=R.val\n",
    "            a.append(R.val)\n",
    "            if s==B and not R.left and not R.right:\n",
    "                ans.append(a[:])\n",
    "            Rec(R.left,s,a)\n",
    "            Rec(R.right,s,a)\n",
    "            s-=R.val\n",
    "            a.pop()\n",
    "        Rec(A,0,[])\n",
    "        return ans"
   ]
  },
  {
   "cell_type": "markdown",
   "id": "0f7ff744",
   "metadata": {},
   "source": [
    "## Q.5"
   ]
  },
  {
   "cell_type": "markdown",
   "id": "c502eae3",
   "metadata": {},
   "source": [
    "### Invert Binary Tree\n",
    "\n",
    "Given the root of a binary tree, invert the tree, and return its root."
   ]
  },
  {
   "cell_type": "markdown",
   "id": "b04f47b2",
   "metadata": {},
   "source": [
    "- [LeetCode](https://leetcode.com/problems/invert-binary-tree/description/)\n",
    "- [Interviewbit](https://www.interviewbit.com/problems/invert-the-binary-tree/)"
   ]
  },
  {
   "cell_type": "markdown",
   "id": "1ee6d3ac",
   "metadata": {},
   "source": [
    "## Intuition"
   ]
  },
  {
   "cell_type": "markdown",
   "id": "474d0f86",
   "metadata": {},
   "source": [
    "- Use Recursion."
   ]
  },
  {
   "cell_type": "markdown",
   "id": "3d5da4b5",
   "metadata": {},
   "source": [
    "## Solution"
   ]
  },
  {
   "cell_type": "code",
   "execution_count": 1,
   "id": "a4e80a7a",
   "metadata": {},
   "outputs": [],
   "source": [
    "class Solution:\n",
    "    # @param A : root node of tree\n",
    "    # @return the root node in the tree\n",
    "    def invertTree(self, A):\n",
    "        if not A:\n",
    "            return A \n",
    "        \n",
    "        T = self.invertTree(A.right)\n",
    "        A.right = self.invertTree(A.left)\n",
    "        A.left = T\n",
    "        return A"
   ]
  },
  {
   "cell_type": "markdown",
   "id": "9dc01770",
   "metadata": {},
   "source": [
    "## Q.6"
   ]
  },
  {
   "cell_type": "markdown",
   "id": "14d673c0",
   "metadata": {},
   "source": [
    "### Kth Smallest Element in a BST\n",
    "\n",
    "Given the root of a binary search tree, and an integer k, return the kth smallest value (1-indexed) of all the values of the nodes in the tree."
   ]
  },
  {
   "cell_type": "markdown",
   "id": "aec96ee0",
   "metadata": {},
   "source": [
    "- [LeetCode](https://leetcode.com/problems/kth-smallest-element-in-a-bst/description/)\n",
    "- [Interviewbit](https://www.interviewbit.com/problems/kth-smallest-element-in-tree/)"
   ]
  },
  {
   "cell_type": "markdown",
   "id": "bb61fc6b",
   "metadata": {},
   "source": [
    "## Intuition"
   ]
  },
  {
   "cell_type": "markdown",
   "id": "bc4ae9c7",
   "metadata": {},
   "source": [
    "- Use inorder traversal as it will give sorted array."
   ]
  },
  {
   "cell_type": "markdown",
   "id": "ec838fcf",
   "metadata": {},
   "source": [
    "## Solution"
   ]
  },
  {
   "cell_type": "code",
   "execution_count": 2,
   "id": "cbb64385",
   "metadata": {},
   "outputs": [],
   "source": [
    "class Solution:\n",
    "    # @param A : root node of tree\n",
    "    # @param B : integer\n",
    "    # @return an integer\n",
    "    def kthSmallest(self, A, B):\n",
    "        a = []\n",
    "        def Rec(R):\n",
    "            nonlocal a\n",
    "            if not R:\n",
    "                return\n",
    "            Rec(R.left)\n",
    "            a.append(R.val)\n",
    "            Rec(R.right)\n",
    "        Rec(A)\n",
    "        return a[B-1]"
   ]
  },
  {
   "cell_type": "markdown",
   "id": "5dff6edd",
   "metadata": {},
   "source": [
    "## Q.7"
   ]
  },
  {
   "cell_type": "markdown",
   "id": "62a467a7",
   "metadata": {},
   "source": [
    "### Populating Next Right Pointers in Each Node II\n",
    "\n",
    "Given a binary tree\n",
    "\n",
    "struct Node {\n",
    "  int val;\n",
    "  Node *left;\n",
    "  Node *right;\n",
    "  Node *next;\n",
    "}\n",
    "Populate each next pointer to point to its next right node. If there is no next right node, the next pointer should be set to NULL.\n",
    "\n",
    "Initially, all next pointers are set to NULL."
   ]
  },
  {
   "cell_type": "markdown",
   "id": "f9a574c3",
   "metadata": {},
   "source": [
    "- [LeetCode](https://leetcode.com/problems/populating-next-right-pointers-in-each-node-ii/description/)\n",
    "- [Interviewbit](https://www.interviewbit.com/problems/populate-next-right-pointers-tree/)"
   ]
  },
  {
   "cell_type": "markdown",
   "id": "76dadb62",
   "metadata": {},
   "source": [
    "## Intuition"
   ]
  },
  {
   "cell_type": "markdown",
   "id": "4402ea9a",
   "metadata": {},
   "source": [
    "- Use level order to link in each node in each level with its previous node in same level.\n",
    "- Link the last node of each level with None."
   ]
  },
  {
   "cell_type": "markdown",
   "id": "8a250552",
   "metadata": {},
   "source": [
    "## Solution"
   ]
  },
  {
   "cell_type": "code",
   "execution_count": 5,
   "id": "01ec4c9e",
   "metadata": {},
   "outputs": [],
   "source": [
    "from collections import deque\n",
    "class Solution:\n",
    "    # @param root, a tree node\n",
    "    # @return nothing\n",
    "    def connect(self, root):\n",
    "        if not root:return root\n",
    "        Q=deque([root])\n",
    "        while Q:\n",
    "            n=len(Q)\n",
    "            P=None\n",
    "            for i in range(n):\n",
    "                F=Q.popleft()\n",
    "                if P:P.next=F\n",
    "                elif i==n-1:F.next=None\n",
    "                P=F \n",
    "                if F.left:Q.append(F.left)\n",
    "                if F.right:Q.append(F.right)\n",
    "        return root"
   ]
  },
  {
   "cell_type": "markdown",
   "id": "6bd460ff",
   "metadata": {},
   "source": [
    "## Coding Ninjas Problem of the Day"
   ]
  },
  {
   "cell_type": "markdown",
   "id": "66f42200",
   "metadata": {},
   "source": [
    "## [Easy](https://www.naukri.com/code360/problems/complete-sum_3161880)"
   ]
  },
  {
   "cell_type": "code",
   "execution_count": 2,
   "id": "e4d55036",
   "metadata": {},
   "outputs": [],
   "source": [
    "def completeSum(a: List[int], n: int)-> List[int]:\n",
    "    P=[0]*n\n",
    "    P[0]=a[0]\n",
    "    for i in range(1,n):\n",
    "        P[i]=P[i-1]+a[i]\n",
    "    return P"
   ]
  },
  {
   "cell_type": "markdown",
   "id": "b8494e61",
   "metadata": {},
   "source": [
    "## [Moderate](https://www.naukri.com/code360/problems/closest-divisors_1461511)\n",
    "### Python compiler error"
   ]
  },
  {
   "cell_type": "code",
   "execution_count": 2,
   "id": "f751f333",
   "metadata": {},
   "outputs": [],
   "source": [
    "import math\n",
    "\n",
    "def get_factor(x):\n",
    "    for i in range(int(math.sqrt(x)), 0, -1):\n",
    "        if x % i == 0:\n",
    "            return [i, x // i]\n",
    "\n",
    "def closestDivisors(num):\n",
    "    fact1 = get_factor(num + 1)\n",
    "    fact2 = get_factor(num + 2)\n",
    "    return fact2 if abs(fact1[0] - fact1[1]) > abs(fact2[0] - fact2[1]) else fact1"
   ]
  },
  {
   "cell_type": "markdown",
   "id": "e5fc51cc",
   "metadata": {},
   "source": [
    "## [Hard](https://www.naukri.com/code360/problems/number-of-ways-to-build-empire_2327475)"
   ]
  },
  {
   "cell_type": "code",
   "execution_count": 3,
   "id": "3348ef19",
   "metadata": {},
   "outputs": [],
   "source": []
  },
  {
   "cell_type": "code",
   "execution_count": null,
   "id": "864d385a",
   "metadata": {},
   "outputs": [],
   "source": []
  }
 ],
 "metadata": {
  "kernelspec": {
   "display_name": "Python 3 (ipykernel)",
   "language": "python",
   "name": "python3"
  },
  "language_info": {
   "codemirror_mode": {
    "name": "ipython",
    "version": 3
   },
   "file_extension": ".py",
   "mimetype": "text/x-python",
   "name": "python",
   "nbconvert_exporter": "python",
   "pygments_lexer": "ipython3",
   "version": "3.11.5"
  }
 },
 "nbformat": 4,
 "nbformat_minor": 5
}
