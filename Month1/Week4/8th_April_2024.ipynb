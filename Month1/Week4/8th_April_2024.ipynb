{
 "cells": [
  {
   "cell_type": "markdown",
   "id": "d2ffff82",
   "metadata": {},
   "source": [
    "## Q.1"
   ]
  },
  {
   "cell_type": "markdown",
   "id": "2be451c7",
   "metadata": {},
   "source": [
    "### Binary Tree Inorder Traversal\n",
    "\n",
    "Given the root of a binary tree, return the inorder traversal of its nodes' values."
   ]
  },
  {
   "cell_type": "markdown",
   "id": "b463c5ca",
   "metadata": {},
   "source": [
    "- [LeetCode](https://leetcode.com/problems/binary-tree-inorder-traversal/description/)\n",
    "- [Interviewbit](https://www.interviewbit.com/problems/inorder-traversal/)"
   ]
  },
  {
   "cell_type": "markdown",
   "id": "c04699b3",
   "metadata": {},
   "source": [
    "## Intuition"
   ]
  },
  {
   "cell_type": "markdown",
   "id": "ff548fba",
   "metadata": {},
   "source": [
    "- Use Recursion, first visit Left of root then root then right of root."
   ]
  },
  {
   "cell_type": "markdown",
   "id": "b35c0d8a",
   "metadata": {},
   "source": [
    "## Solution"
   ]
  },
  {
   "cell_type": "code",
   "execution_count": 1,
   "id": "54651483",
   "metadata": {},
   "outputs": [],
   "source": [
    "class Solution:\n",
    "    # @param A : root node of tree\n",
    "    # @return a list of integers\n",
    "    def inorderTraversal(self, A):\n",
    "        ans = []\n",
    "\n",
    "        def Rec(r):\n",
    "            if not r:return\n",
    "            Rec(r.left)\n",
    "            ans.append(r.val)\n",
    "            Rec(r.right)\n",
    "\n",
    "        Rec(A)\n",
    "        return ans"
   ]
  },
  {
   "cell_type": "markdown",
   "id": "5139132e",
   "metadata": {},
   "source": [
    "## Q.2"
   ]
  },
  {
   "cell_type": "markdown",
   "id": "c8e5f076",
   "metadata": {},
   "source": [
    "### Binary Tree Preorder Traversal\n",
    "\n",
    "Given the root of a binary tree, return the preorder traversal of its nodes' values."
   ]
  },
  {
   "cell_type": "markdown",
   "id": "36a9d119",
   "metadata": {},
   "source": [
    "- [LeetCode](https://leetcode.com/problems/binary-tree-preorder-traversal/description/)\n",
    "- [Interviewbit](https://www.interviewbit.com/problems/preorder-traversal/)"
   ]
  },
  {
   "cell_type": "markdown",
   "id": "a30e8bdd",
   "metadata": {},
   "source": [
    "## Intuition"
   ]
  },
  {
   "cell_type": "markdown",
   "id": "33a0128d",
   "metadata": {},
   "source": [
    "- Use Recursion, first visit root then Left of root then right of root."
   ]
  },
  {
   "cell_type": "markdown",
   "id": "6e1722c3",
   "metadata": {},
   "source": [
    "## Solution"
   ]
  },
  {
   "cell_type": "code",
   "execution_count": 1,
   "id": "04722852",
   "metadata": {},
   "outputs": [],
   "source": [
    "class Solution:\n",
    "    # @param A : root node of tree\n",
    "    # @return a list of integers\n",
    "    def preorderTraversal(self, A):\n",
    "        ans = []\n",
    "\n",
    "        def Rec(r):\n",
    "            if not r:return\n",
    "            ans.append(r.val)\n",
    "            Rec(r.left)\n",
    "            Rec(r.right)\n",
    "\n",
    "        Rec(A)\n",
    "        return ans"
   ]
  },
  {
   "cell_type": "markdown",
   "id": "56e05ee3",
   "metadata": {},
   "source": [
    "## Q.3"
   ]
  },
  {
   "cell_type": "markdown",
   "id": "ff4e1272",
   "metadata": {},
   "source": [
    "### Binary Tree Postorder Traversal\n",
    "\n",
    "Given the root of a binary tree, return the postorder traversal of its nodes' values."
   ]
  },
  {
   "cell_type": "markdown",
   "id": "616cb7f5",
   "metadata": {},
   "source": [
    "- [LeetCode](https://leetcode.com/problems/binary-tree-postorder-traversal/description/)\n",
    "- [Interviewbit](https://www.interviewbit.com/problems/postorder-traversal/)"
   ]
  },
  {
   "cell_type": "markdown",
   "id": "31d60ab6",
   "metadata": {},
   "source": [
    "## Intuition"
   ]
  },
  {
   "cell_type": "markdown",
   "id": "b6633a26",
   "metadata": {},
   "source": [
    "- Use Recursion, first visit Left of root then right of root and finally root."
   ]
  },
  {
   "cell_type": "markdown",
   "id": "a95e2024",
   "metadata": {},
   "source": [
    "## Solution"
   ]
  },
  {
   "cell_type": "code",
   "execution_count": 1,
   "id": "1d891749",
   "metadata": {},
   "outputs": [],
   "source": [
    "class Solution:\n",
    "    # @param A : root node of tree\n",
    "    # @return a list of integers\n",
    "    def postorderTraversal(self, A):\n",
    "        ans = []\n",
    "\n",
    "        def Rec(r):\n",
    "            if not r:return\n",
    "            Rec(r.left)\n",
    "            Rec(r.right)\n",
    "            ans.append(r.val)\n",
    "\n",
    "        Rec(A)\n",
    "        return ans"
   ]
  },
  {
   "cell_type": "markdown",
   "id": "ebcbbd79",
   "metadata": {},
   "source": [
    "## Q.4"
   ]
  },
  {
   "cell_type": "markdown",
   "id": "2c468554",
   "metadata": {},
   "source": [
    "### Binary Tree Level Order Traversal\n",
    "\n",
    "Given the root of a binary tree, return the level order traversal of its nodes' values. (i.e., from left to right, level by level)."
   ]
  },
  {
   "cell_type": "markdown",
   "id": "fbb0bf51",
   "metadata": {},
   "source": [
    "- [LeetCode](https://leetcode.com/problems/binary-tree-level-order-traversal/)\n",
    "- [Interviewbit](https://www.interviewbit.com/problems/level-order/)"
   ]
  },
  {
   "cell_type": "markdown",
   "id": "531a303b",
   "metadata": {},
   "source": [
    "## Intuition"
   ]
  },
  {
   "cell_type": "markdown",
   "id": "8ed029de",
   "metadata": {},
   "source": [
    "- Use Queue and perform BFS or level order traversal."
   ]
  },
  {
   "cell_type": "markdown",
   "id": "138a234a",
   "metadata": {},
   "source": [
    "## Solution"
   ]
  },
  {
   "cell_type": "code",
   "execution_count": 1,
   "id": "10e1e254",
   "metadata": {},
   "outputs": [],
   "source": [
    "from collections import deque\n",
    "class Solution:\n",
    "    # @param A : root node of tree\n",
    "    # @return a list of list of integers\n",
    "    def levelOrder(self, A):\n",
    "        if not A: return []\n",
    "        Q,ans=deque([A]),[]\n",
    "        while Q:\n",
    "            n,L=len(Q),[]\n",
    "            for i in range(n):\n",
    "                F=Q.popleft()\n",
    "                L.append(F.val)\n",
    "                if F.left:Q.append(F.left)\n",
    "                if F.right:Q.append(F.right)\n",
    "            ans.append(L)\n",
    "        return ans"
   ]
  },
  {
   "cell_type": "markdown",
   "id": "0f7ff744",
   "metadata": {},
   "source": [
    "## Q.5"
   ]
  },
  {
   "cell_type": "markdown",
   "id": "c502eae3",
   "metadata": {},
   "source": [
    "### Serialize and Deserialize Binary Tree\n",
    "\n",
    "Serialization is the process of converting a data structure or object into a sequence of bits so that it can be stored in a file or memory buffer, or transmitted across a network connection link to be reconstructed later in the same or another computer environment.\n",
    "\n",
    "Design an algorithm to serialize and deserialize a binary tree. There is no restriction on how your serialization/deserialization algorithm should work. You just need to ensure that a binary tree can be serialized to a string and this string can be deserialized to the original tree structure.\n",
    "\n",
    "Clarification: The input/output format is the same as how LeetCode serializes a binary tree. You do not necessarily need to follow this format, so please be creative and come up with different approaches yourself."
   ]
  },
  {
   "cell_type": "markdown",
   "id": "b04f47b2",
   "metadata": {},
   "source": [
    "- [LeetCode](https://leetcode.com/problems/serialize-and-deserialize-binary-tree/description/)"
   ]
  },
  {
   "cell_type": "markdown",
   "id": "1ee6d3ac",
   "metadata": {},
   "source": [
    "## Intuition"
   ]
  },
  {
   "cell_type": "markdown",
   "id": "474d0f86",
   "metadata": {},
   "source": [
    "- Use Queue and perform BFS or level order traversal."
   ]
  },
  {
   "cell_type": "markdown",
   "id": "3d5da4b5",
   "metadata": {},
   "source": [
    "## Solution"
   ]
  },
  {
   "cell_type": "code",
   "execution_count": 1,
   "id": "a4e80a7a",
   "metadata": {},
   "outputs": [],
   "source": [
    "class Codec:\n",
    "\n",
    "    def serialize(self, root):\n",
    "        ans=[]\n",
    "        def Rec(r):\n",
    "            if not r:\n",
    "                ans.append('N')\n",
    "                return\n",
    "            ans.append(str(r.val))\n",
    "            Rec(r.left)\n",
    "            Rec(r.right)\n",
    "        Rec(root)\n",
    "        return ','.join(ans)\n",
    "\n",
    "    def deserialize(self, data):\n",
    "        ans,i=data.split(','),0\n",
    "        def Rec():\n",
    "            nonlocal i\n",
    "            if ans[i]=='N':\n",
    "                i+=1\n",
    "                return None\n",
    "            root=TreeNode(int(ans[i]))\n",
    "            i+=1\n",
    "            root.left=Rec()\n",
    "            root.right=Rec()\n",
    "            return root\n",
    "        return Rec()"
   ]
  },
  {
   "cell_type": "markdown",
   "id": "9dc01770",
   "metadata": {},
   "source": [
    "## Q.6"
   ]
  },
  {
   "cell_type": "markdown",
   "id": "14d673c0",
   "metadata": {},
   "source": [
    "### Construct Binary Tree from Preorder and Inorder Traversal\n",
    "\n",
    "Given two integer arrays preorder and inorder where preorder is the preorder traversal of a binary tree and inorder is the inorder traversal of the same tree, construct and return the binary tree."
   ]
  },
  {
   "cell_type": "markdown",
   "id": "aec96ee0",
   "metadata": {},
   "source": [
    "- [LeetCode](https://leetcode.com/problems/construct-binary-tree-from-preorder-and-inorder-traversal/description/)\n",
    "- [Interviewbit](https://www.interviewbit.com/problems/construct-binary-tree-from-inorder-and-preorder/)"
   ]
  },
  {
   "cell_type": "markdown",
   "id": "bb61fc6b",
   "metadata": {},
   "source": [
    "## Intuition"
   ]
  },
  {
   "cell_type": "markdown",
   "id": "bc4ae9c7",
   "metadata": {},
   "source": [
    "- Use recursion, use the preorder array to locate the root as first element and use  inorder array to maintain the order."
   ]
  },
  {
   "cell_type": "markdown",
   "id": "ec838fcf",
   "metadata": {},
   "source": [
    "## Solution"
   ]
  },
  {
   "cell_type": "code",
   "execution_count": 1,
   "id": "cbb64385",
   "metadata": {},
   "outputs": [],
   "source": [
    "class Solution:\n",
    "    # @param A : list of integers\n",
    "    # @param B : list of integers\n",
    "    # @return the root node in the tree\n",
    "    def buildTree(self, A, B):\n",
    "        if not A:return None\n",
    "        root = TreeNode(A[0])\n",
    "        index = 0\n",
    "        for index in range(len(B)):\n",
    "            if B[index] == A[0]:\n",
    "                break\n",
    "        root.left = self.buildTree(A[1:index + 1], B[:index])\n",
    "        root.right = self.buildTree(A[index + 1:], B[index + 1:])\n",
    "        return root"
   ]
  },
  {
   "cell_type": "markdown",
   "id": "5dff6edd",
   "metadata": {},
   "source": [
    "## Q.7"
   ]
  },
  {
   "cell_type": "markdown",
   "id": "62a467a7",
   "metadata": {},
   "source": [
    "### Construct Binary Tree from Inorder and Postorder Traversal\n",
    "\n",
    "Given two integer arrays inorder and postorder where inorder is the inorder traversal of a binary tree and postorder is the postorder traversal of the same tree, construct and return the binary tree."
   ]
  },
  {
   "cell_type": "markdown",
   "id": "f9a574c3",
   "metadata": {},
   "source": [
    "- [LeetCode](https://leetcode.com/problems/construct-binary-tree-from-inorder-and-postorder-traversal/description/)\n",
    "- [Interviewbit](https://www.interviewbit.com/problems/binary-tree-from-inorder-and-postorder/)"
   ]
  },
  {
   "cell_type": "markdown",
   "id": "76dadb62",
   "metadata": {},
   "source": [
    "## Intuition"
   ]
  },
  {
   "cell_type": "markdown",
   "id": "4402ea9a",
   "metadata": {},
   "source": [
    "- Use recursion, use the postorder array to locate the root as last element and use  inorder array to maintain the order."
   ]
  },
  {
   "cell_type": "markdown",
   "id": "8a250552",
   "metadata": {},
   "source": [
    "## Solution"
   ]
  },
  {
   "cell_type": "code",
   "execution_count": 1,
   "id": "01ec4c9e",
   "metadata": {},
   "outputs": [],
   "source": [
    "class Solution:\n",
    "    # @param A : list of integers\n",
    "    # @param B : list of integers\n",
    "    # @return the root node in the tree\n",
    "    def buildTree(self, A, B):\n",
    "        if not A:\n",
    "            return None\n",
    "        root = TreeNode(B[-1])\n",
    "        index = 0\n",
    "        for index in range(len(A)):\n",
    "            if A[index] == B[-1]:\n",
    "                break\n",
    "        root.left = self.buildTree(A[:index], B[:index])\n",
    "        root.right = self.buildTree(A[index + 1:], B[index:-1])\n",
    "        return root"
   ]
  },
  {
   "cell_type": "markdown",
   "id": "6bd460ff",
   "metadata": {},
   "source": [
    "## Coding Ninjas Problem of the Day"
   ]
  },
  {
   "cell_type": "markdown",
   "id": "66f42200",
   "metadata": {},
   "source": [
    "## [Easy](https://www.naukri.com/code360/problems/alex-and-infinity-circle_1473846)\n",
    "### Python Compiler error"
   ]
  },
  {
   "cell_type": "code",
   "execution_count": 2,
   "id": "e4d55036",
   "metadata": {},
   "outputs": [],
   "source": [
    "def isPossible(s: str, n: int) -> str:\n",
    "    x, y = 0, 0\n",
    "    dx, dy = 1, 0  # Initial direction: right\n",
    "\n",
    "    for _ in range(4):  # Repeat the loop 4 times\n",
    "        for c in s:\n",
    "            if c == 'G':\n",
    "                x += dx\n",
    "                y += dy\n",
    "            elif c == 'L':\n",
    "                # Rotate left 90 degrees\n",
    "                dx, dy = -dy, dx\n",
    "            elif c == 'R':\n",
    "                # Rotate right 90 degrees\n",
    "                dx, dy = dy, -dx\n",
    "\n",
    "    # If the loop completes, the final position is (0, 0)\n",
    "    if x == 0 and y == 0:\n",
    "        return \"True\"\n",
    "    else:\n",
    "        return \"False\""
   ]
  },
  {
   "cell_type": "markdown",
   "id": "b8494e61",
   "metadata": {},
   "source": [
    "## [Moderate]()"
   ]
  },
  {
   "cell_type": "code",
   "execution_count": 2,
   "id": "f751f333",
   "metadata": {},
   "outputs": [],
   "source": [
    "def cubicSquare(m, a, b):\n",
    "    exp,base=0,1\n",
    "    for i in range(len(b)-1,-1,-1):\n",
    "        digit=int(b[i])\n",
    "        exp+=digit*base\n",
    "        base*=3\n",
    "    def power(x,y,p):\n",
    "        res=1\n",
    "        while y>1:\n",
    "            if y&1 :res=(res*x)%p\n",
    "            y=y>>1\n",
    "            x=(x*x)%p\n",
    "        return (x*res)%p\n",
    "    return power(a,exp,m)"
   ]
  },
  {
   "cell_type": "markdown",
   "id": "e5fc51cc",
   "metadata": {},
   "source": [
    "## [Hard](https://www.naukri.com/code360/problems/paint-house_1460385)"
   ]
  },
  {
   "cell_type": "code",
   "execution_count": 3,
   "id": "3348ef19",
   "metadata": {},
   "outputs": [],
   "source": [
    "def Memo(arr,ind,prev,dp):\n",
    "    n=len(arr)\n",
    "    if ind>=n:return 0\n",
    "    if dp[ind][prev]!=-1:return dp[ind][prev]\n",
    "    ans=float('inf')\n",
    "    for i in range(3):\n",
    "        if prev!=i:\n",
    "            ans=min(ans,Memo(arr,ind+1,i,dp)+arr[ind][i])\n",
    "    dp[ind][prev]=ans\n",
    "    return ans\n",
    "def minCost(arr):\n",
    "    final,n=float('inf'),len(arr)\n",
    "    dp=[[-1]*4 for i in range(n+1)]\n",
    "    for i in range(3):final=min(final,Memo(arr,0,i,dp))\n",
    "    return final"
   ]
  },
  {
   "cell_type": "code",
   "execution_count": null,
   "id": "864d385a",
   "metadata": {},
   "outputs": [],
   "source": []
  }
 ],
 "metadata": {
  "kernelspec": {
   "display_name": "Python 3 (ipykernel)",
   "language": "python",
   "name": "python3"
  },
  "language_info": {
   "codemirror_mode": {
    "name": "ipython",
    "version": 3
   },
   "file_extension": ".py",
   "mimetype": "text/x-python",
   "name": "python",
   "nbconvert_exporter": "python",
   "pygments_lexer": "ipython3",
   "version": "3.11.5"
  }
 },
 "nbformat": 4,
 "nbformat_minor": 5
}
