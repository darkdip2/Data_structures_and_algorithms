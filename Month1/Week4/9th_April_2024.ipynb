{
 "cells": [
  {
   "cell_type": "markdown",
   "id": "d2ffff82",
   "metadata": {},
   "source": [
    "## Q.1"
   ]
  },
  {
   "cell_type": "markdown",
   "id": "2be451c7",
   "metadata": {},
   "source": [
    "### Diameter of Binary Tree\n",
    "\n",
    "Given the root of a binary tree, return the length of the diameter of the tree.\n",
    "\n",
    "The diameter of a binary tree is the length of the longest path between any two nodes in a tree. This path may or may not pass through the root.\n",
    "\n",
    "The length of a path between two nodes is represented by the number of edges between them."
   ]
  },
  {
   "cell_type": "markdown",
   "id": "b463c5ca",
   "metadata": {},
   "source": [
    "- [LeetCode](https://leetcode.com/problems/diameter-of-binary-tree/)"
   ]
  },
  {
   "cell_type": "markdown",
   "id": "c04699b3",
   "metadata": {},
   "source": [
    "## Intuition"
   ]
  },
  {
   "cell_type": "markdown",
   "id": "ff548fba",
   "metadata": {},
   "source": [
    "- Use recursion to return max height for each node.\n",
    "- Maximize diameter which is Left height + right height."
   ]
  },
  {
   "cell_type": "markdown",
   "id": "b35c0d8a",
   "metadata": {},
   "source": [
    "## Solution"
   ]
  },
  {
   "cell_type": "code",
   "execution_count": 2,
   "id": "54651483",
   "metadata": {},
   "outputs": [],
   "source": [
    "class Solution:\n",
    "    def diameterOfBinaryTree(self, root) -> int:\n",
    "        dia=float('-inf')\n",
    "        def Dia(r):\n",
    "            nonlocal dia\n",
    "            if not r:return 0\n",
    "            L,r=Dia(r.left),Dia(r.right)\n",
    "            dia=max(L+r,dia)\n",
    "            return 1+max(L,r)\n",
    "        Dia(root)\n",
    "        return dia        "
   ]
  },
  {
   "cell_type": "markdown",
   "id": "5139132e",
   "metadata": {},
   "source": [
    "## Q.2"
   ]
  },
  {
   "cell_type": "markdown",
   "id": "c8e5f076",
   "metadata": {},
   "source": [
    "### Balanced Binary Tree\n",
    "\n",
    "Given a binary tree, determine if it is height-balanced."
   ]
  },
  {
   "cell_type": "markdown",
   "id": "36a9d119",
   "metadata": {},
   "source": [
    "- [LeetCode](https://leetcode.com/problems/balanced-binary-tree/description/)\n",
    "- [Interviewbit](https://www.interviewbit.com/problems/balanced-binary-tree/)"
   ]
  },
  {
   "cell_type": "markdown",
   "id": "a30e8bdd",
   "metadata": {},
   "source": [
    "## Intuition"
   ]
  },
  {
   "cell_type": "markdown",
   "id": "33a0128d",
   "metadata": {},
   "source": [
    "- Use Recursion to get maximum height for each nodes.\n",
    "- Use another recursive function to check that the absolute difference of max heights for Left subtree and right subtree for each node is less than or equal to 1."
   ]
  },
  {
   "cell_type": "markdown",
   "id": "6e1722c3",
   "metadata": {},
   "source": [
    "## Solution"
   ]
  },
  {
   "cell_type": "code",
   "execution_count": 3,
   "id": "04722852",
   "metadata": {},
   "outputs": [],
   "source": [
    "class Solution:\n",
    "    # @param A : root node of tree\n",
    "    # @return a boolean\n",
    "    def isBalanced(self, A):\n",
    "        def Height(r):\n",
    "            if not r:\n",
    "                return 0\n",
    "            L, R = Height(r.left), Height(r.right)\n",
    "            return 1 + max(L, R)\n",
    "\n",
    "        def Rec(r):\n",
    "            if not r:\n",
    "                return True\n",
    "            return abs(Height(r.left) - Height(r.right)) <= 1 \\\n",
    "                and Rec(r.left) \\\n",
    "                and Rec(r.right)\n",
    "\n",
    "        return Rec(A)"
   ]
  },
  {
   "cell_type": "markdown",
   "id": "56e05ee3",
   "metadata": {},
   "source": [
    "## Q.3"
   ]
  },
  {
   "cell_type": "markdown",
   "id": "ff4e1272",
   "metadata": {},
   "source": [
    "### Vertical Order Traversal of a Binary Tree\n",
    "\n",
    "Given the root of a binary tree, calculate the vertical order traversal of the binary tree.\n",
    "\n",
    "For each node at position (row, col), its left and right children will be at positions (row + 1, col - 1) and (row + 1, col + 1) respectively. The root of the tree is at (0, 0).\n",
    "\n",
    "The vertical order traversal of a binary tree is a list of top-to-bottom orderings for each column index starting from the leftmost column and ending on the rightmost column. There may be multiple nodes in the same row and same column. In such a case, sort these nodes by their values.\n",
    "\n",
    "Return the vertical order traversal of the binary tree."
   ]
  },
  {
   "cell_type": "markdown",
   "id": "616cb7f5",
   "metadata": {},
   "source": [
    "- [LeetCode](https://leetcode.com/problems/vertical-order-traversal-of-a-binary-tree/)\n",
    "- [Interviewbit](https://www.interviewbit.com/problems/vertical-order-traversal-of-binary-tree/)"
   ]
  },
  {
   "cell_type": "markdown",
   "id": "31d60ab6",
   "metadata": {},
   "source": [
    "## Intuition"
   ]
  },
  {
   "cell_type": "markdown",
   "id": "b6633a26",
   "metadata": {},
   "source": [
    "- Use a defaultdict and traverse the tree mapping each level with a list of node values and y coordinate.\n",
    "- Sort the map in ascending key value and then sort each level based on y value and node value."
   ]
  },
  {
   "cell_type": "markdown",
   "id": "a95e2024",
   "metadata": {},
   "source": [
    "## Solution"
   ]
  },
  {
   "cell_type": "code",
   "execution_count": 1,
   "id": "1d891749",
   "metadata": {},
   "outputs": [],
   "source": [
    "from collections import defaultdict, deque\n",
    "class Solution:\n",
    "    # @param A : root node of tree\n",
    "    # @return a list of list of integers\n",
    "    def verticalTraversal(self, A):\n",
    "        Q, L, ans = deque([(A, 0, 0)]), defaultdict(list), []\n",
    "        while Q:\n",
    "            F, x, y = Q.popleft()\n",
    "            L[x].append((y,F.val))\n",
    "            if F.left:\n",
    "                Q.append((F.left, x - 1, y + 1))\n",
    "            if F.right:\n",
    "                Q.append((F.right, x + 1, y + 1))\n",
    "        for i in sorted(L):\n",
    "            ans.append(sorted(L[i],key=lambda x:(x[0],x[1])))\n",
    "        return [[j[1] for j in i] for i in ans]"
   ]
  },
  {
   "cell_type": "markdown",
   "id": "ebcbbd79",
   "metadata": {},
   "source": [
    "## Q.4"
   ]
  },
  {
   "cell_type": "markdown",
   "id": "2c468554",
   "metadata": {},
   "source": [
    "### Top View Of Binary Tree\n",
    "\n",
    "You are given a Binary Tree of 'n' nodes.\n",
    "The Top view of the binary tree is the set of nodes visible when we see the tree from the top.\n",
    "Find the top view of the given binary tree, from left to right."
   ]
  },
  {
   "cell_type": "markdown",
   "id": "fbb0bf51",
   "metadata": {},
   "source": [
    "- [Coding Ninjas](https://www.naukri.com/code360/problems/top-view-of-the-tree_799401)"
   ]
  },
  {
   "cell_type": "markdown",
   "id": "531a303b",
   "metadata": {},
   "source": [
    "## Intuition"
   ]
  },
  {
   "cell_type": "markdown",
   "id": "8ed029de",
   "metadata": {},
   "source": [
    "- Same as the last one but no need to keep y coordinate instead perform level order traversal.\n",
    "- Sort the map in ascending order of keys and take the first element of each level into the answer array.\n",
    "- For bottom view just take the last element rest code is same."
   ]
  },
  {
   "cell_type": "markdown",
   "id": "138a234a",
   "metadata": {},
   "source": [
    "## Solution"
   ]
  },
  {
   "cell_type": "code",
   "execution_count": 1,
   "id": "10e1e254",
   "metadata": {},
   "outputs": [],
   "source": [
    "from collections import defaultdict, deque\n",
    "class BinaryTreeNode:\n",
    "    def __init__(self, data):\n",
    "        self.val = data\n",
    "        self.left = None\n",
    "        self.right = None\n",
    "\n",
    "def getTopView(A):\n",
    "    Q, L, ans = deque([(A, 0)]), defaultdict(list), []\n",
    "    while Q:\n",
    "        F, x = Q.popleft()\n",
    "        L[x].append(F.val)\n",
    "        if F.left:\n",
    "            Q.append((F.left, x - 1))\n",
    "        if F.right:\n",
    "            Q.append((F.right, x + 1))\n",
    "    for i in sorted(L):\n",
    "        ans.append(L[i][0])\n",
    "    return ans"
   ]
  },
  {
   "cell_type": "markdown",
   "id": "0f7ff744",
   "metadata": {},
   "source": [
    "## Q.5"
   ]
  },
  {
   "cell_type": "markdown",
   "id": "c502eae3",
   "metadata": {},
   "source": [
    "### Binary Tree Right Side View\n",
    "\n",
    "Given the root of a binary tree, imagine yourself standing on the right side of it, return the values of the nodes you can see ordered from top to bottom."
   ]
  },
  {
   "cell_type": "markdown",
   "id": "b04f47b2",
   "metadata": {},
   "source": [
    "- [LeetCode](https://leetcode.com/problems/binary-tree-right-side-view/description/)\n",
    "- [Interviewbit](https://www.interviewbit.com/problems/right-view-of-binary-tree/)"
   ]
  },
  {
   "cell_type": "markdown",
   "id": "1ee6d3ac",
   "metadata": {},
   "source": [
    "## Intuition"
   ]
  },
  {
   "cell_type": "markdown",
   "id": "474d0f86",
   "metadata": {},
   "source": [
    "- Perform level order traversal and pick the last element of each level.\n",
    "- For left view just pick the first element of each level."
   ]
  },
  {
   "cell_type": "markdown",
   "id": "3d5da4b5",
   "metadata": {},
   "source": [
    "## Solution"
   ]
  },
  {
   "cell_type": "code",
   "execution_count": 1,
   "id": "a4e80a7a",
   "metadata": {},
   "outputs": [],
   "source": [
    "from collections import deque\n",
    "class Solution:\n",
    "    # @param A : root node of tree\n",
    "    # @return a list of integers\n",
    "    def rightSideView(self, A):\n",
    "        if not A:return []\n",
    "        Q,ans=deque([A]),[]\n",
    "        while Q:\n",
    "            n=len(Q)\n",
    "            for i in range(n):\n",
    "                F=Q.popleft()\n",
    "                if i==n-1:ans.append(F.val)\n",
    "                if F.left:Q.append(F.left)\n",
    "                if F.right:Q.append(F.right)\n",
    "        return ans"
   ]
  },
  {
   "cell_type": "markdown",
   "id": "9dc01770",
   "metadata": {},
   "source": [
    "## Q.6"
   ]
  },
  {
   "cell_type": "markdown",
   "id": "14d673c0",
   "metadata": {},
   "source": [
    "### Binary Tree Zigzag Level Order Traversal\n",
    "\n",
    "Given the root of a binary tree, return the zigzag level order traversal of its nodes' values. (i.e., from left to right, then right to left for the next level and alternate between)."
   ]
  },
  {
   "cell_type": "markdown",
   "id": "aec96ee0",
   "metadata": {},
   "source": [
    "- [LeetCode](https://leetcode.com/problems/binary-tree-zigzag-level-order-traversal/description/)\n",
    "- [Interviewbit](https://www.interviewbit.com/problems/zigzag-level-order-traversal-bt/)"
   ]
  },
  {
   "cell_type": "markdown",
   "id": "bb61fc6b",
   "metadata": {},
   "source": [
    "## Intuition"
   ]
  },
  {
   "cell_type": "markdown",
   "id": "bc4ae9c7",
   "metadata": {},
   "source": [
    "- Use level order traversal and reverse the node for odd levels."
   ]
  },
  {
   "cell_type": "markdown",
   "id": "ec838fcf",
   "metadata": {},
   "source": [
    "## Solution"
   ]
  },
  {
   "cell_type": "code",
   "execution_count": 4,
   "id": "cbb64385",
   "metadata": {},
   "outputs": [],
   "source": [
    "from collections import deque\n",
    "\n",
    "class Solution:\n",
    "    # @param A : root node of tree\n",
    "    # @return a list of list of integers\n",
    "    def zigzagLevelOrder(self, A):\n",
    "        if not A:\n",
    "            return []\n",
    "\n",
    "        Q, l, ans = deque([A]), 0, []\n",
    "\n",
    "        while Q:\n",
    "            L, n = [], len(Q)\n",
    "            for i in range(n):\n",
    "                F = Q.popleft()\n",
    "                L.append(F.val)\n",
    "                if F.left:\n",
    "                    Q.append(F.left)\n",
    "                if F.right:\n",
    "                    Q.append(F.right)\n",
    "            if l % 2:\n",
    "                ans.append(L[::-1])\n",
    "            else:\n",
    "                ans.append(L)\n",
    "            l += 1\n",
    "\n",
    "        return ans"
   ]
  },
  {
   "cell_type": "markdown",
   "id": "5dff6edd",
   "metadata": {},
   "source": [
    "## Q.7"
   ]
  },
  {
   "cell_type": "markdown",
   "id": "62a467a7",
   "metadata": {},
   "source": [
    "### Binary Tree Maximum Path Sum\n",
    "\n",
    "A path in a binary tree is a sequence of nodes where each pair of adjacent nodes in the sequence has an edge connecting them. A node can only appear in the sequence at most once. Note that the path does not need to pass through the root.\n",
    "\n",
    "The path sum of a path is the sum of the node's values in the path.\n",
    "\n",
    "Given the root of a binary tree, return the maximum path sum of any non-empty path."
   ]
  },
  {
   "cell_type": "markdown",
   "id": "f9a574c3",
   "metadata": {},
   "source": [
    "- [LeetCode](https://leetcode.com/problems/binary-tree-maximum-path-sum/description/)\n",
    "- [Interviewbit](https://www.interviewbit.com/problems/max-sum-path-in-binary-tree/)"
   ]
  },
  {
   "cell_type": "markdown",
   "id": "76dadb62",
   "metadata": {},
   "source": [
    "## Intuition"
   ]
  },
  {
   "cell_type": "markdown",
   "id": "4402ea9a",
   "metadata": {},
   "source": [
    "- Kind of similar to diameter problem.\n",
    "- Return max of Left and right + current and keep updating global maxima with Left+Right+curr."
   ]
  },
  {
   "cell_type": "markdown",
   "id": "8a250552",
   "metadata": {},
   "source": [
    "## Solution"
   ]
  },
  {
   "cell_type": "code",
   "execution_count": 5,
   "id": "01ec4c9e",
   "metadata": {},
   "outputs": [],
   "source": [
    "class Solution:\n",
    "    # @param A : root node of tree\n",
    "    # @return an integer\n",
    "    def maxPathSum(self, A):\n",
    "        Max = float('-inf')\n",
    "\n",
    "        def Rec(root):\n",
    "            nonlocal Max\n",
    "            if not root:\n",
    "                return 0\n",
    "            L, r = max(Rec(root.left),0), max(Rec(root.right),0)\n",
    "            Max=max(L+r+root.val,Max)\n",
    "            return root.val+max(L,r)\n",
    "\n",
    "        Rec(A)\n",
    "        return Max"
   ]
  },
  {
   "cell_type": "markdown",
   "id": "6bd460ff",
   "metadata": {},
   "source": [
    "## Coding Ninjas Problem of the Day"
   ]
  },
  {
   "cell_type": "markdown",
   "id": "66f42200",
   "metadata": {},
   "source": [
    "## [Easy](https://www.naukri.com/code360/problems/make-groups_975275)"
   ]
  },
  {
   "cell_type": "code",
   "execution_count": 2,
   "id": "e4d55036",
   "metadata": {},
   "outputs": [],
   "source": [
    "def findTwoGroups(n):\n",
    "    return (n+1)//2 % 2"
   ]
  },
  {
   "cell_type": "markdown",
   "id": "b8494e61",
   "metadata": {},
   "source": [
    "## [Moderate](https://www.naukri.com/code360/problems/preorder-traversal-to-bst_893111)"
   ]
  },
  {
   "cell_type": "code",
   "execution_count": 2,
   "id": "f751f333",
   "metadata": {},
   "outputs": [],
   "source": [
    "class   TreeNode :\n",
    "    def __init__(self, data) :\n",
    "        self.data = data\n",
    "        self.left = None\n",
    "        self.right = None\n",
    "\n",
    "    def __del__(self):\n",
    "        if self.left:\n",
    "            del self.left\n",
    "        if self.right:\n",
    "            del self.right\n",
    "\n",
    "def preorderToBST(preorder):\n",
    "    inorder=sorted(preorder)\n",
    "    M={val:idx for idx,val in enumerate(inorder)}\n",
    "    def Build(P,start,end):\n",
    "        nonlocal index \n",
    "        if start>end:return None\n",
    "        root=TreeNode(P[index])\n",
    "        index+=1\n",
    "        i=M[root.data]\n",
    "        root.left=Build(P,start,i-1)\n",
    "        root.right=Build(P,i+1,end)\n",
    "        return root\n",
    "    index=0\n",
    "    return Build(preorder,0,len(preorder)-1)"
   ]
  },
  {
   "cell_type": "markdown",
   "id": "e5fc51cc",
   "metadata": {},
   "source": [
    "## [Hard](https://www.naukri.com/code360/problems/maximum-size-rectangle-sub-matrix-with-all-1-s_893017)"
   ]
  },
  {
   "cell_type": "code",
   "execution_count": 3,
   "id": "3348ef19",
   "metadata": {},
   "outputs": [],
   "source": [
    "from sys import stdin, stdout, setrecursionlimit\n",
    "\n",
    "def MaxArea(hist):\n",
    "    S1,S2,area,n=[],[],0,len(hist)\n",
    "    NSE,PSE=[n]*n,[-1]*n \n",
    "    for i in range(n):\n",
    "        while S1 and hist[S1[-1]]>hist[i]:\n",
    "            NSE[S1.pop()]=i\n",
    "        while S2 and hist[S2[-1]]>=hist[i]:\n",
    "            S2.pop()\n",
    "        if S2:PSE[i]=S2[-1]\n",
    "        S1.append(i)\n",
    "        S2.append(i)\n",
    "    for i in range(n):\n",
    "        area=max((NSE[i]-PSE[i]-1)*hist[i],area)\n",
    "    return area\n",
    "def maximalAreaOfSubMatrix(mat, N, M):\n",
    "    R,area=[0]*M,0\n",
    "    for i in range(N):\n",
    "        for j in range(M):\n",
    "            if mat[i][j]==1:R[j]+=1\n",
    "            else:R[j]=0\n",
    "        area=max(MaxArea(R),area)\n",
    "    return area"
   ]
  },
  {
   "cell_type": "code",
   "execution_count": null,
   "id": "864d385a",
   "metadata": {},
   "outputs": [],
   "source": []
  }
 ],
 "metadata": {
  "kernelspec": {
   "display_name": "Python 3 (ipykernel)",
   "language": "python",
   "name": "python3"
  },
  "language_info": {
   "codemirror_mode": {
    "name": "ipython",
    "version": 3
   },
   "file_extension": ".py",
   "mimetype": "text/x-python",
   "name": "python",
   "nbconvert_exporter": "python",
   "pygments_lexer": "ipython3",
   "version": "3.11.5"
  }
 },
 "nbformat": 4,
 "nbformat_minor": 5
}
