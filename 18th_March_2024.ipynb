{
 "cells": [
  {
   "cell_type": "markdown",
   "id": "882c0120",
   "metadata": {},
   "source": [
    "## Q.1"
   ]
  },
  {
   "cell_type": "markdown",
   "id": "766790c8",
   "metadata": {},
   "source": [
    "### Next Permutation\n",
    "\n",
    "- [LeetCode](https://leetcode.com/problems/next-permutation/description/)\n",
    "- [CodeNinjas](https://www.codingninjas.com/studio/problems/next-greater-permutation_6929564)\n",
    "- [Interviewbit](https://www.interviewbit.com/problems/next-permutation/)\n",
    "\n",
    "A permutation of an array of integers is an arrangement of its members into a sequence or linear order.\n",
    "\n",
    "For example, for `arr = [1,2,3]`, the following are all the permutations of `arr`:\n",
    "- [1,2,3]\n",
    "- [1,3,2]\n",
    "- [2,1,3]\n",
    "- [2,3,1]\n",
    "- [3,1,2]\n",
    "- [3,2,1]\n",
    "\n",
    "The next permutation of an array of integers is the next lexicographically greater permutation of its integer. More formally, if all the permutations of the array are sorted in one container according to their lexicographical order, then the next permutation of that array is the permutation that follows it in the sorted container. If such an arrangement is not possible, the array must be rearranged as the lowest possible order (i.e., sorted in ascending order)."
   ]
  },
  {
   "cell_type": "markdown",
   "id": "15699c63",
   "metadata": {},
   "source": [
    "### Pseudocode for Finding Next Permutation\n",
    "\n",
    "1. **Start from the right:**\n",
    "   - Start iterating from the second last element (`i = n - 1`) to the first element (`i = 0`).\n",
    "   - Check if `A[i-1] < A[i]`. If not, it means the array is in descending order, so return the sorted array.\n",
    "\n",
    "2. **Find the element to swap:**\n",
    "   - If `A[i-1] < A[i]`, find the rightmost element `A[j]` on the right side of `A[i-1]` such that `A[j]` is the lowest value larger than `A[i-1]`.\n",
    "   - Swap `A[i-1]` and `A[j]`.\n",
    "\n",
    "3. **Reverse the remaining elements:**\n",
    "   - Return the concatenated array: `A[:i] + reversed(A[i:])`."
   ]
  },
  {
   "cell_type": "markdown",
   "id": "33f53a22",
   "metadata": {},
   "source": [
    "## Solution"
   ]
  },
  {
   "cell_type": "code",
   "execution_count": null,
   "id": "b447a96f",
   "metadata": {},
   "outputs": [],
   "source": [
    "class Solution:\n",
    "    def nextPermutation(self, nums: List[int]) -> None:\n",
    "        n=len(nums)\n",
    "        i=n-1\n",
    "        while i>=1:\n",
    "            if nums[i-1]<nums[i]:\n",
    "                break\n",
    "            i-=1\n",
    "        if i==0:\n",
    "            nums.sort()\n",
    "            return\n",
    "        M=float('inf')\n",
    "        j=i\n",
    "        for k in range(i,n):\n",
    "            if nums[k]>nums[i-1]:\n",
    "                if nums[k]<=M:\n",
    "                    M=nums[k]\n",
    "                    j=k\n",
    "        nums[i-1],nums[j]=nums[j],nums[i-1]\n",
    "        L,r=i,n-1\n",
    "        while L<=r:\n",
    "            T=nums[L]\n",
    "            nums[L]=nums[r]\n",
    "            nums[r]=T\n",
    "            L+=1\n",
    "            r-=1"
   ]
  },
  {
   "cell_type": "markdown",
   "id": "6a5bb1a9",
   "metadata": {},
   "source": [
    "## Q.2"
   ]
  },
  {
   "cell_type": "markdown",
   "id": "02d688fa",
   "metadata": {},
   "source": [
    "### Find Rank of String Permutation\n",
    "\n",
    "Given a string `A`, find the rank of the string amongst its permutations sorted lexicographically. Assume that no characters are repeated."
   ]
  },
  {
   "cell_type": "markdown",
   "id": "dc6a69db",
   "metadata": {},
   "source": [
    "- [Interviewbit](https://www.interviewbit.com/problems/sorted-permutation-rank/)"
   ]
  },
  {
   "cell_type": "markdown",
   "id": "b7803604",
   "metadata": {},
   "source": [
    "## Intuition\n",
    "\n",
    "- For each character in the string, count the number of characters that would come before it if the string was sorted lexicographically.\n",
    "- For each character at position `i` in the string:\n",
    "  - Let `n` be the length of the string.\n",
    "  - For each character `c` such that `A[c] < A[i]`:\n",
    "    - Increment the rank by `c * (n - i - 1)!`.\n",
    "  - Finally, add `1` to the rank."
   ]
  },
  {
   "cell_type": "markdown",
   "id": "e12a5cdc",
   "metadata": {},
   "source": [
    "## Solution"
   ]
  },
  {
   "cell_type": "code",
   "execution_count": null,
   "id": "4c06a0d8",
   "metadata": {},
   "outputs": [],
   "source": [
    "def lexiRank(A):\n",
    "        M={}\n",
    "        def Fact(n):\n",
    "            if n==0 or n==1:return 1\n",
    "            if n in M:return M[n]\n",
    "            return Fact(n-1)*n\n",
    "        n=len(A)\n",
    "        ans=0\n",
    "        for i in range(n):\n",
    "            c=0\n",
    "            for j in range(i+1,n):\n",
    "                if ord(A[j])<ord(A[i]):\n",
    "                    c+=1\n",
    "            ans+=c*(Fact(n-i-1))\n",
    "        return ans+1"
   ]
  },
  {
   "cell_type": "markdown",
   "id": "5f6e0d61",
   "metadata": {},
   "source": [
    "## Problem of the day Coding Ninjas"
   ]
  },
  {
   "cell_type": "markdown",
   "id": "c7c4ca67",
   "metadata": {},
   "source": [
    "## [Easy](https://www.codingninjas.com/studio/problems/isomorphic-strings-_1117636)"
   ]
  },
  {
   "cell_type": "code",
   "execution_count": null,
   "id": "8da5b226",
   "metadata": {},
   "outputs": [],
   "source": [
    "def areIsomorphic(str1: str, str2: str) -> bool:\n",
    "    n1,n2=len(str1),len(str2)\n",
    "    if n1!=n2:return False\n",
    "    M1,M2={},{}\n",
    "    for i in range(n1):\n",
    "        if str1[i] not in M1:\n",
    "            M1[str1[i]]=str2[i]\n",
    "        elif M1[str1[i]]!=str2[i]:\n",
    "            return False\n",
    "        if str2[i] not in M2:\n",
    "            M2[str2[i]]=str1[i]\n",
    "        elif M2[str2[i]]!=str1[i]:\n",
    "            return False\n",
    "    return True"
   ]
  },
  {
   "cell_type": "markdown",
   "id": "c22767a7",
   "metadata": {},
   "source": [
    "## [Moderate](https://www.codingninjas.com/studio/problems/four-divisors_1463975)"
   ]
  },
  {
   "cell_type": "code",
   "execution_count": null,
   "id": "289b81bd",
   "metadata": {},
   "outputs": [],
   "source": [
    "def sumFourDivisors(arr, n):\n",
    "    def Filter(n):\n",
    "        s=set()\n",
    "        for i in range(1,round(sqrt(n))+1):\n",
    "            if n%i==0:\n",
    "                s.add(i)\n",
    "                s.add(n//i)\n",
    "        return sum(s) if len(s)==4 else 0\n",
    "    s=0\n",
    "    for i in arr:\n",
    "        s+=Filter(i)\n",
    "    return s"
   ]
  },
  {
   "cell_type": "markdown",
   "id": "33000901",
   "metadata": {},
   "source": [
    "## [Hard](https://www.codingninjas.com/studio/problems/maximum-xor_973113)"
   ]
  },
  {
   "cell_type": "code",
   "execution_count": null,
   "id": "34089295",
   "metadata": {},
   "outputs": [],
   "source": [
    "class TrieNode:\n",
    "    def __init__(self):\n",
    "        self.children={}\n",
    "        self.value=0\n",
    "\n",
    "class Trie:\n",
    "    def __init__(self):\n",
    "        self.root=TrieNode()\n",
    "\n",
    "    def insert(self,num):\n",
    "        node=self.root\n",
    "        for i in range(31,-1,-1):\n",
    "            bit=(num>>i)&1\n",
    "            if bit not in node.children:\n",
    "                node.children[bit]=TrieNode()\n",
    "            node=node.children[bit]\n",
    "        node.value=num\n",
    "\n",
    "    def find_max_xor(self,num):\n",
    "        node=self.root\n",
    "        for i in range(31,-1,-1):\n",
    "            bit=(num>>i)&1\n",
    "            if 1-bit in node.children:\n",
    "                node=node.children[1-bit]\n",
    "            else:\n",
    "                node=node.children[bit]\n",
    "        return num^node.value\n",
    "\n",
    "def maxXOR(n, m, arr1, arr2):\n",
    "    trie=Trie()\n",
    "    for i in arr1:trie.insert(i)\n",
    "    max_xor=0\n",
    "    for j in arr2:max_xor=max(max_xor,trie.find_max_xor(j))\n",
    "    return max_xor"
   ]
  }
 ],
 "metadata": {
  "kernelspec": {
   "display_name": "Python 3 (ipykernel)",
   "language": "python",
   "name": "python3"
  },
  "language_info": {
   "codemirror_mode": {
    "name": "ipython",
    "version": 3
   },
   "file_extension": ".py",
   "mimetype": "text/x-python",
   "name": "python",
   "nbconvert_exporter": "python",
   "pygments_lexer": "ipython3",
   "version": "3.11.5"
  }
 },
 "nbformat": 4,
 "nbformat_minor": 5
}
