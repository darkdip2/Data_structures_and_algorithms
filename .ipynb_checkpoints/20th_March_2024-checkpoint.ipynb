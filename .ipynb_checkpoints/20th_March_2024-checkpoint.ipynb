{
 "cells": [
  {
   "cell_type": "markdown",
   "id": "5951a0f5",
   "metadata": {},
   "source": [
    "## Q.1"
   ]
  },
  {
   "cell_type": "markdown",
   "id": "0d121116",
   "metadata": {},
   "source": [
    "### Reverse Subarray to maximize array value\n",
    "\n",
    "You are given an integer array nums. The value of this array is defined as the sum of |nums[i] - nums[i + 1]| for all 0 <= i < nums.length - 1.\n",
    "\n",
    "You are allowed to select any subarray of the given array and reverse it. You can perform this operation only once.\n",
    "\n",
    "Find maximum possible value of the final array."
   ]
  },
  {
   "cell_type": "markdown",
   "id": "b1fc4bf4",
   "metadata": {},
   "source": [
    "- [LeetCode](https://leetcode.com/problems/reverse-subarray-to-maximize-array-value/description/)"
   ]
  },
  {
   "cell_type": "code",
   "execution_count": null,
   "id": "6471ce87",
   "metadata": {},
   "outputs": [],
   "source": []
  }
 ],
 "metadata": {
  "kernelspec": {
   "display_name": "Python 3 (ipykernel)",
   "language": "python",
   "name": "python3"
  },
  "language_info": {
   "codemirror_mode": {
    "name": "ipython",
    "version": 3
   },
   "file_extension": ".py",
   "mimetype": "text/x-python",
   "name": "python",
   "nbconvert_exporter": "python",
   "pygments_lexer": "ipython3",
   "version": "3.11.5"
  }
 },
 "nbformat": 4,
 "nbformat_minor": 5
}
