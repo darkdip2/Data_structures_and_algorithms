{
 "cells": [
  {
   "cell_type": "markdown",
   "id": "e640218a",
   "metadata": {},
   "source": [
    "## Q.1"
   ]
  },
  {
   "cell_type": "markdown",
   "id": "90e9f2bd",
   "metadata": {},
   "source": [
    "### Median of Two Sorted Arrays\n",
    "\n",
    "Given two sorted arrays nums1 and nums2 of size m and n respectively, return the median of the two sorted arrays.\n",
    "The overall run time complexity should be O(log (m+n))."
   ]
  },
  {
   "cell_type": "markdown",
   "id": "700db869",
   "metadata": {},
   "source": [
    "- [LeetCode](https://leetcode.com/problems/median-of-two-sorted-arrays/)\n",
    "- [Coding Ninjas](https://www.codingninjas.com/studio/problems/median-of-two-sorted-arrays_985294)\n",
    "- [InterviewBit](https://search.brave.com/search?q=median+of+two+sorted+Arrays+interviewbit&source=web)"
   ]
  },
  {
   "cell_type": "markdown",
   "id": "6d600b98",
   "metadata": {},
   "source": [
    "## Pseudocode"
   ]
  },
  {
   "cell_type": "code",
   "execution_count": null,
   "id": "f561c12d",
   "metadata": {},
   "outputs": [],
   "source": []
  },
  {
   "cell_type": "markdown",
   "id": "4c40e6b5",
   "metadata": {},
   "source": [
    "## Solution"
   ]
  },
  {
   "cell_type": "code",
   "execution_count": null,
   "id": "008aaedf",
   "metadata": {},
   "outputs": [],
   "source": []
  },
  {
   "cell_type": "markdown",
   "id": "3d6da544",
   "metadata": {},
   "source": [
    "## Q.2"
   ]
  },
  {
   "cell_type": "markdown",
   "id": "213e2481",
   "metadata": {},
   "source": [
    "### Find Peak Element\n",
    "\n",
    "A peak element is an element that is strictly greater than its neighbors.\n",
    "\n",
    "Given a 0-indexed integer array nums, find a peak element, and return its index. If the array contains multiple peaks, return the index to any of the peaks.\n",
    "\n",
    "You may imagine that nums[-1] = nums[n] = -∞. In other words, an element is always considered to be strictly greater than a neighbor that is outside the array.\n",
    "\n",
    "You must write an algorithm that runs in O(log n) time."
   ]
  },
  {
   "cell_type": "markdown",
   "id": "87b15e2a",
   "metadata": {},
   "source": [
    "- [LeetCode](https://leetcode.com/problems/find-peak-element/)\n",
    "- [Coding Ninjas](https://www.codingninjas.com/studio/problems/find-peak-element_1081482)\n",
    "- [InterviewBit](https://search.brave.com/search?q=peak+element+interviewbit&source=desktop)"
   ]
  },
  {
   "cell_type": "markdown",
   "id": "2ae4b796",
   "metadata": {},
   "source": [
    "## Intuition"
   ]
  },
  {
   "cell_type": "code",
   "execution_count": null,
   "id": "33d771fc",
   "metadata": {},
   "outputs": [],
   "source": []
  },
  {
   "cell_type": "markdown",
   "id": "065b6112",
   "metadata": {},
   "source": [
    "## Solution"
   ]
  },
  {
   "cell_type": "code",
   "execution_count": null,
   "id": "fb0a6e59",
   "metadata": {},
   "outputs": [],
   "source": []
  },
  {
   "cell_type": "markdown",
   "id": "f747ce46",
   "metadata": {},
   "source": [
    "## Q.3"
   ]
  },
  {
   "cell_type": "markdown",
   "id": "fd4e556f",
   "metadata": {},
   "source": [
    "###  Median in a row-wise sorted Matrix\n",
    "\n",
    "You are given a row-wise sorted matrix 'mat' of size m x n where 'm' and 'n' are the numbers of rows and columns of the matrix, respectively.\n",
    "Your task is to find and return the median of the matrix.\n",
    "\n",
    "Note:\n",
    "'m' and 'n' will always be odd."
   ]
  },
  {
   "cell_type": "markdown",
   "id": "0c8cb76e",
   "metadata": {},
   "source": [
    "- [Coding Ninjas](https://www.codingninjas.com/studio/problems/median-in-matrix_981178)\n",
    "- [Interviewbit]()"
   ]
  },
  {
   "cell_type": "markdown",
   "id": "337aa475",
   "metadata": {},
   "source": [
    "## Intuition"
   ]
  },
  {
   "cell_type": "code",
   "execution_count": null,
   "id": "b6b934a5",
   "metadata": {},
   "outputs": [],
   "source": []
  },
  {
   "cell_type": "markdown",
   "id": "7b404a12",
   "metadata": {},
   "source": [
    "## Solution"
   ]
  },
  {
   "cell_type": "code",
   "execution_count": null,
   "id": "530ded1e",
   "metadata": {},
   "outputs": [],
   "source": []
  },
  {
   "cell_type": "markdown",
   "id": "fe5c991f",
   "metadata": {},
   "source": [
    "## Wetzls"
   ]
  },
  {
   "cell_type": "code",
   "execution_count": 1,
   "id": "0a6959f0",
   "metadata": {},
   "outputs": [],
   "source": [
    "from typing import List\n",
    "import math\n",
    "import random\n",
    "from copy import deepcopy\n",
    "\n",
    "\n",
    "def distance(x1: float, y1: float, x2: float, y2: float) -> float:\n",
    "    ans = math.sqrt(((x2 - x1) * (x2 - x1)) + ((y2 - y1) * (y2 - y1)))\n",
    "    return ans\n",
    "\n",
    "\n",
    "def circleFrom3Pts(aX: float, aY: float, bX: float, bY: float, cX: float, cY: float) -> List[float]:\n",
    "    baX = bX - aX\n",
    "    baY = bY - aY\n",
    "    caX = cX - aX\n",
    "    caY = cY - aY\n",
    "    x = (baX * baX) + (baY * baY)\n",
    "    y = (caX * caX) + (caY * caY)\n",
    "    z = (baX * caY) - (baY * caX)\n",
    "    xCoord = ((caY * x) - (baY * y)) / (2 * z) + aX\n",
    "    yCoord = ((baX * y) - (caX * x)) / (2 * z) + aY\n",
    "    radius = distance(xCoord, yCoord, aX, aY)\n",
    "    return [xCoord, yCoord, radius]\n",
    "\n",
    "\n",
    "def findCircle(b: List[List[float]]) -> List[float]:\n",
    "    if len(b) == 0:\n",
    "        return [0.0, 0.0, 0.0]\n",
    "    elif len(b) == 1:\n",
    "        return [b[0][0], b[0][1], 0.0]\n",
    "    elif len(b) == 2:\n",
    "        xCoord = (b[0][0] + b[1][0]) / 2\n",
    "        yCoord = (b[0][1] + b[1][1]) / 2\n",
    "        radius = distance(b[0][0], b[0][1], b[1][0], b[1][1]) / 2\n",
    "        return [xCoord, yCoord, radius]\n",
    "    else:\n",
    "        return circleFrom3Pts(b[0][0], b[0][1], b[1][0], b[1][1], b[2][0], b[2][1])\n",
    "\n",
    "\n",
    "def smallestEnclosingCircle(i: int, bPts: List[List[float]], trees: List[List[int]]) -> List[int]:\n",
    "    boundaryPts = deepcopy(bPts)\n",
    "    if i == -1 or len(boundaryPts) == 3:\n",
    "        return findCircle(boundaryPts)\n",
    "    circle = smallestEnclosingCircle(i - 1, boundaryPts, trees)\n",
    "    curX = (trees[i][0]) * 1.0\n",
    "    curY = (trees[i][1]) * 1.0\n",
    "    distToCenter = distance(curX, curY, circle[0], circle[1])\n",
    "    if distToCenter <= circle[2]:\n",
    "        return circle\n",
    "    boundaryPts.append([curX, curY])\n",
    "    return smallestEnclosingCircle(i - 1, boundaryPts, trees)\n",
    "\n",
    "\n",
    "def gardenFencing(n: int, trees: List[List[float]]) -> List[float]:\n",
    "    boundaryPts = []\n",
    "    return smallestEnclosingCircle(n - 1, boundaryPts, trees)"
   ]
  },
  {
   "cell_type": "code",
   "execution_count": null,
   "id": "18040931",
   "metadata": {},
   "outputs": [],
   "source": []
  }
 ],
 "metadata": {
  "kernelspec": {
   "display_name": "Python 3 (ipykernel)",
   "language": "python",
   "name": "python3"
  },
  "language_info": {
   "codemirror_mode": {
    "name": "ipython",
    "version": 3
   },
   "file_extension": ".py",
   "mimetype": "text/x-python",
   "name": "python",
   "nbconvert_exporter": "python",
   "pygments_lexer": "ipython3",
   "version": "3.11.5"
  }
 },
 "nbformat": 4,
 "nbformat_minor": 5
}
