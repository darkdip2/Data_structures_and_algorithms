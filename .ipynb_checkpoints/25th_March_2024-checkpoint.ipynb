{
 "cells": [
  {
   "cell_type": "markdown",
   "id": "2d4c6207",
   "metadata": {},
   "source": [
    "## Q.1"
   ]
  },
  {
   "cell_type": "markdown",
   "id": "fcca76e6",
   "metadata": {},
   "source": [
    "### Painter's Partition Problem\n",
    "\n",
    "\n",
    "Given 2 integers A and B and an array of integers C of size N. Element C[i] represents the length of ith board.\n",
    "You have to paint all N boards [C0, C1, C2, C3 … CN-1]. There are A painters available and each of them takes B units of time to paint 1 unit of the board.\n",
    "\n",
    "Calculate and return the minimum time required to paint all boards under the constraints that any painter will only paint contiguous sections of the board.\n",
    "NOTE:\n",
    "1. 2 painters cannot share a board to paint. That is to say, a board cannot be painted partially by one painter, and partially by another.\n",
    "2. A painter will only paint contiguous boards. This means a configuration where painter 1 paints boards 1 and 3 but not 2 is invalid.\n",
    "\n",
    "Return the ans % 10000003."
   ]
  },
  {
   "cell_type": "markdown",
   "id": "05933383",
   "metadata": {},
   "source": [
    "- [Coding Ninjas](https://www.codingninjas.com/studio/problems/painter-s-partition-problem_1089557)\n",
    "- [Interviewbit](https://www.interviewbit.com/problems/painters-partition-problem/)"
   ]
  },
  {
   "cell_type": "markdown",
   "id": "2a5d5127",
   "metadata": {},
   "source": [
    "## Intuition"
   ]
  },
  {
   "cell_type": "markdown",
   "id": "b2ebbaa3",
   "metadata": {},
   "source": [
    "- Apply binary search on answer."
   ]
  },
  {
   "cell_type": "markdown",
   "id": "2b69ef36",
   "metadata": {},
   "source": [
    "## Solution"
   ]
  },
  {
   "cell_type": "code",
   "execution_count": null,
   "id": "cfc51a31",
   "metadata": {},
   "outputs": [],
   "source": [
    "class Solution:\n",
    "    # @param A : integer\n",
    "    # @param B : integer\n",
    "    # @param C : list of integers\n",
    "    # @return an integer\n",
    "    def paint(self, A, B, C):\n",
    "        for i in range(len(C)):\n",
    "            C[i]=C[i]*B\n",
    "        def Check(m):\n",
    "            T,cnt=0,1\n",
    "            for i in C:\n",
    "                if i>m:return False\n",
    "                T+=i\n",
    "                if T>m:\n",
    "                    T=i\n",
    "                    cnt+=1\n",
    "            return cnt<=A \n",
    "        L,r=min(C),sum(C)\n",
    "        while L<=r:\n",
    "            m=(L+r)//2\n",
    "            if Check(m):\n",
    "                ans=m\n",
    "                r=m-1\n",
    "            else:\n",
    "                L=m+1\n",
    "        return L%10000003"
   ]
  },
  {
   "cell_type": "markdown",
   "id": "705d7120",
   "metadata": {},
   "source": [
    "## Q.2"
   ]
  },
  {
   "cell_type": "markdown",
   "id": "88161aff",
   "metadata": {},
   "source": [
    "### Aggressive cows\n",
    "\n",
    "You are given an array 'arr' consisting of 'n' integers which denote the position of a stall.\n",
    "\n",
    "You are also given an integer 'k' which denotes the number of aggressive cows.\n",
    "\n",
    "You are given the task of assigning stalls to 'k' cows such that the minimum distance between any two of them is the maximum possible.\n",
    "\n",
    "Print the maximum possible minimum distance."
   ]
  },
  {
   "cell_type": "markdown",
   "id": "318fb59c",
   "metadata": {},
   "source": [
    "- [Coding Niinjas](https://www.codingninjas.com/studio/problems/aggressive-cows_1082559)"
   ]
  },
  {
   "cell_type": "markdown",
   "id": "f7f05f63",
   "metadata": {},
   "source": [
    "## Intuition"
   ]
  },
  {
   "cell_type": "markdown",
   "id": "7b20bdf4",
   "metadata": {},
   "source": [
    "- Apply binary search on answer."
   ]
  },
  {
   "cell_type": "markdown",
   "id": "1e29b969",
   "metadata": {},
   "source": [
    "## Solution"
   ]
  },
  {
   "cell_type": "code",
   "execution_count": 2,
   "id": "326a6d20",
   "metadata": {},
   "outputs": [],
   "source": [
    "def aggressiveCows(stalls, k):\n",
    "    def Check(Mid):\n",
    "        D,Count=0,1\n",
    "        for i in range(1,len(stalls)):\n",
    "            if stalls[i]-stalls[i-1]>Mid:return False\n",
    "            D+=stalls[i]-stalls[i-1]\n",
    "            if D>=Mid:\n",
    "                D=0\n",
    "                Count+=1\n",
    "        return Count>=k\n",
    "    stalls.sort()\n",
    "    L,R=1,stalls[len(stalls)-1]-stalls[0]\n",
    "    while L<=R:\n",
    "        M=(L+R)>>1\n",
    "        if Check(M):\n",
    "            L=M+1\n",
    "        else:\n",
    "            R=M-1\n",
    "    return R"
   ]
  },
  {
   "cell_type": "markdown",
   "id": "5a43e525",
   "metadata": {},
   "source": [
    "## Q.3"
   ]
  },
  {
   "cell_type": "markdown",
   "id": "2d01b933",
   "metadata": {},
   "source": [
    "### Allocate books\n",
    "\n",
    "You are the Librarian of the Ninja library. There are ‘N’ books available in the library and ‘B’ ninjas want to read the books. You know the number of pages in each book and you have to allocate the books to the ‘B’ ninjas in such a way that the maximum number of pages allocated to a ninja is minimum.\n",
    "\n",
    "Note\n",
    "\n",
    "A book will be allocated to exactly one ninja. \n",
    "At least one book has to be allocated to a ninja.\n",
    "Allotment of the books should be done in a contiguous manner. For example, a ninja can not be allocated book 2 and book 4, skipping book 3.\n",
    "The task is to return the minimum of the maximum number of pages allocated to a ninja."
   ]
  },
  {
   "cell_type": "markdown",
   "id": "e96e4543",
   "metadata": {},
   "source": [
    "- [Coding Ninjas](https://www.codingninjas.com/studio/problems/allocate-books_1089560)\n",
    "- [Interviewbit](https://www.interviewbit.com/problems/allocate-books/)"
   ]
  },
  {
   "cell_type": "markdown",
   "id": "ed7744b8",
   "metadata": {},
   "source": [
    "## Intuition"
   ]
  },
  {
   "cell_type": "markdown",
   "id": "1c4d92cd",
   "metadata": {},
   "source": [
    "- Apply binary search on answer."
   ]
  },
  {
   "cell_type": "markdown",
   "id": "876d8f4c",
   "metadata": {},
   "source": [
    "## Solution"
   ]
  },
  {
   "cell_type": "code",
   "execution_count": null,
   "id": "107fa220",
   "metadata": {},
   "outputs": [],
   "source": [
    "def allocateBooks(pages, n, b):\n",
    "    if n<b:return -1\n",
    "    L,r=max(pages),sum(pages)\n",
    "    def Check(m):\n",
    "        P,cnt=0,1\n",
    "        for i in pages:\n",
    "            if i>m:return False\n",
    "            P+=i\n",
    "            if P>m:\n",
    "                P=i\n",
    "                cnt+=1\n",
    "        return cnt<=b\n",
    "    while L<=r:\n",
    "        m=(L+r)//2\n",
    "        if Check(m):\n",
    "            r=m-1\n",
    "        else:\n",
    "            L=m+1\n",
    "    return L"
   ]
  },
  {
   "cell_type": "markdown",
   "id": "e656b09b",
   "metadata": {},
   "source": [
    "## Q.4"
   ]
  },
  {
   "cell_type": "markdown",
   "id": "854a0f21",
   "metadata": {},
   "source": [
    "### Capacity To Ship Packages Within D Days\n",
    "\n",
    "A conveyor belt has packages that must be shipped from one port to another within days days.\n",
    "\n",
    "The ith package on the conveyor belt has a weight of weights[i]. Each day, we load the ship with packages on the conveyor belt (in the order given by weights). We may not load more weight than the maximum weight capacity of the ship.\n",
    "\n",
    "Return the least weight capacity of the ship that will result in all the packages on the conveyor belt being shipped within days days."
   ]
  },
  {
   "cell_type": "markdown",
   "id": "45468e66",
   "metadata": {},
   "source": [
    "- [LeetCode](https://leetcode.com/problems/capacity-to-ship-packages-within-d-days/description/)\n",
    "- [Interviewbit]()"
   ]
  },
  {
   "cell_type": "markdown",
   "id": "ed896c2c",
   "metadata": {},
   "source": [
    "## Intuition"
   ]
  },
  {
   "cell_type": "markdown",
   "id": "1bdd8126",
   "metadata": {},
   "source": [
    "- Apply binary search on answer."
   ]
  },
  {
   "cell_type": "markdown",
   "id": "a680a3e2",
   "metadata": {},
   "source": [
    "## Solution"
   ]
  },
  {
   "cell_type": "code",
   "execution_count": 4,
   "id": "06d4bf4c",
   "metadata": {},
   "outputs": [],
   "source": [
    "from typing import List\n",
    "class Solution:\n",
    "    def shipWithinDays(self, weights: List[int], days: int) -> int:\n",
    "        def Check(m):\n",
    "            W,cnt=0,1\n",
    "            for i in weights:\n",
    "                if i>m:return False\n",
    "                W+=i\n",
    "                if W>m:\n",
    "                    W=i\n",
    "                    cnt+=1\n",
    "            return cnt<=days\n",
    "        L,r=min(weights),sum(weights)\n",
    "        while L<=r:\n",
    "            m=(L+r)//2\n",
    "            if Check(m):\n",
    "                r=m-1\n",
    "            else:\n",
    "                L=m+1\n",
    "        return L"
   ]
  },
  {
   "cell_type": "markdown",
   "id": "cd3a0836",
   "metadata": {},
   "source": [
    "## Problem of the day Coding Ninjas"
   ]
  },
  {
   "cell_type": "markdown",
   "id": "1d4e8061",
   "metadata": {},
   "source": [
    "## [Easy](https://www.codingninjas.com/studio/problems/no-adjacent-same_973005)"
   ]
  },
  {
   "cell_type": "code",
   "execution_count": null,
   "id": "5c031b96",
   "metadata": {},
   "outputs": [],
   "source": [
    "def checkBits(n):\n",
    "    s=bin(n)[2:]\n",
    "    for i in range(1,len(s)):\n",
    "        if s[i]==s[i-1]:return False\n",
    "    return True"
   ]
  },
  {
   "cell_type": "markdown",
   "id": "3e043bdf",
   "metadata": {},
   "source": [
    "## [Moderate](https://www.codingninjas.com/studio/problems/longest-repeating-substring_980523)"
   ]
  },
  {
   "cell_type": "code",
   "execution_count": null,
   "id": "007df122",
   "metadata": {},
   "outputs": [],
   "source": [
    "def longestRepeatingSubstring(str: str, k: int) -> int:\n",
    "    M={}\n",
    "    l,m=0,0\n",
    "    for r in range(len(str)):\n",
    "        M[str[r]]=1+M.get(str[r],0)\n",
    "        m=max(M[str[r]],m)\n",
    "        if (r-l+1)-m>k:\n",
    "            M[str[l]]-=1\n",
    "            l+=1\n",
    "    return r-l+1"
   ]
  },
  {
   "cell_type": "markdown",
   "id": "695cde91",
   "metadata": {},
   "source": [
    "## [Hard](https://www.codingninjas.com/studio/problems/chocolate-bar_975353)"
   ]
  },
  {
   "cell_type": "code",
   "execution_count": 6,
   "id": "f1038c7e",
   "metadata": {},
   "outputs": [],
   "source": [
    "def solve(n,m,k,memo):\n",
    "    if k==0 or k==n*m:\n",
    "        return 0\n",
    "    if k<0 or k>n*m:\n",
    "        return float('inf')\n",
    "    if (n,m,k) in memo:\n",
    "        return memo[(n,m,k)]\n",
    "    ans=float('inf')\n",
    "    for i in range(1,n):\n",
    "        area=i*m\n",
    "        cost=m*m+min(solve(i,m,k,memo),solve(n-i,m,k-area,memo))\n",
    "        ans=min(ans,cost)\n",
    "    for j in range(1,m):\n",
    "        area=j*n\n",
    "        cost=n*n+min(solve(n,j,k,memo),solve(n,m-j,k-area,memo))\n",
    "        ans=min(ans,cost)\n",
    "    memo[(n,m,k)]=ans\n",
    "    return ans\n",
    "\n",
    "def chocolateBar(q, n, m, k):\n",
    "    ans=[]\n",
    "    for i in range(q):\n",
    "        M={}\n",
    "        ans.append(solve(n[i],m[i],k[i],M))\n",
    "    return ans"
   ]
  },
  {
   "cell_type": "code",
   "execution_count": null,
   "id": "a4af6f62",
   "metadata": {},
   "outputs": [],
   "source": []
  }
 ],
 "metadata": {
  "kernelspec": {
   "display_name": "Python 3 (ipykernel)",
   "language": "python",
   "name": "python3"
  },
  "language_info": {
   "codemirror_mode": {
    "name": "ipython",
    "version": 3
   },
   "file_extension": ".py",
   "mimetype": "text/x-python",
   "name": "python",
   "nbconvert_exporter": "python",
   "pygments_lexer": "ipython3",
   "version": "3.11.5"
  }
 },
 "nbformat": 4,
 "nbformat_minor": 5
}
