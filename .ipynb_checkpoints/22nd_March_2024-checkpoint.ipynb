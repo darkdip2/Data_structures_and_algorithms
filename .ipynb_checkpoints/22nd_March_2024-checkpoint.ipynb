{
 "cells": [
  {
   "cell_type": "markdown",
   "id": "e640218a",
   "metadata": {},
   "source": [
    "## Q.1"
   ]
  },
  {
   "cell_type": "markdown",
   "id": "90e9f2bd",
   "metadata": {},
   "source": [
    "### Median of Two Sorted Arrays\n",
    "\n",
    "Given two sorted arrays nums1 and nums2 of size m and n respectively, return the median of the two sorted arrays.\n",
    "The overall run time complexity should be O(log (m+n))."
   ]
  },
  {
   "cell_type": "markdown",
   "id": "700db869",
   "metadata": {},
   "source": [
    "- [LeetCode](https://leetcode.com/problems/median-of-two-sorted-arrays/)\n",
    "- [Coding Ninjas](https://www.codingninjas.com/studio/problems/median-of-two-sorted-arrays_985294)\n",
    "- [InterviewBit](https://search.brave.com/search?q=median+of+two+sorted+Arrays+interviewbit&source=web)"
   ]
  },
  {
   "cell_type": "markdown",
   "id": "6d600b98",
   "metadata": {},
   "source": [
    "## Pseudocode"
   ]
  },
  {
   "cell_type": "code",
   "execution_count": null,
   "id": "f561c12d",
   "metadata": {},
   "outputs": [],
   "source": []
  },
  {
   "cell_type": "markdown",
   "id": "4c40e6b5",
   "metadata": {},
   "source": [
    "## Solution"
   ]
  },
  {
   "cell_type": "code",
   "execution_count": null,
   "id": "008aaedf",
   "metadata": {},
   "outputs": [],
   "source": []
  },
  {
   "cell_type": "markdown",
   "id": "3d6da544",
   "metadata": {},
   "source": [
    "## Q.2"
   ]
  },
  {
   "cell_type": "markdown",
   "id": "213e2481",
   "metadata": {},
   "source": [
    "### Find Peak Element\n",
    "\n",
    "A peak element is an element that is strictly greater than its neighbors.\n",
    "\n",
    "Given a 0-indexed integer array nums, find a peak element, and return its index. If the array contains multiple peaks, return the index to any of the peaks.\n",
    "\n",
    "You may imagine that nums[-1] = nums[n] = -∞. In other words, an element is always considered to be strictly greater than a neighbor that is outside the array.\n",
    "\n",
    "You must write an algorithm that runs in O(log n) time."
   ]
  },
  {
   "cell_type": "markdown",
   "id": "87b15e2a",
   "metadata": {},
   "source": [
    "- [LeetCode](https://leetcode.com/problems/find-peak-element/)\n",
    "- [Coding Ninjas](https://www.codingninjas.com/studio/problems/find-peak-element_1081482)\n",
    "- [InterviewBit](https://search.brave.com/search?q=peak+element+interviewbit&source=desktop)"
   ]
  },
  {
   "cell_type": "markdown",
   "id": "2ae4b796",
   "metadata": {},
   "source": [
    "## Intuition"
   ]
  },
  {
   "cell_type": "code",
   "execution_count": null,
   "id": "33d771fc",
   "metadata": {},
   "outputs": [],
   "source": []
  },
  {
   "cell_type": "markdown",
   "id": "065b6112",
   "metadata": {},
   "source": [
    "## Solution"
   ]
  },
  {
   "cell_type": "code",
   "execution_count": null,
   "id": "fb0a6e59",
   "metadata": {},
   "outputs": [],
   "source": []
  },
  {
   "cell_type": "markdown",
   "id": "f747ce46",
   "metadata": {},
   "source": [
    "## Q.3"
   ]
  },
  {
   "cell_type": "markdown",
   "id": "fd4e556f",
   "metadata": {},
   "source": [
    "###  Median in a row-wise sorted Matrix\n",
    "\n",
    "You are given a row-wise sorted matrix 'mat' of size m x n where 'm' and 'n' are the numbers of rows and columns of the matrix, respectively.\n",
    "Your task is to find and return the median of the matrix.\n",
    "\n",
    "Note:\n",
    "'m' and 'n' will always be odd."
   ]
  },
  {
   "cell_type": "markdown",
   "id": "0c8cb76e",
   "metadata": {},
   "source": [
    "- [Coding Ninjas](https://www.codingninjas.com/studio/problems/median-in-matrix_981178)\n",
    "- [Interviewbit]()"
   ]
  },
  {
   "cell_type": "markdown",
   "id": "337aa475",
   "metadata": {},
   "source": [
    "## Intuition"
   ]
  },
  {
   "cell_type": "code",
   "execution_count": null,
   "id": "b6b934a5",
   "metadata": {},
   "outputs": [],
   "source": []
  },
  {
   "cell_type": "markdown",
   "id": "7b404a12",
   "metadata": {},
   "source": [
    "## Solution"
   ]
  },
  {
   "cell_type": "code",
   "execution_count": null,
   "id": "530ded1e",
   "metadata": {},
   "outputs": [],
   "source": []
  }
 ],
 "metadata": {
  "kernelspec": {
   "display_name": "Python 3 (ipykernel)",
   "language": "python",
   "name": "python3"
  },
  "language_info": {
   "codemirror_mode": {
    "name": "ipython",
    "version": 3
   },
   "file_extension": ".py",
   "mimetype": "text/x-python",
   "name": "python",
   "nbconvert_exporter": "python",
   "pygments_lexer": "ipython3",
   "version": "3.11.5"
  }
 },
 "nbformat": 4,
 "nbformat_minor": 5
}
