{
 "cells": [
  {
   "cell_type": "markdown",
   "id": "1803e9bd",
   "metadata": {},
   "source": [
    "## Q.1"
   ]
  },
  {
   "cell_type": "markdown",
   "id": "1a595a87",
   "metadata": {},
   "source": [
    "### Minimum Number of Operations to Make String Sorted\n",
    "\n",
    "You are given a string `s` (0-indexed). You are asked to perform the following operation on `s` until you get a sorted string:\n",
    "\n",
    "1. Find the largest index `i` such that 1 <= `i` < `s.length` and `s[i]` < `s[i - 1]`.\n",
    "2. Find the largest index `j` such that `i` <= `j` < `s.length` and `s[k]` < `s[i - 1]` for all the possible values of `k` in the range [i, j] inclusive.\n",
    "3. Swap the two characters at indices `i - 1` and `j`.\n",
    "4. Reverse the suffix starting at index `i`.\n",
    "   \n",
    "Return the number of operations needed to make the string sorted. Since the answer can be too large, return it modulo 10^9 + 7."
   ]
  },
  {
   "cell_type": "markdown",
   "id": "f961ec81",
   "metadata": {},
   "source": [
    "- [LeetCode](https://leetcode.com/problems/minimum-number-of-operations-to-make-string-sorted/description/) "
   ]
  },
  {
   "cell_type": "markdown",
   "id": "a5ba0fe8",
   "metadata": {},
   "source": [
    "## Intuition"
   ]
  },
  {
   "cell_type": "markdown",
   "id": "6a8dc027",
   "metadata": {},
   "source": [
    "Same as Lexicographic rank but with repeats and we need to divide by factorial so need to use modular inverse."
   ]
  },
  {
   "cell_type": "markdown",
   "id": "035a974e",
   "metadata": {},
   "source": [
    "## Solution"
   ]
  },
  {
   "cell_type": "code",
   "execution_count": null,
   "id": "74b86b2c",
   "metadata": {},
   "outputs": [],
   "source": [
    "class Solution:\n",
    "    def makeStringSorted(self, s: str) -> int:\n",
    "        M,m,n,ans,cnt={},10**9+7,len(s),0,[0]*26\n",
    "        def Fact(n):\n",
    "            if n<=1:return 1\n",
    "            if n in M:return M[n]\n",
    "            M[n]=(Fact(n-1)*n)%m\n",
    "            return M[n]\n",
    "        M2={}\n",
    "        def inv(n):\n",
    "            if n in M2:return M2[n]\n",
    "            M2[n]=pow(n,m-2,m)\n",
    "            return M2[n]    \n",
    "        for i in range(n-1,-1,-1):\n",
    "            j=ord(s[i])-ord('a')\n",
    "            cnt[j]+=1\n",
    "            a=sum(cnt[:j])*Fact(n-i-1)\n",
    "            for k in range(26):\n",
    "                a=a*inv(Fact(cnt[k]))%m\n",
    "            ans+=a\n",
    "        return ans%m"
   ]
  },
  {
   "cell_type": "markdown",
   "id": "56ab5bd2",
   "metadata": {},
   "source": [
    "## Q.2"
   ]
  },
  {
   "cell_type": "markdown",
   "id": "99f54cf9",
   "metadata": {},
   "source": [
    "### Maximum XOR\n",
    "\n",
    "You are given two arrays of non-negative integers say ‘arr1’ and ‘arr2’. Your task is to find the maximum value of ( ‘A’ xor ‘B’ ) where ‘A’ and ‘B’ are any elements from ‘arr1’ and ‘arr2’ respectively and ‘xor’ represents the bitwise xor operation."
   ]
  },
  {
   "cell_type": "markdown",
   "id": "5fc34beb",
   "metadata": {},
   "source": [
    "- [Coding Ninjas](https://www.codingninjas.com/studio/problems/maximum-xor_973113)"
   ]
  },
  {
   "cell_type": "markdown",
   "id": "8650ebbd",
   "metadata": {},
   "source": [
    "## Intuition"
   ]
  },
  {
   "cell_type": "markdown",
   "id": "7377edaa",
   "metadata": {},
   "source": [
    "Trie data structure efficiently finds the maximum XOR value between elements in two arrays arr1 and arr2. It iterates through the elements of arr1, inserts them into the Trie, then iterates through the elements of arr2 to find the maximum XOR value."
   ]
  },
  {
   "cell_type": "markdown",
   "id": "1a8bfe95",
   "metadata": {},
   "source": [
    "## Solution"
   ]
  },
  {
   "cell_type": "code",
   "execution_count": null,
   "id": "d49a9eb4",
   "metadata": {},
   "outputs": [],
   "source": [
    "class TrieNode:\n",
    "    def __init__(self):\n",
    "        self.children={}\n",
    "        self.value=0\n",
    "\n",
    "class Trie:\n",
    "    def __init__(self):\n",
    "        self.root=TrieNode()\n",
    "\n",
    "    def insert(self,num):\n",
    "        node=self.root\n",
    "        for i in range(31,-1,-1):\n",
    "            bit=(num>>i)&1\n",
    "            if bit not in node.children:\n",
    "                node.children[bit]=TrieNode()\n",
    "            node=node.children[bit]\n",
    "        node.value=num\n",
    "\n",
    "    def find_max_xor(self,num):\n",
    "        node=self.root\n",
    "        for i in range(31,-1,-1):\n",
    "            bit=(num>>i)&1\n",
    "            if 1-bit in node.children:\n",
    "                node=node.children[1-bit]\n",
    "            else:\n",
    "                node=node.children[bit]\n",
    "        return num^node.value\n",
    "\n",
    "def maxXOR(n, m, arr1, arr2):\n",
    "    trie=Trie()\n",
    "    for i in arr1:trie.insert(i)\n",
    "    max_xor=0\n",
    "    for j in arr2:max_xor=max(max_xor,trie.find_max_xor(j))\n",
    "    return max_xor"
   ]
  },
  {
   "cell_type": "markdown",
   "id": "279cf8d7",
   "metadata": {},
   "source": [
    "## Q.3"
   ]
  },
  {
   "cell_type": "markdown",
   "id": "e853d074",
   "metadata": {},
   "source": [
    "### Inversion Count\n",
    "\n",
    "Given an array of integers A. If i < j and A[i] > A[j], then the pair (i, j) is called an inversion of A. Find the total number of inversions of A modulo (10^9 + 7)."
   ]
  },
  {
   "cell_type": "markdown",
   "id": "f72d1e6c",
   "metadata": {},
   "source": [
    "- [Interviewbit](https://www.interviewbit.com/problems/inversions/)\n",
    "- [Coding Ninjas](https://www.codingninjas.com/studio/problems/count-inversions_615)"
   ]
  },
  {
   "cell_type": "markdown",
   "id": "28c99b4d",
   "metadata": {},
   "source": [
    "## Intuition"
   ]
  },
  {
   "cell_type": "markdown",
   "id": "9076c798",
   "metadata": {},
   "source": [
    "1. **Divide**: Split the array into two halves recursively until each subarray has only one element.\n",
    "\n",
    "2. **Conquer**: While merging the sorted subarrays, count the number of inversions. During the merge step, if an element from the right subarray is smaller than an element from the left subarray, it forms inversions with all remaining elements in the left subarray. Count these inversions and sum them up.\n",
    "\n",
    "3. **Combine**: Merge the two sorted subarrays while keeping track of the inversion count. The inversion count is updated whenever an element from the right subarray is smaller than an element from the left subarray, indicating inversions. Return the total inversion count once all elements are merged."
   ]
  },
  {
   "cell_type": "markdown",
   "id": "2762e856",
   "metadata": {},
   "source": [
    "## Solution"
   ]
  },
  {
   "cell_type": "code",
   "execution_count": null,
   "id": "b5a4ff51",
   "metadata": {},
   "outputs": [],
   "source": [
    "class Solution:\n",
    "    # @param A : list of integers\n",
    "    # @return an integer\n",
    "    def solve(self, A):\n",
    "        def MergeSort(i,j):\n",
    "            if i>=j:return 0\n",
    "            m=(i+j)//2\n",
    "            L,r=MergeSort(i,m),MergeSort(m+1,j)\n",
    "            return L+r+Merge(i,m,j)\n",
    "        def Merge(L,m,r):\n",
    "            S,c,i,j=[],0,L,m+1\n",
    "            while i<=m and j<=r:\n",
    "                if A[i]<=A[j]:\n",
    "                    S.append(A[i])\n",
    "                    i+=1\n",
    "                else:\n",
    "                    c+=(m-i+1)%(10**9+7)\n",
    "                    S.append(A[j])\n",
    "                    j+=1\n",
    "            while i<=m:\n",
    "                S.append(A[i])\n",
    "                i+=1\n",
    "            while j<=r:\n",
    "                S.append(A[j])\n",
    "                j+=1\n",
    "            k=0\n",
    "            while k<len(S):\n",
    "                A[L+k]=S[k]\n",
    "                k+=1\n",
    "            return c%(10**9+7)\n",
    "        return MergeSort(0,len(A)-1)%(10**9+7)"
   ]
  },
  {
   "cell_type": "markdown",
   "id": "5f8231b1",
   "metadata": {},
   "source": [
    "## Q.4"
   ]
  },
  {
   "cell_type": "markdown",
   "id": "6d992479",
   "metadata": {},
   "source": [
    "### Reverse Pairs\n",
    "\n",
    "Given an integer array nums, return the number of reverse pairs in the array.\n",
    "\n",
    "A reverse pair is a pair (i, j) where:\n",
    "\n",
    "0 <= i < j < nums.length and\n",
    "nums[i] > 2 * nums[j].\n",
    " "
   ]
  },
  {
   "cell_type": "markdown",
   "id": "726bb6b1",
   "metadata": {},
   "source": [
    "- [Coding Ninjas](https://www.codingninjas.com/studio/problems/reverse-pairs_1112652)\n",
    "- [LeetCode](https://leetcode.com/problems/reverse-pairs/description/)"
   ]
  },
  {
   "cell_type": "markdown",
   "id": "7a8d5929",
   "metadata": {},
   "source": [
    "## Intuition"
   ]
  },
  {
   "cell_type": "markdown",
   "id": "1be2e7b1",
   "metadata": {},
   "source": [
    "Same as inversion count now first calculate the pairs seperately then again run a loop to store the sorted elements in auxilary array."
   ]
  },
  {
   "cell_type": "markdown",
   "id": "a9d116f1",
   "metadata": {},
   "source": [
    "## Solution"
   ]
  },
  {
   "cell_type": "code",
   "execution_count": 2,
   "id": "06f88150",
   "metadata": {},
   "outputs": [],
   "source": [
    "def reversePairs(arr, n):\n",
    "    def MergeSort(i,j):\n",
    "        if i>=j:return 0\n",
    "        m=(i+j)>>1\n",
    "        L,r=MergeSort(i,m),MergeSort(m+1,j)\n",
    "        return L+Merge(i,m,j)+r\n",
    "    def Merge(L,m,r):\n",
    "        i,j,S,c,k=L,m+1,[],0,0\n",
    "        #COUNT REVERSE PAIRS\n",
    "        while i<=m and j<=r:\n",
    "            if arr[i]>arr[j]*2:\n",
    "                c+=(m-i+1)\n",
    "                j+=1\n",
    "            else:\n",
    "                i+=1\n",
    "        i,j=L,m+1\n",
    "        #NORMAL MERGESORT STORING\n",
    "        while i<=m and j<=r:\n",
    "            if arr[i]<=arr[j]:\n",
    "                S.append(arr[i])\n",
    "                i+=1\n",
    "            else:\n",
    "                S.append(arr[j])\n",
    "                j+=1\n",
    "        while i<=m:\n",
    "            S.append(arr[i])\n",
    "            i+=1\n",
    "        while j<=r:\n",
    "            S.append(arr[j])\n",
    "            j+=1\n",
    "        while k<len(S):\n",
    "            arr[L+k]=S[k]\n",
    "            k+=1\n",
    "        return c\n",
    "    return MergeSort(0,len(arr)-1)"
   ]
  },
  {
   "cell_type": "markdown",
   "id": "55d20a74",
   "metadata": {},
   "source": [
    "## Problem of the Day Coding Ninjas"
   ]
  },
  {
   "cell_type": "markdown",
   "id": "117c9e05",
   "metadata": {},
   "source": [
    "## [Easy](https://www.codingninjas.com/studio/problems/insertion-in-circular-linked-list_4609562)\n",
    "\n",
    "#### [Python compiler fault]"
   ]
  },
  {
   "cell_type": "code",
   "execution_count": null,
   "id": "cb456f3f",
   "metadata": {},
   "outputs": [],
   "source": [
    "class Node:\n",
    "    def __init__(self, data):\n",
    "        self.data = data\n",
    "        self.next = None\n",
    "\n",
    "def insert(k, val, head):\n",
    "    newNode = Node(val)\n",
    "    if k == 0:\n",
    "        if not head:\n",
    "            newNode.next = newNode\n",
    "            return newNode\n",
    "        else:\n",
    "            last = head\n",
    "            while last.next != head:\n",
    "                last = last.next\n",
    "            last.next = newNode\n",
    "            newNode.next = head\n",
    "            return newNode\n",
    "    h = head\n",
    "    for i in range(k - 1):\n",
    "        h = h.next\n",
    "    newNode.next = h.next\n",
    "    h.next = newNode\n",
    "    return head"
   ]
  },
  {
   "cell_type": "markdown",
   "id": "e5ad92a4",
   "metadata": {},
   "source": [
    "## [Moderate](https://www.codingninjas.com/studio/problems/split-concatenated-string_1229402) \n",
    "\n",
    "#### [Python compiler fault]"
   ]
  },
  {
   "cell_type": "code",
   "execution_count": null,
   "id": "a6bb182c",
   "metadata": {},
   "outputs": [],
   "source": [
    "def splitConcatenatedString(n, strings):\n",
    "    for i in range(n):\n",
    "        x = strings[i][::-1]\n",
    "        if x > strings[i]:\n",
    "            strings[i] = x\n",
    "\n",
    "    prefix = [''] * n\n",
    "    suffix = [''] * n\n",
    "\n",
    "    for i in range(n):\n",
    "        prefix[i] = strings[i] + (prefix[i - 1] if i - 1 >= 0 else '')\n",
    "\n",
    "    for i in range(n - 1, -1, -1):\n",
    "        suffix[i] = strings[i] + (suffix[i + 1] if i + 1 < n else '')\n",
    "\n",
    "    ans = ''\n",
    "\n",
    "    for i in range(n):\n",
    "        s = strings[i]\n",
    "\n",
    "        for j in range(len(s)):\n",
    "            temp1 = s[:j]\n",
    "            temp2 = s[j:]\n",
    "            temp3 = suffix[i + 1] if i + 1 < n else ''\n",
    "            temp4 = prefix[i - 1] if i - 1 >= 0 else ''\n",
    "            temp = temp2 + temp3 + temp4 + temp1\n",
    "\n",
    "            if temp > ans:\n",
    "                ans = temp\n",
    "\n",
    "    return ans"
   ]
  },
  {
   "cell_type": "markdown",
   "id": "a851fd90",
   "metadata": {},
   "source": [
    "## [Hard](https://www.codingninjas.com/studio/problems/reverse-subarray-to-maximize-array-value_1466929)"
   ]
  },
  {
   "cell_type": "code",
   "execution_count": 3,
   "id": "54864819",
   "metadata": {},
   "outputs": [],
   "source": [
    "from math import inf\n",
    "\n",
    "def maxValueAfterReverse(nums):\n",
    "    original_value, sz = 0, len(nums)\n",
    "    for idx in range(sz - 1):\n",
    "        original_value += abs(nums[idx] - nums[idx + 1])\n",
    "    final_value = original_value\n",
    "    for idx in range(1, sz - 1):\n",
    "        final_value = max(final_value, original_value - abs(nums[idx] - nums[idx + 1]) + abs(nums[idx + 1] - nums[0]))\n",
    "        final_value = max(final_value, original_value - abs(nums[idx] - nums[idx - 1]) + abs(nums[idx - 1] - nums[sz - 1]))\n",
    "    minimum, maximum = inf, -inf\n",
    "    for idx in range(sz - 1):\n",
    "        temp_min, temp_max = min(nums[idx], nums[idx + 1]), max(nums[idx], nums[idx + 1])\n",
    "        if minimum < temp_min:\n",
    "            final_value = max(final_value, original_value + (temp_min - minimum) * 2)\n",
    "        if temp_max < maximum:\n",
    "            final_value = max(final_value, original_value + (maximum - temp_max) * 2)\n",
    "        minimum = min(minimum, temp_max)\n",
    "        maximum = max(maximum, temp_min)\n",
    "    return final_value"
   ]
  },
  {
   "cell_type": "code",
   "execution_count": null,
   "id": "44abb39f",
   "metadata": {},
   "outputs": [],
   "source": []
  }
 ],
 "metadata": {
  "kernelspec": {
   "display_name": "Python 3 (ipykernel)",
   "language": "python",
   "name": "python3"
  },
  "language_info": {
   "codemirror_mode": {
    "name": "ipython",
    "version": 3
   },
   "file_extension": ".py",
   "mimetype": "text/x-python",
   "name": "python",
   "nbconvert_exporter": "python",
   "pygments_lexer": "ipython3",
   "version": "3.11.5"
  }
 },
 "nbformat": 4,
 "nbformat_minor": 5
}
