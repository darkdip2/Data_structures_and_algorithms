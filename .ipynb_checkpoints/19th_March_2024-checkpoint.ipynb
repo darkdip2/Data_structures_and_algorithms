{
 "cells": [
  {
   "cell_type": "markdown",
   "id": "f961ec81",
   "metadata": {},
   "source": [
    "- [LeetCode repeat](https://leetcode.com/problems/minimum-number-of-operations-to-make-string-sorted/description/) \n",
    "- [Interviewbit repeat](https://www.interviewbit.com/problems/next-permutation/)\n",
    "- [Maximum xor](https://www.codingninjas.com/studio/problems/maximum-xor_973113)"
   ]
  },
  {
   "cell_type": "code",
   "execution_count": null,
   "id": "31755459",
   "metadata": {},
   "outputs": [],
   "source": []
  }
 ],
 "metadata": {
  "kernelspec": {
   "display_name": "Python 3 (ipykernel)",
   "language": "python",
   "name": "python3"
  },
  "language_info": {
   "codemirror_mode": {
    "name": "ipython",
    "version": 3
   },
   "file_extension": ".py",
   "mimetype": "text/x-python",
   "name": "python",
   "nbconvert_exporter": "python",
   "pygments_lexer": "ipython3",
   "version": "3.11.5"
  }
 },
 "nbformat": 4,
 "nbformat_minor": 5
}
